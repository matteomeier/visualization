{
 "cells": [
  {
   "cell_type": "code",
   "execution_count": 67,
   "metadata": {},
   "outputs": [],
   "source": [
    "import pandas as pd\n",
    "import plotly.express as px\n",
    "import plotly.graph_objects as go\n",
    "from plotly.subplots import make_subplots\n",
    "from germansentiment import SentimentModel\n",
    "import re\n",
    "from tqdm.notebook import tqdm\n",
    "import numpy as np\n",
    "# surpress warnings\n",
    "import warnings\n",
    "warnings.filterwarnings('ignore')"
   ]
  },
  {
   "cell_type": "markdown",
   "metadata": {},
   "source": [
    "# Sentiment in the #BTW17 Dataset\n",
    "After having a good intuition about the different topics in this dataset, we will now analyze the sentiment in the tweets. Here, we will focus on the tweets of the politicians only. Furthermore we will focus on the last month before the election, which is because of computational power. \n",
    "\n",
    "For the sentiment analysis, we will use this classifier: https://huggingface.co/oliverguhr/german-sentiment-bert.\n",
    "\n",
    "## Sentiment analysis in general"
   ]
  },
  {
   "cell_type": "markdown",
   "metadata": {},
   "source": [
    "To get an intuition of the general sentiment given the politicians tweets, we plotted the sentiment over time"
   ]
  },
  {
   "cell_type": "code",
   "execution_count": 2,
   "metadata": {},
   "outputs": [],
   "source": [
    "model = SentimentModel()"
   ]
  },
  {
   "cell_type": "code",
   "execution_count": 55,
   "metadata": {},
   "outputs": [],
   "source": [
    "tweets = pd.read_json('../data/politician_tweets.json')"
   ]
  },
  {
   "cell_type": "code",
   "execution_count": 56,
   "metadata": {},
   "outputs": [],
   "source": [
    "# construct docs\n",
    "docs = tweets['text'].tolist()\n",
    "for i in range(len(docs)):\n",
    "    # remove mentions\n",
    "    docs[i] = re.sub('@[A-Za-z0-9_]+', '', docs[i])\n",
    "    # remove hashtags\n",
    "    docs[i] = re.sub('#[A-Za-z0-9_]+', '', docs[i])\n",
    "    # remove links\n",
    "    docs[i] = re.sub('(https?:\\/\\/)?([\\da-z\\.-]+)\\.([a-z\\.]{2,6})([\\/\\w\\.-]*)', '', docs[i])\n",
    "    # strip whitespaces\n",
    "    docs[i] = [docs[i].strip()]"
   ]
  },
  {
   "cell_type": "code",
   "execution_count": 65,
   "metadata": {},
   "outputs": [
    {
     "data": {
      "application/vnd.jupyter.widget-view+json": {
       "model_id": "eb6f53f635104bd8bca6492a2a21866d",
       "version_major": 2,
       "version_minor": 0
      },
      "text/plain": [
       "  0%|          | 0/50907 [00:00<?, ?it/s]"
      ]
     },
     "metadata": {},
     "output_type": "display_data"
    }
   ],
   "source": [
    "sentiments = []\n",
    "# get sentiment per tweet\n",
    "for i in tqdm(range(len(docs))):\n",
    "    sentiments.append(model.predict_sentiment(docs[i]))"
   ]
  },
  {
   "cell_type": "code",
   "execution_count": 88,
   "metadata": {},
   "outputs": [],
   "source": [
    "# save labels in dataframe\n",
    "tweets['sentiment'] = np.squeeze(sentiments)\n",
    "\n",
    "# score\n",
    "tweets['sen_score'] = np.where(tweets['sentiment']=='positive', 1.0, np.where(tweets['sentiment']=='negative', -1.0, 0.0))\n",
    "tweets.to_json('../data/politician_tweets_sentiment.json')"
   ]
  },
  {
   "cell_type": "code",
   "execution_count": 89,
   "metadata": {},
   "outputs": [
    {
     "name": "stdout",
     "output_type": "stream",
     "text": [
      "Overall sentiment: -0.11340287190366748\n"
     ]
    }
   ],
   "source": [
    "print(f'Overall sentiment: {tweets[\"sen_score\"].mean()}')"
   ]
  },
  {
   "cell_type": "code",
   "execution_count": 91,
   "metadata": {},
   "outputs": [
    {
     "name": "stdout",
     "output_type": "stream",
     "text": [
      "Linke sentiment: -0.1923904052936311\n",
      "Grüne sentiment: -0.1748747591522158\n",
      "SPD sentiment: -0.045782829868743324\n",
      "CDU/CSU sentiment: -0.10712999639899172\n",
      "FDP sentiment: -0.08767557770729498\n",
      "AfD sentiment: -0.07918552036199095\n"
     ]
    }
   ],
   "source": [
    "for party in tweets['party'].unique():\n",
    "    print(f'{party} sentiment: {tweets[tweets[\"party\"]==party][\"sen_score\"].mean()}')"
   ]
  }
 ],
 "metadata": {
  "kernelspec": {
   "display_name": "Python 3 (ipykernel)",
   "language": "python",
   "name": "python3"
  },
  "language_info": {
   "codemirror_mode": {
    "name": "ipython",
    "version": 3
   },
   "file_extension": ".py",
   "mimetype": "text/x-python",
   "name": "python",
   "nbconvert_exporter": "python",
   "pygments_lexer": "ipython3",
   "version": "3.9.12"
  },
  "vscode": {
   "interpreter": {
    "hash": "e501c9682bfed05c4d76964f580a69a458039fdb637e278bc30ce796ae3954f4"
   }
  }
 },
 "nbformat": 4,
 "nbformat_minor": 4
}
