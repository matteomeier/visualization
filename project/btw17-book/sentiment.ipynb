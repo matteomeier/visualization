{
 "cells": [
  {
   "cell_type": "code",
   "execution_count": null,
   "metadata": {
    "tags": [
     "remove-input"
    ]
   },
   "outputs": [],
   "source": [
    "import pandas as pd\n",
    "import plotly.express as px\n",
    "import plotly.graph_objects as go\n",
    "from plotly.subplots import make_subplots\n",
    "from germansentiment import SentimentModel\n",
    "import re\n",
    "from tqdm.notebook import tqdm\n",
    "import numpy as np\n",
    "# surpress warnings\n",
    "import warnings\n",
    "warnings.filterwarnings('ignore')"
   ]
  },
  {
   "cell_type": "markdown",
   "metadata": {},
   "source": [
    "# Sentiment in the #BTW17-Dataset\n",
    "After having a good intuition about the different topics in this dataset, we will now analyze the sentiment in the tweets.\n",
    "\n",
    "For the sentiment analysis, we will use a sentiment classifier introduced by Guhr et al. [10]. This classifies texts in three categories: positive, neutral and negative. We will set these classes as 1, 0, -1. With this, we can average the classes over time or other dimensions like the party of the politician.\n",
    "\n",
    "## Sentiment analysis in general"
   ]
  },
  {
   "cell_type": "markdown",
   "metadata": {},
   "source": [
    "To get an intuition of the general sentiment given in the politicians tweets, we plotted the sentiment over time and the mean of the sentiment by party. For using the party of the politicians, we had to filter the tweets to the given and previously described accounts of the politicians. We excluded retweets to exclude redundant texts from the sentiment analysis."
   ]
  },
  {
   "cell_type": "code",
   "execution_count": null,
   "metadata": {
    "tags": [
     "remove-input"
    ]
   },
   "outputs": [],
   "source": [
    "#\"\"\"\n",
    "#model = SentimentModel()\n",
    "#tweets = pd.read_json('../data/politician_tweets.json')\n",
    "#\n",
    "## construct docs\n",
    "#docs = tweets['text'].tolist()\n",
    "#for i in range(len(docs)):\n",
    "#    # remove mentions\n",
    "#    docs[i] = re.sub('@[A-Za-z0-9_]+', '', docs[i])\n",
    "#    # remove hashtags\n",
    "#    docs[i] = re.sub('#[A-Za-z0-9_]+', '', docs[i])\n",
    "#    # remove links\n",
    "#    docs[i] = re.sub('(https?:\\/\\/)?([\\da-z\\.-]+)\\.([a-z\\.]{2,6})([\\/\\w\\.-]*)', '', docs[i])\n",
    "#    # strip whitespaces\n",
    "#    docs[i] = [docs[i].strip()]\n",
    "#sentiments = []\n",
    "#\n",
    "## get sentiment per tweet\n",
    "#for i in tqdm(range(len(docs))):\n",
    "#    sentiments.append(model.predict_sentiment(docs[i]))\n",
    "#\n",
    "## save labels in dataframe\n",
    "#tweets['sentiment'] = np.squeeze(sentiments)\n",
    "#\n",
    "## score\n",
    "#tweets['sen_score'] = np.where(tweets['sentiment']=='positive', 1.0, np.where(tweets['sentiment']=='negative', -1.0, 0.0))\n",
    "#tweets.to_json('../data/politician_tweets_sentiment.json')\n",
    "#\"\"\""
   ]
  },
  {
   "cell_type": "code",
   "execution_count": null,
   "metadata": {
    "tags": [
     "remove-input"
    ]
   },
   "outputs": [],
   "source": [
    "#model = SentimentModel()\n",
    "#tweets = pd.read_json('../data/hashtag_tweets.json')\n",
    "#\n",
    "## construct docs\n",
    "#docs = tweets['text'].tolist()\n",
    "#for i in range(len(docs)):\n",
    "#    # remove mentions\n",
    "#    docs[i] = re.sub('@[A-Za-z0-9_]+', '', docs[i])\n",
    "#    # remove hashtags\n",
    "#    docs[i] = re.sub('#[A-Za-z0-9_]+', '', docs[i])\n",
    "#    # remove links\n",
    "#    docs[i] = re.sub('(https?:\\/\\/)?([\\da-z\\.-]+)\\.([a-z\\.]{2,6})([\\/\\w\\.-]*)', '', docs[i])\n",
    "#    # strip whitespaces\n",
    "#    docs[i] = [docs[i].strip()]\n",
    "#sentiments = []\n",
    "#\n",
    "## get sentiment per tweet\n",
    "#for i in tqdm(range(len(docs))):\n",
    "#    sentiments.append(model.predict_sentiment(docs[i]))\n",
    "#\n",
    "## save labels in dataframe\n",
    "#tweets['sentiment'] = np.squeeze(sentiments)\n",
    "#\n",
    "## score\n",
    "#tweets['sen_score'] = np.where(tweets['sentiment']=='positive', 1.0, np.where(tweets['sentiment']=='negative', -1.0, 0.0))\n",
    "#tweets.to_json('../data/hashtag_tweets_sentiment.json')"
   ]
  },
  {
   "cell_type": "code",
   "execution_count": null,
   "metadata": {
    "tags": [
     "remove-input"
    ]
   },
   "outputs": [],
   "source": [
    "tweets = pd.read_json('../data/politician_tweets_sentiment.json')\n",
    "tweets['date'] = tweets['date'].dt.strftime('%Y-%m-%d')"
   ]
  },
  {
   "cell_type": "code",
   "execution_count": null,
   "metadata": {
    "tags": [
     "remove-input"
    ]
   },
   "outputs": [],
   "source": [
    "# https://stackoverflow.com/questions/62710057/access-color-from-plotly-color-scale\n",
    "\n",
    "import plotly.colors\n",
    "\n",
    "def get_continuous_color(colorscale, intermed):\n",
    "    \"\"\"\n",
    "    Plotly continuous colorscales assign colors to the range [0, 1]. This function computes the intermediate\n",
    "    color for any value in that range.\n",
    "\n",
    "    Plotly doesn't make the colorscales directly accessible in a common format.\n",
    "    Some are ready to use:\n",
    "    \n",
    "        colorscale = plotly.colors.PLOTLY_SCALES[\"Greens\"]\n",
    "\n",
    "    Others are just swatches that need to be constructed into a colorscale:\n",
    "\n",
    "        viridis_colors, scale = plotly.colors.convert_colors_to_same_type(plotly.colors.sequential.Viridis)\n",
    "        colorscale = plotly.colors.make_colorscale(viridis_colors, scale=scale)\n",
    "\n",
    "    :param colorscale: A plotly continuous colorscale defined with RGB string colors.\n",
    "    :param intermed: value in the range [0, 1]\n",
    "    :return: color in rgb string format\n",
    "    :rtype: str\n",
    "    \"\"\"\n",
    "    if len(colorscale) < 1:\n",
    "        raise ValueError(\"colorscale must have at least one color\")\n",
    "\n",
    "    if intermed <= 0 or len(colorscale) == 1:\n",
    "        return colorscale[0][1]\n",
    "    if intermed >= 1:\n",
    "        return colorscale[-1][1]\n",
    "\n",
    "    for cutoff, color in colorscale:\n",
    "        if intermed > cutoff:\n",
    "            low_cutoff, low_color = cutoff, color\n",
    "        else:\n",
    "            high_cutoff, high_color = cutoff, color\n",
    "            break\n",
    "\n",
    "    # noinspection PyUnboundLocalVariable\n",
    "    return plotly.colors.find_intermediate_color(\n",
    "        lowcolor=low_color, highcolor=high_color,\n",
    "        intermed=((intermed - low_cutoff) / (high_cutoff - low_cutoff)),\n",
    "        colortype=\"rgb\")"
   ]
  },
  {
   "cell_type": "code",
   "execution_count": null,
   "metadata": {
    "tags": [
     "remove-input"
    ]
   },
   "outputs": [],
   "source": [
    "sort_party = {'AfD': 0, 'Union': 1, 'Die Linke': 2, 'FDP': 3, 'Die Grünen': 4, 'SPD': 5} \n",
    "\n",
    "df_plot = tweets.groupby(['date', 'party'], as_index=False).mean('sen_score')\n",
    "df_plot['round_sen_score'] = round(df_plot['sen_score'] *4)/4\n",
    "df_plot.rename(columns={'date':'Date', 'party':'Party', 'sen_score': 'Sentiment Score'}, inplace=True)\n",
    "\n",
    "df_plot.replace(to_replace={'Linke': 'Die Linke', 'Grüne': 'Die Grünen', 'CDU/CSU': 'Union'}, inplace=True)\n",
    "df_plot.sort_values(by='Party', key=lambda x: x.map(sort_party), inplace=True, ascending=False)\n",
    "\n",
    "agg_df_plot = df_plot[['Party', 'Sentiment Score']].groupby(['Party'], as_index=False).mean('Sentiment Score')\n",
    "agg_df_plot.sort_values(by='Party', key=lambda x: x.map(sort_party), inplace=True, ascending=False)\n",
    "\n",
    "df_plot['Sentiment Score'] = round(df_plot['Sentiment Score'], 2)\n",
    "agg_df_plot['Sentiment Score'] = round(agg_df_plot['Sentiment Score'], 2)\n",
    "\n",
    "x = []\n",
    "for i in range(agg_df_plot['Party'].nunique()):\n",
    "    x.append('Mean')\n",
    "\n",
    "figures = [\n",
    "    go.Figure(data=go.Heatmap(\n",
    "        z=agg_df_plot['Sentiment Score'],\n",
    "        x=x,\n",
    "        y=agg_df_plot['Party'],\n",
    "        zmax=1,\n",
    "        zmin=-1,\n",
    "        colorscale='RdBu',\n",
    "        text=agg_df_plot['Sentiment Score'],\n",
    "        texttemplate='%{text}',\n",
    "        hoverinfo='skip')),\n",
    "    \n",
    "    go.Figure(data=go.Heatmap(\n",
    "        z=df_plot['Sentiment Score'],\n",
    "        x=df_plot['Date'],\n",
    "        y=df_plot['Party'],\n",
    "        zmax=1,\n",
    "        zmin=-1,\n",
    "        colorscale='RdBu',\n",
    "        name='Sentiment over time',\n",
    "        hovertemplate='<br>Date: %{x}<br>Sentiment Score: %{z}'))\n",
    "    ]\n",
    "    \n",
    "fig = make_subplots(rows=1, cols=2, column_widths=[0.1, 0.9], shared_yaxes=True,\n",
    "                    subplot_titles=('Mean Sentiment', 'Sentiment over time'),\n",
    "                    horizontal_spacing=0.02)\n",
    "for i, figure in enumerate(figures):\n",
    "    for trace in range(len(figure['data'])):\n",
    "        fig.append_trace(figure['data'][trace], row=1, col=i+1)\n",
    "\n",
    "rdbu_colors, _ = plotly.colors.convert_colors_to_same_type(plotly.colors.sequential.RdBu)\n",
    "colorscale = plotly.colors.make_colorscale(rdbu_colors)\n",
    "\n",
    "fig.update_layout(template='plotly_white', width=800, height=600,\n",
    "                  plot_bgcolor=get_continuous_color(colorscale, intermed=0.5),\n",
    "                  coloraxis=dict(colorscale='RdBu'), showlegend=False, hovermode='y unified')\n",
    "fig.show()"
   ]
  },
  {
   "cell_type": "markdown",
   "metadata": {},
   "source": [
    "We see, that the *SPD* has the best sentiment in this dataset. A reason for that could be, that *SPD* was in the government before the election and wanted to stay in it as well. The average sentiment of the *Union* supports this hypothesis. We also see the most negative sentiment at *Die Linke* and *Die Grünen*, which could support this hypothesis as well as they criticised the coalition government of *SPD* and *Union*. When looking at the sentiment over time, we see missing data for the *AfD*. This is because the dataset doesn't contain many tweets of *AfD* politicians, as previously described. As well we see that most of the parties have higher sentiments as we get closer to the election. This could be because they wanted to show possible voters the reasons for voting for their respective party, which is normally in a positive sentiment."
   ]
  },
  {
   "cell_type": "markdown",
   "metadata": {},
   "source": [
    "## Sentiment analysis of #afd tweets\n",
    "As discussed in the topics section of this book, we will analyze the sentiment of tweets with the hashtag *#afd* to maybe gain inside of who is talking about this party, as it is the most used hashtag in this dataset. Again, we excluded retweets and concentrated of the sentiment of the original authors."
   ]
  },
  {
   "cell_type": "code",
   "execution_count": null,
   "metadata": {
    "tags": [
     "remove-input"
    ]
   },
   "outputs": [],
   "source": [
    "tweets = pd.read_json('../data/hashtag_tweets_sentiment.json')\n",
    "tweets['date'] = tweets['date'].dt.strftime('%Y-%m-%d')\n",
    "\n",
    "df_plot = tweets.groupby(['date'], as_index=False).mean('sen_score')\n",
    "df_plot['round_sen_score'] = round(df_plot['sen_score'] *4)/4\n",
    "df_plot.rename(columns={'date':'Date', 'sen_score': 'Sentiment Score'}, inplace=True)\n",
    "\n",
    "df_plot['Sentiment Score'] = round(df_plot['Sentiment Score'], 2)\n",
    "\n",
    "fig = px.line(df_plot, x='Date', y='Sentiment Score', hover_data=['Date', 'Sentiment Score'])\n",
    "\n",
    "fig.update_layout(template='plotly_white', width=800, height=600,\n",
    "                  title={\n",
    "                      'text': f'Sentiment score for #afd over time',\n",
    "                      'y':0.9,\n",
    "                      'x':0.5,\n",
    "                      'xanchor': 'center',\n",
    "                      'yanchor': 'top'})\n",
    "fig.show()"
   ]
  },
  {
   "cell_type": "markdown",
   "metadata": {},
   "source": [
    "Looking at the sentiment over time, we see lots of fluctuation. Still, we get a mostly negative sentiment in tweets with the hashtag *#afd*. A possible assumption is, that the dominating people using this hashtag are not voters of this party. We also see, that the average sentiment never gets higher than 0, which means neutral. Still, we have to be careful with hypothesis like this as the general sentiment in this dataset is mostly negative, as we already saw in the analysis of the politicians tweets.  "
   ]
  },
  {
   "cell_type": "code",
   "execution_count": null,
   "metadata": {},
   "outputs": [],
   "source": []
  }
 ],
 "metadata": {
  "kernelspec": {
   "display_name": "Python 3 (ipykernel)",
   "language": "python",
   "name": "python3"
  },
  "language_info": {
   "codemirror_mode": {
    "name": "ipython",
    "version": 3
   },
   "file_extension": ".py",
   "mimetype": "text/x-python",
   "name": "python",
   "nbconvert_exporter": "python",
   "pygments_lexer": "ipython3",
   "version": "3.7.6"
  },
  "vscode": {
   "interpreter": {
    "hash": "e501c9682bfed05c4d76964f580a69a458039fdb637e278bc30ce796ae3954f4"
   }
  }
 },
 "nbformat": 4,
 "nbformat_minor": 4
}
