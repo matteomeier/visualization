{
 "cells": [
  {
   "cell_type": "code",
   "execution_count": 1,
   "metadata": {
    "tags": [
     "remove-input"
    ]
   },
   "outputs": [],
   "source": [
    "import pandas as pd\n",
    "import matplotlib.pyplot as plt\n",
    "import plotly.express as px\n",
    "from plotly.subplots import make_subplots\n",
    "import plotly.graph_objects as go\n",
    "import numpy as np\n",
    "import geopandas as gpd"
   ]
  },
  {
   "cell_type": "code",
   "execution_count": null,
   "metadata": {
    "tags": [
     "remove-input"
    ]
   },
   "outputs": [],
   "source": [
    "wahlbezirke = pd.read_excel('../data/btw17_erg_Wahlkreis.xlsx')\n",
    "wahlbezirke = wahlbezirke.fillna(0)\n",
    "\n",
    "df_wahlkreise = pd.DataFrame()\n",
    "df_wahlkreise['Wahlbezirk'] = wahlbezirke['Gebiet']\n",
    "df_wahlkreise['Wahlbezirk_ID'] = wahlbezirke['Nr']\n",
    "\n",
    "mdb = pd.read_csv('../data/btw17_gewaehlteMDB.csv', sep=\";\")\n",
    "\n",
    "colors_parties = {''\n",
    "    'CDU/CSU': '#000000',\n",
    "    'SPD': '#ec1b23',\n",
    "    'AfD': '#08c1ff',\n",
    "    'FDP': '#fff203',\n",
    "    'DIE LINKE': '#ff08c1', \n",
    "    'BÜNDNIS 90/DIE GRÜNEN': '#71be43'\n",
    "}"
   ]
  },
  {
   "cell_type": "markdown",
   "metadata": {},
   "source": [
    "# Regional election results\n",
    "## Winners in the constituencies\n",
    "\n",
    "So far we only showed the overall results of first and second votes per party. However, this does not help in understanding regional substructures, therefore in this final part of our contextualizing, we show the strongest party per constituency. In general, this part is intended for the viewer to familiarize with the regional distributions showing the strength and weaknesses of parties in different areas. These can play a role in the important topics during an election campaign and their influence in the voting decision and is thus the missing component for a comprehensive contextualization of our #btw17-dataset. <br>\n",
    "In the following we present two maps that show every constituency of Germany. The constituencies are colored according to the party who got the most votes in this area. This is done for the first and second vote separately. By hovering over the different regions, the name of the constituency as well as the name of the direct candidate who won there (for the map showing the first votes) or the percentage with which the party won there (for the map showing the second votes) along with some other information can be obtained. <br>\n",
    "<br>\n",
    "The geographical information used to create the following maps was taken from the Bundeswahlleiter [5]. \n"
   ]
  },
  {
   "cell_type": "code",
   "execution_count": null,
   "metadata": {
    "tags": [
     "remove-input"
    ]
   },
   "outputs": [],
   "source": [
    "parteien_order = ['CDU', 'CSU', 'SPD', 'LINKE', 'GRUENE', 'FDP', 'AfD']\n",
    "relevant_columns_erst = [p.upper() + '_Erststimmen_Endgültig' for p in parteien_order]\n",
    "relevant_columns_zweit = [p.upper() + '_Zweitstimmen_Endgültig' for p in parteien_order]\n",
    "\n",
    "partei_erststimme = []\n",
    "partei_erg_erststimme = []\n",
    "partei_zweitstimme = []\n",
    "partei_erg_zweitstimme = []\n",
    "\n",
    "for wor in wahlbezirke.iloc:\n",
    "    stimmen_ergebnisse_erst = [wor[rc] for rc in relevant_columns_erst]\n",
    "    partei_erststimme.append(parteien_order[np.argmax(stimmen_ergebnisse_erst)])\n",
    "    partei_erg_erststimme.append(max(stimmen_ergebnisse_erst)/wor['Waehler_Erststimmen_Endgültig'])\n",
    "    stimmen_ergebnisse_zweit = [wor[rc] for rc in relevant_columns_zweit]\n",
    "    partei_zweitstimme.append(parteien_order[np.argmax(stimmen_ergebnisse_zweit)])\n",
    "    partei_erg_zweitstimme.append(max(stimmen_ergebnisse_zweit)/wor['Waehler_Zweitstimmen_Endgültig'])"
   ]
  },
  {
   "cell_type": "code",
   "execution_count": null,
   "metadata": {
    "tags": [
     "remove-input"
    ]
   },
   "outputs": [],
   "source": [
    "df_wahlkreise['Gewinner_Erststimmen_Partei'] = partei_erststimme\n",
    "df_wahlkreise['Gewinner_Zweitstimmen_Partei'] = partei_zweitstimme\n",
    "df_wahlkreise['Erg_Erst'] = partei_erg_erststimme\n",
    "df_wahlkreise['Erg_Zweit'] = partei_erg_zweitstimme"
   ]
  },
  {
   "cell_type": "code",
   "execution_count": null,
   "metadata": {
    "tags": [
     "remove-input"
    ]
   },
   "outputs": [],
   "source": [
    "#add name of the candidate who won the constitutiency\n",
    "filtered_mdb_erst = mdb[mdb['Gewählt_Stimmenart']=='E']\n",
    "filtered_mdb_erst = filtered_mdb_erst.sort_values(by=['Gewählt_Wahlkreis_Nr'])\n",
    "name_mdb_erst = [entry['Vorname'] + ' ' + entry['Name'] for entry in filtered_mdb_erst.iloc]\n",
    "df_wahlkreise['MdB_Wahlkreis'] = name_mdb_erst"
   ]
  },
  {
   "cell_type": "code",
   "execution_count": null,
   "metadata": {
    "tags": [
     "remove-input"
    ]
   },
   "outputs": [],
   "source": [
    "election_df = df_wahlkreise\n",
    "geoj = gpd.read_file('../data/Geometrie_Wahlkreise_19DBT_geo.geojson')\n",
    "geoj = geoj.rename(columns={'WKR_NR':'constitutency number'})"
   ]
  },
  {
   "cell_type": "code",
   "execution_count": null,
   "metadata": {
    "tags": [
     "remove-input"
    ]
   },
   "outputs": [],
   "source": [
    "election_df['Erg_Zweit'] = np.round(election_df['Erg_Zweit']*100, 2)"
   ]
  },
  {
   "cell_type": "code",
   "execution_count": null,
   "metadata": {
    "tags": [
     "remove-input"
    ]
   },
   "outputs": [],
   "source": [
    "#rename columns to better description as hovertext\n",
    "election_df.rename(columns = {'Gewinner_Erststimmen_Partei':'winning party (first votes)', 'Wahlbezirk': 'constitutency', 'MdB_Wahlkreis':'direct mandate winner', 'Wahlbezirk_ID': 'constitutency number', 'Gewinner_Zweitstimmen_Partei': 'winning party (second votes)', 'Erg_Zweit': 'percentage of votes for winner'}, inplace = True)"
   ]
  },
  {
   "cell_type": "code",
   "execution_count": null,
   "metadata": {
    "tags": [
     "remove-input"
    ]
   },
   "outputs": [],
   "source": [
    "#plotting our election map - first votes\n",
    "fig = px.choropleth_mapbox(\n",
    "      election_df,\n",
    "      geojson = geoj ,\n",
    "      color = 'winning party (first votes)', #Gewinner_Erststimmen_Partei',\n",
    "      locations = 'constitutency number',#'Wahlbezirk_ID',\n",
    "      featureidkey = 'properties.constitutency number',\n",
    "      center = {'lat': 51.420836, 'lon': 10.373681},\n",
    "      mapbox_style='white-bg',\n",
    "      zoom = 5,\n",
    "      title = 'Election Winners -  First Votes',\n",
    "      opacity = 1,\n",
    "      color_discrete_map = {\n",
    "          'CDU': colors_parties['CDU/CSU'], 'CSU': 'darkgrey', 'SPD': colors_parties['SPD'],\n",
    "          'FDP': colors_parties['FDP'], 'AfD': colors_parties['AfD'], 'LINKE': colors_parties['DIE LINKE'], \n",
    "          'GRUENE': colors_parties['BÜNDNIS 90/DIE GRÜNEN']},\n",
    "        hover_data = ['constitutency', 'direct mandate winner']\n",
    ")\n",
    "\n",
    "fig.update_layout(\n",
    "    title={ \n",
    "            'y':0.9,\n",
    "            'x':0.5,\n",
    "            'xanchor': 'center',\n",
    "            'yanchor': 'top'},\n",
    "    autosize=False,\n",
    "    width=800,\n",
    "    height=800,)\n",
    "\n",
    "fig.show()"
   ]
  },
  {
   "cell_type": "code",
   "execution_count": null,
   "metadata": {
    "tags": [
     "remove-input"
    ]
   },
   "outputs": [],
   "source": [
    "#plotting our election map - second votes\n",
    "fig = px.choropleth_mapbox(\n",
    "    election_df,\n",
    "    geojson = geoj ,\n",
    "    color = 'winning party (second votes)',\n",
    "    locations = 'constitutency number',#'Wahlbezirk_ID',\n",
    "    featureidkey = 'properties.constitutency number',\n",
    "    center = {'lat': 51.420836, 'lon': 10.373681},\n",
    "    mapbox_style='white-bg',#'carto-positron', #white-bg\n",
    "    zoom = 5,\n",
    "    title = 'Election Winner - Second Votes',\n",
    "    opacity = 1,\n",
    "    color_discrete_map = {\n",
    "        'CDU': colors_parties['CDU/CSU'], 'CSU': 'darkgrey', 'SPD': colors_parties['SPD'],\n",
    "        'FDP': colors_parties['FDP'], 'AfD': colors_parties['AfD'], 'LINKE': colors_parties['DIE LINKE'], \n",
    "        'GRUENE': colors_parties['BÜNDNIS 90/DIE GRÜNEN'],\n",
    "    },\n",
    "    hover_data = ['constitutency', 'percentage of votes for winner']\n",
    ")\n",
    "\n",
    "fig.update_layout(\n",
    "    title={ \n",
    "            'y':0.9,\n",
    "            'x':0.5,\n",
    "            'xanchor': 'center',\n",
    "            'yanchor': 'top'},\n",
    "    autosize=False,\n",
    "    width=800,\n",
    "    height=800,)\n",
    "\n",
    "fig.show()"
   ]
  },
  {
   "cell_type": "markdown",
   "metadata": {},
   "source": [
    "Both maps show, that in most areas <i>CSU</i> or <i>CDU</i> won. However, in bigger cities this trend is not as clear. Furthermore, in the east of Germany the <i>AfD</i> got a high number of votes and won some constituencies. This can also be said for <i>Die Linke</i>, but in even more constituencies the <i>AfD</i> got the most second votes. Overall, the <i>FDP</i> did not win a constituency or got the most second votes in one of them. The map for the second votes can only be well interpreted in comparison to the map showing the winners of the first votes. This is due to the process in which the second votes (along with the first votes) are used to decide which candidate other than the ones who won a direct mandate become a member of the Bundestag.\n",
    "Another note has to be made to avoid misleading interpretation: The number of inhabitants per constituency is not equal for all of them. Even though an almost equal number of inhabitants per constituency is aimed at, it is not fully achieved.  "
   ]
  }
 ],
 "metadata": {
  "kernelspec": {
   "display_name": "Python 3 (ipykernel)",
   "language": "python",
   "name": "python3"
  },
  "language_info": {
   "codemirror_mode": {
    "name": "ipython",
    "version": 3
   },
   "file_extension": ".py",
   "mimetype": "text/x-python",
   "name": "python",
   "nbconvert_exporter": "python",
   "pygments_lexer": "ipython3",
   "version": "3.7.6"
  },
  "vscode": {
   "interpreter": {
    "hash": "e501c9682bfed05c4d76964f580a69a458039fdb637e278bc30ce796ae3954f4"
   }
  }
 },
 "nbformat": 4,
 "nbformat_minor": 4
}
