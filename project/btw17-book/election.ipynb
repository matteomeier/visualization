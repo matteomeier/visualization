{
 "cells": [
  {
   "cell_type": "code",
   "execution_count": null,
   "metadata": {
    "executionInfo": {
     "elapsed": 1455,
     "status": "ok",
     "timestamp": 1657271844602,
     "user": {
      "displayName": "dl So",
      "userId": "09890886767013636828"
     },
     "user_tz": -120
    },
    "id": "BQmpaLpxPY0v",
    "tags": [
     "remove-input"
    ]
   },
   "outputs": [],
   "source": [
    "import pandas as pd\n",
    "import matplotlib.pyplot as plt\n",
    "import plotly.express as px\n",
    "from plotly.subplots import make_subplots\n",
    "import plotly.graph_objects as go\n",
    "import numpy as np"
   ]
  },
  {
   "cell_type": "markdown",
   "metadata": {
    "id": "BoQJ0FMdPY0y"
   },
   "source": [
    "# The federal election 2017\n",
    "The election for the German Bundestag takes place every four years, usually in September. In 2017, on the 24th September the 19th German Bundestag was to be voted for. \n",
    "The government previous to this election was formed by <i>CDU/CSU</i> and <i>SPD</i>. The parties <i>Die Linke</i> and <i> Bündnis 90/Die Grünen</i> (also often referred to as <i>Die Grünen</i>) where part of the parliament as well. \n",
    "\n",
    "## The German voting system\n",
    "The German voting system gives every person, who is allowed to vote, two votes, the first vote and second vote. With the former one votes for a candidate representative for the respective constituency in which one votes. Every candidate that gets the most votes in a constituency becomes a member of the Bundestag. The second vote gives the voter the opportunity to vote explicitly for one party. In a complex calculation the second votes for each party (along with how many direct mandates they won) are used to determine the number of seats a party gets in the Bundestag. Only parties, which get at least five percent of second votes or win a minimum of three direct mandates will be part of the Bundestag. Another peculiarity to notice, the party <i>CDU</i> can only be voted for in federal states other than Bavaria, and only voters in Bavaria can vote for the <i>CSU</i>. Both parties form a parliamentary group in the Bundestag, which is often referred to as <i>Union</i> (<i>CDU/CSU</i> is used as well)."
   ]
  },
  {
   "cell_type": "markdown",
   "metadata": {
    "id": "OfAYNG0NPY02"
   },
   "source": [
    "## Election Results\n",
    "In the following we are showing the results of this election based on data from the Bundeswahlleiter [4], the official person or institution in Germany to observe and control the election. Furthermore, we will show some more analysis of the election results, especially with respect to the age structure of both the voters and the candidates voted into the parliament. This analysis will be helpful to form stronger and more justified hypothesis later on. Given that the dataset was collected on twitter and a common hypothesis is, that social media is more commonly used by younger people, the age analysis will give a better context for our findings in comparison to the election results. Additionally, there will be visualizations representing the winning party for the first and second vote in every constituency.\n",
    "Our analysis will be restricted to the parties that were represented in the 19th Bundestag."
   ]
  },
  {
   "cell_type": "markdown",
   "metadata": {
    "id": "zWXmp0QKsB9Y"
   },
   "source": [
    "### First and second votes"
   ]
  },
  {
   "cell_type": "markdown",
   "metadata": {
    "id": "_PHkMr-HKkJa"
   },
   "source": [
    "We start by looking at the number of votes the parties obtained, split into first and second vote. For this purpose we use a grouped bar chart, where for each party the first and second vote were grouped together. This grouping allows us to identify, which party was strong for which vote. And the bar chart itself is well suited to show the differences between the parties proportionally. In the following chart we did not add <i>CDU</i> and <i>CSU</i> together, because people vote for the party and not for the parliamentary group. The color choice is made to take color blindness and similar conditions into account."
   ]
  },
  {
   "cell_type": "code",
   "execution_count": null,
   "metadata": {
    "executionInfo": {
     "elapsed": 209,
     "status": "ok",
     "timestamp": 1657273439663,
     "user": {
      "displayName": "dl So",
      "userId": "09890886767013636828"
     },
     "user_tz": -120
    },
    "id": "GRzOJYu_PY03",
    "tags": [
     "remove-input"
    ]
   },
   "outputs": [],
   "source": [
    "data = pd.read_csv('../data/btw17_erg_BL.csv', sep=';')\n",
    "colors_parties = {''\n",
    "    'CDU/CSU': '#000000',\n",
    "    'SPD': '#ec1b23',\n",
    "    'AFD': '#08c1ff',\n",
    "    'FDP': '#fff203',\n",
    "    'DIE LINKE': '#ff08c1', \n",
    "    'BÜNDNIS 90/DIE GRÜNEN': '#71be43'\n",
    "}"
   ]
  },
  {
   "cell_type": "code",
   "execution_count": null,
   "metadata": {
    "executionInfo": {
     "elapsed": 5,
     "status": "ok",
     "timestamp": 1657273440355,
     "user": {
      "displayName": "dl So",
      "userId": "09890886767013636828"
     },
     "user_tz": -120
    },
    "id": "qWW1ME1iPY04",
    "tags": [
     "remove-input"
    ]
   },
   "outputs": [],
   "source": [
    "relevant_columns_erst = ['CDU_Erststimmen_Endgültig', 'CSU_Erststimmen_Endgültig', 'SPD_Erststimmen_Endgültig', 'AFD_Erststimmen_Endgültig', 'FDP_Erststimmen_Endgültig', \n",
    "                         'LINKE_Erststimmen_Endgültig', 'GRUENE_Erststimmen_Endgültig']\n",
    "relevant_columns_zweit = ['CDU_Zweitstimmen_Endgültig', 'CSU_Zweitstimmen_Endgültig', 'SPD_Zweitstimmen_Endgültig', 'AFD_Zweitstimmen_Endgültig', 'FDP_Zweitstimmen_Endgültig',\n",
    "                          'LINKE_Zweitstimmen_Endgültig', 'GRUENE_Zweitstimmen_Endgültig']\n",
    "partein_order = ['CDU', 'CSU', 'SPD',  'AfD', 'FDP', 'DIE LINKE', 'GRÜNE', ]\n",
    "\n",
    "erststimmen = []\n",
    "for col in relevant_columns_erst:\n",
    "    erststimmen.append(int(data[data['BundeslandID']==99][col]))\n",
    "\n",
    "zweitstimmen = []\n",
    "for col in relevant_columns_zweit:\n",
    "    zweitstimmen.append(int(data[data['BundeslandID']==99][col]))"
   ]
  },
  {
   "cell_type": "code",
   "execution_count": null,
   "metadata": {
    "colab": {
     "base_uri": "https://localhost:8080/",
     "height": 542
    },
    "executionInfo": {
     "elapsed": 8,
     "status": "ok",
     "timestamp": 1657273441118,
     "user": {
      "displayName": "dl So",
      "userId": "09890886767013636828"
     },
     "user_tz": -120
    },
    "id": "6PWU5wZqPY06",
    "outputId": "0008e609-30ba-4de4-b6c7-148b6c9cad84",
    "tags": [
     "remove-input"
    ]
   },
   "outputs": [],
   "source": [
    "fig = go.Figure(data=[\n",
    "    go.Bar(name='first vote', x=partein_order, y=erststimmen, marker_color='orange'),\n",
    "    go.Bar(name='second vote', x=partein_order, y=zweitstimmen, marker_color='grey') #direct labeling to confussing because of the big numbers\n",
    "])\n",
    "\n",
    "fig.update_layout(plot_bgcolor=\"white\", \n",
    "                  title={\n",
    "                    'text': \"Number of first and second votes per party\", \n",
    "                    'y':0.9,\n",
    "                    'x':0.5,\n",
    "                    'xanchor': 'center',\n",
    "                    'yanchor': 'top'},\n",
    "                  legend={\n",
    "                    'yanchor': \"top\",\n",
    "                    'y': 0.99,\n",
    "                    'xanchor': \"left\",\n",
    "                    'x': 0.92}\n",
    "                  )\n",
    "fig.update_yaxes(showgrid=True, gridwidth=1, gridcolor='#efefef', zeroline=True)\n",
    "fig.show()"
   ]
  },
  {
   "cell_type": "markdown",
   "metadata": {
    "id": "Q-Z7eZMWPY08"
   },
   "source": [
    "The <i>CDU</i> (along with the <i>CSU</i>) won this election. The second most votes went to the SPD. The grouping of first and second votes per party shows, that the <i>SPD</i>, <i>CDU</i> and <i>CSU</i> got more first votes than second votes. For the other parties it is the opposite. Especially for the <i>FDP</i> the gap between the number of first and second votes obtained is quite big with almost 1.8 million more second votes."
   ]
  },
  {
   "cell_type": "markdown",
   "metadata": {
    "id": "xMgP2a11PY09"
   },
   "source": [
    "### Seat distribution in the Bundestag\n",
    "\n",
    "Based on the votes obtained the number of seats a party gets is calculated. The following visualization shows the number of seats obtained by each party, here <i>CSU</i> and <i>CDU</i> are grouped together, since they form a parliamentary group. A usual way of representing the number of seats in a (German) parliament is a (half) pie chart. Even though this type of a chart is usually not a good way of representing data, since it can be hard to compare the sizes of the segments and thus the identification of smaller differences between categories is more challenging, it can be well justified in this context. The aim of looking at the number of seats a parliamentary group holds is directly connected to the question which groups form a coalition or can get majorities. A pie chart with direct labeling of the number of seats allows the viewer to easier identify which coalitions are possible compared to other types of charts and is thus best suited for the data at hand. "
   ]
  },
  {
   "cell_type": "code",
   "execution_count": null,
   "metadata": {
    "executionInfo": {
     "elapsed": 254,
     "status": "ok",
     "timestamp": 1657274292116,
     "user": {
      "displayName": "dl So",
      "userId": "09890886767013636828"
     },
     "user_tz": -120
    },
    "id": "9T2dkoRKPY0_",
    "tags": [
     "remove-input"
    ]
   },
   "outputs": [],
   "source": [
    "sitzverteilung = pd.DataFrame({'Partei': ['CDU/CSU', 'SPD', 'AfD', 'FDP', 'DIE LINKE',  'BÜNDNIS 90/DIE GRÜNEN'], \n",
    "                               'Sitze': [246, 153, 94, 80, 69, 67]})"
   ]
  },
  {
   "cell_type": "code",
   "execution_count": null,
   "metadata": {
    "colab": {
     "base_uri": "https://localhost:8080/",
     "height": 542
    },
    "executionInfo": {
     "elapsed": 9,
     "status": "ok",
     "timestamp": 1657274292367,
     "user": {
      "displayName": "dl So",
      "userId": "09890886767013636828"
     },
     "user_tz": -120
    },
    "id": "UQ2CwlVmPY1A",
    "outputId": "a91d7a54-3103-4267-c01a-afa474caca97",
    "tags": [
     "remove-input"
    ]
   },
   "outputs": [],
   "source": [
    "fig = go.Figure(data=[go.Pie(labels=sitzverteilung['Partei'], values=sitzverteilung['Sitze'], textinfo='value')])\n",
    "\n",
    "fig.update_traces(marker=dict(colors=list(colors_parties.values()), line=dict(color='#ffffff', width=2))) \n",
    "fig.update_layout(plot_bgcolor=\"white\", \n",
    "                  title={\n",
    "                    'text': \"Number of seats in the 19th Bundestag\", \n",
    "                    'y':0.9,\n",
    "                    'x':0.5,\n",
    "                    'xanchor': 'center',\n",
    "                    'yanchor': 'top'}\n",
    "                  )\n",
    "fig.add_annotation(x=1, y=1,\n",
    "                    text=\"Number of seats needed<br> for a simple majority: 355\",\n",
    "                    showarrow=False,\n",
    "                  )\n",
    "\n",
    "fig.show()"
   ]
  },
  {
   "cell_type": "markdown",
   "metadata": {
    "id": "tVu3K7xbPY1C"
   },
   "source": [
    "Possible coalitions (given the political circumstance that no party wants to work together with the <i>AfD</i>) that can be seen in this are for example <i>SPD</i> and <i> CDU/CSU</i> <i> CDU/CSU, Grüne</i> and <i>Linke</i> or <i> CDU/CSU, Grüne</i> and <i>FDP</i>.  "
   ]
  },
  {
   "cell_type": "markdown",
   "metadata": {
    "id": "qf5nHHghPY1C"
   },
   "source": [
    "### Election results broken down by age of the voter\n",
    "\n",
    "After every election an often asked question is about which age groups preferred which party. We look at it in this context chapter, because our dataset was recorded on twitter, which is also not used by every age group to the same extend. <br>\n",
    "Again we will use a grouped bar chart since it allows us to compare different age groups along with the voting behavior of each of these groups. Our color choice is based on the official colours of the parties, since this will be most intuitive to the majority of possible viewers of the plots. However, this may not be the optimal solution in terms for people with color deficiencies, but we checked (using https://www.color-blindness.com/coblis-color-blindness-simulator/) how this would effect different types and found, that for most color deficiencies the choosen colors work well. Along with the intuitive colors for a party we decided to use the official color of each party.  \n",
    "\n",
    "Note beforehand: The unequal grouping of the age groups in terms of size is due to the data processing of the Bundeswahlleiter. Additionally, there is no other data openly available for that purpose from trustworthy sources. Thus, in the following charts one has to be more careful with interpretations.\n",
    "<br>"
   ]
  },
  {
   "cell_type": "code",
   "execution_count": null,
   "metadata": {
    "executionInfo": {
     "elapsed": 725,
     "status": "ok",
     "timestamp": 1657274569610,
     "user": {
      "displayName": "dl So",
      "userId": "09890886767013636828"
     },
     "user_tz": -120
    },
    "id": "se7JMYAXPY1C",
    "tags": [
     "remove-input"
    ]
   },
   "outputs": [],
   "source": [
    "age_voters = pd.read_csv('../data/btw17_erg_nachAlter_erstUzweit_Bund.csv', sep=';')\n",
    "#age_voters"
   ]
  },
  {
   "cell_type": "code",
   "execution_count": null,
   "metadata": {
    "executionInfo": {
     "elapsed": 3,
     "status": "ok",
     "timestamp": 1657274570384,
     "user": {
      "displayName": "dl So",
      "userId": "09890886767013636828"
     },
     "user_tz": -120
    },
    "id": "KBGlIWKtPY1D",
    "tags": [
     "remove-input"
    ]
   },
   "outputs": [],
   "source": [
    "partei = ['CDU', 'CSU', 'SPD', 'AfD', 'FDP', 'DIE LINKE', 'GRÜNE']\n",
    "partei_norm = [p + '_norm' for p in partei]\n",
    "\n",
    "age_voters_norm = [[age_voters[p]/age_voters['Summe']] for p in partei]\n",
    "\n",
    "#normalization of the values (based on how many people in that group voted) to get rid of the number inbalances between the age groups\n",
    "age_voters['CDU_norm'] = age_voters['CDU']/age_voters['Summe']\n",
    "age_voters['CSU_norm'] = age_voters['CSU']/age_voters['Summe']\n",
    "age_voters['SPD_norm'] = age_voters['SPD']/age_voters['Summe']\n",
    "age_voters['AfD_norm'] = age_voters['AfD']/age_voters['Summe']\n",
    "age_voters['FDP_norm'] = age_voters['FDP']/age_voters['Summe']\n",
    "age_voters['DIE LINKE_norm'] = age_voters['DIE LINKE']/age_voters['Summe']\n",
    "age_voters['GRÜNE_norm'] = age_voters['GRÜNE']/age_voters['Summe']\n",
    "\n",
    "age_voters_l = [[age_voters.iloc[i][p] for p in partei] for i in range(1, 7)]\n",
    "\n",
    "#age_voters_norm_l = [[age_voters.iloc[i][p]/age_voters['Summe'][i] for p in partei] for i in range(1, 7)] #look whether i corrected it the right way\n",
    "age_voters_norm_l = [[age_voters.iloc[i][p] for p in partei_norm] for i in range(1, 7)]\n",
    "\n",
    "age_voters['Geburtsjahresgruppe'] = age_voters['Geburtsjahresgruppe'].replace(['1947 und früher'],'1947 and before')"
   ]
  },
  {
   "cell_type": "code",
   "execution_count": null,
   "metadata": {
    "colab": {
     "base_uri": "https://localhost:8080/",
     "height": 542
    },
    "executionInfo": {
     "elapsed": 352,
     "status": "ok",
     "timestamp": 1657274571033,
     "user": {
      "displayName": "dl So",
      "userId": "09890886767013636828"
     },
     "user_tz": -120
    },
    "id": "H9W3W9d5PY1H",
    "outputId": "3c9addb5-464e-40e3-da9a-011bde67d7fe",
    "tags": [
     "remove-input"
    ]
   },
   "outputs": [],
   "source": [
    "age_generations = ['1993-1999', '1983-1992', '1973-1982', '1958-1972', '1948-1957', '1947 und before']\n",
    "fig = go.Figure(data=[\n",
    "    go.Bar(name='CDU', x=age_generations, y=age_voters['CDU_norm'][1:7], marker_color=colors_parties['CDU/CSU']),\n",
    "    go.Bar(name='CSU', x=age_generations, y=age_voters['CSU_norm'][1:7], marker_color='darkgray'),\n",
    "    go.Bar(name='SPD', x=age_generations, y=age_voters['SPD_norm'][1:7], marker_color=colors_parties['SPD']),\n",
    "    go.Bar(name='AfD', x=age_generations, y=age_voters['AfD_norm'][1:7], marker_color=colors_parties['AFD']),\n",
    "    go.Bar(name='FDP', x=age_generations, y=age_voters['FDP_norm'][1:7], marker_color=colors_parties['FDP']),\n",
    "    go.Bar(name='DIE LINKE', x=age_generations, y=age_voters['DIE LINKE_norm'][1:7], marker_color=colors_parties['DIE LINKE']),\n",
    "    go.Bar(name='GRÜNE', x=age_generations, y=age_voters['GRÜNE_norm'][1:7], marker_color=colors_parties['BÜNDNIS 90/DIE GRÜNEN']),\n",
    "\n",
    "])\n",
    "\n",
    "fig.update_layout(plot_bgcolor=\"white\",\n",
    "                  title={\n",
    "                    'text': 'First vote distribution per age group', \n",
    "                    'y':0.9,\n",
    "                    'x':0.5,\n",
    "                    'xanchor': 'center',\n",
    "                    'yanchor': 'top'}\n",
    "                  )\n",
    "    \n",
    "fig.update_yaxes(showgrid=True, gridwidth=1, gridcolor='#efefef', zeroline=True, title_text='percentage')\n",
    "fig.update_xaxes(title_text='age group')\n",
    "\n",
    "fig.show() #add xlabel geburtsjahr"
   ]
  },
  {
   "cell_type": "markdown",
   "metadata": {
    "id": "YdqNSO5V0H78"
   },
   "source": [
    "The visualization above shows multiple things about the first votes. Firstly, the <i>CDU</i> got the most votes in each of the age groups with the SPD being the second most voted for party. Whereas the <i>SPD</i> scored around 25% of votes in each of the formed age groups, the <i>CDU</i> got more votes with the increasing ages of the voters. Secondly, it can be observed, that <i>Die Grünen</i> have more voters in younger age groups than older age groups. The same holds true for <i> Die Linke</i>, but they have more voters in older age groups than <i> Die Grünen </i> have. The votes obtained by the <i>FDP</i> get slightly less for older age groups. Compared to that the <i>AfD</i> has the most voters in middle-ages age groups. Interestingly, when ignoring <i>SPD</i> and <i> CDU </i> the order of the parties based on the amount of votes is reversed between the youngest and oldest age group. "
   ]
  },
  {
   "cell_type": "code",
   "execution_count": null,
   "metadata": {
    "colab": {
     "base_uri": "https://localhost:8080/",
     "height": 542
    },
    "executionInfo": {
     "elapsed": 244,
     "status": "ok",
     "timestamp": 1657274780752,
     "user": {
      "displayName": "dl So",
      "userId": "09890886767013636828"
     },
     "user_tz": -120
    },
    "id": "vtYSkg6kzFNf",
    "outputId": "fffd3b35-a72e-488d-ecb0-b57527c6e83c",
    "tags": [
     "remove-input"
    ]
   },
   "outputs": [],
   "source": [
    "age_generations = ['1993-1999', '1983-1992', '1973-1982', '1958-1972', '1948-1957', '1947 and before']\n",
    "fig = go.Figure(data=[\n",
    "    go.Bar(name='CDU', x=age_generations, y=age_voters['CDU_norm'][8:14], marker_color=colors_parties['CDU/CSU']),\n",
    "    go.Bar(name='CSU', x=age_generations, y=age_voters['CSU_norm'][8:14], marker_color='darkgray'),\n",
    "    go.Bar(name='SPD', x=age_generations, y=age_voters['SPD_norm'][8:14], marker_color=colors_parties['SPD']),\n",
    "    go.Bar(name='AfD', x=age_generations, y=age_voters['AfD_norm'][8:14], marker_color=colors_parties['AFD']),\n",
    "    go.Bar(name='FDP', x=age_generations, y=age_voters['FDP_norm'][8:14], marker_color=colors_parties['FDP']),\n",
    "    go.Bar(name='DIE LINKE', x=age_generations, y=age_voters['DIE LINKE_norm'][8:14], marker_color=colors_parties['DIE LINKE']),\n",
    "    go.Bar(name='GRÜNE', x=age_generations, y=age_voters['GRÜNE_norm'][8:14], marker_color=colors_parties['BÜNDNIS 90/DIE GRÜNEN']),\n",
    "\n",
    "])\n",
    "\n",
    "fig.update_layout(plot_bgcolor=\"white\",\n",
    "                  title={\n",
    "                    'text': 'Second vote distribution per age group', \n",
    "                    'y':0.9,\n",
    "                    'x':0.5,\n",
    "                    'xanchor': 'center',\n",
    "                    'yanchor': 'top'}\n",
    "                  )\n",
    "\n",
    "fig.update_yaxes(showgrid=True, gridwidth=1, gridcolor='#efefef', zeroline=True,\n",
    "                 title_text='percentage')\n",
    "fig.update_xaxes(title_text='age group')\n",
    "\n",
    "fig.show()"
   ]
  },
  {
   "cell_type": "markdown",
   "metadata": {
    "id": "DTQbcIHZPY1G"
   },
   "source": [
    "This grouped bar chart shows the behavior of second votes, which can be used to\n",
    "compared it to the chart above and see some similarities between the voting behavior for first and second votes. For the second vote the general observations from above still hold true, but neither <i>SPD</i> nor <i>CDU</i> have as big of a lead as with the first votes, but they are still the most voted for parties. The biggest knowledge gain from comparing the charts for first and second votes is, that more voters supported smaller parties with their second vote compared to their first vote. To put the results of this in perspective it is important to be aware of the different amounts of people per age group. The bar chart below shows this visually. Unsurprisingly the age group 1958-1972 had the most number of active voters for the 2017 election. Nonetheless a clear trend, that more people are in older age groups is visible. The in comparison low number of voters of the youngest age group can partly be explained by the range of birth years being the samllest for the age group 1993-1996 as well as by the baby boomer generation, that is people being born between mid 1950s to end of 1960s. In context of the charts shown above, this means that the depicted voting behavior of older age groups has a bigger impact on the overall result than that of younger age groups."
   ]
  },
  {
   "cell_type": "code",
   "execution_count": null,
   "metadata": {
    "colab": {
     "base_uri": "https://localhost:8080/",
     "height": 542
    },
    "executionInfo": {
     "elapsed": 361,
     "status": "ok",
     "timestamp": 1657218213328,
     "user": {
      "displayName": "dl So",
      "userId": "09890886767013636828"
     },
     "user_tz": -120
    },
    "id": "Z-X76RyFCM1k",
    "outputId": "8744c50b-d6c0-4eb1-de35-8af954975abb",
    "tags": [
     "remove-input"
    ]
   },
   "outputs": [],
   "source": [
    "fig = px.bar(x=age_voters[1:7][\"Geburtsjahresgruppe\"], y=age_voters[1:7][\"Summe\"], \n",
    "              labels={'x': 'age group',\n",
    "                      'y': 'total number of active voters per age group'}\n",
    "              )\n",
    "\n",
    "fig.update_layout(plot_bgcolor=\"white\",\n",
    "                  title={\n",
    "                    'text': 'Active voters per age group', \n",
    "                    'y':0.9,\n",
    "                    'x':0.5,\n",
    "                    'xanchor': 'center',\n",
    "                    'yanchor': 'top'}\n",
    "                  )\n",
    "\n",
    "fig.update_yaxes(showgrid=True, gridwidth=1, gridcolor='#efefef')\n",
    "\n",
    "fig.show()"
   ]
  },
  {
   "cell_type": "markdown",
   "metadata": {
    "id": "MQ8iRxi1PY1I"
   },
   "source": [
    "### Voter turnout per age group\n",
    "\n",
    "Not only the number of eligible voters per age group is important for the weighting of the age group specific voting behavior, but also the voter turnout. In total 76.2 percent of people, who were allowed to vote, voted in the 2017 election. However, this number differed between age groups. We choose to depict this as a line chart. Even though we have categorical data, we are specifically aiming at seeing a trend between the age groups, and decided to use a line chart with marked data points. Due to the date being non-continuous, the lines have the purpose of showing the pattern more clearly. To indicate the discrete data points, we added circle-markers at the respective locations. Additionally we depict the overall voter turnout as another line, to simplify the comparison to it.\n",
    "\n",
    "Note, here again we have not equally spaced age groups due to the data source with no other suitable and trustworthy data being available, but the age groups are not all the same as above (even though the data comes from the same source)."
   ]
  },
  {
   "cell_type": "code",
   "execution_count": null,
   "metadata": {
    "executionInfo": {
     "elapsed": 601,
     "status": "ok",
     "timestamp": 1657275441086,
     "user": {
      "displayName": "dl So",
      "userId": "09890886767013636828"
     },
     "user_tz": -120
    },
    "id": "xJ1k6ihdPY1I",
    "tags": [
     "remove-input"
    ]
   },
   "outputs": [],
   "source": [
    "voter_turnout = pd.read_csv('../data/btw17_wahlbet_nachAlter_Bund.csv', sep=';')\n",
    "voter_turnout['Geburtsjahresgruppe'] = voter_turnout['Geburtsjahresgruppe'].replace(['1947 und früher'],'1947 and before')"
   ]
  },
  {
   "cell_type": "code",
   "execution_count": null,
   "metadata": {
    "colab": {
     "base_uri": "https://localhost:8080/",
     "height": 542
    },
    "executionInfo": {
     "elapsed": 253,
     "status": "ok",
     "timestamp": 1657275524975,
     "user": {
      "displayName": "dl So",
      "userId": "09890886767013636828"
     },
     "user_tz": -120
    },
    "id": "BGojCDniPY1I",
    "outputId": "3c5174c1-66e4-40c5-a1e2-12ec93d94542",
    "tags": [
     "remove-input"
    ]
   },
   "outputs": [],
   "source": [
    "fig = make_subplots()\n",
    "\n",
    "fig.add_trace(\n",
    "    go.Scatter(x=voter_turnout[1:][\"Geburtsjahresgruppe\"], y=[voter_turnout.iloc[0][\"Wahlbeteiligung\"]] *len(voter_turnout[1:][\"Geburtsjahresgruppe\"]),\n",
    "               name='overall voter turnout', mode='lines', line_color='darkgrey')\n",
    ")\n",
    "\n",
    "fig.add_trace(\n",
    "    go.Scatter(x=voter_turnout[1:][\"Geburtsjahresgruppe\"], y=voter_turnout[1:][\"Wahlbeteiligung\"], name='voter turnout per age group'), \n",
    ")\n",
    "\n",
    "fig.update_xaxes(\n",
    "        title_text = \"age group\")\n",
    "\n",
    "fig.update_yaxes(\n",
    "        title_text = \"voter turnout in percent\",\n",
    "        showgrid=True, gridwidth=1, gridcolor='#efefef')\n",
    "\n",
    "# Add figure title\n",
    "fig.update_layout(plot_bgcolor=\"white\",\n",
    "                  title={\n",
    "                    'text': 'Voter turnout per age group', \n",
    "                    'y':0.9,\n",
    "                    'x':0.5,\n",
    "                    'xanchor': 'center',\n",
    "                    'yanchor': 'top'}\n",
    "                  )\n",
    "\n",
    "fig.show() "
   ]
  },
  {
   "cell_type": "markdown",
   "metadata": {
    "id": "hAZO824FPY1J"
   },
   "source": [
    "This chart shows the motivation of first-time voters to vote, at least in comparison to people roughly 10 years older than them. Other than that older people have a higher voter turnout. For people roughly 40 years old at the time of the election the overall voter turnout and the age specific voter turnout are almost the same. As we saw above the age group, that was born in 1947 or before that is the second largest one, but their voter turnout was smaller than for the previous age groups. If we add this to our gained knowledge about the voting behavior of different age groups and the number of people per age group, we can now say, that older age groups impact the overall election result more."
   ]
  },
  {
   "cell_type": "markdown",
   "metadata": {
    "id": "xXtFmlRsPY1J"
   },
   "source": [
    "### Age distribution of the members of the Bundestag\n",
    "\n",
    "Not only the age of the voters can be interesting for formulating more justified hypothesis later on, but the age distribution of the members of parliament as well. Thus, in the following we will have a short look at this. Given that it is an already much discussed topic we are not going into detail and only present this here to give a more comprehensive context for our analysis and visualizations.\n",
    "First we are visualizing the overall age distribution of the parliament without parliamentary group specific information. For the following visualizations we used histograms, because they are well suited for comparing age ranges. We choose a bin width of five years in order to have a useful representation. The ages are calculated for the year of the election."
   ]
  },
  {
   "cell_type": "code",
   "execution_count": null,
   "metadata": {
    "executionInfo": {
     "elapsed": 288,
     "status": "ok",
     "timestamp": 1657276132704,
     "user": {
      "displayName": "dl So",
      "userId": "09890886767013636828"
     },
     "user_tz": -120
    },
    "id": "LoS0laXjPY1J",
    "tags": [
     "remove-input"
    ]
   },
   "outputs": [],
   "source": [
    "mdb = pd.read_csv('../data/btw17_gewaehlteMDB.csv', sep=\";\")\n",
    "#mdb"
   ]
  },
  {
   "cell_type": "code",
   "execution_count": null,
   "metadata": {
    "executionInfo": {
     "elapsed": 221,
     "status": "ok",
     "timestamp": 1657276134187,
     "user": {
      "displayName": "dl So",
      "userId": "09890886767013636828"
     },
     "user_tz": -120
    },
    "id": "A5w8atQVPY1K",
    "tags": [
     "remove-input"
    ]
   },
   "outputs": [],
   "source": [
    "# add additional columns/features\n",
    "#fraktion since CDU/CSU are seperate parties but one parliamentary party\n",
    "fraktion = ['CDU/CSU' if fraktion=='CDU' or fraktion=='CSU' else fraktion for fraktion in mdb['Partei_KurzBez']]\n",
    "mdb['Fraktion'] = fraktion\n",
    "\n",
    "#agew when member of parliament where elected\n",
    "age = [2017 - bday for bday in mdb['Geburtsjahr']]\n",
    "mdb['Alter'] = age\n",
    "\n",
    "#binning the age\n",
    "#min age: 25, max age: 77\n",
    "cut_labels = ['<30', '30-39', '40-49', '50-59', '60-69', '70-79']\n",
    "cut_bins = [i for i in range(20, 81, 10)]\n",
    "mdb['Alter_Bin'] = pd.cut(mdb['Alter'], bins=cut_bins, labels=cut_labels)"
   ]
  },
  {
   "cell_type": "code",
   "execution_count": null,
   "metadata": {
    "executionInfo": {
     "elapsed": 6,
     "status": "ok",
     "timestamp": 1657275917370,
     "user": {
      "displayName": "dl So",
      "userId": "09890886767013636828"
     },
     "user_tz": -120
    },
    "id": "usb7Ht6SPY1K",
    "tags": [
     "remove-input"
    ]
   },
   "outputs": [],
   "source": [
    "#Alter nach Fraktion, Anzahl\n",
    "partei_kurz = list(set(mdb['Fraktion']))\n",
    "\n",
    "alter_l = []\n",
    "alter_count_l = []\n",
    "partei_l = []\n",
    "for partei in partei_kurz:\n",
    "    alter_temp = list(mdb[mdb['Fraktion'] == partei]['Alter_Bin'])#['Alter'])\n",
    "    alter_count = [alter_temp.count(alter) for alter in list(set(alter_temp))]\n",
    "    alter = list(set(alter_temp))\n",
    "    partei_l.append([partei for elem in alter_count])\n",
    "    alter_l.append(alter)\n",
    "    alter_count_l.append(alter_count)\n",
    "\n",
    "alter_flat = [alter for partei in alter_l for alter in partei]\n",
    "alter_count_flat = [count for partei in alter_count_l for count in partei]\n",
    "partei_flat = [p for partei in partei_l for p in partei]\n",
    "\n",
    "alter_partei = pd.DataFrame({\n",
    "    'Partei': partei_flat,\n",
    "    'Alter': alter_flat,\n",
    "    'Anzahl': alter_count_flat\n",
    "})"
   ]
  },
  {
   "cell_type": "code",
   "execution_count": null,
   "metadata": {
    "colab": {
     "base_uri": "https://localhost:8080/",
     "height": 542
    },
    "executionInfo": {
     "elapsed": 1297,
     "status": "ok",
     "timestamp": 1657275923744,
     "user": {
      "displayName": "dl So",
      "userId": "09890886767013636828"
     },
     "user_tz": -120
    },
    "id": "EU7QHAggPY1L",
    "outputId": "dcf08674-e39f-41be-b077-525dc0769f19",
    "tags": [
     "remove-input"
    ]
   },
   "outputs": [],
   "source": [
    "fig = px.histogram(age, nbins=11,\n",
    "                   labels={'value':'age'}\n",
    "                   )\n",
    "\n",
    "fig.update_layout(plot_bgcolor=\"white\",\n",
    "                  title={\n",
    "                    'text': 'Age distribution in the Bundestag', \n",
    "                    'y':0.95,\n",
    "                    'x':0.5,\n",
    "                    'xanchor': 'center',\n",
    "                    'yanchor': 'top'},\n",
    "                  showlegend=False\n",
    "                  )\n",
    "\n",
    "fig.update_yaxes(showgrid=True, gridwidth=1, gridcolor='#efefef', zeroline=True)\n",
    "\n",
    "fig.show()"
   ]
  },
  {
   "cell_type": "markdown",
   "metadata": {
    "id": "oWBhI_EePY1M"
   },
   "source": [
    "This histogram, used to depict the distribution of age among the members of parliament, shows that a bit more than half of the members of parliament are 50 years or older. We can confirm this by calculating the average age, which was 49.6 years.\n",
    " A look at the parliamentary group specific histograms shows some differences in the age composition. Most notably, the parliamentary groups of <i>FDP</i> and <i>GRÜNE</i> having more younger members while <i>CDU/CSU </i> and <i> AfD </i> have an older age structure. For better comparison between the histograms we used percentages and not total values."
   ]
  },
  {
   "cell_type": "code",
   "execution_count": null,
   "metadata": {
    "colab": {
     "base_uri": "https://localhost:8080/",
     "height": 817
    },
    "executionInfo": {
     "elapsed": 568,
     "status": "ok",
     "timestamp": 1657191159087,
     "user": {
      "displayName": "dl So",
      "userId": "09890886767013636828"
     },
     "user_tz": -120
    },
    "id": "V5oMDkClPY1N",
    "outputId": "4f74f256-a91c-4545-d39e-b922741d3630",
    "tags": [
     "remove-input"
    ]
   },
   "outputs": [],
   "source": [
    "#make subplots\n",
    "fig = make_subplots(\n",
    "    rows=2, cols=3,\n",
    "    shared_yaxes=True,\n",
    "    shared_xaxes=True,\n",
    "    #vertical_spacing=0.03,\n",
    ")\n",
    "\n",
    "fig.add_trace(\n",
    "    go.Histogram(\n",
    "        x=mdb[mdb['Partei_KurzBez']=='GRÜNE']['Alter'],\n",
    "        histnorm ='percent',\n",
    "        xbins=dict( # bins used for histogram\n",
    "            start=20,\n",
    "            end=80,\n",
    "            size=5\n",
    "        ),\n",
    "        autobinx = False,\n",
    "        name=\"Grüne\", \n",
    "        marker_color=colors_parties['BÜNDNIS 90/DIE GRÜNEN'],\n",
    "    ),\n",
    "    row=2, col=3\n",
    ")\n",
    "\n",
    "fig.add_trace(\n",
    "    go.Histogram(\n",
    "        x=mdb[mdb['Partei_KurzBez']=='DIE LINKE']['Alter'],\n",
    "        histnorm ='percent',\n",
    "        xbins=dict( # bins used for histogram\n",
    "            start=20,\n",
    "            end=80,\n",
    "            size=5\n",
    "        ),\n",
    "        autobinx = False,\n",
    "        name=\"Die LINKE\",\n",
    "        marker_color=colors_parties['DIE LINKE'],\n",
    "    ),\n",
    "    row=2, col=2\n",
    ")\n",
    "\n",
    "fig.add_trace(\n",
    "    go.Histogram(\n",
    "        x=mdb[mdb['Partei_KurzBez']=='FDP']['Alter'],\n",
    "        histnorm ='percent',\n",
    "        xbins=dict( # bins used for histogram\n",
    "            start=20,\n",
    "            end=80,\n",
    "            size=5\n",
    "        ),\n",
    "        autobinx = False,\n",
    "        name=\"FDP\",\n",
    "        marker_color=colors_parties['FDP'],\n",
    "    ),\n",
    "    row=2, col=1\n",
    ")\n",
    "\n",
    "fig.add_trace(\n",
    "    go.Histogram(\n",
    "        x=mdb[mdb['Partei_KurzBez']=='AfD']['Alter'],\n",
    "        histnorm ='percent',\n",
    "        xbins=dict( # bins used for histogram\n",
    "            start=20,\n",
    "            end=80,\n",
    "            size=5\n",
    "        ),\n",
    "        autobinx = False,\n",
    "        name=\"AfD\",\n",
    "        marker_color=colors_parties['AFD'],\n",
    "    ),\n",
    "    row=1, col=3\n",
    ")\n",
    "\n",
    "fig.add_trace(\n",
    "    go.Histogram(\n",
    "        x=mdb[mdb['Partei_KurzBez']=='SPD']['Alter'],\n",
    "        histnorm ='percent',\n",
    "        xbins=dict( # bins used for histogram\n",
    "            start=20,\n",
    "            end=80,\n",
    "            size=5\n",
    "        ),\n",
    "        autobinx = False,\n",
    "        name=\"SPD\",\n",
    "        marker_color=colors_parties['SPD'],\n",
    "    ),\n",
    "    row=1, col=2\n",
    ")\n",
    "\n",
    "fig.add_trace(\n",
    "    go.Histogram(\n",
    "        x=list(mdb[mdb['Partei_KurzBez']=='CDU']['Alter'])+list(mdb[mdb['Partei_KurzBez']=='CSU']['Alter']),\n",
    "        histnorm ='percent',\n",
    "        xbins=dict( # bins used for histogram\n",
    "            start=20,\n",
    "            end=80,\n",
    "            size=5\n",
    "        ),\n",
    "        autobinx = False,\n",
    "        name=\"CDU/CSU\",\n",
    "        marker_color=colors_parties['CDU/CSU'],\n",
    "    ),\n",
    "    row=1, col=1\n",
    ")\n",
    "\n",
    "fig.update_layout(plot_bgcolor=\"white\",\n",
    "                  title={\n",
    "                    'text': 'Age distribution per party', \n",
    "                    'y':0.9,\n",
    "                    'x':0.5,\n",
    "                    'xanchor': 'center',\n",
    "                    'yanchor': 'top'},\n",
    "                    height=800,\n",
    "                    showlegend=True,\n",
    "                    #xaxis_title_text='Alter', #xaxis for all plots noch dazu adden\n",
    "                    yaxis_title_text='percentage',\n",
    "                    #xaxis_title_text='age',\n",
    "                    )\n",
    "\n",
    "fig.update_yaxes(showgrid=True, gridwidth=1, gridcolor='#efefef')#, title_text='percentage')\n",
    "fig.update_xaxes(title_text=\"age\", row=2, col=2)\n",
    "\n",
    "fig.show()"
   ]
  },
  {
   "cell_type": "markdown",
   "metadata": {
    "id": "wnURdj_h45vQ"
   },
   "source": [
    "## Conclusions\n",
    "This chapter presented a recap of the election results. Besides the winners, it is important to keep in mind, that the voting behaviour between the age groups differs as well as the age groups having different impacts on the end results.\n",
    "\n",
    "Overall when looking at the topics and networks visible in the #btw17-dataset, it will be interesting to compare this to the actual results. Thus, this chapters main aim is connecting the analysis of twitter as a network for political discussion and communication with the election results to better understand how these two could be connected and how representative of one another they are."
   ]
  }
 ],
 "metadata": {
  "colab": {
   "collapsed_sections": [],
   "name": "election_results.ipynb",
   "provenance": [],
   "toc_visible": true
  },
  "kernelspec": {
   "display_name": "Python 3",
   "language": "python",
   "name": "python3"
  },
  "language_info": {
   "codemirror_mode": {
    "name": "ipython",
    "version": 3
   },
   "file_extension": ".py",
   "mimetype": "text/x-python",
   "name": "python",
   "nbconvert_exporter": "python",
   "pygments_lexer": "ipython3",
   "version": "3.8.8"
  },
  "vscode": {
   "interpreter": {
    "hash": "e501c9682bfed05c4d76964f580a69a458039fdb637e278bc30ce796ae3954f4"
   }
  }
 },
 "nbformat": 4,
 "nbformat_minor": 4
}
