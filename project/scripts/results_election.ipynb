{
 "cells": [
  {
   "cell_type": "code",
   "execution_count": 1,
   "metadata": {
    "colab": {
     "base_uri": "https://localhost:8080/"
    },
    "executionInfo": {
     "elapsed": 13177,
     "status": "ok",
     "timestamp": 1657271813563,
     "user": {
      "displayName": "dl So",
      "userId": "09890886767013636828"
     },
     "user_tz": -120
    },
    "id": "jNmJU_RiQrPM",
    "outputId": "c456cd78-c89c-42d2-836c-ebdc2fb062bf"
   },
   "outputs": [
    {
     "name": "stdout",
     "output_type": "stream",
     "text": [
      "Looking in indexes: https://pypi.org/simple, https://us-python.pkg.dev/colab-wheels/public/simple/\n",
      "Collecting geopandas\n",
      "  Downloading geopandas-0.10.2-py2.py3-none-any.whl (1.0 MB)\n",
      "\u001b[K     |████████████████████████████████| 1.0 MB 16.9 MB/s \n",
      "\u001b[?25hRequirement already satisfied: shapely>=1.6 in /usr/local/lib/python3.7/dist-packages (from geopandas) (1.8.2)\n",
      "Requirement already satisfied: pandas>=0.25.0 in /usr/local/lib/python3.7/dist-packages (from geopandas) (1.3.5)\n",
      "Collecting fiona>=1.8\n",
      "  Downloading Fiona-1.8.21-cp37-cp37m-manylinux2014_x86_64.whl (16.7 MB)\n",
      "\u001b[K     |████████████████████████████████| 16.7 MB 220 kB/s \n",
      "\u001b[?25hCollecting pyproj>=2.2.0\n",
      "  Downloading pyproj-3.2.1-cp37-cp37m-manylinux2010_x86_64.whl (6.3 MB)\n",
      "\u001b[K     |████████████████████████████████| 6.3 MB 50.3 MB/s \n",
      "\u001b[?25hCollecting click-plugins>=1.0\n",
      "  Downloading click_plugins-1.1.1-py2.py3-none-any.whl (7.5 kB)\n",
      "Collecting munch\n",
      "  Downloading munch-2.5.0-py2.py3-none-any.whl (10 kB)\n",
      "Requirement already satisfied: setuptools in /usr/local/lib/python3.7/dist-packages (from fiona>=1.8->geopandas) (57.4.0)\n",
      "Requirement already satisfied: six>=1.7 in /usr/local/lib/python3.7/dist-packages (from fiona>=1.8->geopandas) (1.15.0)\n",
      "Collecting cligj>=0.5\n",
      "  Downloading cligj-0.7.2-py3-none-any.whl (7.1 kB)\n",
      "Requirement already satisfied: certifi in /usr/local/lib/python3.7/dist-packages (from fiona>=1.8->geopandas) (2022.6.15)\n",
      "Requirement already satisfied: click>=4.0 in /usr/local/lib/python3.7/dist-packages (from fiona>=1.8->geopandas) (7.1.2)\n",
      "Requirement already satisfied: attrs>=17 in /usr/local/lib/python3.7/dist-packages (from fiona>=1.8->geopandas) (21.4.0)\n",
      "Requirement already satisfied: numpy>=1.17.3 in /usr/local/lib/python3.7/dist-packages (from pandas>=0.25.0->geopandas) (1.21.6)\n",
      "Requirement already satisfied: python-dateutil>=2.7.3 in /usr/local/lib/python3.7/dist-packages (from pandas>=0.25.0->geopandas) (2.8.2)\n",
      "Requirement already satisfied: pytz>=2017.3 in /usr/local/lib/python3.7/dist-packages (from pandas>=0.25.0->geopandas) (2022.1)\n",
      "Installing collected packages: munch, cligj, click-plugins, pyproj, fiona, geopandas\n",
      "Successfully installed click-plugins-1.1.1 cligj-0.7.2 fiona-1.8.21 geopandas-0.10.2 munch-2.5.0 pyproj-3.2.1\n"
     ]
    }
   ],
   "source": [
    "!pip install geopandas"
   ]
  },
  {
   "cell_type": "code",
   "execution_count": 2,
   "metadata": {
    "executionInfo": {
     "elapsed": 1455,
     "status": "ok",
     "timestamp": 1657271844602,
     "user": {
      "displayName": "dl So",
      "userId": "09890886767013636828"
     },
     "user_tz": -120
    },
    "id": "BQmpaLpxPY0v"
   },
   "outputs": [],
   "source": [
    "import pandas as pd\n",
    "import matplotlib.pyplot as plt\n",
    "import plotly.express as px\n",
    "from plotly.subplots import make_subplots\n",
    "import plotly.graph_objects as go\n",
    "import numpy as np\n",
    "import geopandas as gpd"
   ]
  },
  {
   "cell_type": "markdown",
   "metadata": {
    "id": "BoQJ0FMdPY0y"
   },
   "source": [
    "# <h1><b> The federal election 2017 </b></h1>\n",
    "The election for the german bundestag takes place every four years, usually in september. In 2017, on the 24th september the 19th german Bundestag was to be voted for. \n",
    "The government previous to this election was formed by </i>CDU/CSU</i> and <i>SPD</i>. The parties <i>Die Linke</i> and <i> Bündnis 90/Die Grünen</i> (also often referred to as <i>Die Grünen</i>) where part of the parliament as well. \n",
    "\n",
    "<b> The german voting system</b> <br>\n",
    "The german voting system gives every person, who is allowed to vote, two votes, the first vote and second vote. With the former one votes for a candidate representative for the respective constituency in which one votes. Every candidate that gets the most votes in a constituency becomes a member of the Bundestag. The second vote gives the voter the opportunity to vote explicitly for one party. In a complex calculation the second votes for each party (along with how many direct mandates they won) are used to determine the number of seats a party gets in the Bundestag. Only parties, which get at least five percent of second votes or win a minimun of three direct mandates will be part of the Bundestag. Another pecularity to notice, the party <i>CDU</i> can only be voted for in federal states other than Bavaria, and only voters in Bavaria can vote for the <i>CSU</i>. Both parties form a parliamentary group in the bundestag, which is often referred to as <i>Union</i> (<i>CDU/CSU</i> is used as well)."
   ]
  },
  {
   "cell_type": "markdown",
   "metadata": {
    "id": "OfAYNG0NPY02"
   },
   "source": [
    "# <h2> <b> Election Results </b> </h2>\n",
    "\n",
    "In the following we are showing the results of this election based on data from the <a href=\"https://bundeswahlleiter.de/bundestagswahlen/2017/ergebnisse.html\" >Bundeswahlleiter</a> [3], the official person or institution in Germany to observe and control the election. Furthermore we will show some more analysis of the election results, especially with respect to the age structure of both the voters and the candidates voted into the parliament. This analysis will be helpful to form stronger and more justified hypothesis later on. Given that the dataset was collected on twitter and a common hypothesis is, that social media is more commonly used by younger people, the age analysis will give a better context for our findings in comparison to the election results. Additionally there will be visualizations representing the winning party for the first and second vote in every consistutency.<br> \n",
    "Our analysis will only look at the parties, that where represented in the 19th bundestag.\n",
    "<br>"
   ]
  },
  {
   "cell_type": "markdown",
   "metadata": {
    "id": "zWXmp0QKsB9Y"
   },
   "source": [
    "# <h5><b> first and second votes </b></h5>"
   ]
  },
  {
   "cell_type": "markdown",
   "metadata": {
    "id": "_PHkMr-HKkJa"
   },
   "source": [
    "We start by looking at the number of votes the parties obtained, splitted into first and second vote. For this purpose we use a grouped bar chart, where for each party the first and second vote where grouped together. This grouping allows us to identify, which party was strong for which vote. And the bar chart itself is well suited to show the differences between the parties proportionally. In the following chart we did not add <i>CDU</i> and <i>CSU</i> together, because people vote for the party and not for the parliamentary group."
   ]
  },
  {
   "cell_type": "code",
   "execution_count": 8,
   "metadata": {
    "executionInfo": {
     "elapsed": 209,
     "status": "ok",
     "timestamp": 1657273439663,
     "user": {
      "displayName": "dl So",
      "userId": "09890886767013636828"
     },
     "user_tz": -120
    },
    "id": "GRzOJYu_PY03"
   },
   "outputs": [],
   "source": [
    "data = pd.read_csv('data/btw17_erg_BL.csv', sep=';')\n",
    "colors_parties = {''\n",
    "    'CDU/CSU': '#000000',\n",
    "    'SPD': '#ec1b23',\n",
    "    'AFD': '#08c1ff',\n",
    "    'FDP': '#fff203',\n",
    "    'DIE LINKE': '#ff08c1', \n",
    "    'BÜNDNIS 90/DIE GRÜNEN': '#71be43'\n",
    "}"
   ]
  },
  {
   "cell_type": "code",
   "execution_count": 9,
   "metadata": {
    "executionInfo": {
     "elapsed": 5,
     "status": "ok",
     "timestamp": 1657273440355,
     "user": {
      "displayName": "dl So",
      "userId": "09890886767013636828"
     },
     "user_tz": -120
    },
    "id": "qWW1ME1iPY04"
   },
   "outputs": [],
   "source": [
    "relevant_columns_erst = ['CDU_Erststimmen_Endgültig', 'CSU_Erststimmen_Endgültig', 'SPD_Erststimmen_Endgültig', 'AFD_Erststimmen_Endgültig', 'FDP_Erststimmen_Endgültig', \n",
    "                         'LINKE_Erststimmen_Endgültig', 'GRUENE_Erststimmen_Endgültig']\n",
    "relevant_columns_zweit = ['CDU_Zweitstimmen_Endgültig', 'CSU_Zweitstimmen_Endgültig', 'SPD_Zweitstimmen_Endgültig', 'AFD_Zweitstimmen_Endgültig', 'FDP_Zweitstimmen_Endgültig',\n",
    "                          'LINKE_Zweitstimmen_Endgültig', 'GRUENE_Zweitstimmen_Endgültig']\n",
    "partein_order = ['CDU', 'CSU', 'SPD',  'AFD', 'FDP', 'DIE LINKE', 'GRÜNE', ]\n",
    "\n",
    "erststimmen = []\n",
    "for col in relevant_columns_erst:\n",
    "    erststimmen.append(int(data[data['BundeslandID']==99][col]))\n",
    "\n",
    "zweitstimmen = []\n",
    "for col in relevant_columns_zweit:\n",
    "    zweitstimmen.append(int(data[data['BundeslandID']==99][col]))"
   ]
  },
  {
   "cell_type": "code",
   "execution_count": 10,
   "metadata": {
    "colab": {
     "base_uri": "https://localhost:8080/",
     "height": 542
    },
    "executionInfo": {
     "elapsed": 8,
     "status": "ok",
     "timestamp": 1657273441118,
     "user": {
      "displayName": "dl So",
      "userId": "09890886767013636828"
     },
     "user_tz": -120
    },
    "id": "6PWU5wZqPY06",
    "outputId": "0008e609-30ba-4de4-b6c7-148b6c9cad84"
   },
   "outputs": [
    {
     "data": {
      "text/html": [
       "<html>\n",
       "<head><meta charset=\"utf-8\" /></head>\n",
       "<body>\n",
       "    <div>            <script src=\"https://cdnjs.cloudflare.com/ajax/libs/mathjax/2.7.5/MathJax.js?config=TeX-AMS-MML_SVG\"></script><script type=\"text/javascript\">if (window.MathJax) {MathJax.Hub.Config({SVG: {font: \"STIX-Web\"}});}</script>                <script type=\"text/javascript\">window.PlotlyConfig = {MathJaxConfig: 'local'};</script>\n",
       "        <script src=\"https://cdn.plot.ly/plotly-2.8.3.min.js\"></script>                <div id=\"894bf5d1-6ca8-408b-9007-8c4ece0c500b\" class=\"plotly-graph-div\" style=\"height:525px; width:100%;\"></div>            <script type=\"text/javascript\">                                    window.PLOTLYENV=window.PLOTLYENV || {};                                    if (document.getElementById(\"894bf5d1-6ca8-408b-9007-8c4ece0c500b\")) {                    Plotly.newPlot(                        \"894bf5d1-6ca8-408b-9007-8c4ece0c500b\",                        [{\"marker\":{\"color\":\"orange\"},\"name\":\"first vote\",\"x\":[\"CDU\",\"CSU\",\"SPD\",\"AFD\",\"FDP\",\"DIE LINKE\",\"GR\\u00dcNE\"],\"y\":[14030751,3255487,11429231,5317499,3249238,3966637,3717922],\"type\":\"bar\"},{\"marker\":{\"color\":\"grey\"},\"name\":\"second vote\",\"x\":[\"CDU\",\"CSU\",\"SPD\",\"AFD\",\"FDP\",\"DIE LINKE\",\"GR\\u00dcNE\"],\"y\":[12447656,2869688,9539381,5878115,4999449,4297270,4158400],\"type\":\"bar\"}],                        {\"template\":{\"data\":{\"bar\":[{\"error_x\":{\"color\":\"#2a3f5f\"},\"error_y\":{\"color\":\"#2a3f5f\"},\"marker\":{\"line\":{\"color\":\"#E5ECF6\",\"width\":0.5},\"pattern\":{\"fillmode\":\"overlay\",\"size\":10,\"solidity\":0.2}},\"type\":\"bar\"}],\"barpolar\":[{\"marker\":{\"line\":{\"color\":\"#E5ECF6\",\"width\":0.5},\"pattern\":{\"fillmode\":\"overlay\",\"size\":10,\"solidity\":0.2}},\"type\":\"barpolar\"}],\"carpet\":[{\"aaxis\":{\"endlinecolor\":\"#2a3f5f\",\"gridcolor\":\"white\",\"linecolor\":\"white\",\"minorgridcolor\":\"white\",\"startlinecolor\":\"#2a3f5f\"},\"baxis\":{\"endlinecolor\":\"#2a3f5f\",\"gridcolor\":\"white\",\"linecolor\":\"white\",\"minorgridcolor\":\"white\",\"startlinecolor\":\"#2a3f5f\"},\"type\":\"carpet\"}],\"choropleth\":[{\"colorbar\":{\"outlinewidth\":0,\"ticks\":\"\"},\"type\":\"choropleth\"}],\"contour\":[{\"colorbar\":{\"outlinewidth\":0,\"ticks\":\"\"},\"colorscale\":[[0.0,\"#0d0887\"],[0.1111111111111111,\"#46039f\"],[0.2222222222222222,\"#7201a8\"],[0.3333333333333333,\"#9c179e\"],[0.4444444444444444,\"#bd3786\"],[0.5555555555555556,\"#d8576b\"],[0.6666666666666666,\"#ed7953\"],[0.7777777777777778,\"#fb9f3a\"],[0.8888888888888888,\"#fdca26\"],[1.0,\"#f0f921\"]],\"type\":\"contour\"}],\"contourcarpet\":[{\"colorbar\":{\"outlinewidth\":0,\"ticks\":\"\"},\"type\":\"contourcarpet\"}],\"heatmap\":[{\"colorbar\":{\"outlinewidth\":0,\"ticks\":\"\"},\"colorscale\":[[0.0,\"#0d0887\"],[0.1111111111111111,\"#46039f\"],[0.2222222222222222,\"#7201a8\"],[0.3333333333333333,\"#9c179e\"],[0.4444444444444444,\"#bd3786\"],[0.5555555555555556,\"#d8576b\"],[0.6666666666666666,\"#ed7953\"],[0.7777777777777778,\"#fb9f3a\"],[0.8888888888888888,\"#fdca26\"],[1.0,\"#f0f921\"]],\"type\":\"heatmap\"}],\"heatmapgl\":[{\"colorbar\":{\"outlinewidth\":0,\"ticks\":\"\"},\"colorscale\":[[0.0,\"#0d0887\"],[0.1111111111111111,\"#46039f\"],[0.2222222222222222,\"#7201a8\"],[0.3333333333333333,\"#9c179e\"],[0.4444444444444444,\"#bd3786\"],[0.5555555555555556,\"#d8576b\"],[0.6666666666666666,\"#ed7953\"],[0.7777777777777778,\"#fb9f3a\"],[0.8888888888888888,\"#fdca26\"],[1.0,\"#f0f921\"]],\"type\":\"heatmapgl\"}],\"histogram\":[{\"marker\":{\"pattern\":{\"fillmode\":\"overlay\",\"size\":10,\"solidity\":0.2}},\"type\":\"histogram\"}],\"histogram2d\":[{\"colorbar\":{\"outlinewidth\":0,\"ticks\":\"\"},\"colorscale\":[[0.0,\"#0d0887\"],[0.1111111111111111,\"#46039f\"],[0.2222222222222222,\"#7201a8\"],[0.3333333333333333,\"#9c179e\"],[0.4444444444444444,\"#bd3786\"],[0.5555555555555556,\"#d8576b\"],[0.6666666666666666,\"#ed7953\"],[0.7777777777777778,\"#fb9f3a\"],[0.8888888888888888,\"#fdca26\"],[1.0,\"#f0f921\"]],\"type\":\"histogram2d\"}],\"histogram2dcontour\":[{\"colorbar\":{\"outlinewidth\":0,\"ticks\":\"\"},\"colorscale\":[[0.0,\"#0d0887\"],[0.1111111111111111,\"#46039f\"],[0.2222222222222222,\"#7201a8\"],[0.3333333333333333,\"#9c179e\"],[0.4444444444444444,\"#bd3786\"],[0.5555555555555556,\"#d8576b\"],[0.6666666666666666,\"#ed7953\"],[0.7777777777777778,\"#fb9f3a\"],[0.8888888888888888,\"#fdca26\"],[1.0,\"#f0f921\"]],\"type\":\"histogram2dcontour\"}],\"mesh3d\":[{\"colorbar\":{\"outlinewidth\":0,\"ticks\":\"\"},\"type\":\"mesh3d\"}],\"parcoords\":[{\"line\":{\"colorbar\":{\"outlinewidth\":0,\"ticks\":\"\"}},\"type\":\"parcoords\"}],\"pie\":[{\"automargin\":true,\"type\":\"pie\"}],\"scatter\":[{\"marker\":{\"colorbar\":{\"outlinewidth\":0,\"ticks\":\"\"}},\"type\":\"scatter\"}],\"scatter3d\":[{\"line\":{\"colorbar\":{\"outlinewidth\":0,\"ticks\":\"\"}},\"marker\":{\"colorbar\":{\"outlinewidth\":0,\"ticks\":\"\"}},\"type\":\"scatter3d\"}],\"scattercarpet\":[{\"marker\":{\"colorbar\":{\"outlinewidth\":0,\"ticks\":\"\"}},\"type\":\"scattercarpet\"}],\"scattergeo\":[{\"marker\":{\"colorbar\":{\"outlinewidth\":0,\"ticks\":\"\"}},\"type\":\"scattergeo\"}],\"scattergl\":[{\"marker\":{\"colorbar\":{\"outlinewidth\":0,\"ticks\":\"\"}},\"type\":\"scattergl\"}],\"scattermapbox\":[{\"marker\":{\"colorbar\":{\"outlinewidth\":0,\"ticks\":\"\"}},\"type\":\"scattermapbox\"}],\"scatterpolar\":[{\"marker\":{\"colorbar\":{\"outlinewidth\":0,\"ticks\":\"\"}},\"type\":\"scatterpolar\"}],\"scatterpolargl\":[{\"marker\":{\"colorbar\":{\"outlinewidth\":0,\"ticks\":\"\"}},\"type\":\"scatterpolargl\"}],\"scatterternary\":[{\"marker\":{\"colorbar\":{\"outlinewidth\":0,\"ticks\":\"\"}},\"type\":\"scatterternary\"}],\"surface\":[{\"colorbar\":{\"outlinewidth\":0,\"ticks\":\"\"},\"colorscale\":[[0.0,\"#0d0887\"],[0.1111111111111111,\"#46039f\"],[0.2222222222222222,\"#7201a8\"],[0.3333333333333333,\"#9c179e\"],[0.4444444444444444,\"#bd3786\"],[0.5555555555555556,\"#d8576b\"],[0.6666666666666666,\"#ed7953\"],[0.7777777777777778,\"#fb9f3a\"],[0.8888888888888888,\"#fdca26\"],[1.0,\"#f0f921\"]],\"type\":\"surface\"}],\"table\":[{\"cells\":{\"fill\":{\"color\":\"#EBF0F8\"},\"line\":{\"color\":\"white\"}},\"header\":{\"fill\":{\"color\":\"#C8D4E3\"},\"line\":{\"color\":\"white\"}},\"type\":\"table\"}]},\"layout\":{\"annotationdefaults\":{\"arrowcolor\":\"#2a3f5f\",\"arrowhead\":0,\"arrowwidth\":1},\"autotypenumbers\":\"strict\",\"coloraxis\":{\"colorbar\":{\"outlinewidth\":0,\"ticks\":\"\"}},\"colorscale\":{\"diverging\":[[0,\"#8e0152\"],[0.1,\"#c51b7d\"],[0.2,\"#de77ae\"],[0.3,\"#f1b6da\"],[0.4,\"#fde0ef\"],[0.5,\"#f7f7f7\"],[0.6,\"#e6f5d0\"],[0.7,\"#b8e186\"],[0.8,\"#7fbc41\"],[0.9,\"#4d9221\"],[1,\"#276419\"]],\"sequential\":[[0.0,\"#0d0887\"],[0.1111111111111111,\"#46039f\"],[0.2222222222222222,\"#7201a8\"],[0.3333333333333333,\"#9c179e\"],[0.4444444444444444,\"#bd3786\"],[0.5555555555555556,\"#d8576b\"],[0.6666666666666666,\"#ed7953\"],[0.7777777777777778,\"#fb9f3a\"],[0.8888888888888888,\"#fdca26\"],[1.0,\"#f0f921\"]],\"sequentialminus\":[[0.0,\"#0d0887\"],[0.1111111111111111,\"#46039f\"],[0.2222222222222222,\"#7201a8\"],[0.3333333333333333,\"#9c179e\"],[0.4444444444444444,\"#bd3786\"],[0.5555555555555556,\"#d8576b\"],[0.6666666666666666,\"#ed7953\"],[0.7777777777777778,\"#fb9f3a\"],[0.8888888888888888,\"#fdca26\"],[1.0,\"#f0f921\"]]},\"colorway\":[\"#636efa\",\"#EF553B\",\"#00cc96\",\"#ab63fa\",\"#FFA15A\",\"#19d3f3\",\"#FF6692\",\"#B6E880\",\"#FF97FF\",\"#FECB52\"],\"font\":{\"color\":\"#2a3f5f\"},\"geo\":{\"bgcolor\":\"white\",\"lakecolor\":\"white\",\"landcolor\":\"#E5ECF6\",\"showlakes\":true,\"showland\":true,\"subunitcolor\":\"white\"},\"hoverlabel\":{\"align\":\"left\"},\"hovermode\":\"closest\",\"mapbox\":{\"style\":\"light\"},\"paper_bgcolor\":\"white\",\"plot_bgcolor\":\"#E5ECF6\",\"polar\":{\"angularaxis\":{\"gridcolor\":\"white\",\"linecolor\":\"white\",\"ticks\":\"\"},\"bgcolor\":\"#E5ECF6\",\"radialaxis\":{\"gridcolor\":\"white\",\"linecolor\":\"white\",\"ticks\":\"\"}},\"scene\":{\"xaxis\":{\"backgroundcolor\":\"#E5ECF6\",\"gridcolor\":\"white\",\"gridwidth\":2,\"linecolor\":\"white\",\"showbackground\":true,\"ticks\":\"\",\"zerolinecolor\":\"white\"},\"yaxis\":{\"backgroundcolor\":\"#E5ECF6\",\"gridcolor\":\"white\",\"gridwidth\":2,\"linecolor\":\"white\",\"showbackground\":true,\"ticks\":\"\",\"zerolinecolor\":\"white\"},\"zaxis\":{\"backgroundcolor\":\"#E5ECF6\",\"gridcolor\":\"white\",\"gridwidth\":2,\"linecolor\":\"white\",\"showbackground\":true,\"ticks\":\"\",\"zerolinecolor\":\"white\"}},\"shapedefaults\":{\"line\":{\"color\":\"#2a3f5f\"}},\"ternary\":{\"aaxis\":{\"gridcolor\":\"white\",\"linecolor\":\"white\",\"ticks\":\"\"},\"baxis\":{\"gridcolor\":\"white\",\"linecolor\":\"white\",\"ticks\":\"\"},\"bgcolor\":\"#E5ECF6\",\"caxis\":{\"gridcolor\":\"white\",\"linecolor\":\"white\",\"ticks\":\"\"}},\"title\":{\"x\":0.05},\"xaxis\":{\"automargin\":true,\"gridcolor\":\"white\",\"linecolor\":\"white\",\"ticks\":\"\",\"title\":{\"standoff\":15},\"zerolinecolor\":\"white\",\"zerolinewidth\":2},\"yaxis\":{\"automargin\":true,\"gridcolor\":\"white\",\"linecolor\":\"white\",\"ticks\":\"\",\"title\":{\"standoff\":15},\"zerolinecolor\":\"white\",\"zerolinewidth\":2}}},\"title\":{\"text\":\"number of first and second votes per party\",\"y\":0.9,\"x\":0.5,\"xanchor\":\"center\",\"yanchor\":\"top\"},\"legend\":{\"yanchor\":\"top\",\"y\":0.99,\"xanchor\":\"left\",\"x\":0.92},\"plot_bgcolor\":\"white\",\"yaxis\":{\"showgrid\":true,\"gridwidth\":1,\"gridcolor\":\"#efefef\",\"zeroline\":true}},                        {\"responsive\": true}                    ).then(function(){\n",
       "                            \n",
       "var gd = document.getElementById('894bf5d1-6ca8-408b-9007-8c4ece0c500b');\n",
       "var x = new MutationObserver(function (mutations, observer) {{\n",
       "        var display = window.getComputedStyle(gd).display;\n",
       "        if (!display || display === 'none') {{\n",
       "            console.log([gd, 'removed!']);\n",
       "            Plotly.purge(gd);\n",
       "            observer.disconnect();\n",
       "        }}\n",
       "}});\n",
       "\n",
       "// Listen for the removal of the full notebook cells\n",
       "var notebookContainer = gd.closest('#notebook-container');\n",
       "if (notebookContainer) {{\n",
       "    x.observe(notebookContainer, {childList: true});\n",
       "}}\n",
       "\n",
       "// Listen for the clearing of the current output cell\n",
       "var outputEl = gd.closest('.output');\n",
       "if (outputEl) {{\n",
       "    x.observe(outputEl, {childList: true});\n",
       "}}\n",
       "\n",
       "                        })                };                            </script>        </div>\n",
       "</body>\n",
       "</html>"
      ]
     },
     "metadata": {},
     "output_type": "display_data"
    }
   ],
   "source": [
    "fig = go.Figure(data=[\n",
    "    go.Bar(name='first vote', x=partein_order, y=erststimmen, marker_color='orange'),\n",
    "    go.Bar(name='second vote', x=partein_order, y=zweitstimmen, marker_color='grey') #direct labeling to confussing because of the big numbers\n",
    "])\n",
    "\n",
    "fig.update_layout(plot_bgcolor=\"white\", \n",
    "                  title={\n",
    "                    'text': \"number of first and second votes per party\", \n",
    "                    'y':0.9,\n",
    "                    'x':0.5,\n",
    "                    'xanchor': 'center',\n",
    "                    'yanchor': 'top'},\n",
    "                  legend={\n",
    "                    'yanchor': \"top\",\n",
    "                    'y': 0.99,\n",
    "                    'xanchor': \"left\",\n",
    "                    'x': 0.92}\n",
    "                  )\n",
    "fig.update_yaxes(showgrid=True, gridwidth=1, gridcolor='#efefef', zeroline=True)\n",
    "fig.show()"
   ]
  },
  {
   "cell_type": "markdown",
   "metadata": {
    "id": "Q-Z7eZMWPY08"
   },
   "source": [
    "The <i>CDU</i> (along with the <i>CSU</i>) won this election. The second most votes went to the SPD. The grouping of first and second votes per party shows, that the <i>SPD</i>, <i>CDU</i> and <i>CSU</i> got more first votes than second votes. For the other parties it is the opposite. Especially for the <i>FDP</i> the gap between the number of first and second votes obtained is quite big with almost 1.8 million more second votes."
   ]
  },
  {
   "cell_type": "markdown",
   "metadata": {
    "id": "xMgP2a11PY09"
   },
   "source": [
    "<h4><b> seat distribution in the Bundestag</b></h4>\n",
    "\n",
    "Based on the votes obtained the number of seats a party gets is calculated. The following visualisation shows the number of seats obtained by each party, here <i>CSU</i> and <i>CDU</i> are grouped together, since they form a parliamentary group. A usual way of representing the number of seats in a (german) parliament is a (half) pie chart. Even though this type of a chart is usually not a good way of representing data, since it can be hard to compare the sizes of the segments and thus the identification of smaller differences between categories is more challenging, it canb well justified in this context. The aim of looking at the number of seats a parliamentary group holds is directly conntected to the question which groups form a coalition or can get majorities. A pie chart with direct labeling of the number of seats allows the viewer to easier identify which coalitions are possible compared to other types of charts and is thus best suited for the data at hand. "
   ]
  },
  {
   "cell_type": "code",
   "execution_count": 11,
   "metadata": {
    "executionInfo": {
     "elapsed": 254,
     "status": "ok",
     "timestamp": 1657274292116,
     "user": {
      "displayName": "dl So",
      "userId": "09890886767013636828"
     },
     "user_tz": -120
    },
    "id": "9T2dkoRKPY0_"
   },
   "outputs": [],
   "source": [
    "sitzverteilung = pd.DataFrame({'Partei': ['CDU/CSU', 'SPD', 'AFD', 'FDP', 'DIE LINKE',  'BÜNDNIS 90/DIE GRÜNEN'], \n",
    "                               'Sitze': [246, 153, 94, 80, 69, 67]})"
   ]
  },
  {
   "cell_type": "code",
   "execution_count": 12,
   "metadata": {
    "colab": {
     "base_uri": "https://localhost:8080/",
     "height": 542
    },
    "executionInfo": {
     "elapsed": 9,
     "status": "ok",
     "timestamp": 1657274292367,
     "user": {
      "displayName": "dl So",
      "userId": "09890886767013636828"
     },
     "user_tz": -120
    },
    "id": "UQ2CwlVmPY1A",
    "outputId": "a91d7a54-3103-4267-c01a-afa474caca97"
   },
   "outputs": [
    {
     "data": {
      "text/html": [
       "<html>\n",
       "<head><meta charset=\"utf-8\" /></head>\n",
       "<body>\n",
       "    <div>            <script src=\"https://cdnjs.cloudflare.com/ajax/libs/mathjax/2.7.5/MathJax.js?config=TeX-AMS-MML_SVG\"></script><script type=\"text/javascript\">if (window.MathJax) {MathJax.Hub.Config({SVG: {font: \"STIX-Web\"}});}</script>                <script type=\"text/javascript\">window.PlotlyConfig = {MathJaxConfig: 'local'};</script>\n",
       "        <script src=\"https://cdn.plot.ly/plotly-2.8.3.min.js\"></script>                <div id=\"da448453-8686-4869-a720-5b50525702ac\" class=\"plotly-graph-div\" style=\"height:525px; width:100%;\"></div>            <script type=\"text/javascript\">                                    window.PLOTLYENV=window.PLOTLYENV || {};                                    if (document.getElementById(\"da448453-8686-4869-a720-5b50525702ac\")) {                    Plotly.newPlot(                        \"da448453-8686-4869-a720-5b50525702ac\",                        [{\"labels\":[\"CDU/CSU\",\"SPD\",\"AFD\",\"FDP\",\"DIE LINKE\",\"B\\u00dcNDNIS 90/DIE GR\\u00dcNEN\"],\"textinfo\":\"value\",\"values\":[246,153,94,80,69,67],\"type\":\"pie\",\"marker\":{\"line\":{\"color\":\"#ffffff\",\"width\":2},\"colors\":[\"#000000\",\"#ec1b23\",\"#08c1ff\",\"#fff203\",\"#ff08c1\",\"#71be43\"]}}],                        {\"template\":{\"data\":{\"bar\":[{\"error_x\":{\"color\":\"#2a3f5f\"},\"error_y\":{\"color\":\"#2a3f5f\"},\"marker\":{\"line\":{\"color\":\"#E5ECF6\",\"width\":0.5},\"pattern\":{\"fillmode\":\"overlay\",\"size\":10,\"solidity\":0.2}},\"type\":\"bar\"}],\"barpolar\":[{\"marker\":{\"line\":{\"color\":\"#E5ECF6\",\"width\":0.5},\"pattern\":{\"fillmode\":\"overlay\",\"size\":10,\"solidity\":0.2}},\"type\":\"barpolar\"}],\"carpet\":[{\"aaxis\":{\"endlinecolor\":\"#2a3f5f\",\"gridcolor\":\"white\",\"linecolor\":\"white\",\"minorgridcolor\":\"white\",\"startlinecolor\":\"#2a3f5f\"},\"baxis\":{\"endlinecolor\":\"#2a3f5f\",\"gridcolor\":\"white\",\"linecolor\":\"white\",\"minorgridcolor\":\"white\",\"startlinecolor\":\"#2a3f5f\"},\"type\":\"carpet\"}],\"choropleth\":[{\"colorbar\":{\"outlinewidth\":0,\"ticks\":\"\"},\"type\":\"choropleth\"}],\"contour\":[{\"colorbar\":{\"outlinewidth\":0,\"ticks\":\"\"},\"colorscale\":[[0.0,\"#0d0887\"],[0.1111111111111111,\"#46039f\"],[0.2222222222222222,\"#7201a8\"],[0.3333333333333333,\"#9c179e\"],[0.4444444444444444,\"#bd3786\"],[0.5555555555555556,\"#d8576b\"],[0.6666666666666666,\"#ed7953\"],[0.7777777777777778,\"#fb9f3a\"],[0.8888888888888888,\"#fdca26\"],[1.0,\"#f0f921\"]],\"type\":\"contour\"}],\"contourcarpet\":[{\"colorbar\":{\"outlinewidth\":0,\"ticks\":\"\"},\"type\":\"contourcarpet\"}],\"heatmap\":[{\"colorbar\":{\"outlinewidth\":0,\"ticks\":\"\"},\"colorscale\":[[0.0,\"#0d0887\"],[0.1111111111111111,\"#46039f\"],[0.2222222222222222,\"#7201a8\"],[0.3333333333333333,\"#9c179e\"],[0.4444444444444444,\"#bd3786\"],[0.5555555555555556,\"#d8576b\"],[0.6666666666666666,\"#ed7953\"],[0.7777777777777778,\"#fb9f3a\"],[0.8888888888888888,\"#fdca26\"],[1.0,\"#f0f921\"]],\"type\":\"heatmap\"}],\"heatmapgl\":[{\"colorbar\":{\"outlinewidth\":0,\"ticks\":\"\"},\"colorscale\":[[0.0,\"#0d0887\"],[0.1111111111111111,\"#46039f\"],[0.2222222222222222,\"#7201a8\"],[0.3333333333333333,\"#9c179e\"],[0.4444444444444444,\"#bd3786\"],[0.5555555555555556,\"#d8576b\"],[0.6666666666666666,\"#ed7953\"],[0.7777777777777778,\"#fb9f3a\"],[0.8888888888888888,\"#fdca26\"],[1.0,\"#f0f921\"]],\"type\":\"heatmapgl\"}],\"histogram\":[{\"marker\":{\"pattern\":{\"fillmode\":\"overlay\",\"size\":10,\"solidity\":0.2}},\"type\":\"histogram\"}],\"histogram2d\":[{\"colorbar\":{\"outlinewidth\":0,\"ticks\":\"\"},\"colorscale\":[[0.0,\"#0d0887\"],[0.1111111111111111,\"#46039f\"],[0.2222222222222222,\"#7201a8\"],[0.3333333333333333,\"#9c179e\"],[0.4444444444444444,\"#bd3786\"],[0.5555555555555556,\"#d8576b\"],[0.6666666666666666,\"#ed7953\"],[0.7777777777777778,\"#fb9f3a\"],[0.8888888888888888,\"#fdca26\"],[1.0,\"#f0f921\"]],\"type\":\"histogram2d\"}],\"histogram2dcontour\":[{\"colorbar\":{\"outlinewidth\":0,\"ticks\":\"\"},\"colorscale\":[[0.0,\"#0d0887\"],[0.1111111111111111,\"#46039f\"],[0.2222222222222222,\"#7201a8\"],[0.3333333333333333,\"#9c179e\"],[0.4444444444444444,\"#bd3786\"],[0.5555555555555556,\"#d8576b\"],[0.6666666666666666,\"#ed7953\"],[0.7777777777777778,\"#fb9f3a\"],[0.8888888888888888,\"#fdca26\"],[1.0,\"#f0f921\"]],\"type\":\"histogram2dcontour\"}],\"mesh3d\":[{\"colorbar\":{\"outlinewidth\":0,\"ticks\":\"\"},\"type\":\"mesh3d\"}],\"parcoords\":[{\"line\":{\"colorbar\":{\"outlinewidth\":0,\"ticks\":\"\"}},\"type\":\"parcoords\"}],\"pie\":[{\"automargin\":true,\"type\":\"pie\"}],\"scatter\":[{\"marker\":{\"colorbar\":{\"outlinewidth\":0,\"ticks\":\"\"}},\"type\":\"scatter\"}],\"scatter3d\":[{\"line\":{\"colorbar\":{\"outlinewidth\":0,\"ticks\":\"\"}},\"marker\":{\"colorbar\":{\"outlinewidth\":0,\"ticks\":\"\"}},\"type\":\"scatter3d\"}],\"scattercarpet\":[{\"marker\":{\"colorbar\":{\"outlinewidth\":0,\"ticks\":\"\"}},\"type\":\"scattercarpet\"}],\"scattergeo\":[{\"marker\":{\"colorbar\":{\"outlinewidth\":0,\"ticks\":\"\"}},\"type\":\"scattergeo\"}],\"scattergl\":[{\"marker\":{\"colorbar\":{\"outlinewidth\":0,\"ticks\":\"\"}},\"type\":\"scattergl\"}],\"scattermapbox\":[{\"marker\":{\"colorbar\":{\"outlinewidth\":0,\"ticks\":\"\"}},\"type\":\"scattermapbox\"}],\"scatterpolar\":[{\"marker\":{\"colorbar\":{\"outlinewidth\":0,\"ticks\":\"\"}},\"type\":\"scatterpolar\"}],\"scatterpolargl\":[{\"marker\":{\"colorbar\":{\"outlinewidth\":0,\"ticks\":\"\"}},\"type\":\"scatterpolargl\"}],\"scatterternary\":[{\"marker\":{\"colorbar\":{\"outlinewidth\":0,\"ticks\":\"\"}},\"type\":\"scatterternary\"}],\"surface\":[{\"colorbar\":{\"outlinewidth\":0,\"ticks\":\"\"},\"colorscale\":[[0.0,\"#0d0887\"],[0.1111111111111111,\"#46039f\"],[0.2222222222222222,\"#7201a8\"],[0.3333333333333333,\"#9c179e\"],[0.4444444444444444,\"#bd3786\"],[0.5555555555555556,\"#d8576b\"],[0.6666666666666666,\"#ed7953\"],[0.7777777777777778,\"#fb9f3a\"],[0.8888888888888888,\"#fdca26\"],[1.0,\"#f0f921\"]],\"type\":\"surface\"}],\"table\":[{\"cells\":{\"fill\":{\"color\":\"#EBF0F8\"},\"line\":{\"color\":\"white\"}},\"header\":{\"fill\":{\"color\":\"#C8D4E3\"},\"line\":{\"color\":\"white\"}},\"type\":\"table\"}]},\"layout\":{\"annotationdefaults\":{\"arrowcolor\":\"#2a3f5f\",\"arrowhead\":0,\"arrowwidth\":1},\"autotypenumbers\":\"strict\",\"coloraxis\":{\"colorbar\":{\"outlinewidth\":0,\"ticks\":\"\"}},\"colorscale\":{\"diverging\":[[0,\"#8e0152\"],[0.1,\"#c51b7d\"],[0.2,\"#de77ae\"],[0.3,\"#f1b6da\"],[0.4,\"#fde0ef\"],[0.5,\"#f7f7f7\"],[0.6,\"#e6f5d0\"],[0.7,\"#b8e186\"],[0.8,\"#7fbc41\"],[0.9,\"#4d9221\"],[1,\"#276419\"]],\"sequential\":[[0.0,\"#0d0887\"],[0.1111111111111111,\"#46039f\"],[0.2222222222222222,\"#7201a8\"],[0.3333333333333333,\"#9c179e\"],[0.4444444444444444,\"#bd3786\"],[0.5555555555555556,\"#d8576b\"],[0.6666666666666666,\"#ed7953\"],[0.7777777777777778,\"#fb9f3a\"],[0.8888888888888888,\"#fdca26\"],[1.0,\"#f0f921\"]],\"sequentialminus\":[[0.0,\"#0d0887\"],[0.1111111111111111,\"#46039f\"],[0.2222222222222222,\"#7201a8\"],[0.3333333333333333,\"#9c179e\"],[0.4444444444444444,\"#bd3786\"],[0.5555555555555556,\"#d8576b\"],[0.6666666666666666,\"#ed7953\"],[0.7777777777777778,\"#fb9f3a\"],[0.8888888888888888,\"#fdca26\"],[1.0,\"#f0f921\"]]},\"colorway\":[\"#636efa\",\"#EF553B\",\"#00cc96\",\"#ab63fa\",\"#FFA15A\",\"#19d3f3\",\"#FF6692\",\"#B6E880\",\"#FF97FF\",\"#FECB52\"],\"font\":{\"color\":\"#2a3f5f\"},\"geo\":{\"bgcolor\":\"white\",\"lakecolor\":\"white\",\"landcolor\":\"#E5ECF6\",\"showlakes\":true,\"showland\":true,\"subunitcolor\":\"white\"},\"hoverlabel\":{\"align\":\"left\"},\"hovermode\":\"closest\",\"mapbox\":{\"style\":\"light\"},\"paper_bgcolor\":\"white\",\"plot_bgcolor\":\"#E5ECF6\",\"polar\":{\"angularaxis\":{\"gridcolor\":\"white\",\"linecolor\":\"white\",\"ticks\":\"\"},\"bgcolor\":\"#E5ECF6\",\"radialaxis\":{\"gridcolor\":\"white\",\"linecolor\":\"white\",\"ticks\":\"\"}},\"scene\":{\"xaxis\":{\"backgroundcolor\":\"#E5ECF6\",\"gridcolor\":\"white\",\"gridwidth\":2,\"linecolor\":\"white\",\"showbackground\":true,\"ticks\":\"\",\"zerolinecolor\":\"white\"},\"yaxis\":{\"backgroundcolor\":\"#E5ECF6\",\"gridcolor\":\"white\",\"gridwidth\":2,\"linecolor\":\"white\",\"showbackground\":true,\"ticks\":\"\",\"zerolinecolor\":\"white\"},\"zaxis\":{\"backgroundcolor\":\"#E5ECF6\",\"gridcolor\":\"white\",\"gridwidth\":2,\"linecolor\":\"white\",\"showbackground\":true,\"ticks\":\"\",\"zerolinecolor\":\"white\"}},\"shapedefaults\":{\"line\":{\"color\":\"#2a3f5f\"}},\"ternary\":{\"aaxis\":{\"gridcolor\":\"white\",\"linecolor\":\"white\",\"ticks\":\"\"},\"baxis\":{\"gridcolor\":\"white\",\"linecolor\":\"white\",\"ticks\":\"\"},\"bgcolor\":\"#E5ECF6\",\"caxis\":{\"gridcolor\":\"white\",\"linecolor\":\"white\",\"ticks\":\"\"}},\"title\":{\"x\":0.05},\"xaxis\":{\"automargin\":true,\"gridcolor\":\"white\",\"linecolor\":\"white\",\"ticks\":\"\",\"title\":{\"standoff\":15},\"zerolinecolor\":\"white\",\"zerolinewidth\":2},\"yaxis\":{\"automargin\":true,\"gridcolor\":\"white\",\"linecolor\":\"white\",\"ticks\":\"\",\"title\":{\"standoff\":15},\"zerolinecolor\":\"white\",\"zerolinewidth\":2}}},\"title\":{\"text\":\"number of seats in the 19th Bundestag\",\"y\":0.9,\"x\":0.5,\"xanchor\":\"center\",\"yanchor\":\"top\"},\"plot_bgcolor\":\"white\",\"annotations\":[{\"showarrow\":false,\"text\":\"number of seats needed for a simple majority: 355\",\"x\":1,\"y\":0}]},                        {\"responsive\": true}                    ).then(function(){\n",
       "                            \n",
       "var gd = document.getElementById('da448453-8686-4869-a720-5b50525702ac');\n",
       "var x = new MutationObserver(function (mutations, observer) {{\n",
       "        var display = window.getComputedStyle(gd).display;\n",
       "        if (!display || display === 'none') {{\n",
       "            console.log([gd, 'removed!']);\n",
       "            Plotly.purge(gd);\n",
       "            observer.disconnect();\n",
       "        }}\n",
       "}});\n",
       "\n",
       "// Listen for the removal of the full notebook cells\n",
       "var notebookContainer = gd.closest('#notebook-container');\n",
       "if (notebookContainer) {{\n",
       "    x.observe(notebookContainer, {childList: true});\n",
       "}}\n",
       "\n",
       "// Listen for the clearing of the current output cell\n",
       "var outputEl = gd.closest('.output');\n",
       "if (outputEl) {{\n",
       "    x.observe(outputEl, {childList: true});\n",
       "}}\n",
       "\n",
       "                        })                };                            </script>        </div>\n",
       "</body>\n",
       "</html>"
      ]
     },
     "metadata": {},
     "output_type": "display_data"
    }
   ],
   "source": [
    "fig = go.Figure(data=[go.Pie(labels=sitzverteilung['Partei'], values=sitzverteilung['Sitze'], textinfo='value')])\n",
    "\n",
    "fig.update_traces(marker=dict(colors=list(colors_parties.values()), line=dict(color='#ffffff', width=2))) \n",
    "fig.update_layout(plot_bgcolor=\"white\", \n",
    "                  title={\n",
    "                    'text': \"number of seats in the 19th Bundestag\", \n",
    "                    'y':0.9,\n",
    "                    'x':0.5,\n",
    "                    'xanchor': 'center',\n",
    "                    'yanchor': 'top'}\n",
    "                  )\n",
    "fig.add_annotation(x=1, y=0,\n",
    "                    text=\"number of seats needed for a simple majority: 355\",\n",
    "                    showarrow=False,\n",
    "                  )\n",
    "\n",
    "fig.show()"
   ]
  },
  {
   "cell_type": "markdown",
   "metadata": {
    "id": "tVu3K7xbPY1C"
   },
   "source": [
    "Possible coalitions (given the political circumstance that no party wants to work togehter with the <i>AfD</i>) that can be seen in this are for example <i>SPD</i> and <i> CDU/CSU</i> <i> CDU/CSU, Grüne</i> and <i>Linke</i> or <i> CDU/CSU, Grüne</i> and <i>FDP</i>.  "
   ]
  },
  {
   "cell_type": "markdown",
   "metadata": {
    "id": "qf5nHHghPY1C"
   },
   "source": [
    "<h5><b> election results broken down by age of the voter </b></h5>\n",
    "\n",
    "After every election an often asked question is about which age groups prefered which party. We look at it in this context chapter, because our dataset was recorded on twitter, which is also not used by every age group to the same extend. <br>\n",
    "Again we will use a grouped bar chart since it allows us to compare different age groups along with the voting behaviour of each of theese groups.\n",
    "\n",
    "Note beforehand: the unequal grouping of the age groups in terms of size is due to the data processing of the Bundeswahlleiter. Additionally, there is no other data openly available for that purpose from trustwortyh sources. Thus, in the following charts one has to be more carefull with interpretations.\n",
    "<br>"
   ]
  },
  {
   "cell_type": "code",
   "execution_count": 13,
   "metadata": {
    "executionInfo": {
     "elapsed": 725,
     "status": "ok",
     "timestamp": 1657274569610,
     "user": {
      "displayName": "dl So",
      "userId": "09890886767013636828"
     },
     "user_tz": -120
    },
    "id": "se7JMYAXPY1C"
   },
   "outputs": [],
   "source": [
    "age_voters = pd.read_csv('data/btw17_erg_nachAlter_erstUzweit_Bund.csv', sep=';')\n",
    "#age_voters"
   ]
  },
  {
   "cell_type": "code",
   "execution_count": 14,
   "metadata": {
    "executionInfo": {
     "elapsed": 3,
     "status": "ok",
     "timestamp": 1657274570384,
     "user": {
      "displayName": "dl So",
      "userId": "09890886767013636828"
     },
     "user_tz": -120
    },
    "id": "KBGlIWKtPY1D"
   },
   "outputs": [],
   "source": [
    "partei = ['CDU', 'CSU', 'SPD', 'AfD', 'FDP', 'DIE LINKE', 'GRÜNE']\n",
    "partei_norm = [p + '_norm' for p in partei]\n",
    "\n",
    "age_voters_norm = [[age_voters[p]/age_voters['Summe']] for p in partei]\n",
    "\n",
    "#normalization of the values (based on how many people in that group voted) to get rid of the number inbalances between the age groups\n",
    "age_voters['CDU_norm'] = age_voters['CDU']/age_voters['Summe']\n",
    "age_voters['CSU_norm'] = age_voters['CSU']/age_voters['Summe']\n",
    "age_voters['SPD_norm'] = age_voters['SPD']/age_voters['Summe']\n",
    "age_voters['AfD_norm'] = age_voters['AfD']/age_voters['Summe']\n",
    "age_voters['FDP_norm'] = age_voters['FDP']/age_voters['Summe']\n",
    "age_voters['DIE LINKE_norm'] = age_voters['DIE LINKE']/age_voters['Summe']\n",
    "age_voters['GRÜNE_norm'] = age_voters['GRÜNE']/age_voters['Summe']\n",
    "\n",
    "age_voters_l = [[age_voters.iloc[i][p] for p in partei] for i in range(1, 7)]\n",
    "\n",
    "#age_voters_norm_l = [[age_voters.iloc[i][p]/age_voters['Summe'][i] for p in partei] for i in range(1, 7)] #look whether i corrected it the right way\n",
    "age_voters_norm_l = [[age_voters.iloc[i][p] for p in partei_norm] for i in range(1, 7)]"
   ]
  },
  {
   "cell_type": "code",
   "execution_count": 15,
   "metadata": {
    "colab": {
     "base_uri": "https://localhost:8080/",
     "height": 542
    },
    "executionInfo": {
     "elapsed": 352,
     "status": "ok",
     "timestamp": 1657274571033,
     "user": {
      "displayName": "dl So",
      "userId": "09890886767013636828"
     },
     "user_tz": -120
    },
    "id": "H9W3W9d5PY1H",
    "outputId": "3c9addb5-464e-40e3-da9a-011bde67d7fe"
   },
   "outputs": [
    {
     "data": {
      "text/html": [
       "<html>\n",
       "<head><meta charset=\"utf-8\" /></head>\n",
       "<body>\n",
       "    <div>            <script src=\"https://cdnjs.cloudflare.com/ajax/libs/mathjax/2.7.5/MathJax.js?config=TeX-AMS-MML_SVG\"></script><script type=\"text/javascript\">if (window.MathJax) {MathJax.Hub.Config({SVG: {font: \"STIX-Web\"}});}</script>                <script type=\"text/javascript\">window.PlotlyConfig = {MathJaxConfig: 'local'};</script>\n",
       "        <script src=\"https://cdn.plot.ly/plotly-2.8.3.min.js\"></script>                <div id=\"c59c4b86-133b-429e-9993-88e39ac0e06d\" class=\"plotly-graph-div\" style=\"height:525px; width:100%;\"></div>            <script type=\"text/javascript\">                                    window.PLOTLYENV=window.PLOTLYENV || {};                                    if (document.getElementById(\"c59c4b86-133b-429e-9993-88e39ac0e06d\")) {                    Plotly.newPlot(                        \"c59c4b86-133b-429e-9993-88e39ac0e06d\",                        [{\"marker\":{\"color\":\"#000000\"},\"name\":\"CDU\",\"x\":[\"1993-1999\",\"1983-1992\",\"1973-1982\",\"1958-1972\",\"1948-1957\",\"1947 und fr\\u00fcher\"],\"y\":[0.24296660770883535,0.2504143029172323,0.2792643579817024,0.27378643539059094,0.3003415644423577,0.3946539341891731],\"type\":\"bar\"},{\"marker\":{\"color\":\"darkgray\"},\"name\":\"CSU\",\"x\":[\"1993-1999\",\"1983-1992\",\"1973-1982\",\"1958-1972\",\"1948-1957\",\"1947 und fr\\u00fcher\"],\"y\":[0.06512149665839674,0.06350867589797643,0.06844686947791552,0.06263610495941702,0.06738621765312458,0.08593846686454347],\"type\":\"bar\"},{\"marker\":{\"color\":\"#ec1b23\"},\"name\":\"SPD\",\"x\":[\"1993-1999\",\"1983-1992\",\"1973-1982\",\"1958-1972\",\"1948-1957\",\"1947 und fr\\u00fcher\"],\"y\":[0.24812294488432,0.2255713605212741,0.20350946835755263,0.2398411786383228,0.26555858726440507,0.2654407432427154],\"type\":\"bar\"},{\"marker\":{\"color\":\"#08c1ff\"},\"name\":\"AfD\",\"x\":[\"1993-1999\",\"1983-1992\",\"1973-1982\",\"1958-1972\",\"1948-1957\",\"1947 und fr\\u00fcher\"],\"y\":[0.06944005887869327,0.11652554124294684,0.13936914229482336,0.13655455618817236,0.11782198951246248,0.07245206202076926],\"type\":\"bar\"},{\"marker\":{\"color\":\"#fff203\"},\"name\":\"FDP\",\"x\":[\"1993-1999\",\"1983-1992\",\"1973-1982\",\"1958-1972\",\"1948-1957\",\"1947 und fr\\u00fcher\"],\"y\":[0.0863792571313256,0.07399585043072768,0.07388938455836493,0.0676707266051431,0.06568145011439426,0.06208419042716474],\"type\":\"bar\"},{\"marker\":{\"color\":\"#ff08c1\"},\"name\":\"DIE LINKE\",\"x\":[\"1993-1999\",\"1983-1992\",\"1973-1982\",\"1958-1972\",\"1948-1957\",\"1947 und fr\\u00fcher\"],\"y\":[0.0966913379470804,0.10453596500334539,0.08596113094859575,0.0840290078471611,0.09232066891880562,0.06109864387643376],\"type\":\"bar\"},{\"marker\":{\"color\":\"#71be43\"},\"name\":\"GR\\u00dcNE\",\"x\":[\"1993-1999\",\"1983-1992\",\"1973-1982\",\"1958-1972\",\"1948-1957\",\"1947 und fr\\u00fcher\"],\"y\":[0.1337246708847236,0.10460335286919155,0.09618134308656702,0.09313001045334945,0.058011621016202636,0.03023298698724957],\"type\":\"bar\"}],                        {\"template\":{\"data\":{\"bar\":[{\"error_x\":{\"color\":\"#2a3f5f\"},\"error_y\":{\"color\":\"#2a3f5f\"},\"marker\":{\"line\":{\"color\":\"#E5ECF6\",\"width\":0.5},\"pattern\":{\"fillmode\":\"overlay\",\"size\":10,\"solidity\":0.2}},\"type\":\"bar\"}],\"barpolar\":[{\"marker\":{\"line\":{\"color\":\"#E5ECF6\",\"width\":0.5},\"pattern\":{\"fillmode\":\"overlay\",\"size\":10,\"solidity\":0.2}},\"type\":\"barpolar\"}],\"carpet\":[{\"aaxis\":{\"endlinecolor\":\"#2a3f5f\",\"gridcolor\":\"white\",\"linecolor\":\"white\",\"minorgridcolor\":\"white\",\"startlinecolor\":\"#2a3f5f\"},\"baxis\":{\"endlinecolor\":\"#2a3f5f\",\"gridcolor\":\"white\",\"linecolor\":\"white\",\"minorgridcolor\":\"white\",\"startlinecolor\":\"#2a3f5f\"},\"type\":\"carpet\"}],\"choropleth\":[{\"colorbar\":{\"outlinewidth\":0,\"ticks\":\"\"},\"type\":\"choropleth\"}],\"contour\":[{\"colorbar\":{\"outlinewidth\":0,\"ticks\":\"\"},\"colorscale\":[[0.0,\"#0d0887\"],[0.1111111111111111,\"#46039f\"],[0.2222222222222222,\"#7201a8\"],[0.3333333333333333,\"#9c179e\"],[0.4444444444444444,\"#bd3786\"],[0.5555555555555556,\"#d8576b\"],[0.6666666666666666,\"#ed7953\"],[0.7777777777777778,\"#fb9f3a\"],[0.8888888888888888,\"#fdca26\"],[1.0,\"#f0f921\"]],\"type\":\"contour\"}],\"contourcarpet\":[{\"colorbar\":{\"outlinewidth\":0,\"ticks\":\"\"},\"type\":\"contourcarpet\"}],\"heatmap\":[{\"colorbar\":{\"outlinewidth\":0,\"ticks\":\"\"},\"colorscale\":[[0.0,\"#0d0887\"],[0.1111111111111111,\"#46039f\"],[0.2222222222222222,\"#7201a8\"],[0.3333333333333333,\"#9c179e\"],[0.4444444444444444,\"#bd3786\"],[0.5555555555555556,\"#d8576b\"],[0.6666666666666666,\"#ed7953\"],[0.7777777777777778,\"#fb9f3a\"],[0.8888888888888888,\"#fdca26\"],[1.0,\"#f0f921\"]],\"type\":\"heatmap\"}],\"heatmapgl\":[{\"colorbar\":{\"outlinewidth\":0,\"ticks\":\"\"},\"colorscale\":[[0.0,\"#0d0887\"],[0.1111111111111111,\"#46039f\"],[0.2222222222222222,\"#7201a8\"],[0.3333333333333333,\"#9c179e\"],[0.4444444444444444,\"#bd3786\"],[0.5555555555555556,\"#d8576b\"],[0.6666666666666666,\"#ed7953\"],[0.7777777777777778,\"#fb9f3a\"],[0.8888888888888888,\"#fdca26\"],[1.0,\"#f0f921\"]],\"type\":\"heatmapgl\"}],\"histogram\":[{\"marker\":{\"pattern\":{\"fillmode\":\"overlay\",\"size\":10,\"solidity\":0.2}},\"type\":\"histogram\"}],\"histogram2d\":[{\"colorbar\":{\"outlinewidth\":0,\"ticks\":\"\"},\"colorscale\":[[0.0,\"#0d0887\"],[0.1111111111111111,\"#46039f\"],[0.2222222222222222,\"#7201a8\"],[0.3333333333333333,\"#9c179e\"],[0.4444444444444444,\"#bd3786\"],[0.5555555555555556,\"#d8576b\"],[0.6666666666666666,\"#ed7953\"],[0.7777777777777778,\"#fb9f3a\"],[0.8888888888888888,\"#fdca26\"],[1.0,\"#f0f921\"]],\"type\":\"histogram2d\"}],\"histogram2dcontour\":[{\"colorbar\":{\"outlinewidth\":0,\"ticks\":\"\"},\"colorscale\":[[0.0,\"#0d0887\"],[0.1111111111111111,\"#46039f\"],[0.2222222222222222,\"#7201a8\"],[0.3333333333333333,\"#9c179e\"],[0.4444444444444444,\"#bd3786\"],[0.5555555555555556,\"#d8576b\"],[0.6666666666666666,\"#ed7953\"],[0.7777777777777778,\"#fb9f3a\"],[0.8888888888888888,\"#fdca26\"],[1.0,\"#f0f921\"]],\"type\":\"histogram2dcontour\"}],\"mesh3d\":[{\"colorbar\":{\"outlinewidth\":0,\"ticks\":\"\"},\"type\":\"mesh3d\"}],\"parcoords\":[{\"line\":{\"colorbar\":{\"outlinewidth\":0,\"ticks\":\"\"}},\"type\":\"parcoords\"}],\"pie\":[{\"automargin\":true,\"type\":\"pie\"}],\"scatter\":[{\"marker\":{\"colorbar\":{\"outlinewidth\":0,\"ticks\":\"\"}},\"type\":\"scatter\"}],\"scatter3d\":[{\"line\":{\"colorbar\":{\"outlinewidth\":0,\"ticks\":\"\"}},\"marker\":{\"colorbar\":{\"outlinewidth\":0,\"ticks\":\"\"}},\"type\":\"scatter3d\"}],\"scattercarpet\":[{\"marker\":{\"colorbar\":{\"outlinewidth\":0,\"ticks\":\"\"}},\"type\":\"scattercarpet\"}],\"scattergeo\":[{\"marker\":{\"colorbar\":{\"outlinewidth\":0,\"ticks\":\"\"}},\"type\":\"scattergeo\"}],\"scattergl\":[{\"marker\":{\"colorbar\":{\"outlinewidth\":0,\"ticks\":\"\"}},\"type\":\"scattergl\"}],\"scattermapbox\":[{\"marker\":{\"colorbar\":{\"outlinewidth\":0,\"ticks\":\"\"}},\"type\":\"scattermapbox\"}],\"scatterpolar\":[{\"marker\":{\"colorbar\":{\"outlinewidth\":0,\"ticks\":\"\"}},\"type\":\"scatterpolar\"}],\"scatterpolargl\":[{\"marker\":{\"colorbar\":{\"outlinewidth\":0,\"ticks\":\"\"}},\"type\":\"scatterpolargl\"}],\"scatterternary\":[{\"marker\":{\"colorbar\":{\"outlinewidth\":0,\"ticks\":\"\"}},\"type\":\"scatterternary\"}],\"surface\":[{\"colorbar\":{\"outlinewidth\":0,\"ticks\":\"\"},\"colorscale\":[[0.0,\"#0d0887\"],[0.1111111111111111,\"#46039f\"],[0.2222222222222222,\"#7201a8\"],[0.3333333333333333,\"#9c179e\"],[0.4444444444444444,\"#bd3786\"],[0.5555555555555556,\"#d8576b\"],[0.6666666666666666,\"#ed7953\"],[0.7777777777777778,\"#fb9f3a\"],[0.8888888888888888,\"#fdca26\"],[1.0,\"#f0f921\"]],\"type\":\"surface\"}],\"table\":[{\"cells\":{\"fill\":{\"color\":\"#EBF0F8\"},\"line\":{\"color\":\"white\"}},\"header\":{\"fill\":{\"color\":\"#C8D4E3\"},\"line\":{\"color\":\"white\"}},\"type\":\"table\"}]},\"layout\":{\"annotationdefaults\":{\"arrowcolor\":\"#2a3f5f\",\"arrowhead\":0,\"arrowwidth\":1},\"autotypenumbers\":\"strict\",\"coloraxis\":{\"colorbar\":{\"outlinewidth\":0,\"ticks\":\"\"}},\"colorscale\":{\"diverging\":[[0,\"#8e0152\"],[0.1,\"#c51b7d\"],[0.2,\"#de77ae\"],[0.3,\"#f1b6da\"],[0.4,\"#fde0ef\"],[0.5,\"#f7f7f7\"],[0.6,\"#e6f5d0\"],[0.7,\"#b8e186\"],[0.8,\"#7fbc41\"],[0.9,\"#4d9221\"],[1,\"#276419\"]],\"sequential\":[[0.0,\"#0d0887\"],[0.1111111111111111,\"#46039f\"],[0.2222222222222222,\"#7201a8\"],[0.3333333333333333,\"#9c179e\"],[0.4444444444444444,\"#bd3786\"],[0.5555555555555556,\"#d8576b\"],[0.6666666666666666,\"#ed7953\"],[0.7777777777777778,\"#fb9f3a\"],[0.8888888888888888,\"#fdca26\"],[1.0,\"#f0f921\"]],\"sequentialminus\":[[0.0,\"#0d0887\"],[0.1111111111111111,\"#46039f\"],[0.2222222222222222,\"#7201a8\"],[0.3333333333333333,\"#9c179e\"],[0.4444444444444444,\"#bd3786\"],[0.5555555555555556,\"#d8576b\"],[0.6666666666666666,\"#ed7953\"],[0.7777777777777778,\"#fb9f3a\"],[0.8888888888888888,\"#fdca26\"],[1.0,\"#f0f921\"]]},\"colorway\":[\"#636efa\",\"#EF553B\",\"#00cc96\",\"#ab63fa\",\"#FFA15A\",\"#19d3f3\",\"#FF6692\",\"#B6E880\",\"#FF97FF\",\"#FECB52\"],\"font\":{\"color\":\"#2a3f5f\"},\"geo\":{\"bgcolor\":\"white\",\"lakecolor\":\"white\",\"landcolor\":\"#E5ECF6\",\"showlakes\":true,\"showland\":true,\"subunitcolor\":\"white\"},\"hoverlabel\":{\"align\":\"left\"},\"hovermode\":\"closest\",\"mapbox\":{\"style\":\"light\"},\"paper_bgcolor\":\"white\",\"plot_bgcolor\":\"#E5ECF6\",\"polar\":{\"angularaxis\":{\"gridcolor\":\"white\",\"linecolor\":\"white\",\"ticks\":\"\"},\"bgcolor\":\"#E5ECF6\",\"radialaxis\":{\"gridcolor\":\"white\",\"linecolor\":\"white\",\"ticks\":\"\"}},\"scene\":{\"xaxis\":{\"backgroundcolor\":\"#E5ECF6\",\"gridcolor\":\"white\",\"gridwidth\":2,\"linecolor\":\"white\",\"showbackground\":true,\"ticks\":\"\",\"zerolinecolor\":\"white\"},\"yaxis\":{\"backgroundcolor\":\"#E5ECF6\",\"gridcolor\":\"white\",\"gridwidth\":2,\"linecolor\":\"white\",\"showbackground\":true,\"ticks\":\"\",\"zerolinecolor\":\"white\"},\"zaxis\":{\"backgroundcolor\":\"#E5ECF6\",\"gridcolor\":\"white\",\"gridwidth\":2,\"linecolor\":\"white\",\"showbackground\":true,\"ticks\":\"\",\"zerolinecolor\":\"white\"}},\"shapedefaults\":{\"line\":{\"color\":\"#2a3f5f\"}},\"ternary\":{\"aaxis\":{\"gridcolor\":\"white\",\"linecolor\":\"white\",\"ticks\":\"\"},\"baxis\":{\"gridcolor\":\"white\",\"linecolor\":\"white\",\"ticks\":\"\"},\"bgcolor\":\"#E5ECF6\",\"caxis\":{\"gridcolor\":\"white\",\"linecolor\":\"white\",\"ticks\":\"\"}},\"title\":{\"x\":0.05},\"xaxis\":{\"automargin\":true,\"gridcolor\":\"white\",\"linecolor\":\"white\",\"ticks\":\"\",\"title\":{\"standoff\":15},\"zerolinecolor\":\"white\",\"zerolinewidth\":2},\"yaxis\":{\"automargin\":true,\"gridcolor\":\"white\",\"linecolor\":\"white\",\"ticks\":\"\",\"title\":{\"standoff\":15},\"zerolinecolor\":\"white\",\"zerolinewidth\":2}}},\"title\":{\"text\":\"first vote distribution per age group\"},\"plot_bgcolor\":\"white\",\"yaxis\":{\"title\":{\"text\":\"percentage\"},\"showgrid\":true,\"gridwidth\":1,\"gridcolor\":\"#efefef\",\"zeroline\":true},\"xaxis\":{\"title\":{\"text\":\"age group\"}}},                        {\"responsive\": true}                    ).then(function(){\n",
       "                            \n",
       "var gd = document.getElementById('c59c4b86-133b-429e-9993-88e39ac0e06d');\n",
       "var x = new MutationObserver(function (mutations, observer) {{\n",
       "        var display = window.getComputedStyle(gd).display;\n",
       "        if (!display || display === 'none') {{\n",
       "            console.log([gd, 'removed!']);\n",
       "            Plotly.purge(gd);\n",
       "            observer.disconnect();\n",
       "        }}\n",
       "}});\n",
       "\n",
       "// Listen for the removal of the full notebook cells\n",
       "var notebookContainer = gd.closest('#notebook-container');\n",
       "if (notebookContainer) {{\n",
       "    x.observe(notebookContainer, {childList: true});\n",
       "}}\n",
       "\n",
       "// Listen for the clearing of the current output cell\n",
       "var outputEl = gd.closest('.output');\n",
       "if (outputEl) {{\n",
       "    x.observe(outputEl, {childList: true});\n",
       "}}\n",
       "\n",
       "                        })                };                            </script>        </div>\n",
       "</body>\n",
       "</html>"
      ]
     },
     "metadata": {},
     "output_type": "display_data"
    }
   ],
   "source": [
    "age_generations = ['1993-1999', '1983-1992', '1973-1982', '1958-1972', '1948-1957', '1947 und früher']\n",
    "fig = go.Figure(data=[\n",
    "    go.Bar(name='CDU', x=age_generations, y=age_voters['CDU_norm'][1:7], marker_color=colors_parties['CDU/CSU']),\n",
    "    go.Bar(name='CSU', x=age_generations, y=age_voters['CSU_norm'][1:7], marker_color='darkgray'),\n",
    "    go.Bar(name='SPD', x=age_generations, y=age_voters['SPD_norm'][1:7], marker_color=colors_parties['SPD']),\n",
    "    go.Bar(name='AfD', x=age_generations, y=age_voters['AfD_norm'][1:7], marker_color=colors_parties['AFD']),\n",
    "    go.Bar(name='FDP', x=age_generations, y=age_voters['FDP_norm'][1:7], marker_color=colors_parties['FDP']),\n",
    "    go.Bar(name='DIE LINKE', x=age_generations, y=age_voters['DIE LINKE_norm'][1:7], marker_color=colors_parties['DIE LINKE']),\n",
    "    go.Bar(name='GRÜNE', x=age_generations, y=age_voters['GRÜNE_norm'][1:7], marker_color=colors_parties['BÜNDNIS 90/DIE GRÜNEN']),\n",
    "\n",
    "])\n",
    "\n",
    "fig.update_layout(\n",
    "    title = 'first vote distribution per age group',\n",
    "    plot_bgcolor=\"white\"\n",
    ")\n",
    "fig.update_yaxes(showgrid=True, gridwidth=1, gridcolor='#efefef', zeroline=True, title_text='percentage')\n",
    "fig.update_xaxes(title_text='age group')\n",
    "\n",
    "fig.show() #aadd xlabel geburtsjahr"
   ]
  },
  {
   "cell_type": "markdown",
   "metadata": {
    "id": "YdqNSO5V0H78"
   },
   "source": [
    "The visualization above shows multiple things about the first votes. Firstly, the <i>CDU</i> got the most votes in each of the age groups with the SPD being the second most voted for party. Whereas the <i>SPD</i> scored around 25% of votes in each of the formed age groups, the <i>CDU</i> got more votes with the increasing ages of the voters. Secondly it can be observed, that <i>Die Grünen</i> have more voters in younger age groups than older age groups. The same holds true for <i> Die Linke</i>, but they have more voters in older age groups than <i> Die Grünen </i> have. The votes obtained by the <i>FDP</i> get slightly less for older age groups. Compared to that the <i>AFD</i> has the most voters in middle-ages age groups. Interestingly, when ignoring <i>SPD</i> and <i> CDU </i> the order of the parties based on the amount of votes is reversed between the youngest and oldest age group. "
   ]
  },
  {
   "cell_type": "code",
   "execution_count": 16,
   "metadata": {
    "colab": {
     "base_uri": "https://localhost:8080/",
     "height": 542
    },
    "executionInfo": {
     "elapsed": 244,
     "status": "ok",
     "timestamp": 1657274780752,
     "user": {
      "displayName": "dl So",
      "userId": "09890886767013636828"
     },
     "user_tz": -120
    },
    "id": "vtYSkg6kzFNf",
    "outputId": "fffd3b35-a72e-488d-ecb0-b57527c6e83c"
   },
   "outputs": [
    {
     "data": {
      "text/html": [
       "<html>\n",
       "<head><meta charset=\"utf-8\" /></head>\n",
       "<body>\n",
       "    <div>            <script src=\"https://cdnjs.cloudflare.com/ajax/libs/mathjax/2.7.5/MathJax.js?config=TeX-AMS-MML_SVG\"></script><script type=\"text/javascript\">if (window.MathJax) {MathJax.Hub.Config({SVG: {font: \"STIX-Web\"}});}</script>                <script type=\"text/javascript\">window.PlotlyConfig = {MathJaxConfig: 'local'};</script>\n",
       "        <script src=\"https://cdn.plot.ly/plotly-2.8.3.min.js\"></script>                <div id=\"b4113ba1-4424-491e-a02e-25e41f752bbe\" class=\"plotly-graph-div\" style=\"height:525px; width:100%;\"></div>            <script type=\"text/javascript\">                                    window.PLOTLYENV=window.PLOTLYENV || {};                                    if (document.getElementById(\"b4113ba1-4424-491e-a02e-25e41f752bbe\")) {                    Plotly.newPlot(                        \"b4113ba1-4424-491e-a02e-25e41f752bbe\",                        [{\"marker\":{\"color\":\"#000000\"},\"name\":\"CDU\",\"x\":[\"1993-1999\",\"1983-1992\",\"1973-1982\",\"1958-1972\",\"1948-1957\",\"1947 und fr\\u00fcher\"],\"y\":[0.19753000320509015,0.21295724612449404,0.2438756449858911,0.24608617298989288,0.26873687709204486,0.3581928233955676],\"type\":\"bar\"},{\"marker\":{\"color\":\"darkgray\"},\"name\":\"CSU\",\"x\":[\"1993-1999\",\"1983-1992\",\"1973-1982\",\"1958-1972\",\"1948-1957\",\"1947 und fr\\u00fcher\"],\"y\":[0.05091582483588751,0.05341225164384172,0.05840490565043933,0.05556836468272407,0.06013988322829807,0.07973994645896043],\"type\":\"bar\"},{\"marker\":{\"color\":\"#ec1b23\"},\"name\":\"SPD\",\"x\":[\"1993-1999\",\"1983-1992\",\"1973-1982\",\"1958-1972\",\"1948-1957\",\"1947 und fr\\u00fcher\"],\"y\":[0.18268153274533777,0.16975152421583786,0.15535496464902426,0.19734212327652476,0.23081512585707953,0.24760222732698148],\"type\":\"bar\"},{\"marker\":{\"color\":\"#08c1ff\"},\"name\":\"AfD\",\"x\":[\"1993-1999\",\"1983-1992\",\"1973-1982\",\"1958-1972\",\"1948-1957\",\"1947 und fr\\u00fcher\"],\"y\":[0.0792241901211999,0.1276263261708476,0.1531265395997089,0.15022524385101424,0.13062717897303452,0.08130728206654762],\"type\":\"bar\"},{\"marker\":{\"color\":\"#fff203\"},\"name\":\"FDP\",\"x\":[\"1993-1999\",\"1983-1992\",\"1973-1982\",\"1958-1972\",\"1948-1957\",\"1947 und fr\\u00fcher\"],\"y\":[0.1309549388065194,0.11315101521392833,0.11319618811973405,0.10221707430226999,0.10202660009299205,0.09891616604711957],\"type\":\"bar\"},{\"marker\":{\"color\":\"#ff08c1\"},\"name\":\"DIE LINKE\",\"x\":[\"1993-1999\",\"1983-1992\",\"1973-1982\",\"1958-1972\",\"1948-1957\",\"1947 und fr\\u00fcher\"],\"y\":[0.1037873482033689,0.1087734530883594,0.0905085504590456,0.09191101583579339,0.10404853368543965,0.06653456834335669],\"type\":\"bar\"},{\"marker\":{\"color\":\"#71be43\"},\"name\":\"GR\\u00dcNE\",\"x\":[\"1993-1999\",\"1983-1992\",\"1973-1982\",\"1958-1972\",\"1948-1957\",\"1947 und fr\\u00fcher\"],\"y\":[0.14490539048681758,0.11027817280533699,0.10883841838828841,0.10400992899352761,0.06746277945871454,0.036973208511142185],\"type\":\"bar\"}],                        {\"template\":{\"data\":{\"bar\":[{\"error_x\":{\"color\":\"#2a3f5f\"},\"error_y\":{\"color\":\"#2a3f5f\"},\"marker\":{\"line\":{\"color\":\"#E5ECF6\",\"width\":0.5},\"pattern\":{\"fillmode\":\"overlay\",\"size\":10,\"solidity\":0.2}},\"type\":\"bar\"}],\"barpolar\":[{\"marker\":{\"line\":{\"color\":\"#E5ECF6\",\"width\":0.5},\"pattern\":{\"fillmode\":\"overlay\",\"size\":10,\"solidity\":0.2}},\"type\":\"barpolar\"}],\"carpet\":[{\"aaxis\":{\"endlinecolor\":\"#2a3f5f\",\"gridcolor\":\"white\",\"linecolor\":\"white\",\"minorgridcolor\":\"white\",\"startlinecolor\":\"#2a3f5f\"},\"baxis\":{\"endlinecolor\":\"#2a3f5f\",\"gridcolor\":\"white\",\"linecolor\":\"white\",\"minorgridcolor\":\"white\",\"startlinecolor\":\"#2a3f5f\"},\"type\":\"carpet\"}],\"choropleth\":[{\"colorbar\":{\"outlinewidth\":0,\"ticks\":\"\"},\"type\":\"choropleth\"}],\"contour\":[{\"colorbar\":{\"outlinewidth\":0,\"ticks\":\"\"},\"colorscale\":[[0.0,\"#0d0887\"],[0.1111111111111111,\"#46039f\"],[0.2222222222222222,\"#7201a8\"],[0.3333333333333333,\"#9c179e\"],[0.4444444444444444,\"#bd3786\"],[0.5555555555555556,\"#d8576b\"],[0.6666666666666666,\"#ed7953\"],[0.7777777777777778,\"#fb9f3a\"],[0.8888888888888888,\"#fdca26\"],[1.0,\"#f0f921\"]],\"type\":\"contour\"}],\"contourcarpet\":[{\"colorbar\":{\"outlinewidth\":0,\"ticks\":\"\"},\"type\":\"contourcarpet\"}],\"heatmap\":[{\"colorbar\":{\"outlinewidth\":0,\"ticks\":\"\"},\"colorscale\":[[0.0,\"#0d0887\"],[0.1111111111111111,\"#46039f\"],[0.2222222222222222,\"#7201a8\"],[0.3333333333333333,\"#9c179e\"],[0.4444444444444444,\"#bd3786\"],[0.5555555555555556,\"#d8576b\"],[0.6666666666666666,\"#ed7953\"],[0.7777777777777778,\"#fb9f3a\"],[0.8888888888888888,\"#fdca26\"],[1.0,\"#f0f921\"]],\"type\":\"heatmap\"}],\"heatmapgl\":[{\"colorbar\":{\"outlinewidth\":0,\"ticks\":\"\"},\"colorscale\":[[0.0,\"#0d0887\"],[0.1111111111111111,\"#46039f\"],[0.2222222222222222,\"#7201a8\"],[0.3333333333333333,\"#9c179e\"],[0.4444444444444444,\"#bd3786\"],[0.5555555555555556,\"#d8576b\"],[0.6666666666666666,\"#ed7953\"],[0.7777777777777778,\"#fb9f3a\"],[0.8888888888888888,\"#fdca26\"],[1.0,\"#f0f921\"]],\"type\":\"heatmapgl\"}],\"histogram\":[{\"marker\":{\"pattern\":{\"fillmode\":\"overlay\",\"size\":10,\"solidity\":0.2}},\"type\":\"histogram\"}],\"histogram2d\":[{\"colorbar\":{\"outlinewidth\":0,\"ticks\":\"\"},\"colorscale\":[[0.0,\"#0d0887\"],[0.1111111111111111,\"#46039f\"],[0.2222222222222222,\"#7201a8\"],[0.3333333333333333,\"#9c179e\"],[0.4444444444444444,\"#bd3786\"],[0.5555555555555556,\"#d8576b\"],[0.6666666666666666,\"#ed7953\"],[0.7777777777777778,\"#fb9f3a\"],[0.8888888888888888,\"#fdca26\"],[1.0,\"#f0f921\"]],\"type\":\"histogram2d\"}],\"histogram2dcontour\":[{\"colorbar\":{\"outlinewidth\":0,\"ticks\":\"\"},\"colorscale\":[[0.0,\"#0d0887\"],[0.1111111111111111,\"#46039f\"],[0.2222222222222222,\"#7201a8\"],[0.3333333333333333,\"#9c179e\"],[0.4444444444444444,\"#bd3786\"],[0.5555555555555556,\"#d8576b\"],[0.6666666666666666,\"#ed7953\"],[0.7777777777777778,\"#fb9f3a\"],[0.8888888888888888,\"#fdca26\"],[1.0,\"#f0f921\"]],\"type\":\"histogram2dcontour\"}],\"mesh3d\":[{\"colorbar\":{\"outlinewidth\":0,\"ticks\":\"\"},\"type\":\"mesh3d\"}],\"parcoords\":[{\"line\":{\"colorbar\":{\"outlinewidth\":0,\"ticks\":\"\"}},\"type\":\"parcoords\"}],\"pie\":[{\"automargin\":true,\"type\":\"pie\"}],\"scatter\":[{\"marker\":{\"colorbar\":{\"outlinewidth\":0,\"ticks\":\"\"}},\"type\":\"scatter\"}],\"scatter3d\":[{\"line\":{\"colorbar\":{\"outlinewidth\":0,\"ticks\":\"\"}},\"marker\":{\"colorbar\":{\"outlinewidth\":0,\"ticks\":\"\"}},\"type\":\"scatter3d\"}],\"scattercarpet\":[{\"marker\":{\"colorbar\":{\"outlinewidth\":0,\"ticks\":\"\"}},\"type\":\"scattercarpet\"}],\"scattergeo\":[{\"marker\":{\"colorbar\":{\"outlinewidth\":0,\"ticks\":\"\"}},\"type\":\"scattergeo\"}],\"scattergl\":[{\"marker\":{\"colorbar\":{\"outlinewidth\":0,\"ticks\":\"\"}},\"type\":\"scattergl\"}],\"scattermapbox\":[{\"marker\":{\"colorbar\":{\"outlinewidth\":0,\"ticks\":\"\"}},\"type\":\"scattermapbox\"}],\"scatterpolar\":[{\"marker\":{\"colorbar\":{\"outlinewidth\":0,\"ticks\":\"\"}},\"type\":\"scatterpolar\"}],\"scatterpolargl\":[{\"marker\":{\"colorbar\":{\"outlinewidth\":0,\"ticks\":\"\"}},\"type\":\"scatterpolargl\"}],\"scatterternary\":[{\"marker\":{\"colorbar\":{\"outlinewidth\":0,\"ticks\":\"\"}},\"type\":\"scatterternary\"}],\"surface\":[{\"colorbar\":{\"outlinewidth\":0,\"ticks\":\"\"},\"colorscale\":[[0.0,\"#0d0887\"],[0.1111111111111111,\"#46039f\"],[0.2222222222222222,\"#7201a8\"],[0.3333333333333333,\"#9c179e\"],[0.4444444444444444,\"#bd3786\"],[0.5555555555555556,\"#d8576b\"],[0.6666666666666666,\"#ed7953\"],[0.7777777777777778,\"#fb9f3a\"],[0.8888888888888888,\"#fdca26\"],[1.0,\"#f0f921\"]],\"type\":\"surface\"}],\"table\":[{\"cells\":{\"fill\":{\"color\":\"#EBF0F8\"},\"line\":{\"color\":\"white\"}},\"header\":{\"fill\":{\"color\":\"#C8D4E3\"},\"line\":{\"color\":\"white\"}},\"type\":\"table\"}]},\"layout\":{\"annotationdefaults\":{\"arrowcolor\":\"#2a3f5f\",\"arrowhead\":0,\"arrowwidth\":1},\"autotypenumbers\":\"strict\",\"coloraxis\":{\"colorbar\":{\"outlinewidth\":0,\"ticks\":\"\"}},\"colorscale\":{\"diverging\":[[0,\"#8e0152\"],[0.1,\"#c51b7d\"],[0.2,\"#de77ae\"],[0.3,\"#f1b6da\"],[0.4,\"#fde0ef\"],[0.5,\"#f7f7f7\"],[0.6,\"#e6f5d0\"],[0.7,\"#b8e186\"],[0.8,\"#7fbc41\"],[0.9,\"#4d9221\"],[1,\"#276419\"]],\"sequential\":[[0.0,\"#0d0887\"],[0.1111111111111111,\"#46039f\"],[0.2222222222222222,\"#7201a8\"],[0.3333333333333333,\"#9c179e\"],[0.4444444444444444,\"#bd3786\"],[0.5555555555555556,\"#d8576b\"],[0.6666666666666666,\"#ed7953\"],[0.7777777777777778,\"#fb9f3a\"],[0.8888888888888888,\"#fdca26\"],[1.0,\"#f0f921\"]],\"sequentialminus\":[[0.0,\"#0d0887\"],[0.1111111111111111,\"#46039f\"],[0.2222222222222222,\"#7201a8\"],[0.3333333333333333,\"#9c179e\"],[0.4444444444444444,\"#bd3786\"],[0.5555555555555556,\"#d8576b\"],[0.6666666666666666,\"#ed7953\"],[0.7777777777777778,\"#fb9f3a\"],[0.8888888888888888,\"#fdca26\"],[1.0,\"#f0f921\"]]},\"colorway\":[\"#636efa\",\"#EF553B\",\"#00cc96\",\"#ab63fa\",\"#FFA15A\",\"#19d3f3\",\"#FF6692\",\"#B6E880\",\"#FF97FF\",\"#FECB52\"],\"font\":{\"color\":\"#2a3f5f\"},\"geo\":{\"bgcolor\":\"white\",\"lakecolor\":\"white\",\"landcolor\":\"#E5ECF6\",\"showlakes\":true,\"showland\":true,\"subunitcolor\":\"white\"},\"hoverlabel\":{\"align\":\"left\"},\"hovermode\":\"closest\",\"mapbox\":{\"style\":\"light\"},\"paper_bgcolor\":\"white\",\"plot_bgcolor\":\"#E5ECF6\",\"polar\":{\"angularaxis\":{\"gridcolor\":\"white\",\"linecolor\":\"white\",\"ticks\":\"\"},\"bgcolor\":\"#E5ECF6\",\"radialaxis\":{\"gridcolor\":\"white\",\"linecolor\":\"white\",\"ticks\":\"\"}},\"scene\":{\"xaxis\":{\"backgroundcolor\":\"#E5ECF6\",\"gridcolor\":\"white\",\"gridwidth\":2,\"linecolor\":\"white\",\"showbackground\":true,\"ticks\":\"\",\"zerolinecolor\":\"white\"},\"yaxis\":{\"backgroundcolor\":\"#E5ECF6\",\"gridcolor\":\"white\",\"gridwidth\":2,\"linecolor\":\"white\",\"showbackground\":true,\"ticks\":\"\",\"zerolinecolor\":\"white\"},\"zaxis\":{\"backgroundcolor\":\"#E5ECF6\",\"gridcolor\":\"white\",\"gridwidth\":2,\"linecolor\":\"white\",\"showbackground\":true,\"ticks\":\"\",\"zerolinecolor\":\"white\"}},\"shapedefaults\":{\"line\":{\"color\":\"#2a3f5f\"}},\"ternary\":{\"aaxis\":{\"gridcolor\":\"white\",\"linecolor\":\"white\",\"ticks\":\"\"},\"baxis\":{\"gridcolor\":\"white\",\"linecolor\":\"white\",\"ticks\":\"\"},\"bgcolor\":\"#E5ECF6\",\"caxis\":{\"gridcolor\":\"white\",\"linecolor\":\"white\",\"ticks\":\"\"}},\"title\":{\"x\":0.05},\"xaxis\":{\"automargin\":true,\"gridcolor\":\"white\",\"linecolor\":\"white\",\"ticks\":\"\",\"title\":{\"standoff\":15},\"zerolinecolor\":\"white\",\"zerolinewidth\":2},\"yaxis\":{\"automargin\":true,\"gridcolor\":\"white\",\"linecolor\":\"white\",\"ticks\":\"\",\"title\":{\"standoff\":15},\"zerolinecolor\":\"white\",\"zerolinewidth\":2}}},\"title\":{\"text\":\"second vote distribution per age group\"},\"plot_bgcolor\":\"white\",\"yaxis\":{\"title\":{\"text\":\"percentage\"},\"showgrid\":true,\"gridwidth\":1,\"gridcolor\":\"#efefef\",\"zeroline\":true},\"xaxis\":{\"title\":{\"text\":\"age group\"}}},                        {\"responsive\": true}                    ).then(function(){\n",
       "                            \n",
       "var gd = document.getElementById('b4113ba1-4424-491e-a02e-25e41f752bbe');\n",
       "var x = new MutationObserver(function (mutations, observer) {{\n",
       "        var display = window.getComputedStyle(gd).display;\n",
       "        if (!display || display === 'none') {{\n",
       "            console.log([gd, 'removed!']);\n",
       "            Plotly.purge(gd);\n",
       "            observer.disconnect();\n",
       "        }}\n",
       "}});\n",
       "\n",
       "// Listen for the removal of the full notebook cells\n",
       "var notebookContainer = gd.closest('#notebook-container');\n",
       "if (notebookContainer) {{\n",
       "    x.observe(notebookContainer, {childList: true});\n",
       "}}\n",
       "\n",
       "// Listen for the clearing of the current output cell\n",
       "var outputEl = gd.closest('.output');\n",
       "if (outputEl) {{\n",
       "    x.observe(outputEl, {childList: true});\n",
       "}}\n",
       "\n",
       "                        })                };                            </script>        </div>\n",
       "</body>\n",
       "</html>"
      ]
     },
     "metadata": {},
     "output_type": "display_data"
    }
   ],
   "source": [
    "age_generations = ['1993-1999', '1983-1992', '1973-1982', '1958-1972', '1948-1957', '1947 und früher']\n",
    "fig = go.Figure(data=[\n",
    "    go.Bar(name='CDU', x=age_generations, y=age_voters['CDU_norm'][8:14], marker_color=colors_parties['CDU/CSU']),\n",
    "    go.Bar(name='CSU', x=age_generations, y=age_voters['CSU_norm'][8:14], marker_color='darkgray'),\n",
    "    go.Bar(name='SPD', x=age_generations, y=age_voters['SPD_norm'][8:14], marker_color=colors_parties['SPD']),\n",
    "    go.Bar(name='AfD', x=age_generations, y=age_voters['AfD_norm'][8:14], marker_color=colors_parties['AFD']),\n",
    "    go.Bar(name='FDP', x=age_generations, y=age_voters['FDP_norm'][8:14], marker_color=colors_parties['FDP']),\n",
    "    go.Bar(name='DIE LINKE', x=age_generations, y=age_voters['DIE LINKE_norm'][8:14], marker_color=colors_parties['DIE LINKE']),\n",
    "    go.Bar(name='GRÜNE', x=age_generations, y=age_voters['GRÜNE_norm'][8:14], marker_color=colors_parties['BÜNDNIS 90/DIE GRÜNEN']),\n",
    "\n",
    "])\n",
    "\n",
    "fig.update_layout(\n",
    "    title = 'second vote distribution per age group',\n",
    "    plot_bgcolor=\"white\"\n",
    ")\n",
    "fig.update_yaxes(showgrid=True, gridwidth=1, gridcolor='#efefef', zeroline=True,\n",
    "                 title_text='percentage')\n",
    "fig.update_xaxes(title_text='age group')\n",
    "\n",
    "fig.show()"
   ]
  },
  {
   "cell_type": "markdown",
   "metadata": {
    "id": "DTQbcIHZPY1G"
   },
   "source": [
    "This grouped bar chart shows the behaviour of second votes, which can be used to\n",
    "compared it to the chart above and see some similarities between the voting behavior for first and second votes. For the second vote the general observations from above still hold true, but neither <i>SPD</i> nor <i>CDU</i> have as big of a lead as with the first votes, but they are still the most voted for parties. The biggest knowledge gain from comparing the charts for first and second votes is, that more voters supported smaller parties with their second vote compared to their first vote. To put the results of this in perspective it is important to be aware of the different amounts of people per age group. The bar chart below shows this visually. Unsurprinsingly the age group 1958-1972 had the most number of active voters for the 2017 election. Nonetheless a clear trend, that more people are in older age groups is visible. The in comparison low number of voters of the youngest age group can partly be explained by the range of birth years being smaller than for all other formed age groups. In context of the charts shown above, this means that the depicted voting behaviour of older age groups has a bigger impact on the overall result than that of younger age groups."
   ]
  },
  {
   "cell_type": "code",
   "execution_count": null,
   "metadata": {
    "colab": {
     "base_uri": "https://localhost:8080/",
     "height": 542
    },
    "executionInfo": {
     "elapsed": 361,
     "status": "ok",
     "timestamp": 1657218213328,
     "user": {
      "displayName": "dl So",
      "userId": "09890886767013636828"
     },
     "user_tz": -120
    },
    "id": "Z-X76RyFCM1k",
    "outputId": "8744c50b-d6c0-4eb1-de35-8af954975abb"
   },
   "outputs": [
    {
     "data": {
      "text/html": [
       "<html>\n",
       "<head><meta charset=\"utf-8\" /></head>\n",
       "<body>\n",
       "    <div>            <script src=\"https://cdnjs.cloudflare.com/ajax/libs/mathjax/2.7.5/MathJax.js?config=TeX-AMS-MML_SVG\"></script><script type=\"text/javascript\">if (window.MathJax) {MathJax.Hub.Config({SVG: {font: \"STIX-Web\"}});}</script>                <script type=\"text/javascript\">window.PlotlyConfig = {MathJaxConfig: 'local'};</script>\n",
       "        <script src=\"https://cdn.plot.ly/plotly-2.8.3.min.js\"></script>                <div id=\"015ea0a2-308e-4774-8c9c-61c8f4ee8b53\" class=\"plotly-graph-div\" style=\"height:525px; width:100%;\"></div>            <script type=\"text/javascript\">                                    window.PLOTLYENV=window.PLOTLYENV || {};                                    if (document.getElementById(\"015ea0a2-308e-4774-8c9c-61c8f4ee8b53\")) {                    Plotly.newPlot(                        \"015ea0a2-308e-4774-8c9c-61c8f4ee8b53\",                        [{\"alignmentgroup\":\"True\",\"hovertemplate\":\"age group=%{x}<br>total number of active voters per age group=%{y}<extra></extra>\",\"legendgroup\":\"\",\"marker\":{\"color\":\"#636efa\",\"pattern\":{\"shape\":\"\"}},\"name\":\"\",\"offsetgroup\":\"\",\"orientation\":\"v\",\"showlegend\":false,\"textposition\":\"auto\",\"x\":[\"1993 - 1999\",\"1983 - 1992\",\"1973 - 1982\",\"1958 - 1972\",\"1948 - 1957\",\"1947 und fr\\u00fcher\"],\"xaxis\":\"x\",\"y\":[3369640,6039663,6227268,13918027,7693131,9728612],\"yaxis\":\"y\",\"type\":\"bar\"}],                        {\"template\":{\"data\":{\"bar\":[{\"error_x\":{\"color\":\"#2a3f5f\"},\"error_y\":{\"color\":\"#2a3f5f\"},\"marker\":{\"line\":{\"color\":\"#E5ECF6\",\"width\":0.5},\"pattern\":{\"fillmode\":\"overlay\",\"size\":10,\"solidity\":0.2}},\"type\":\"bar\"}],\"barpolar\":[{\"marker\":{\"line\":{\"color\":\"#E5ECF6\",\"width\":0.5},\"pattern\":{\"fillmode\":\"overlay\",\"size\":10,\"solidity\":0.2}},\"type\":\"barpolar\"}],\"carpet\":[{\"aaxis\":{\"endlinecolor\":\"#2a3f5f\",\"gridcolor\":\"white\",\"linecolor\":\"white\",\"minorgridcolor\":\"white\",\"startlinecolor\":\"#2a3f5f\"},\"baxis\":{\"endlinecolor\":\"#2a3f5f\",\"gridcolor\":\"white\",\"linecolor\":\"white\",\"minorgridcolor\":\"white\",\"startlinecolor\":\"#2a3f5f\"},\"type\":\"carpet\"}],\"choropleth\":[{\"colorbar\":{\"outlinewidth\":0,\"ticks\":\"\"},\"type\":\"choropleth\"}],\"contour\":[{\"colorbar\":{\"outlinewidth\":0,\"ticks\":\"\"},\"colorscale\":[[0.0,\"#0d0887\"],[0.1111111111111111,\"#46039f\"],[0.2222222222222222,\"#7201a8\"],[0.3333333333333333,\"#9c179e\"],[0.4444444444444444,\"#bd3786\"],[0.5555555555555556,\"#d8576b\"],[0.6666666666666666,\"#ed7953\"],[0.7777777777777778,\"#fb9f3a\"],[0.8888888888888888,\"#fdca26\"],[1.0,\"#f0f921\"]],\"type\":\"contour\"}],\"contourcarpet\":[{\"colorbar\":{\"outlinewidth\":0,\"ticks\":\"\"},\"type\":\"contourcarpet\"}],\"heatmap\":[{\"colorbar\":{\"outlinewidth\":0,\"ticks\":\"\"},\"colorscale\":[[0.0,\"#0d0887\"],[0.1111111111111111,\"#46039f\"],[0.2222222222222222,\"#7201a8\"],[0.3333333333333333,\"#9c179e\"],[0.4444444444444444,\"#bd3786\"],[0.5555555555555556,\"#d8576b\"],[0.6666666666666666,\"#ed7953\"],[0.7777777777777778,\"#fb9f3a\"],[0.8888888888888888,\"#fdca26\"],[1.0,\"#f0f921\"]],\"type\":\"heatmap\"}],\"heatmapgl\":[{\"colorbar\":{\"outlinewidth\":0,\"ticks\":\"\"},\"colorscale\":[[0.0,\"#0d0887\"],[0.1111111111111111,\"#46039f\"],[0.2222222222222222,\"#7201a8\"],[0.3333333333333333,\"#9c179e\"],[0.4444444444444444,\"#bd3786\"],[0.5555555555555556,\"#d8576b\"],[0.6666666666666666,\"#ed7953\"],[0.7777777777777778,\"#fb9f3a\"],[0.8888888888888888,\"#fdca26\"],[1.0,\"#f0f921\"]],\"type\":\"heatmapgl\"}],\"histogram\":[{\"marker\":{\"pattern\":{\"fillmode\":\"overlay\",\"size\":10,\"solidity\":0.2}},\"type\":\"histogram\"}],\"histogram2d\":[{\"colorbar\":{\"outlinewidth\":0,\"ticks\":\"\"},\"colorscale\":[[0.0,\"#0d0887\"],[0.1111111111111111,\"#46039f\"],[0.2222222222222222,\"#7201a8\"],[0.3333333333333333,\"#9c179e\"],[0.4444444444444444,\"#bd3786\"],[0.5555555555555556,\"#d8576b\"],[0.6666666666666666,\"#ed7953\"],[0.7777777777777778,\"#fb9f3a\"],[0.8888888888888888,\"#fdca26\"],[1.0,\"#f0f921\"]],\"type\":\"histogram2d\"}],\"histogram2dcontour\":[{\"colorbar\":{\"outlinewidth\":0,\"ticks\":\"\"},\"colorscale\":[[0.0,\"#0d0887\"],[0.1111111111111111,\"#46039f\"],[0.2222222222222222,\"#7201a8\"],[0.3333333333333333,\"#9c179e\"],[0.4444444444444444,\"#bd3786\"],[0.5555555555555556,\"#d8576b\"],[0.6666666666666666,\"#ed7953\"],[0.7777777777777778,\"#fb9f3a\"],[0.8888888888888888,\"#fdca26\"],[1.0,\"#f0f921\"]],\"type\":\"histogram2dcontour\"}],\"mesh3d\":[{\"colorbar\":{\"outlinewidth\":0,\"ticks\":\"\"},\"type\":\"mesh3d\"}],\"parcoords\":[{\"line\":{\"colorbar\":{\"outlinewidth\":0,\"ticks\":\"\"}},\"type\":\"parcoords\"}],\"pie\":[{\"automargin\":true,\"type\":\"pie\"}],\"scatter\":[{\"marker\":{\"colorbar\":{\"outlinewidth\":0,\"ticks\":\"\"}},\"type\":\"scatter\"}],\"scatter3d\":[{\"line\":{\"colorbar\":{\"outlinewidth\":0,\"ticks\":\"\"}},\"marker\":{\"colorbar\":{\"outlinewidth\":0,\"ticks\":\"\"}},\"type\":\"scatter3d\"}],\"scattercarpet\":[{\"marker\":{\"colorbar\":{\"outlinewidth\":0,\"ticks\":\"\"}},\"type\":\"scattercarpet\"}],\"scattergeo\":[{\"marker\":{\"colorbar\":{\"outlinewidth\":0,\"ticks\":\"\"}},\"type\":\"scattergeo\"}],\"scattergl\":[{\"marker\":{\"colorbar\":{\"outlinewidth\":0,\"ticks\":\"\"}},\"type\":\"scattergl\"}],\"scattermapbox\":[{\"marker\":{\"colorbar\":{\"outlinewidth\":0,\"ticks\":\"\"}},\"type\":\"scattermapbox\"}],\"scatterpolar\":[{\"marker\":{\"colorbar\":{\"outlinewidth\":0,\"ticks\":\"\"}},\"type\":\"scatterpolar\"}],\"scatterpolargl\":[{\"marker\":{\"colorbar\":{\"outlinewidth\":0,\"ticks\":\"\"}},\"type\":\"scatterpolargl\"}],\"scatterternary\":[{\"marker\":{\"colorbar\":{\"outlinewidth\":0,\"ticks\":\"\"}},\"type\":\"scatterternary\"}],\"surface\":[{\"colorbar\":{\"outlinewidth\":0,\"ticks\":\"\"},\"colorscale\":[[0.0,\"#0d0887\"],[0.1111111111111111,\"#46039f\"],[0.2222222222222222,\"#7201a8\"],[0.3333333333333333,\"#9c179e\"],[0.4444444444444444,\"#bd3786\"],[0.5555555555555556,\"#d8576b\"],[0.6666666666666666,\"#ed7953\"],[0.7777777777777778,\"#fb9f3a\"],[0.8888888888888888,\"#fdca26\"],[1.0,\"#f0f921\"]],\"type\":\"surface\"}],\"table\":[{\"cells\":{\"fill\":{\"color\":\"#EBF0F8\"},\"line\":{\"color\":\"white\"}},\"header\":{\"fill\":{\"color\":\"#C8D4E3\"},\"line\":{\"color\":\"white\"}},\"type\":\"table\"}]},\"layout\":{\"annotationdefaults\":{\"arrowcolor\":\"#2a3f5f\",\"arrowhead\":0,\"arrowwidth\":1},\"autotypenumbers\":\"strict\",\"coloraxis\":{\"colorbar\":{\"outlinewidth\":0,\"ticks\":\"\"}},\"colorscale\":{\"diverging\":[[0,\"#8e0152\"],[0.1,\"#c51b7d\"],[0.2,\"#de77ae\"],[0.3,\"#f1b6da\"],[0.4,\"#fde0ef\"],[0.5,\"#f7f7f7\"],[0.6,\"#e6f5d0\"],[0.7,\"#b8e186\"],[0.8,\"#7fbc41\"],[0.9,\"#4d9221\"],[1,\"#276419\"]],\"sequential\":[[0.0,\"#0d0887\"],[0.1111111111111111,\"#46039f\"],[0.2222222222222222,\"#7201a8\"],[0.3333333333333333,\"#9c179e\"],[0.4444444444444444,\"#bd3786\"],[0.5555555555555556,\"#d8576b\"],[0.6666666666666666,\"#ed7953\"],[0.7777777777777778,\"#fb9f3a\"],[0.8888888888888888,\"#fdca26\"],[1.0,\"#f0f921\"]],\"sequentialminus\":[[0.0,\"#0d0887\"],[0.1111111111111111,\"#46039f\"],[0.2222222222222222,\"#7201a8\"],[0.3333333333333333,\"#9c179e\"],[0.4444444444444444,\"#bd3786\"],[0.5555555555555556,\"#d8576b\"],[0.6666666666666666,\"#ed7953\"],[0.7777777777777778,\"#fb9f3a\"],[0.8888888888888888,\"#fdca26\"],[1.0,\"#f0f921\"]]},\"colorway\":[\"#636efa\",\"#EF553B\",\"#00cc96\",\"#ab63fa\",\"#FFA15A\",\"#19d3f3\",\"#FF6692\",\"#B6E880\",\"#FF97FF\",\"#FECB52\"],\"font\":{\"color\":\"#2a3f5f\"},\"geo\":{\"bgcolor\":\"white\",\"lakecolor\":\"white\",\"landcolor\":\"#E5ECF6\",\"showlakes\":true,\"showland\":true,\"subunitcolor\":\"white\"},\"hoverlabel\":{\"align\":\"left\"},\"hovermode\":\"closest\",\"mapbox\":{\"style\":\"light\"},\"paper_bgcolor\":\"white\",\"plot_bgcolor\":\"#E5ECF6\",\"polar\":{\"angularaxis\":{\"gridcolor\":\"white\",\"linecolor\":\"white\",\"ticks\":\"\"},\"bgcolor\":\"#E5ECF6\",\"radialaxis\":{\"gridcolor\":\"white\",\"linecolor\":\"white\",\"ticks\":\"\"}},\"scene\":{\"xaxis\":{\"backgroundcolor\":\"#E5ECF6\",\"gridcolor\":\"white\",\"gridwidth\":2,\"linecolor\":\"white\",\"showbackground\":true,\"ticks\":\"\",\"zerolinecolor\":\"white\"},\"yaxis\":{\"backgroundcolor\":\"#E5ECF6\",\"gridcolor\":\"white\",\"gridwidth\":2,\"linecolor\":\"white\",\"showbackground\":true,\"ticks\":\"\",\"zerolinecolor\":\"white\"},\"zaxis\":{\"backgroundcolor\":\"#E5ECF6\",\"gridcolor\":\"white\",\"gridwidth\":2,\"linecolor\":\"white\",\"showbackground\":true,\"ticks\":\"\",\"zerolinecolor\":\"white\"}},\"shapedefaults\":{\"line\":{\"color\":\"#2a3f5f\"}},\"ternary\":{\"aaxis\":{\"gridcolor\":\"white\",\"linecolor\":\"white\",\"ticks\":\"\"},\"baxis\":{\"gridcolor\":\"white\",\"linecolor\":\"white\",\"ticks\":\"\"},\"bgcolor\":\"#E5ECF6\",\"caxis\":{\"gridcolor\":\"white\",\"linecolor\":\"white\",\"ticks\":\"\"}},\"title\":{\"x\":0.05},\"xaxis\":{\"automargin\":true,\"gridcolor\":\"white\",\"linecolor\":\"white\",\"ticks\":\"\",\"title\":{\"standoff\":15},\"zerolinecolor\":\"white\",\"zerolinewidth\":2},\"yaxis\":{\"automargin\":true,\"gridcolor\":\"white\",\"linecolor\":\"white\",\"ticks\":\"\",\"title\":{\"standoff\":15},\"zerolinecolor\":\"white\",\"zerolinewidth\":2}}},\"xaxis\":{\"anchor\":\"y\",\"domain\":[0.0,1.0],\"title\":{\"text\":\"age group\"}},\"yaxis\":{\"anchor\":\"x\",\"domain\":[0.0,1.0],\"title\":{\"text\":\"total number of active voters per age group\"},\"showgrid\":true,\"gridwidth\":1,\"gridcolor\":\"#efefef\"},\"legend\":{\"tracegroupgap\":0},\"margin\":{\"t\":60},\"barmode\":\"relative\",\"title\":{\"text\":\"active voters per age group\"},\"plot_bgcolor\":\"white\"},                        {\"responsive\": true}                    ).then(function(){\n",
       "                            \n",
       "var gd = document.getElementById('015ea0a2-308e-4774-8c9c-61c8f4ee8b53');\n",
       "var x = new MutationObserver(function (mutations, observer) {{\n",
       "        var display = window.getComputedStyle(gd).display;\n",
       "        if (!display || display === 'none') {{\n",
       "            console.log([gd, 'removed!']);\n",
       "            Plotly.purge(gd);\n",
       "            observer.disconnect();\n",
       "        }}\n",
       "}});\n",
       "\n",
       "// Listen for the removal of the full notebook cells\n",
       "var notebookContainer = gd.closest('#notebook-container');\n",
       "if (notebookContainer) {{\n",
       "    x.observe(notebookContainer, {childList: true});\n",
       "}}\n",
       "\n",
       "// Listen for the clearing of the current output cell\n",
       "var outputEl = gd.closest('.output');\n",
       "if (outputEl) {{\n",
       "    x.observe(outputEl, {childList: true});\n",
       "}}\n",
       "\n",
       "                        })                };                            </script>        </div>\n",
       "</body>\n",
       "</html>"
      ]
     },
     "metadata": {},
     "output_type": "display_data"
    }
   ],
   "source": [
    "fig = px.bar(x=age_voters[1:7][\"Geburtsjahresgruppe\"], y=age_voters[1:7][\"Summe\"], \n",
    "              labels={'x': 'age group',\n",
    "                      'y': 'total number of active voters per age group'}\n",
    "              )\n",
    "\n",
    "\n",
    "fig.update_layout(\n",
    "    title='active voters per age group',\n",
    "    plot_bgcolor=\"white\"\n",
    ")\n",
    "fig.update_yaxes(showgrid=True, gridwidth=1, gridcolor='#efefef')\n",
    "\n",
    "fig.show()"
   ]
  },
  {
   "cell_type": "markdown",
   "metadata": {
    "id": "MQ8iRxi1PY1I"
   },
   "source": [
    "<h4><b> Voterturnout per age group </b> </h4>\n",
    "\n",
    "Not only the number of eligible voters per age group is important for the weighting of the age group specific voting behaviour, but also the voter turnout. In total 76.2 percent of people, who where allowed to vote, voted in the 2017 election. However, this number differed between age groups. We choose to depict this as a line chart. Even though we have categorical data, we are specifically aiming at seeing a trend between the age groups, and decided to use a line chart with marked data points. Due to the date being non-continous, the lines have the purpose of showing the pattern more clearly. To indicate the discrete data points, we added circle-markers at the respective locations. Additionally we depict the overall voter turnout as another line, to simplify the comparison to it.\n",
    "\n",
    "Note, here again we have not equally spaced age groups due to the data source with no other suitable and trustworthy data being available, but the age groups are not all the same as above (even though the data comes from the same source)."
   ]
  },
  {
   "cell_type": "code",
   "execution_count": 17,
   "metadata": {
    "executionInfo": {
     "elapsed": 601,
     "status": "ok",
     "timestamp": 1657275441086,
     "user": {
      "displayName": "dl So",
      "userId": "09890886767013636828"
     },
     "user_tz": -120
    },
    "id": "xJ1k6ihdPY1I"
   },
   "outputs": [],
   "source": [
    "voter_turnout = pd.read_csv('data/btw17_wahlbet_nachAlter_Bund.csv', sep=';')"
   ]
  },
  {
   "cell_type": "code",
   "execution_count": 20,
   "metadata": {
    "colab": {
     "base_uri": "https://localhost:8080/",
     "height": 542
    },
    "executionInfo": {
     "elapsed": 253,
     "status": "ok",
     "timestamp": 1657275524975,
     "user": {
      "displayName": "dl So",
      "userId": "09890886767013636828"
     },
     "user_tz": -120
    },
    "id": "BGojCDniPY1I",
    "outputId": "3c5174c1-66e4-40c5-a1e2-12ec93d94542"
   },
   "outputs": [
    {
     "data": {
      "text/html": [
       "<html>\n",
       "<head><meta charset=\"utf-8\" /></head>\n",
       "<body>\n",
       "    <div>            <script src=\"https://cdnjs.cloudflare.com/ajax/libs/mathjax/2.7.5/MathJax.js?config=TeX-AMS-MML_SVG\"></script><script type=\"text/javascript\">if (window.MathJax) {MathJax.Hub.Config({SVG: {font: \"STIX-Web\"}});}</script>                <script type=\"text/javascript\">window.PlotlyConfig = {MathJaxConfig: 'local'};</script>\n",
       "        <script src=\"https://cdn.plot.ly/plotly-2.8.3.min.js\"></script>                <div id=\"c91dfdaf-a917-46fe-872d-4519c7c832d5\" class=\"plotly-graph-div\" style=\"height:525px; width:100%;\"></div>            <script type=\"text/javascript\">                                    window.PLOTLYENV=window.PLOTLYENV || {};                                    if (document.getElementById(\"c91dfdaf-a917-46fe-872d-4519c7c832d5\")) {                    Plotly.newPlot(                        \"c91dfdaf-a917-46fe-872d-4519c7c832d5\",                        [{\"mode\":\"lines\",\"name\":\"overall voter turnout\",\"x\":[\"1997 - 1999\",\"1993 - 1996\",\"1988 - 1992\",\"1983 - 1987\",\"1978 - 1982\",\"1973 - 1977\",\"1968 - 1972\",\"1958 - 1967\",\"1948 - 1957\",\"1947 und fr\\u00fcher\"],\"y\":[76.2,76.2,76.2,76.2,76.2,76.2,76.2,76.2,76.2,76.2],\"type\":\"scatter\"},{\"name\":\"voter turnout per age group\",\"x\":[\"1997 - 1999\",\"1993 - 1996\",\"1988 - 1992\",\"1983 - 1987\",\"1978 - 1982\",\"1973 - 1977\",\"1968 - 1972\",\"1958 - 1967\",\"1948 - 1957\",\"1947 und fr\\u00fcher\"],\"y\":[69.9,67.0,68.6,72.0,74.4,76.3,78.8,79.4,81.0,75.8],\"type\":\"scatter\"}],                        {\"template\":{\"data\":{\"bar\":[{\"error_x\":{\"color\":\"#2a3f5f\"},\"error_y\":{\"color\":\"#2a3f5f\"},\"marker\":{\"line\":{\"color\":\"#E5ECF6\",\"width\":0.5},\"pattern\":{\"fillmode\":\"overlay\",\"size\":10,\"solidity\":0.2}},\"type\":\"bar\"}],\"barpolar\":[{\"marker\":{\"line\":{\"color\":\"#E5ECF6\",\"width\":0.5},\"pattern\":{\"fillmode\":\"overlay\",\"size\":10,\"solidity\":0.2}},\"type\":\"barpolar\"}],\"carpet\":[{\"aaxis\":{\"endlinecolor\":\"#2a3f5f\",\"gridcolor\":\"white\",\"linecolor\":\"white\",\"minorgridcolor\":\"white\",\"startlinecolor\":\"#2a3f5f\"},\"baxis\":{\"endlinecolor\":\"#2a3f5f\",\"gridcolor\":\"white\",\"linecolor\":\"white\",\"minorgridcolor\":\"white\",\"startlinecolor\":\"#2a3f5f\"},\"type\":\"carpet\"}],\"choropleth\":[{\"colorbar\":{\"outlinewidth\":0,\"ticks\":\"\"},\"type\":\"choropleth\"}],\"contour\":[{\"colorbar\":{\"outlinewidth\":0,\"ticks\":\"\"},\"colorscale\":[[0.0,\"#0d0887\"],[0.1111111111111111,\"#46039f\"],[0.2222222222222222,\"#7201a8\"],[0.3333333333333333,\"#9c179e\"],[0.4444444444444444,\"#bd3786\"],[0.5555555555555556,\"#d8576b\"],[0.6666666666666666,\"#ed7953\"],[0.7777777777777778,\"#fb9f3a\"],[0.8888888888888888,\"#fdca26\"],[1.0,\"#f0f921\"]],\"type\":\"contour\"}],\"contourcarpet\":[{\"colorbar\":{\"outlinewidth\":0,\"ticks\":\"\"},\"type\":\"contourcarpet\"}],\"heatmap\":[{\"colorbar\":{\"outlinewidth\":0,\"ticks\":\"\"},\"colorscale\":[[0.0,\"#0d0887\"],[0.1111111111111111,\"#46039f\"],[0.2222222222222222,\"#7201a8\"],[0.3333333333333333,\"#9c179e\"],[0.4444444444444444,\"#bd3786\"],[0.5555555555555556,\"#d8576b\"],[0.6666666666666666,\"#ed7953\"],[0.7777777777777778,\"#fb9f3a\"],[0.8888888888888888,\"#fdca26\"],[1.0,\"#f0f921\"]],\"type\":\"heatmap\"}],\"heatmapgl\":[{\"colorbar\":{\"outlinewidth\":0,\"ticks\":\"\"},\"colorscale\":[[0.0,\"#0d0887\"],[0.1111111111111111,\"#46039f\"],[0.2222222222222222,\"#7201a8\"],[0.3333333333333333,\"#9c179e\"],[0.4444444444444444,\"#bd3786\"],[0.5555555555555556,\"#d8576b\"],[0.6666666666666666,\"#ed7953\"],[0.7777777777777778,\"#fb9f3a\"],[0.8888888888888888,\"#fdca26\"],[1.0,\"#f0f921\"]],\"type\":\"heatmapgl\"}],\"histogram\":[{\"marker\":{\"pattern\":{\"fillmode\":\"overlay\",\"size\":10,\"solidity\":0.2}},\"type\":\"histogram\"}],\"histogram2d\":[{\"colorbar\":{\"outlinewidth\":0,\"ticks\":\"\"},\"colorscale\":[[0.0,\"#0d0887\"],[0.1111111111111111,\"#46039f\"],[0.2222222222222222,\"#7201a8\"],[0.3333333333333333,\"#9c179e\"],[0.4444444444444444,\"#bd3786\"],[0.5555555555555556,\"#d8576b\"],[0.6666666666666666,\"#ed7953\"],[0.7777777777777778,\"#fb9f3a\"],[0.8888888888888888,\"#fdca26\"],[1.0,\"#f0f921\"]],\"type\":\"histogram2d\"}],\"histogram2dcontour\":[{\"colorbar\":{\"outlinewidth\":0,\"ticks\":\"\"},\"colorscale\":[[0.0,\"#0d0887\"],[0.1111111111111111,\"#46039f\"],[0.2222222222222222,\"#7201a8\"],[0.3333333333333333,\"#9c179e\"],[0.4444444444444444,\"#bd3786\"],[0.5555555555555556,\"#d8576b\"],[0.6666666666666666,\"#ed7953\"],[0.7777777777777778,\"#fb9f3a\"],[0.8888888888888888,\"#fdca26\"],[1.0,\"#f0f921\"]],\"type\":\"histogram2dcontour\"}],\"mesh3d\":[{\"colorbar\":{\"outlinewidth\":0,\"ticks\":\"\"},\"type\":\"mesh3d\"}],\"parcoords\":[{\"line\":{\"colorbar\":{\"outlinewidth\":0,\"ticks\":\"\"}},\"type\":\"parcoords\"}],\"pie\":[{\"automargin\":true,\"type\":\"pie\"}],\"scatter\":[{\"marker\":{\"colorbar\":{\"outlinewidth\":0,\"ticks\":\"\"}},\"type\":\"scatter\"}],\"scatter3d\":[{\"line\":{\"colorbar\":{\"outlinewidth\":0,\"ticks\":\"\"}},\"marker\":{\"colorbar\":{\"outlinewidth\":0,\"ticks\":\"\"}},\"type\":\"scatter3d\"}],\"scattercarpet\":[{\"marker\":{\"colorbar\":{\"outlinewidth\":0,\"ticks\":\"\"}},\"type\":\"scattercarpet\"}],\"scattergeo\":[{\"marker\":{\"colorbar\":{\"outlinewidth\":0,\"ticks\":\"\"}},\"type\":\"scattergeo\"}],\"scattergl\":[{\"marker\":{\"colorbar\":{\"outlinewidth\":0,\"ticks\":\"\"}},\"type\":\"scattergl\"}],\"scattermapbox\":[{\"marker\":{\"colorbar\":{\"outlinewidth\":0,\"ticks\":\"\"}},\"type\":\"scattermapbox\"}],\"scatterpolar\":[{\"marker\":{\"colorbar\":{\"outlinewidth\":0,\"ticks\":\"\"}},\"type\":\"scatterpolar\"}],\"scatterpolargl\":[{\"marker\":{\"colorbar\":{\"outlinewidth\":0,\"ticks\":\"\"}},\"type\":\"scatterpolargl\"}],\"scatterternary\":[{\"marker\":{\"colorbar\":{\"outlinewidth\":0,\"ticks\":\"\"}},\"type\":\"scatterternary\"}],\"surface\":[{\"colorbar\":{\"outlinewidth\":0,\"ticks\":\"\"},\"colorscale\":[[0.0,\"#0d0887\"],[0.1111111111111111,\"#46039f\"],[0.2222222222222222,\"#7201a8\"],[0.3333333333333333,\"#9c179e\"],[0.4444444444444444,\"#bd3786\"],[0.5555555555555556,\"#d8576b\"],[0.6666666666666666,\"#ed7953\"],[0.7777777777777778,\"#fb9f3a\"],[0.8888888888888888,\"#fdca26\"],[1.0,\"#f0f921\"]],\"type\":\"surface\"}],\"table\":[{\"cells\":{\"fill\":{\"color\":\"#EBF0F8\"},\"line\":{\"color\":\"white\"}},\"header\":{\"fill\":{\"color\":\"#C8D4E3\"},\"line\":{\"color\":\"white\"}},\"type\":\"table\"}]},\"layout\":{\"annotationdefaults\":{\"arrowcolor\":\"#2a3f5f\",\"arrowhead\":0,\"arrowwidth\":1},\"autotypenumbers\":\"strict\",\"coloraxis\":{\"colorbar\":{\"outlinewidth\":0,\"ticks\":\"\"}},\"colorscale\":{\"diverging\":[[0,\"#8e0152\"],[0.1,\"#c51b7d\"],[0.2,\"#de77ae\"],[0.3,\"#f1b6da\"],[0.4,\"#fde0ef\"],[0.5,\"#f7f7f7\"],[0.6,\"#e6f5d0\"],[0.7,\"#b8e186\"],[0.8,\"#7fbc41\"],[0.9,\"#4d9221\"],[1,\"#276419\"]],\"sequential\":[[0.0,\"#0d0887\"],[0.1111111111111111,\"#46039f\"],[0.2222222222222222,\"#7201a8\"],[0.3333333333333333,\"#9c179e\"],[0.4444444444444444,\"#bd3786\"],[0.5555555555555556,\"#d8576b\"],[0.6666666666666666,\"#ed7953\"],[0.7777777777777778,\"#fb9f3a\"],[0.8888888888888888,\"#fdca26\"],[1.0,\"#f0f921\"]],\"sequentialminus\":[[0.0,\"#0d0887\"],[0.1111111111111111,\"#46039f\"],[0.2222222222222222,\"#7201a8\"],[0.3333333333333333,\"#9c179e\"],[0.4444444444444444,\"#bd3786\"],[0.5555555555555556,\"#d8576b\"],[0.6666666666666666,\"#ed7953\"],[0.7777777777777778,\"#fb9f3a\"],[0.8888888888888888,\"#fdca26\"],[1.0,\"#f0f921\"]]},\"colorway\":[\"#636efa\",\"#EF553B\",\"#00cc96\",\"#ab63fa\",\"#FFA15A\",\"#19d3f3\",\"#FF6692\",\"#B6E880\",\"#FF97FF\",\"#FECB52\"],\"font\":{\"color\":\"#2a3f5f\"},\"geo\":{\"bgcolor\":\"white\",\"lakecolor\":\"white\",\"landcolor\":\"#E5ECF6\",\"showlakes\":true,\"showland\":true,\"subunitcolor\":\"white\"},\"hoverlabel\":{\"align\":\"left\"},\"hovermode\":\"closest\",\"mapbox\":{\"style\":\"light\"},\"paper_bgcolor\":\"white\",\"plot_bgcolor\":\"#E5ECF6\",\"polar\":{\"angularaxis\":{\"gridcolor\":\"white\",\"linecolor\":\"white\",\"ticks\":\"\"},\"bgcolor\":\"#E5ECF6\",\"radialaxis\":{\"gridcolor\":\"white\",\"linecolor\":\"white\",\"ticks\":\"\"}},\"scene\":{\"xaxis\":{\"backgroundcolor\":\"#E5ECF6\",\"gridcolor\":\"white\",\"gridwidth\":2,\"linecolor\":\"white\",\"showbackground\":true,\"ticks\":\"\",\"zerolinecolor\":\"white\"},\"yaxis\":{\"backgroundcolor\":\"#E5ECF6\",\"gridcolor\":\"white\",\"gridwidth\":2,\"linecolor\":\"white\",\"showbackground\":true,\"ticks\":\"\",\"zerolinecolor\":\"white\"},\"zaxis\":{\"backgroundcolor\":\"#E5ECF6\",\"gridcolor\":\"white\",\"gridwidth\":2,\"linecolor\":\"white\",\"showbackground\":true,\"ticks\":\"\",\"zerolinecolor\":\"white\"}},\"shapedefaults\":{\"line\":{\"color\":\"#2a3f5f\"}},\"ternary\":{\"aaxis\":{\"gridcolor\":\"white\",\"linecolor\":\"white\",\"ticks\":\"\"},\"baxis\":{\"gridcolor\":\"white\",\"linecolor\":\"white\",\"ticks\":\"\"},\"bgcolor\":\"#E5ECF6\",\"caxis\":{\"gridcolor\":\"white\",\"linecolor\":\"white\",\"ticks\":\"\"}},\"title\":{\"x\":0.05},\"xaxis\":{\"automargin\":true,\"gridcolor\":\"white\",\"linecolor\":\"white\",\"ticks\":\"\",\"title\":{\"standoff\":15},\"zerolinecolor\":\"white\",\"zerolinewidth\":2},\"yaxis\":{\"automargin\":true,\"gridcolor\":\"white\",\"linecolor\":\"white\",\"ticks\":\"\",\"title\":{\"standoff\":15},\"zerolinecolor\":\"white\",\"zerolinewidth\":2}}},\"xaxis\":{\"anchor\":\"y\",\"domain\":[0.0,1.0],\"title\":{\"text\":\"age group\"}},\"yaxis\":{\"anchor\":\"x\",\"domain\":[0.0,1.0],\"title\":{\"text\":\"voter turnout in percent\"},\"showgrid\":true,\"gridwidth\":1,\"gridcolor\":\"#efefef\"},\"title\":{\"text\":\"voter turnout per age group\"},\"plot_bgcolor\":\"white\"},                        {\"responsive\": true}                    ).then(function(){\n",
       "                            \n",
       "var gd = document.getElementById('c91dfdaf-a917-46fe-872d-4519c7c832d5');\n",
       "var x = new MutationObserver(function (mutations, observer) {{\n",
       "        var display = window.getComputedStyle(gd).display;\n",
       "        if (!display || display === 'none') {{\n",
       "            console.log([gd, 'removed!']);\n",
       "            Plotly.purge(gd);\n",
       "            observer.disconnect();\n",
       "        }}\n",
       "}});\n",
       "\n",
       "// Listen for the removal of the full notebook cells\n",
       "var notebookContainer = gd.closest('#notebook-container');\n",
       "if (notebookContainer) {{\n",
       "    x.observe(notebookContainer, {childList: true});\n",
       "}}\n",
       "\n",
       "// Listen for the clearing of the current output cell\n",
       "var outputEl = gd.closest('.output');\n",
       "if (outputEl) {{\n",
       "    x.observe(outputEl, {childList: true});\n",
       "}}\n",
       "\n",
       "                        })                };                            </script>        </div>\n",
       "</body>\n",
       "</html>"
      ]
     },
     "metadata": {},
     "output_type": "display_data"
    }
   ],
   "source": [
    "fig = make_subplots()\n",
    "\n",
    "fig.add_trace(\n",
    "    go.Scatter(x=voter_turnout[1:][\"Geburtsjahresgruppe\"], y=[voter_turnout.iloc[0][\"Wahlbeteiligung\"]] *len(voter_turnout[1:][\"Geburtsjahresgruppe\"]),\n",
    "               name='overall voter turnout', mode='lines')\n",
    ")\n",
    "\n",
    "fig.add_trace(\n",
    "    go.Scatter(x=voter_turnout[1:][\"Geburtsjahresgruppe\"], y=voter_turnout[1:][\"Wahlbeteiligung\"], name='voter turnout per age group'), \n",
    ")\n",
    "\n",
    "fig.update_xaxes(\n",
    "        title_text = \"age group\")\n",
    "\n",
    "fig.update_yaxes(\n",
    "        title_text = \"voter turnout in percent\",\n",
    "        showgrid=True, gridwidth=1, gridcolor='#efefef')\n",
    "\n",
    "# Add figure title\n",
    "fig.update_layout(\n",
    "    title_text=\"voter turnout per age group\",\n",
    "    plot_bgcolor=\"white\"\n",
    ")\n",
    "\n",
    "fig.show() "
   ]
  },
  {
   "cell_type": "markdown",
   "metadata": {
    "id": "hAZO824FPY1J"
   },
   "source": [
    "\n",
    "This chart shows the motivation of first-time voters to vote, at least in comparison to peope roughly 10 years older than them. Other than that older people have a higher voter turnout. For people roughly 40 years old at the time of the election the overall vorter turnout and the age specific voter turnout are almost the same. As we saw above the age group, that was born in 1947 or before that is the second largest one, but their voter turnout was smaller than for the previous age groups. If we add this to our gained knowledge about the voting behaviour of different age groups and the number of people per age group, we can now say, that older age groups impact the overall election result more."
   ]
  },
  {
   "cell_type": "markdown",
   "metadata": {
    "id": "xXtFmlRsPY1J"
   },
   "source": [
    "<h3><b> age distribution of the members of the Bundestag </b></h3> \n",
    "\n",
    "Not only the age of the voters can be interesting for formulating more justified hypothesis later on, but the age distribution of the memebers of parliament as well. Thus in the following we will have a short look at this. Given that it is an already much discussed topic we are not going into detail and only present this here to give a more comprehensive context for our analysis and visualizations.\n",
    "First we are visualizing the overall age distribution of the parliament without parliamentary group specific information. For the following visualizations we used histogramms, because they are well suited for comparing age ranges. We choose a bin width of 5 years in order to have a usefull representation. The ages are calculated for the year of the election."
   ]
  },
  {
   "cell_type": "code",
   "execution_count": 25,
   "metadata": {
    "executionInfo": {
     "elapsed": 288,
     "status": "ok",
     "timestamp": 1657276132704,
     "user": {
      "displayName": "dl So",
      "userId": "09890886767013636828"
     },
     "user_tz": -120
    },
    "id": "LoS0laXjPY1J"
   },
   "outputs": [],
   "source": [
    "mdb = pd.read_csv('data/btw17_gewaehlteMDB.csv', sep=\";\")\n",
    "#mdb"
   ]
  },
  {
   "cell_type": "code",
   "execution_count": 26,
   "metadata": {
    "executionInfo": {
     "elapsed": 221,
     "status": "ok",
     "timestamp": 1657276134187,
     "user": {
      "displayName": "dl So",
      "userId": "09890886767013636828"
     },
     "user_tz": -120
    },
    "id": "A5w8atQVPY1K"
   },
   "outputs": [],
   "source": [
    "# add additional columns/features\n",
    "#fraktion since CDU/CSU are seperate parties but one parliamentary party\n",
    "fraktion = ['CDU/CSU' if fraktion=='CDU' or fraktion=='CSU' else fraktion for fraktion in mdb['Partei_KurzBez']]\n",
    "mdb['Fraktion'] = fraktion\n",
    "\n",
    "#agew when member of parliament where elected\n",
    "age = [2017 - bday for bday in mdb['Geburtsjahr']]\n",
    "mdb['Alter'] = age\n",
    "\n",
    "#binning the age\n",
    "#min age: 25, max age: 77\n",
    "cut_labels = ['<30', '30-39', '40-49', '50-59', '60-69', '70-79']\n",
    "cut_bins = [i for i in range(20, 81, 10)]\n",
    "mdb['Alter_Bin'] = pd.cut(mdb['Alter'], bins=cut_bins, labels=cut_labels)"
   ]
  },
  {
   "cell_type": "code",
   "execution_count": 23,
   "metadata": {
    "executionInfo": {
     "elapsed": 6,
     "status": "ok",
     "timestamp": 1657275917370,
     "user": {
      "displayName": "dl So",
      "userId": "09890886767013636828"
     },
     "user_tz": -120
    },
    "id": "usb7Ht6SPY1K"
   },
   "outputs": [],
   "source": [
    "#Alter nach Fraktion, Anzahl\n",
    "partei_kurz = list(set(mdb['Fraktion']))\n",
    "\n",
    "alter_l = []\n",
    "alter_count_l = []\n",
    "partei_l = []\n",
    "for partei in partei_kurz:\n",
    "    alter_temp = list(mdb[mdb['Fraktion'] == partei]['Alter_Bin'])#['Alter'])\n",
    "    alter_count = [alter_temp.count(alter) for alter in list(set(alter_temp))]\n",
    "    alter = list(set(alter_temp))\n",
    "    partei_l.append([partei for elem in alter_count])\n",
    "    alter_l.append(alter)\n",
    "    alter_count_l.append(alter_count)\n",
    "\n",
    "alter_flat = [alter for partei in alter_l for alter in partei]\n",
    "alter_count_flat = [count for partei in alter_count_l for count in partei]\n",
    "partei_flat = [p for partei in partei_l for p in partei]\n",
    "\n",
    "alter_partei = pd.DataFrame({\n",
    "    'Partei': partei_flat,\n",
    "    'Alter': alter_flat,\n",
    "    'Anzahl': alter_count_flat\n",
    "})"
   ]
  },
  {
   "cell_type": "code",
   "execution_count": 24,
   "metadata": {
    "colab": {
     "base_uri": "https://localhost:8080/",
     "height": 542
    },
    "executionInfo": {
     "elapsed": 1297,
     "status": "ok",
     "timestamp": 1657275923744,
     "user": {
      "displayName": "dl So",
      "userId": "09890886767013636828"
     },
     "user_tz": -120
    },
    "id": "EU7QHAggPY1L",
    "outputId": "dcf08674-e39f-41be-b077-525dc0769f19"
   },
   "outputs": [
    {
     "data": {
      "text/html": [
       "<html>\n",
       "<head><meta charset=\"utf-8\" /></head>\n",
       "<body>\n",
       "    <div>            <script src=\"https://cdnjs.cloudflare.com/ajax/libs/mathjax/2.7.5/MathJax.js?config=TeX-AMS-MML_SVG\"></script><script type=\"text/javascript\">if (window.MathJax) {MathJax.Hub.Config({SVG: {font: \"STIX-Web\"}});}</script>                <script type=\"text/javascript\">window.PlotlyConfig = {MathJaxConfig: 'local'};</script>\n",
       "        <script src=\"https://cdn.plot.ly/plotly-2.8.3.min.js\"></script>                <div id=\"0eddd751-2c41-49df-8328-958ef88b632e\" class=\"plotly-graph-div\" style=\"height:525px; width:100%;\"></div>            <script type=\"text/javascript\">                                    window.PLOTLYENV=window.PLOTLYENV || {};                                    if (document.getElementById(\"0eddd751-2c41-49df-8328-958ef88b632e\")) {                    Plotly.newPlot(                        \"0eddd751-2c41-49df-8328-958ef88b632e\",                        [{\"alignmentgroup\":\"True\",\"bingroup\":\"x\",\"hovertemplate\":\"variable=0<br>age=%{x}<br>count=%{y}<extra></extra>\",\"legendgroup\":\"0\",\"marker\":{\"color\":\"#636efa\",\"pattern\":{\"shape\":\"\"}},\"name\":\"0\",\"nbinsx\":11,\"offsetgroup\":\"0\",\"orientation\":\"v\",\"showlegend\":true,\"x\":[65,41,52,35,49,52,45,59,25,33,49,44,56,58,54,41,34,62,37,53,39,42,49,64,54,65,58,43,59,49,30,59,58,34,51,48,50,47,36,61,57,56,45,45,41,33,39,47,38,55,38,67,56,29,65,59,48,63,44,31,34,40,51,27,38,50,45,56,44,46,55,57,49,50,32,64,56,46,52,40,54,46,53,40,66,27,45,43,59,34,42,53,44,55,57,42,61,59,53,67,46,56,52,53,41,47,49,50,41,64,48,33,40,46,61,53,58,39,43,63,33,56,28,33,50,54,45,52,49,48,54,44,51,54,41,57,66,44,62,64,52,51,60,32,53,26,49,65,59,58,57,47,76,46,40,75,41,57,61,46,66,75,55,72,59,42,51,77,52,41,51,52,56,51,61,57,53,42,58,62,54,46,55,51,47,69,51,50,62,47,54,43,54,48,60,51,46,43,54,40,43,63,56,40,44,33,58,56,51,45,56,53,53,54,40,39,31,59,58,65,63,52,41,46,44,55,40,59,46,45,61,45,64,53,41,59,35,47,42,44,42,57,60,47,48,69,42,69,47,61,56,45,57,30,54,61,47,65,44,41,44,66,49,42,40,39,50,58,55,47,54,30,59,51,63,67,46,38,59,57,68,48,64,49,28,52,53,46,48,45,54,44,32,58,39,42,65,40,57,59,31,39,37,30,37,50,46,55,50,31,37,49,50,35,40,38,32,40,46,65,43,50,42,61,53,48,48,56,65,45,28,38,38,50,36,62,51,52,51,66,58,63,53,48,41,54,45,50,40,50,38,58,56,42,49,50,36,43,59,57,45,41,47,38,35,54,40,54,52,31,62,56,66,42,42,53,38,48,55,51,65,38,55,73,63,53,50,49,54,58,56,37,46,56,48,63,44,42,56,63,36,42,34,68,53,49,42,41,53,59,37,57,33,49,34,60,68,62,65,33,59,48,54,58,47,36,53,62,49,31,28,42,25,57,35,37,53,28,58,47,37,40,48,53,61,50,52,53,58,58,29,60,46,42,48,57,42,63,31,37,64,46,49,62,52,30,50,56,57,70,54,49,40,35,35,52,42,50,52,62,30,32,71,53,39,55,49,58,36,45,40,49,46,55,43,53,52,63,63,48,50,39,52,63,50,63,46,55,60,57,62,55,42,31,58,41,53,66,51,62,47,52,45,39,62,42,46,49,40,49,34,50,35,68,51,37,66,65,49,75,51,46,43,45,55,58,48,38,59,41,50,44,60,44,64,36,68,51,51,41,53,49,34,34,59,31,40,41,65,62,49,49,56,61,63,60,63,56,47,43,52,55,49,33,55,50,61,65,46,37,49,36,39,57,42,77,46,42,37,73,46,61,38,41,36,52,49,51,54,32,41,45,47,49,44,30,59,47,53,46,59,43,59,56,30,63,53,50,58,54,42,49,57,36,43,53,53,36,50,53,62,49,49,62,53,67,38,53,40,63,38,54,55,42,46,62,56,38,41,35,58,54,53,46,43,62,54,48,45,60,53,42,62,48,45,38,52,60,50,41,61,59,58,32,44,50,57,58,32,51,53,34,51,65,56,55,54,58,51,55,63,30,57,32,47,56,36,61,57],\"xaxis\":\"x\",\"yaxis\":\"y\",\"type\":\"histogram\"}],                        {\"template\":{\"data\":{\"bar\":[{\"error_x\":{\"color\":\"#2a3f5f\"},\"error_y\":{\"color\":\"#2a3f5f\"},\"marker\":{\"line\":{\"color\":\"#E5ECF6\",\"width\":0.5},\"pattern\":{\"fillmode\":\"overlay\",\"size\":10,\"solidity\":0.2}},\"type\":\"bar\"}],\"barpolar\":[{\"marker\":{\"line\":{\"color\":\"#E5ECF6\",\"width\":0.5},\"pattern\":{\"fillmode\":\"overlay\",\"size\":10,\"solidity\":0.2}},\"type\":\"barpolar\"}],\"carpet\":[{\"aaxis\":{\"endlinecolor\":\"#2a3f5f\",\"gridcolor\":\"white\",\"linecolor\":\"white\",\"minorgridcolor\":\"white\",\"startlinecolor\":\"#2a3f5f\"},\"baxis\":{\"endlinecolor\":\"#2a3f5f\",\"gridcolor\":\"white\",\"linecolor\":\"white\",\"minorgridcolor\":\"white\",\"startlinecolor\":\"#2a3f5f\"},\"type\":\"carpet\"}],\"choropleth\":[{\"colorbar\":{\"outlinewidth\":0,\"ticks\":\"\"},\"type\":\"choropleth\"}],\"contour\":[{\"colorbar\":{\"outlinewidth\":0,\"ticks\":\"\"},\"colorscale\":[[0.0,\"#0d0887\"],[0.1111111111111111,\"#46039f\"],[0.2222222222222222,\"#7201a8\"],[0.3333333333333333,\"#9c179e\"],[0.4444444444444444,\"#bd3786\"],[0.5555555555555556,\"#d8576b\"],[0.6666666666666666,\"#ed7953\"],[0.7777777777777778,\"#fb9f3a\"],[0.8888888888888888,\"#fdca26\"],[1.0,\"#f0f921\"]],\"type\":\"contour\"}],\"contourcarpet\":[{\"colorbar\":{\"outlinewidth\":0,\"ticks\":\"\"},\"type\":\"contourcarpet\"}],\"heatmap\":[{\"colorbar\":{\"outlinewidth\":0,\"ticks\":\"\"},\"colorscale\":[[0.0,\"#0d0887\"],[0.1111111111111111,\"#46039f\"],[0.2222222222222222,\"#7201a8\"],[0.3333333333333333,\"#9c179e\"],[0.4444444444444444,\"#bd3786\"],[0.5555555555555556,\"#d8576b\"],[0.6666666666666666,\"#ed7953\"],[0.7777777777777778,\"#fb9f3a\"],[0.8888888888888888,\"#fdca26\"],[1.0,\"#f0f921\"]],\"type\":\"heatmap\"}],\"heatmapgl\":[{\"colorbar\":{\"outlinewidth\":0,\"ticks\":\"\"},\"colorscale\":[[0.0,\"#0d0887\"],[0.1111111111111111,\"#46039f\"],[0.2222222222222222,\"#7201a8\"],[0.3333333333333333,\"#9c179e\"],[0.4444444444444444,\"#bd3786\"],[0.5555555555555556,\"#d8576b\"],[0.6666666666666666,\"#ed7953\"],[0.7777777777777778,\"#fb9f3a\"],[0.8888888888888888,\"#fdca26\"],[1.0,\"#f0f921\"]],\"type\":\"heatmapgl\"}],\"histogram\":[{\"marker\":{\"pattern\":{\"fillmode\":\"overlay\",\"size\":10,\"solidity\":0.2}},\"type\":\"histogram\"}],\"histogram2d\":[{\"colorbar\":{\"outlinewidth\":0,\"ticks\":\"\"},\"colorscale\":[[0.0,\"#0d0887\"],[0.1111111111111111,\"#46039f\"],[0.2222222222222222,\"#7201a8\"],[0.3333333333333333,\"#9c179e\"],[0.4444444444444444,\"#bd3786\"],[0.5555555555555556,\"#d8576b\"],[0.6666666666666666,\"#ed7953\"],[0.7777777777777778,\"#fb9f3a\"],[0.8888888888888888,\"#fdca26\"],[1.0,\"#f0f921\"]],\"type\":\"histogram2d\"}],\"histogram2dcontour\":[{\"colorbar\":{\"outlinewidth\":0,\"ticks\":\"\"},\"colorscale\":[[0.0,\"#0d0887\"],[0.1111111111111111,\"#46039f\"],[0.2222222222222222,\"#7201a8\"],[0.3333333333333333,\"#9c179e\"],[0.4444444444444444,\"#bd3786\"],[0.5555555555555556,\"#d8576b\"],[0.6666666666666666,\"#ed7953\"],[0.7777777777777778,\"#fb9f3a\"],[0.8888888888888888,\"#fdca26\"],[1.0,\"#f0f921\"]],\"type\":\"histogram2dcontour\"}],\"mesh3d\":[{\"colorbar\":{\"outlinewidth\":0,\"ticks\":\"\"},\"type\":\"mesh3d\"}],\"parcoords\":[{\"line\":{\"colorbar\":{\"outlinewidth\":0,\"ticks\":\"\"}},\"type\":\"parcoords\"}],\"pie\":[{\"automargin\":true,\"type\":\"pie\"}],\"scatter\":[{\"marker\":{\"colorbar\":{\"outlinewidth\":0,\"ticks\":\"\"}},\"type\":\"scatter\"}],\"scatter3d\":[{\"line\":{\"colorbar\":{\"outlinewidth\":0,\"ticks\":\"\"}},\"marker\":{\"colorbar\":{\"outlinewidth\":0,\"ticks\":\"\"}},\"type\":\"scatter3d\"}],\"scattercarpet\":[{\"marker\":{\"colorbar\":{\"outlinewidth\":0,\"ticks\":\"\"}},\"type\":\"scattercarpet\"}],\"scattergeo\":[{\"marker\":{\"colorbar\":{\"outlinewidth\":0,\"ticks\":\"\"}},\"type\":\"scattergeo\"}],\"scattergl\":[{\"marker\":{\"colorbar\":{\"outlinewidth\":0,\"ticks\":\"\"}},\"type\":\"scattergl\"}],\"scattermapbox\":[{\"marker\":{\"colorbar\":{\"outlinewidth\":0,\"ticks\":\"\"}},\"type\":\"scattermapbox\"}],\"scatterpolar\":[{\"marker\":{\"colorbar\":{\"outlinewidth\":0,\"ticks\":\"\"}},\"type\":\"scatterpolar\"}],\"scatterpolargl\":[{\"marker\":{\"colorbar\":{\"outlinewidth\":0,\"ticks\":\"\"}},\"type\":\"scatterpolargl\"}],\"scatterternary\":[{\"marker\":{\"colorbar\":{\"outlinewidth\":0,\"ticks\":\"\"}},\"type\":\"scatterternary\"}],\"surface\":[{\"colorbar\":{\"outlinewidth\":0,\"ticks\":\"\"},\"colorscale\":[[0.0,\"#0d0887\"],[0.1111111111111111,\"#46039f\"],[0.2222222222222222,\"#7201a8\"],[0.3333333333333333,\"#9c179e\"],[0.4444444444444444,\"#bd3786\"],[0.5555555555555556,\"#d8576b\"],[0.6666666666666666,\"#ed7953\"],[0.7777777777777778,\"#fb9f3a\"],[0.8888888888888888,\"#fdca26\"],[1.0,\"#f0f921\"]],\"type\":\"surface\"}],\"table\":[{\"cells\":{\"fill\":{\"color\":\"#EBF0F8\"},\"line\":{\"color\":\"white\"}},\"header\":{\"fill\":{\"color\":\"#C8D4E3\"},\"line\":{\"color\":\"white\"}},\"type\":\"table\"}]},\"layout\":{\"annotationdefaults\":{\"arrowcolor\":\"#2a3f5f\",\"arrowhead\":0,\"arrowwidth\":1},\"autotypenumbers\":\"strict\",\"coloraxis\":{\"colorbar\":{\"outlinewidth\":0,\"ticks\":\"\"}},\"colorscale\":{\"diverging\":[[0,\"#8e0152\"],[0.1,\"#c51b7d\"],[0.2,\"#de77ae\"],[0.3,\"#f1b6da\"],[0.4,\"#fde0ef\"],[0.5,\"#f7f7f7\"],[0.6,\"#e6f5d0\"],[0.7,\"#b8e186\"],[0.8,\"#7fbc41\"],[0.9,\"#4d9221\"],[1,\"#276419\"]],\"sequential\":[[0.0,\"#0d0887\"],[0.1111111111111111,\"#46039f\"],[0.2222222222222222,\"#7201a8\"],[0.3333333333333333,\"#9c179e\"],[0.4444444444444444,\"#bd3786\"],[0.5555555555555556,\"#d8576b\"],[0.6666666666666666,\"#ed7953\"],[0.7777777777777778,\"#fb9f3a\"],[0.8888888888888888,\"#fdca26\"],[1.0,\"#f0f921\"]],\"sequentialminus\":[[0.0,\"#0d0887\"],[0.1111111111111111,\"#46039f\"],[0.2222222222222222,\"#7201a8\"],[0.3333333333333333,\"#9c179e\"],[0.4444444444444444,\"#bd3786\"],[0.5555555555555556,\"#d8576b\"],[0.6666666666666666,\"#ed7953\"],[0.7777777777777778,\"#fb9f3a\"],[0.8888888888888888,\"#fdca26\"],[1.0,\"#f0f921\"]]},\"colorway\":[\"#636efa\",\"#EF553B\",\"#00cc96\",\"#ab63fa\",\"#FFA15A\",\"#19d3f3\",\"#FF6692\",\"#B6E880\",\"#FF97FF\",\"#FECB52\"],\"font\":{\"color\":\"#2a3f5f\"},\"geo\":{\"bgcolor\":\"white\",\"lakecolor\":\"white\",\"landcolor\":\"#E5ECF6\",\"showlakes\":true,\"showland\":true,\"subunitcolor\":\"white\"},\"hoverlabel\":{\"align\":\"left\"},\"hovermode\":\"closest\",\"mapbox\":{\"style\":\"light\"},\"paper_bgcolor\":\"white\",\"plot_bgcolor\":\"#E5ECF6\",\"polar\":{\"angularaxis\":{\"gridcolor\":\"white\",\"linecolor\":\"white\",\"ticks\":\"\"},\"bgcolor\":\"#E5ECF6\",\"radialaxis\":{\"gridcolor\":\"white\",\"linecolor\":\"white\",\"ticks\":\"\"}},\"scene\":{\"xaxis\":{\"backgroundcolor\":\"#E5ECF6\",\"gridcolor\":\"white\",\"gridwidth\":2,\"linecolor\":\"white\",\"showbackground\":true,\"ticks\":\"\",\"zerolinecolor\":\"white\"},\"yaxis\":{\"backgroundcolor\":\"#E5ECF6\",\"gridcolor\":\"white\",\"gridwidth\":2,\"linecolor\":\"white\",\"showbackground\":true,\"ticks\":\"\",\"zerolinecolor\":\"white\"},\"zaxis\":{\"backgroundcolor\":\"#E5ECF6\",\"gridcolor\":\"white\",\"gridwidth\":2,\"linecolor\":\"white\",\"showbackground\":true,\"ticks\":\"\",\"zerolinecolor\":\"white\"}},\"shapedefaults\":{\"line\":{\"color\":\"#2a3f5f\"}},\"ternary\":{\"aaxis\":{\"gridcolor\":\"white\",\"linecolor\":\"white\",\"ticks\":\"\"},\"baxis\":{\"gridcolor\":\"white\",\"linecolor\":\"white\",\"ticks\":\"\"},\"bgcolor\":\"#E5ECF6\",\"caxis\":{\"gridcolor\":\"white\",\"linecolor\":\"white\",\"ticks\":\"\"}},\"title\":{\"x\":0.05},\"xaxis\":{\"automargin\":true,\"gridcolor\":\"white\",\"linecolor\":\"white\",\"ticks\":\"\",\"title\":{\"standoff\":15},\"zerolinecolor\":\"white\",\"zerolinewidth\":2},\"yaxis\":{\"automargin\":true,\"gridcolor\":\"white\",\"linecolor\":\"white\",\"ticks\":\"\",\"title\":{\"standoff\":15},\"zerolinecolor\":\"white\",\"zerolinewidth\":2}}},\"xaxis\":{\"anchor\":\"y\",\"domain\":[0.0,1.0],\"title\":{\"text\":\"age\"}},\"yaxis\":{\"anchor\":\"x\",\"domain\":[0.0,1.0],\"title\":{\"text\":\"count\"},\"showgrid\":true,\"gridwidth\":1,\"gridcolor\":\"#efefef\",\"zeroline\":true},\"legend\":{\"title\":{\"text\":\"variable\"},\"tracegroupgap\":0},\"title\":{\"text\":\"voterturnout per age group\"},\"barmode\":\"relative\",\"plot_bgcolor\":\"white\",\"showlegend\":false},                        {\"responsive\": true}                    ).then(function(){\n",
       "                            \n",
       "var gd = document.getElementById('0eddd751-2c41-49df-8328-958ef88b632e');\n",
       "var x = new MutationObserver(function (mutations, observer) {{\n",
       "        var display = window.getComputedStyle(gd).display;\n",
       "        if (!display || display === 'none') {{\n",
       "            console.log([gd, 'removed!']);\n",
       "            Plotly.purge(gd);\n",
       "            observer.disconnect();\n",
       "        }}\n",
       "}});\n",
       "\n",
       "// Listen for the removal of the full notebook cells\n",
       "var notebookContainer = gd.closest('#notebook-container');\n",
       "if (notebookContainer) {{\n",
       "    x.observe(notebookContainer, {childList: true});\n",
       "}}\n",
       "\n",
       "// Listen for the clearing of the current output cell\n",
       "var outputEl = gd.closest('.output');\n",
       "if (outputEl) {{\n",
       "    x.observe(outputEl, {childList: true});\n",
       "}}\n",
       "\n",
       "                        })                };                            </script>        </div>\n",
       "</body>\n",
       "</html>"
      ]
     },
     "metadata": {},
     "output_type": "display_data"
    }
   ],
   "source": [
    "fig = px.histogram(age, nbins=11,\n",
    "                   title='age distribution in the Bundestag',\n",
    "                   labels={'value':'age'}\n",
    "                   )\n",
    "\n",
    "fig.update_layout(\n",
    "    title='voterturnout per age group',\n",
    "    plot_bgcolor=\"white\",\n",
    "    showlegend=False\n",
    ")\n",
    "fig.update_yaxes(showgrid=True, gridwidth=1, gridcolor='#efefef', zeroline=True)\n",
    "\n",
    "fig.show()"
   ]
  },
  {
   "cell_type": "markdown",
   "metadata": {
    "id": "oWBhI_EePY1M"
   },
   "source": [
    "This histogram, used to depict the distribution of age among the members of parliament, shows that a bit more than half of the members of parliament are 50 years or older. We can confirm this by calculating the average age, which was 49.6 years.\n",
    " A look at the parliamentary group specific histograms shows some differences in the age composition. Most notably, the parliamentary groups of <i>FDP</i> and <i>GRÜNE</i> having more younger members while <i>CDU/CSU </i> and <i> AfD </i> have an older age structure. For better comparison between the histograms we used percentages and not total values."
   ]
  },
  {
   "cell_type": "code",
   "execution_count": null,
   "metadata": {
    "colab": {
     "base_uri": "https://localhost:8080/",
     "height": 817
    },
    "executionInfo": {
     "elapsed": 568,
     "status": "ok",
     "timestamp": 1657191159087,
     "user": {
      "displayName": "dl So",
      "userId": "09890886767013636828"
     },
     "user_tz": -120
    },
    "id": "V5oMDkClPY1N",
    "outputId": "4f74f256-a91c-4545-d39e-b922741d3630"
   },
   "outputs": [
    {
     "data": {
      "text/html": [
       "<html>\n",
       "<head><meta charset=\"utf-8\" /></head>\n",
       "<body>\n",
       "    <div>            <script src=\"https://cdnjs.cloudflare.com/ajax/libs/mathjax/2.7.5/MathJax.js?config=TeX-AMS-MML_SVG\"></script><script type=\"text/javascript\">if (window.MathJax) {MathJax.Hub.Config({SVG: {font: \"STIX-Web\"}});}</script>                <script type=\"text/javascript\">window.PlotlyConfig = {MathJaxConfig: 'local'};</script>\n",
       "        <script src=\"https://cdn.plot.ly/plotly-2.8.3.min.js\"></script>                <div id=\"ae8a1a40-5dcd-49bf-b06a-8070866c09d5\" class=\"plotly-graph-div\" style=\"height:800px; width:100%;\"></div>            <script type=\"text/javascript\">                                    window.PLOTLYENV=window.PLOTLYENV || {};                                    if (document.getElementById(\"ae8a1a40-5dcd-49bf-b06a-8070866c09d5\")) {                    Plotly.newPlot(                        \"ae8a1a40-5dcd-49bf-b06a-8070866c09d5\",                        [{\"autobinx\":false,\"histnorm\":\"percent\",\"marker\":{\"color\":\"#71be43\"},\"name\":\"Gr\\u00fcne\",\"x\":[33,49,34,37,58,34,51,38,32,34,46,41,33,53,47,40,41,51,54,54,56,57,47,56,41,51,64,48,32,59,65,48,38,38,62,51,50,38,49,35,41,36,57,40,46,42,64,52,49,39,51,62,45,42,35,51,45,64,36,61,53,54,40,63,38,60,53],\"xbins\":{\"end\":80,\"size\":5,\"start\":20},\"type\":\"histogram\",\"xaxis\":\"x6\",\"yaxis\":\"y6\"},{\"autobinx\":false,\"histnorm\":\"percent\",\"marker\":{\"color\":\"#ff08c1\"},\"name\":\"Die LINKE\",\"x\":[41,35,54,59,39,56,59,27,46,54,59,42,67,49,63,44,62,59,42,69,54,51,42,54,66,59,53,39,40,61,45,56,50,43,45,56,48,37,42,37,57,33,31,37,48,60,54,40,35,52,52,50,62,59,57,46,59,56,57,36,46,54,48,45,60,44,63,61,57],\"xbins\":{\"end\":80,\"size\":5,\"start\":20},\"type\":\"histogram\",\"xaxis\":\"x5\",\"yaxis\":\"y5\"},{\"autobinx\":false,\"histnorm\":\"percent\",\"marker\":{\"color\":\"#fff203\"},\"name\":\"FDP\",\"x\":[52,52,58,30,48,50,47,31,34,56,40,66,55,53,41,40,61,33,41,52,50,31,46,44,45,42,44,60,57,61,40,52,40,37,30,37,46,31,35,65,28,36,51,40,38,54,38,49,58,42,48,25,35,61,39,46,46,68,37,49,59,49,33,39,42,77,49,59,30,42,36,50,49,67,38,54,55,35,48,50],\"xbins\":{\"end\":80,\"size\":5,\"start\":20},\"type\":\"histogram\",\"xaxis\":\"x4\",\"yaxis\":\"y4\"},{\"autobinx\":false,\"histnorm\":\"percent\",\"marker\":{\"color\":\"#08c1ff\"},\"name\":\"AfD\",\"x\":[59,45,29,48,51,56,40,27,45,42,44,57,48,58,39,28,48,51,32,26,49,76,75,75,72,77,52,60,43,43,63,44,58,58,55,40,46,61,53,47,69,69,47,30,44,49,59,46,45,31,49,50,46,43,66,65,55,73,53,34,42,59,49,53,28,53,29,57,62,57,35,42,71,53,40,48,63,63,48,50,53,56,50,37,73,46,38,46,38,58,53,65,54,58],\"xbins\":{\"end\":80,\"size\":5,\"start\":20},\"type\":\"histogram\",\"xaxis\":\"x3\",\"yaxis\":\"y3\"},{\"autobinx\":false,\"histnorm\":\"percent\",\"marker\":{\"color\":\"#ec1b23\"},\"name\":\"SPD\",\"x\":[44,56,62,53,49,64,58,43,49,67,57,64,52,46,53,43,61,56,52,53,33,56,50,45,49,57,66,64,58,57,46,55,41,51,61,42,62,47,48,40,56,45,54,40,59,65,59,64,35,48,50,58,55,47,54,30,63,57,49,42,65,39,50,37,32,50,52,53,54,41,52,53,51,54,46,56,63,49,53,59,33,49,34,58,53,37,58,47,53,58,63,31,30,50,52,62,49,58,36,45,49,46,50,55,55,42,31,41,53,66,47,40,49,34,50,65,46,55,58,44,44,68,51,41,34,40,41,65,62,49,63,47,43,52,55,61,41,52,54,47,49,53,53,53,53,46,62,57,34,55,57,47,36],\"xbins\":{\"end\":80,\"size\":5,\"start\":20},\"type\":\"histogram\",\"xaxis\":\"x2\",\"yaxis\":\"y2\"},{\"autobinx\":false,\"histnorm\":\"percent\",\"marker\":{\"color\":\"#000000\"},\"name\":\"CDU/CSU\",\"x\":[65,49,45,59,25,42,65,36,61,57,56,45,41,33,47,38,55,38,65,63,44,50,45,44,55,49,50,53,59,50,64,54,52,54,51,54,44,65,57,46,61,66,59,52,56,51,57,53,58,62,46,55,51,47,51,46,54,40,33,51,56,53,53,39,63,52,41,45,41,59,45,65,44,42,39,46,38,68,48,28,54,58,57,50,55,40,38,42,53,48,56,50,66,58,63,50,42,59,57,40,54,31,42,55,38,63,50,56,48,56,63,36,53,60,68,65,54,47,28,50,52,58,42,46,49,56,70,50,32,55,55,43,63,60,57,58,52,39,62,51,66,75,38,41,51,49,34,31,63,60,56,49,55,61,65,46,36,42,37,51,41,45,49,44,30,47,53,59,50,58,43,53,62,49,62,53,38,62,56,41,58,43,62,54,42,45,52,50,61,59,58,32,32,51,51,56,55,51,32,56,54,41,39,40,46,47,46,43,60,53,43,42,61,47,67,44,45,48,41,58,36,47,62,42,44,68,62,62,42,48,37,30,53,52,63,49,43,60,49,36,32,43,63,42,41,30],\"xbins\":{\"end\":80,\"size\":5,\"start\":20},\"type\":\"histogram\",\"xaxis\":\"x\",\"yaxis\":\"y\"}],                        {\"template\":{\"data\":{\"bar\":[{\"error_x\":{\"color\":\"#2a3f5f\"},\"error_y\":{\"color\":\"#2a3f5f\"},\"marker\":{\"line\":{\"color\":\"#E5ECF6\",\"width\":0.5},\"pattern\":{\"fillmode\":\"overlay\",\"size\":10,\"solidity\":0.2}},\"type\":\"bar\"}],\"barpolar\":[{\"marker\":{\"line\":{\"color\":\"#E5ECF6\",\"width\":0.5},\"pattern\":{\"fillmode\":\"overlay\",\"size\":10,\"solidity\":0.2}},\"type\":\"barpolar\"}],\"carpet\":[{\"aaxis\":{\"endlinecolor\":\"#2a3f5f\",\"gridcolor\":\"white\",\"linecolor\":\"white\",\"minorgridcolor\":\"white\",\"startlinecolor\":\"#2a3f5f\"},\"baxis\":{\"endlinecolor\":\"#2a3f5f\",\"gridcolor\":\"white\",\"linecolor\":\"white\",\"minorgridcolor\":\"white\",\"startlinecolor\":\"#2a3f5f\"},\"type\":\"carpet\"}],\"choropleth\":[{\"colorbar\":{\"outlinewidth\":0,\"ticks\":\"\"},\"type\":\"choropleth\"}],\"contour\":[{\"colorbar\":{\"outlinewidth\":0,\"ticks\":\"\"},\"colorscale\":[[0.0,\"#0d0887\"],[0.1111111111111111,\"#46039f\"],[0.2222222222222222,\"#7201a8\"],[0.3333333333333333,\"#9c179e\"],[0.4444444444444444,\"#bd3786\"],[0.5555555555555556,\"#d8576b\"],[0.6666666666666666,\"#ed7953\"],[0.7777777777777778,\"#fb9f3a\"],[0.8888888888888888,\"#fdca26\"],[1.0,\"#f0f921\"]],\"type\":\"contour\"}],\"contourcarpet\":[{\"colorbar\":{\"outlinewidth\":0,\"ticks\":\"\"},\"type\":\"contourcarpet\"}],\"heatmap\":[{\"colorbar\":{\"outlinewidth\":0,\"ticks\":\"\"},\"colorscale\":[[0.0,\"#0d0887\"],[0.1111111111111111,\"#46039f\"],[0.2222222222222222,\"#7201a8\"],[0.3333333333333333,\"#9c179e\"],[0.4444444444444444,\"#bd3786\"],[0.5555555555555556,\"#d8576b\"],[0.6666666666666666,\"#ed7953\"],[0.7777777777777778,\"#fb9f3a\"],[0.8888888888888888,\"#fdca26\"],[1.0,\"#f0f921\"]],\"type\":\"heatmap\"}],\"heatmapgl\":[{\"colorbar\":{\"outlinewidth\":0,\"ticks\":\"\"},\"colorscale\":[[0.0,\"#0d0887\"],[0.1111111111111111,\"#46039f\"],[0.2222222222222222,\"#7201a8\"],[0.3333333333333333,\"#9c179e\"],[0.4444444444444444,\"#bd3786\"],[0.5555555555555556,\"#d8576b\"],[0.6666666666666666,\"#ed7953\"],[0.7777777777777778,\"#fb9f3a\"],[0.8888888888888888,\"#fdca26\"],[1.0,\"#f0f921\"]],\"type\":\"heatmapgl\"}],\"histogram\":[{\"marker\":{\"pattern\":{\"fillmode\":\"overlay\",\"size\":10,\"solidity\":0.2}},\"type\":\"histogram\"}],\"histogram2d\":[{\"colorbar\":{\"outlinewidth\":0,\"ticks\":\"\"},\"colorscale\":[[0.0,\"#0d0887\"],[0.1111111111111111,\"#46039f\"],[0.2222222222222222,\"#7201a8\"],[0.3333333333333333,\"#9c179e\"],[0.4444444444444444,\"#bd3786\"],[0.5555555555555556,\"#d8576b\"],[0.6666666666666666,\"#ed7953\"],[0.7777777777777778,\"#fb9f3a\"],[0.8888888888888888,\"#fdca26\"],[1.0,\"#f0f921\"]],\"type\":\"histogram2d\"}],\"histogram2dcontour\":[{\"colorbar\":{\"outlinewidth\":0,\"ticks\":\"\"},\"colorscale\":[[0.0,\"#0d0887\"],[0.1111111111111111,\"#46039f\"],[0.2222222222222222,\"#7201a8\"],[0.3333333333333333,\"#9c179e\"],[0.4444444444444444,\"#bd3786\"],[0.5555555555555556,\"#d8576b\"],[0.6666666666666666,\"#ed7953\"],[0.7777777777777778,\"#fb9f3a\"],[0.8888888888888888,\"#fdca26\"],[1.0,\"#f0f921\"]],\"type\":\"histogram2dcontour\"}],\"mesh3d\":[{\"colorbar\":{\"outlinewidth\":0,\"ticks\":\"\"},\"type\":\"mesh3d\"}],\"parcoords\":[{\"line\":{\"colorbar\":{\"outlinewidth\":0,\"ticks\":\"\"}},\"type\":\"parcoords\"}],\"pie\":[{\"automargin\":true,\"type\":\"pie\"}],\"scatter\":[{\"marker\":{\"colorbar\":{\"outlinewidth\":0,\"ticks\":\"\"}},\"type\":\"scatter\"}],\"scatter3d\":[{\"line\":{\"colorbar\":{\"outlinewidth\":0,\"ticks\":\"\"}},\"marker\":{\"colorbar\":{\"outlinewidth\":0,\"ticks\":\"\"}},\"type\":\"scatter3d\"}],\"scattercarpet\":[{\"marker\":{\"colorbar\":{\"outlinewidth\":0,\"ticks\":\"\"}},\"type\":\"scattercarpet\"}],\"scattergeo\":[{\"marker\":{\"colorbar\":{\"outlinewidth\":0,\"ticks\":\"\"}},\"type\":\"scattergeo\"}],\"scattergl\":[{\"marker\":{\"colorbar\":{\"outlinewidth\":0,\"ticks\":\"\"}},\"type\":\"scattergl\"}],\"scattermapbox\":[{\"marker\":{\"colorbar\":{\"outlinewidth\":0,\"ticks\":\"\"}},\"type\":\"scattermapbox\"}],\"scatterpolar\":[{\"marker\":{\"colorbar\":{\"outlinewidth\":0,\"ticks\":\"\"}},\"type\":\"scatterpolar\"}],\"scatterpolargl\":[{\"marker\":{\"colorbar\":{\"outlinewidth\":0,\"ticks\":\"\"}},\"type\":\"scatterpolargl\"}],\"scatterternary\":[{\"marker\":{\"colorbar\":{\"outlinewidth\":0,\"ticks\":\"\"}},\"type\":\"scatterternary\"}],\"surface\":[{\"colorbar\":{\"outlinewidth\":0,\"ticks\":\"\"},\"colorscale\":[[0.0,\"#0d0887\"],[0.1111111111111111,\"#46039f\"],[0.2222222222222222,\"#7201a8\"],[0.3333333333333333,\"#9c179e\"],[0.4444444444444444,\"#bd3786\"],[0.5555555555555556,\"#d8576b\"],[0.6666666666666666,\"#ed7953\"],[0.7777777777777778,\"#fb9f3a\"],[0.8888888888888888,\"#fdca26\"],[1.0,\"#f0f921\"]],\"type\":\"surface\"}],\"table\":[{\"cells\":{\"fill\":{\"color\":\"#EBF0F8\"},\"line\":{\"color\":\"white\"}},\"header\":{\"fill\":{\"color\":\"#C8D4E3\"},\"line\":{\"color\":\"white\"}},\"type\":\"table\"}]},\"layout\":{\"annotationdefaults\":{\"arrowcolor\":\"#2a3f5f\",\"arrowhead\":0,\"arrowwidth\":1},\"autotypenumbers\":\"strict\",\"coloraxis\":{\"colorbar\":{\"outlinewidth\":0,\"ticks\":\"\"}},\"colorscale\":{\"diverging\":[[0,\"#8e0152\"],[0.1,\"#c51b7d\"],[0.2,\"#de77ae\"],[0.3,\"#f1b6da\"],[0.4,\"#fde0ef\"],[0.5,\"#f7f7f7\"],[0.6,\"#e6f5d0\"],[0.7,\"#b8e186\"],[0.8,\"#7fbc41\"],[0.9,\"#4d9221\"],[1,\"#276419\"]],\"sequential\":[[0.0,\"#0d0887\"],[0.1111111111111111,\"#46039f\"],[0.2222222222222222,\"#7201a8\"],[0.3333333333333333,\"#9c179e\"],[0.4444444444444444,\"#bd3786\"],[0.5555555555555556,\"#d8576b\"],[0.6666666666666666,\"#ed7953\"],[0.7777777777777778,\"#fb9f3a\"],[0.8888888888888888,\"#fdca26\"],[1.0,\"#f0f921\"]],\"sequentialminus\":[[0.0,\"#0d0887\"],[0.1111111111111111,\"#46039f\"],[0.2222222222222222,\"#7201a8\"],[0.3333333333333333,\"#9c179e\"],[0.4444444444444444,\"#bd3786\"],[0.5555555555555556,\"#d8576b\"],[0.6666666666666666,\"#ed7953\"],[0.7777777777777778,\"#fb9f3a\"],[0.8888888888888888,\"#fdca26\"],[1.0,\"#f0f921\"]]},\"colorway\":[\"#636efa\",\"#EF553B\",\"#00cc96\",\"#ab63fa\",\"#FFA15A\",\"#19d3f3\",\"#FF6692\",\"#B6E880\",\"#FF97FF\",\"#FECB52\"],\"font\":{\"color\":\"#2a3f5f\"},\"geo\":{\"bgcolor\":\"white\",\"lakecolor\":\"white\",\"landcolor\":\"#E5ECF6\",\"showlakes\":true,\"showland\":true,\"subunitcolor\":\"white\"},\"hoverlabel\":{\"align\":\"left\"},\"hovermode\":\"closest\",\"mapbox\":{\"style\":\"light\"},\"paper_bgcolor\":\"white\",\"plot_bgcolor\":\"#E5ECF6\",\"polar\":{\"angularaxis\":{\"gridcolor\":\"white\",\"linecolor\":\"white\",\"ticks\":\"\"},\"bgcolor\":\"#E5ECF6\",\"radialaxis\":{\"gridcolor\":\"white\",\"linecolor\":\"white\",\"ticks\":\"\"}},\"scene\":{\"xaxis\":{\"backgroundcolor\":\"#E5ECF6\",\"gridcolor\":\"white\",\"gridwidth\":2,\"linecolor\":\"white\",\"showbackground\":true,\"ticks\":\"\",\"zerolinecolor\":\"white\"},\"yaxis\":{\"backgroundcolor\":\"#E5ECF6\",\"gridcolor\":\"white\",\"gridwidth\":2,\"linecolor\":\"white\",\"showbackground\":true,\"ticks\":\"\",\"zerolinecolor\":\"white\"},\"zaxis\":{\"backgroundcolor\":\"#E5ECF6\",\"gridcolor\":\"white\",\"gridwidth\":2,\"linecolor\":\"white\",\"showbackground\":true,\"ticks\":\"\",\"zerolinecolor\":\"white\"}},\"shapedefaults\":{\"line\":{\"color\":\"#2a3f5f\"}},\"ternary\":{\"aaxis\":{\"gridcolor\":\"white\",\"linecolor\":\"white\",\"ticks\":\"\"},\"baxis\":{\"gridcolor\":\"white\",\"linecolor\":\"white\",\"ticks\":\"\"},\"bgcolor\":\"#E5ECF6\",\"caxis\":{\"gridcolor\":\"white\",\"linecolor\":\"white\",\"ticks\":\"\"}},\"title\":{\"x\":0.05},\"xaxis\":{\"automargin\":true,\"gridcolor\":\"white\",\"linecolor\":\"white\",\"ticks\":\"\",\"title\":{\"standoff\":15},\"zerolinecolor\":\"white\",\"zerolinewidth\":2},\"yaxis\":{\"automargin\":true,\"gridcolor\":\"white\",\"linecolor\":\"white\",\"ticks\":\"\",\"title\":{\"standoff\":15},\"zerolinecolor\":\"white\",\"zerolinewidth\":2}}},\"xaxis\":{\"anchor\":\"y\",\"domain\":[0.0,0.2888888888888889],\"matches\":\"x4\",\"showticklabels\":false},\"yaxis\":{\"anchor\":\"x\",\"domain\":[0.575,1.0],\"title\":{\"text\":\"percentage\"},\"showgrid\":true,\"gridwidth\":1,\"gridcolor\":\"#efefef\"},\"xaxis2\":{\"anchor\":\"y2\",\"domain\":[0.35555555555555557,0.6444444444444445],\"matches\":\"x5\",\"showticklabels\":false},\"yaxis2\":{\"anchor\":\"x2\",\"domain\":[0.575,1.0],\"matches\":\"y\",\"showticklabels\":false,\"showgrid\":true,\"gridwidth\":1,\"gridcolor\":\"#efefef\"},\"xaxis3\":{\"anchor\":\"y3\",\"domain\":[0.7111111111111111,1.0],\"matches\":\"x6\",\"showticklabels\":false},\"yaxis3\":{\"anchor\":\"x3\",\"domain\":[0.575,1.0],\"matches\":\"y\",\"showticklabels\":false,\"showgrid\":true,\"gridwidth\":1,\"gridcolor\":\"#efefef\"},\"xaxis4\":{\"anchor\":\"y4\",\"domain\":[0.0,0.2888888888888889]},\"yaxis4\":{\"anchor\":\"x4\",\"domain\":[0.0,0.425],\"showgrid\":true,\"gridwidth\":1,\"gridcolor\":\"#efefef\"},\"xaxis5\":{\"anchor\":\"y5\",\"domain\":[0.35555555555555557,0.6444444444444445],\"title\":{\"text\":\"age\"}},\"yaxis5\":{\"anchor\":\"x5\",\"domain\":[0.0,0.425],\"matches\":\"y4\",\"showticklabels\":false,\"showgrid\":true,\"gridwidth\":1,\"gridcolor\":\"#efefef\"},\"xaxis6\":{\"anchor\":\"y6\",\"domain\":[0.7111111111111111,1.0]},\"yaxis6\":{\"anchor\":\"x6\",\"domain\":[0.0,0.425],\"matches\":\"y4\",\"showticklabels\":false,\"showgrid\":true,\"gridwidth\":1,\"gridcolor\":\"#efefef\"},\"title\":{\"text\":\"age distribution per party\"},\"height\":800,\"showlegend\":true,\"plot_bgcolor\":\"white\"},                        {\"responsive\": true}                    ).then(function(){\n",
       "                            \n",
       "var gd = document.getElementById('ae8a1a40-5dcd-49bf-b06a-8070866c09d5');\n",
       "var x = new MutationObserver(function (mutations, observer) {{\n",
       "        var display = window.getComputedStyle(gd).display;\n",
       "        if (!display || display === 'none') {{\n",
       "            console.log([gd, 'removed!']);\n",
       "            Plotly.purge(gd);\n",
       "            observer.disconnect();\n",
       "        }}\n",
       "}});\n",
       "\n",
       "// Listen for the removal of the full notebook cells\n",
       "var notebookContainer = gd.closest('#notebook-container');\n",
       "if (notebookContainer) {{\n",
       "    x.observe(notebookContainer, {childList: true});\n",
       "}}\n",
       "\n",
       "// Listen for the clearing of the current output cell\n",
       "var outputEl = gd.closest('.output');\n",
       "if (outputEl) {{\n",
       "    x.observe(outputEl, {childList: true});\n",
       "}}\n",
       "\n",
       "                        })                };                            </script>        </div>\n",
       "</body>\n",
       "</html>"
      ]
     },
     "metadata": {},
     "output_type": "display_data"
    }
   ],
   "source": [
    "#make subplots\n",
    "fig = make_subplots(\n",
    "    rows=2, cols=3,\n",
    "    shared_yaxes=True,\n",
    "    shared_xaxes=True,\n",
    "    #vertical_spacing=0.03,\n",
    ")\n",
    "\n",
    "fig.add_trace(\n",
    "    go.Histogram(\n",
    "        x=mdb[mdb['Partei_KurzBez']=='GRÜNE']['Alter'],\n",
    "        histnorm ='percent',\n",
    "        xbins=dict( # bins used for histogram\n",
    "            start=20,\n",
    "            end=80,\n",
    "            size=5\n",
    "        ),\n",
    "        autobinx = False,\n",
    "        name=\"Grüne\", \n",
    "        marker_color=colors_parties['BÜNDNIS 90/DIE GRÜNEN'],\n",
    "    ),\n",
    "    row=2, col=3\n",
    ")\n",
    "\n",
    "fig.add_trace(\n",
    "    go.Histogram(\n",
    "        x=mdb[mdb['Partei_KurzBez']=='DIE LINKE']['Alter'],\n",
    "        histnorm ='percent',\n",
    "        xbins=dict( # bins used for histogram\n",
    "            start=20,\n",
    "            end=80,\n",
    "            size=5\n",
    "        ),\n",
    "        autobinx = False,\n",
    "        name=\"Die LINKE\",\n",
    "        marker_color=colors_parties['DIE LINKE'],\n",
    "    ),\n",
    "    row=2, col=2\n",
    ")\n",
    "\n",
    "fig.add_trace(\n",
    "    go.Histogram(\n",
    "        x=mdb[mdb['Partei_KurzBez']=='FDP']['Alter'],\n",
    "        histnorm ='percent',\n",
    "        xbins=dict( # bins used for histogram\n",
    "            start=20,\n",
    "            end=80,\n",
    "            size=5\n",
    "        ),\n",
    "        autobinx = False,\n",
    "        name=\"FDP\",\n",
    "        marker_color=colors_parties['FDP'],\n",
    "    ),\n",
    "    row=2, col=1\n",
    ")\n",
    "\n",
    "fig.add_trace(\n",
    "    go.Histogram(\n",
    "        x=mdb[mdb['Partei_KurzBez']=='AfD']['Alter'],\n",
    "        histnorm ='percent',\n",
    "        xbins=dict( # bins used for histogram\n",
    "            start=20,\n",
    "            end=80,\n",
    "            size=5\n",
    "        ),\n",
    "        autobinx = False,\n",
    "        name=\"AfD\",\n",
    "        marker_color=colors_parties['AFD'],\n",
    "    ),\n",
    "    row=1, col=3\n",
    ")\n",
    "\n",
    "fig.add_trace(\n",
    "    go.Histogram(\n",
    "        x=mdb[mdb['Partei_KurzBez']=='SPD']['Alter'],\n",
    "        histnorm ='percent',\n",
    "        xbins=dict( # bins used for histogram\n",
    "            start=20,\n",
    "            end=80,\n",
    "            size=5\n",
    "        ),\n",
    "        autobinx = False,\n",
    "        name=\"SPD\",\n",
    "        marker_color=colors_parties['SPD'],\n",
    "    ),\n",
    "    row=1, col=2\n",
    ")\n",
    "\n",
    "fig.add_trace(\n",
    "    go.Histogram(\n",
    "        x=list(mdb[mdb['Partei_KurzBez']=='CDU']['Alter'])+list(mdb[mdb['Partei_KurzBez']=='CSU']['Alter']),\n",
    "        histnorm ='percent',\n",
    "        xbins=dict( # bins used for histogram\n",
    "            start=20,\n",
    "            end=80,\n",
    "            size=5\n",
    "        ),\n",
    "        autobinx = False,\n",
    "        name=\"CDU/CSU\",\n",
    "        marker_color=colors_parties['CDU/CSU'],\n",
    "    ),\n",
    "    row=1, col=1\n",
    ")\n",
    "\n",
    "fig.update_layout(\n",
    "    height=800,\n",
    "    showlegend=True,\n",
    "    title_text=\"age distribution per party\",\n",
    "    #xaxis_title_text='Alter', #xaxis for all plots noch dazu adden\n",
    "    yaxis_title_text='percentage',\n",
    "    #xaxis_title_text='age',\n",
    "    plot_bgcolor='white',\n",
    ")\n",
    "\n",
    "fig.update_yaxes(showgrid=True, gridwidth=1, gridcolor='#efefef')#, title_text='percentage')\n",
    "fig.update_xaxes(title_text=\"age\", row=2, col=2)\n",
    "\n",
    "fig.show()"
   ]
  },
  {
   "cell_type": "markdown",
   "metadata": {
    "id": "m2jP6qtpPY1O"
   },
   "source": [
    "# winners in the constituencies"
   ]
  },
  {
   "cell_type": "markdown",
   "metadata": {
    "id": "pbN80sYOPY1P"
   },
   "source": [
    "So far we only showed the overall results of first and second votes per party. However, this does not help in understanding regional substructures, therefore in this final part of contextualizing the election results, we show the strongest party per constitutency. In genereal this part is intended for the viewer to familiarize with the regional distributions showing the strength and weaknesses of parties in different areas. Theese can play a role in the important topics during an election campaign and their influence in the voting decision and is thus the missing component for a comprehensive contetxualization of our #btw17-dataset. <br>\n",
    "In the following we present two maps, that show every constitutency of germany and they are colored according to the party who got the most votes in this area. This is done for the first and second vote seperately. By hovering over the different regions, the name of the constitutency as well as the name of the direct candidate who won there (for the map showing the first votes) or the precentage with which the party won there (for the map showing the second votes) along with some other information can be obtained. <br>\n",
    "<br>\n",
    "The geographical information used to create the following maps was taken from the <a href=\"https://bundeswahlleiter.de/bundestagswahlen/2017/wahlkreiseinteilung/downloads.html\"> Bundeswahlleiter </a> [4]. \n"
   ]
  },
  {
   "cell_type": "code",
   "execution_count": 28,
   "metadata": {
    "executionInfo": {
     "elapsed": 1416,
     "status": "ok",
     "timestamp": 1657276971306,
     "user": {
      "displayName": "dl So",
      "userId": "09890886767013636828"
     },
     "user_tz": -120
    },
    "id": "3r6FxrQqPY1S"
   },
   "outputs": [],
   "source": [
    "wahlbezirke = pd.read_excel('data/btw17_erg_Wahlkreis.xlsx')\n",
    "wahlbezirke = wahlbezirke.fillna(0)\n",
    "\n",
    "df_wahlkreise = pd.DataFrame()\n",
    "df_wahlkreise['Wahlbezirk'] = wahlbezirke['Gebiet']\n",
    "df_wahlkreise['Wahlbezirk_ID'] = wahlbezirke['Nr']"
   ]
  },
  {
   "cell_type": "code",
   "execution_count": 29,
   "metadata": {
    "executionInfo": {
     "elapsed": 21,
     "status": "ok",
     "timestamp": 1657276971311,
     "user": {
      "displayName": "dl So",
      "userId": "09890886767013636828"
     },
     "user_tz": -120
    },
    "id": "jnopiJUJPY1T"
   },
   "outputs": [],
   "source": [
    "parteien_order = ['CDU', 'CSU', 'SPD', 'LINKE', 'GRUENE', 'FDP', 'AFD']\n",
    "relevant_columns_erst = [p+'_Erststimmen_Endgültig' for p in parteien_order]\n",
    "relevant_columns_zweit = [p+'_Zweitstimmen_Endgültig' for p in parteien_order]\n",
    "\n",
    "partei_erststimme = []\n",
    "partei_erg_erststimme = []\n",
    "partei_zweitstimme = []\n",
    "partei_erg_zweitstimme = []\n",
    "\n",
    "for wor in wahlbezirke.iloc:\n",
    "    stimmen_ergebnisse_erst = [wor[rc] for rc in relevant_columns_erst]\n",
    "    partei_erststimme.append(parteien_order[np.argmax(stimmen_ergebnisse_erst)])\n",
    "    partei_erg_erststimme.append(max(stimmen_ergebnisse_erst)/wor['Waehler_Erststimmen_Endgültig'])\n",
    "    stimmen_ergebnisse_zweit = [wor[rc] for rc in relevant_columns_zweit]\n",
    "    partei_zweitstimme.append(parteien_order[np.argmax(stimmen_ergebnisse_zweit)])\n",
    "    partei_erg_zweitstimme.append(max(stimmen_ergebnisse_zweit)/wor['Waehler_Zweitstimmen_Endgültig'])\n",
    "    "
   ]
  },
  {
   "cell_type": "code",
   "execution_count": 30,
   "metadata": {
    "executionInfo": {
     "elapsed": 15,
     "status": "ok",
     "timestamp": 1657276971313,
     "user": {
      "displayName": "dl So",
      "userId": "09890886767013636828"
     },
     "user_tz": -120
    },
    "id": "ykc16JQhPY1T"
   },
   "outputs": [],
   "source": [
    "df_wahlkreise['Gewinner_Erststimmen_Partei'] = partei_erststimme\n",
    "df_wahlkreise['Gewinner_Zweitstimmen_Partei'] = partei_zweitstimme\n",
    "df_wahlkreise['Erg_Erst'] = partei_erg_erststimme\n",
    "df_wahlkreise['Erg_Zweit'] = partei_erg_zweitstimme"
   ]
  },
  {
   "cell_type": "code",
   "execution_count": 31,
   "metadata": {
    "executionInfo": {
     "elapsed": 586,
     "status": "ok",
     "timestamp": 1657276971886,
     "user": {
      "displayName": "dl So",
      "userId": "09890886767013636828"
     },
     "user_tz": -120
    },
    "id": "hj-AS9XoPY1U"
   },
   "outputs": [],
   "source": [
    "#add name of the candidate who won the constitutiency\n",
    "filtered_mdb_erst = mdb[mdb['Gewählt_Stimmenart']=='E']\n",
    "filtered_mdb_erst = filtered_mdb_erst.sort_values(by=['Gewählt_Wahlkreis_Nr'])\n",
    "name_mdb_erst = [entry['Vorname'] + ' ' + entry['Name'] for entry in filtered_mdb_erst.iloc]\n",
    "df_wahlkreise['MdB_Wahlkreis'] = name_mdb_erst"
   ]
  },
  {
   "cell_type": "code",
   "execution_count": 32,
   "metadata": {
    "executionInfo": {
     "elapsed": 348,
     "status": "ok",
     "timestamp": 1657276972221,
     "user": {
      "displayName": "dl So",
      "userId": "09890886767013636828"
     },
     "user_tz": -120
    },
    "id": "orcDueHnPY1U"
   },
   "outputs": [],
   "source": [
    "election_df = df_wahlkreise\n",
    "geoj = gpd.read_file('data/Geometrie_Wahlkreise_19DBT_geo.geojson')\n",
    "geoj = geoj.rename(columns={'WKR_NR':'constitutency number'})"
   ]
  },
  {
   "cell_type": "code",
   "execution_count": 33,
   "metadata": {
    "executionInfo": {
     "elapsed": 3,
     "status": "ok",
     "timestamp": 1657276972221,
     "user": {
      "displayName": "dl So",
      "userId": "09890886767013636828"
     },
     "user_tz": -120
    },
    "id": "DNJ8FBeVrcca"
   },
   "outputs": [],
   "source": [
    "election_df['Erg_Zweit'] = np.round(election_df['Erg_Zweit']*100, 2)"
   ]
  },
  {
   "cell_type": "code",
   "execution_count": 34,
   "metadata": {
    "executionInfo": {
     "elapsed": 4,
     "status": "ok",
     "timestamp": 1657276973041,
     "user": {
      "displayName": "dl So",
      "userId": "09890886767013636828"
     },
     "user_tz": -120
    },
    "id": "jnGHvglokwNC"
   },
   "outputs": [],
   "source": [
    "#rename columns to better description as hovertext\n",
    "election_df.rename(columns = {'Gewinner_Erststimmen_Partei':'winning party (first votes)', 'Wahlbezirk': 'constitutency', 'MdB_Wahlkreis':'direct mandate winner', 'Wahlbezirk_ID': 'constitutency number', 'Gewinner_Zweitstimmen_Partei': 'winning party (second votes)', 'Erg_Zweit': 'percentage of votes for winner'}, inplace = True)\n"
   ]
  },
  {
   "cell_type": "code",
   "execution_count": 35,
   "metadata": {
    "colab": {
     "base_uri": "https://localhost:8080/",
     "height": 817,
     "output_embedded_package_id": "1WncXj3BRjZIPWbDM9gmCkOtkZJhghYvZ"
    },
    "executionInfo": {
     "elapsed": 51857,
     "status": "ok",
     "timestamp": 1657277026299,
     "user": {
      "displayName": "dl So",
      "userId": "09890886767013636828"
     },
     "user_tz": -120
    },
    "id": "LBoMYCPQPY1V",
    "outputId": "0680e4b0-cd61-4d6d-de0c-0c57709e5890"
   },
   "outputs": [
    {
     "data": {
      "text/plain": [
       "Output hidden; open in https://colab.research.google.com to view."
      ]
     },
     "metadata": {},
     "output_type": "display_data"
    }
   ],
   "source": [
    "#plotting our election map - first votes\n",
    "fig = px.choropleth_mapbox(\n",
    "      election_df,\n",
    "      geojson = geoj ,\n",
    "      color = 'winning party (first votes)', #Gewinner_Erststimmen_Partei',\n",
    "      locations = 'constitutency number',#'Wahlbezirk_ID',\n",
    "      featureidkey = 'properties.constitutency number',\n",
    "      center = {'lat': 51.420836, 'lon': 10.373681},\n",
    "      mapbox_style='white-bg',\n",
    "      zoom = 5,\n",
    "      title = 'Election Winners -  First Votes',\n",
    "      opacity = 1,\n",
    "      color_discrete_map = {\n",
    "          'CDU': colors_parties['CDU/CSU'], 'CSU': 'darkgrey', 'SPD': colors_parties['SPD'],\n",
    "          'FDP': colors_parties['FDP'], 'AFD': colors_parties['AFD'], 'LINKE': colors_parties['DIE LINKE'], \n",
    "          'GRUENE': colors_parties['BÜNDNIS 90/DIE GRÜNEN']},\n",
    "        hover_data = ['constitutency', 'direct mandate winner']\n",
    ")\n",
    "\n",
    "fig.update_layout(\n",
    "    autosize=False,\n",
    "    width=800,\n",
    "    height=800,)\n",
    "\n",
    "fig.show()"
   ]
  },
  {
   "cell_type": "code",
   "execution_count": 36,
   "metadata": {
    "colab": {
     "base_uri": "https://localhost:8080/",
     "height": 817,
     "output_embedded_package_id": "1hgyp0x2VXDNIu6zxi2DCG6B9MQPur7K4"
    },
    "executionInfo": {
     "elapsed": 114,
     "status": "ok",
     "timestamp": 1657277026300,
     "user": {
      "displayName": "dl So",
      "userId": "09890886767013636828"
     },
     "user_tz": -120
    },
    "id": "Hh5lz5ZkPY1V",
    "outputId": "5ff4a062-4a18-4b14-ab06-2cec350cc098"
   },
   "outputs": [
    {
     "data": {
      "text/plain": [
       "Output hidden; open in https://colab.research.google.com to view."
      ]
     },
     "metadata": {},
     "output_type": "display_data"
    }
   ],
   "source": [
    "#plotting our election map - second votes\n",
    "fig = px.choropleth_mapbox(\n",
    "    election_df,\n",
    "    geojson = geoj ,\n",
    "    color = 'winning party (second votes)',\n",
    "    locations = 'constitutency number',#'Wahlbezirk_ID',\n",
    "    featureidkey = 'properties.constitutency number',\n",
    "    center = {'lat': 51.420836, 'lon': 10.373681},\n",
    "    mapbox_style='white-bg',#'carto-positron', #white-bg\n",
    "    zoom = 5,\n",
    "    title = 'Election Winner - Second Votes',\n",
    "    opacity = 1,\n",
    "    color_discrete_map = {\n",
    "        'CDU': colors_parties['CDU/CSU'], 'CSU': 'darkgrey', 'SPD': colors_parties['SPD'],\n",
    "        'FDP': colors_parties['FDP'], 'AFD': colors_parties['AFD'], 'LINKE': colors_parties['DIE LINKE'], \n",
    "        'GRUENE': colors_parties['BÜNDNIS 90/DIE GRÜNEN'],\n",
    "    },\n",
    "    hover_data = ['constitutency', 'percentage of votes for winner']\n",
    ")\n",
    "\n",
    "fig.update_layout(\n",
    "    autosize=False,\n",
    "    width=800,\n",
    "    height=800,)\n",
    "\n",
    "fig.show()"
   ]
  },
  {
   "cell_type": "markdown",
   "metadata": {
    "id": "x0oGLm0CVlcN"
   },
   "source": [
    "Both maps show, that in most areas <i>CSU</i> or <i>CDU</i> won. However, in bigger cities this trends is not as clear. Furthermore, in the east of germany the AFD got a high number of votes and won some consistutencies. This can also be said for <i>Die Linke</i>, but in even more constitutencies the <i>AfD</i> got the most second votes. Overall the FDP did not win a constitutency or got the most second votes in one of them. The map for the second votes can only be well interpreted in comparison to the map showing the winners of the first votes. This is due to the process in which the second votes (along with the first votes) are used to decide which candidate other than the ones who won a direct mandate become a member of the Bundestag.\n",
    "Another note has to be made to avoid missleading interpretation: the number of inhabitants per constitutency is not equal for all of them. Even though an almost equal amount of inhabitants per constitutency is aimed at, it is not fully acchieved.  "
   ]
  },
  {
   "cell_type": "markdown",
   "metadata": {
    "id": "wnURdj_h45vQ"
   },
   "source": [
    "<h5> <b>conclusions </b></h5>\n",
    "This chapter presented a recap of the election results. Besides the winners, it is important to keep in mind, that the voting behaviour between the age groups differs as well as the age groups having different impacts on the end results.\n",
    "\n",
    "Overall when looking at the topics and networks visible in the #btw17-dataset, it will be interesting to compare this to the actual results. Thus this chapters main aim is connecting the analysis of twitter as a network for political discussion and communication with the election results to better understand how theese two could be connected and how representative of one another they are."
   ]
  },
  {
   "cell_type": "markdown",
   "metadata": {
    "id": "bN9VOc1gIVL3"
   },
   "source": [
    "<h5 id=\"sources\"> <b> sources mentioned: </b> </h5>\n",
    "[3] Der Bundeswahlleiter (2022): Ergebnisse - Der Bundeswahlleiter. Online available at https://bundeswahlleiter.de/bundestagswahlen/2017/ergebnisse.html, [date of access: 01.07.2022]. <br>\n",
    "[4] Der Bundeswahlleiter (2022): Downloads - Der Bundeswahlleiter. Online availabe at https://bundeswahlleiter.de/bundestagswahlen/2017/wahlkreiseinteilung/downloads.html, [date of access: 01.07.2022].\n"
   ]
  },
  {
   "cell_type": "code",
   "execution_count": null,
   "metadata": {},
   "outputs": [],
   "source": []
  }
 ],
 "metadata": {
  "colab": {
   "collapsed_sections": [],
   "name": "election_results.ipynb",
   "provenance": [],
   "toc_visible": true
  },
  "kernelspec": {
   "display_name": "Python 3 (ipykernel)",
   "language": "python",
   "name": "python3"
  },
  "language_info": {
   "codemirror_mode": {
    "name": "ipython",
    "version": 3
   },
   "file_extension": ".py",
   "mimetype": "text/x-python",
   "name": "python",
   "nbconvert_exporter": "python",
   "pygments_lexer": "ipython3",
   "version": "3.7.6"
  }
 },
 "nbformat": 4,
 "nbformat_minor": 1
}
