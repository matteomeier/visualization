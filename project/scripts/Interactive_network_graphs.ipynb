{
 "cells": [
  {
   "cell_type": "markdown",
   "id": "ee77b97d",
   "metadata": {},
   "source": [
    "# Interactive Network Visualization with Bokeh"
   ]
  },
  {
   "cell_type": "code",
   "execution_count": 1,
   "id": "eca3d1fc",
   "metadata": {},
   "outputs": [],
   "source": [
    "import pandas as pd\n",
    "import networkx\n",
    "from networkx.algorithms.community import modularity_max\n",
    "import matplotlib.pyplot as plt\n",
    "import numpy as np\n",
    "from bokeh.io import output_notebook, show, save\n",
    "from bokeh.models import Range1d, Circle, ColumnDataSource, MultiLine, EdgesAndLinkedNodes, NodesAndLinkedEdges, Label\n",
    "from bokeh.plotting import figure\n",
    "from bokeh.plotting import from_networkx\n",
    "from bokeh.palettes import viridis\n",
    "from bokeh.transform import linear_cmap\n",
    "from datetime import datetime\n",
    "from sklearn import preprocessing"
   ]
  },
  {
   "cell_type": "code",
   "execution_count": 829,
   "id": "a6f1970c",
   "metadata": {
    "scrolled": true
   },
   "outputs": [
    {
     "data": {
      "text/html": [
       "\n",
       "    <div class=\"bk-root\">\n",
       "        <a href=\"https://bokeh.org\" target=\"_blank\" class=\"bk-logo bk-logo-small bk-logo-notebook\"></a>\n",
       "        <span id=\"694903\">Loading BokehJS ...</span>\n",
       "    </div>"
      ]
     },
     "metadata": {},
     "output_type": "display_data"
    },
    {
     "data": {
      "application/javascript": [
       "\n",
       "(function(root) {\n",
       "  function now() {\n",
       "    return new Date();\n",
       "  }\n",
       "\n",
       "  var force = true;\n",
       "\n",
       "  if (typeof root._bokeh_onload_callbacks === \"undefined\" || force === true) {\n",
       "    root._bokeh_onload_callbacks = [];\n",
       "    root._bokeh_is_loading = undefined;\n",
       "  }\n",
       "\n",
       "  var JS_MIME_TYPE = 'application/javascript';\n",
       "  var HTML_MIME_TYPE = 'text/html';\n",
       "  var EXEC_MIME_TYPE = 'application/vnd.bokehjs_exec.v0+json';\n",
       "  var CLASS_NAME = 'output_bokeh rendered_html';\n",
       "\n",
       "  /**\n",
       "   * Render data to the DOM node\n",
       "   */\n",
       "  function render(props, node) {\n",
       "    var script = document.createElement(\"script\");\n",
       "    node.appendChild(script);\n",
       "  }\n",
       "\n",
       "  /**\n",
       "   * Handle when an output is cleared or removed\n",
       "   */\n",
       "  function handleClearOutput(event, handle) {\n",
       "    var cell = handle.cell;\n",
       "\n",
       "    var id = cell.output_area._bokeh_element_id;\n",
       "    var server_id = cell.output_area._bokeh_server_id;\n",
       "    // Clean up Bokeh references\n",
       "    if (id != null && id in Bokeh.index) {\n",
       "      Bokeh.index[id].model.document.clear();\n",
       "      delete Bokeh.index[id];\n",
       "    }\n",
       "\n",
       "    if (server_id !== undefined) {\n",
       "      // Clean up Bokeh references\n",
       "      var cmd = \"from bokeh.io.state import curstate; print(curstate().uuid_to_server['\" + server_id + \"'].get_sessions()[0].document.roots[0]._id)\";\n",
       "      cell.notebook.kernel.execute(cmd, {\n",
       "        iopub: {\n",
       "          output: function(msg) {\n",
       "            var id = msg.content.text.trim();\n",
       "            if (id in Bokeh.index) {\n",
       "              Bokeh.index[id].model.document.clear();\n",
       "              delete Bokeh.index[id];\n",
       "            }\n",
       "          }\n",
       "        }\n",
       "      });\n",
       "      // Destroy server and session\n",
       "      var cmd = \"import bokeh.io.notebook as ion; ion.destroy_server('\" + server_id + \"')\";\n",
       "      cell.notebook.kernel.execute(cmd);\n",
       "    }\n",
       "  }\n",
       "\n",
       "  /**\n",
       "   * Handle when a new output is added\n",
       "   */\n",
       "  function handleAddOutput(event, handle) {\n",
       "    var output_area = handle.output_area;\n",
       "    var output = handle.output;\n",
       "\n",
       "    // limit handleAddOutput to display_data with EXEC_MIME_TYPE content only\n",
       "    if ((output.output_type != \"display_data\") || (!Object.prototype.hasOwnProperty.call(output.data, EXEC_MIME_TYPE))) {\n",
       "      return\n",
       "    }\n",
       "\n",
       "    var toinsert = output_area.element.find(\".\" + CLASS_NAME.split(' ')[0]);\n",
       "\n",
       "    if (output.metadata[EXEC_MIME_TYPE][\"id\"] !== undefined) {\n",
       "      toinsert[toinsert.length - 1].firstChild.textContent = output.data[JS_MIME_TYPE];\n",
       "      // store reference to embed id on output_area\n",
       "      output_area._bokeh_element_id = output.metadata[EXEC_MIME_TYPE][\"id\"];\n",
       "    }\n",
       "    if (output.metadata[EXEC_MIME_TYPE][\"server_id\"] !== undefined) {\n",
       "      var bk_div = document.createElement(\"div\");\n",
       "      bk_div.innerHTML = output.data[HTML_MIME_TYPE];\n",
       "      var script_attrs = bk_div.children[0].attributes;\n",
       "      for (var i = 0; i < script_attrs.length; i++) {\n",
       "        toinsert[toinsert.length - 1].firstChild.setAttribute(script_attrs[i].name, script_attrs[i].value);\n",
       "        toinsert[toinsert.length - 1].firstChild.textContent = bk_div.children[0].textContent\n",
       "      }\n",
       "      // store reference to server id on output_area\n",
       "      output_area._bokeh_server_id = output.metadata[EXEC_MIME_TYPE][\"server_id\"];\n",
       "    }\n",
       "  }\n",
       "\n",
       "  function register_renderer(events, OutputArea) {\n",
       "\n",
       "    function append_mime(data, metadata, element) {\n",
       "      // create a DOM node to render to\n",
       "      var toinsert = this.create_output_subarea(\n",
       "        metadata,\n",
       "        CLASS_NAME,\n",
       "        EXEC_MIME_TYPE\n",
       "      );\n",
       "      this.keyboard_manager.register_events(toinsert);\n",
       "      // Render to node\n",
       "      var props = {data: data, metadata: metadata[EXEC_MIME_TYPE]};\n",
       "      render(props, toinsert[toinsert.length - 1]);\n",
       "      element.append(toinsert);\n",
       "      return toinsert\n",
       "    }\n",
       "\n",
       "    /* Handle when an output is cleared or removed */\n",
       "    events.on('clear_output.CodeCell', handleClearOutput);\n",
       "    events.on('delete.Cell', handleClearOutput);\n",
       "\n",
       "    /* Handle when a new output is added */\n",
       "    events.on('output_added.OutputArea', handleAddOutput);\n",
       "\n",
       "    /**\n",
       "     * Register the mime type and append_mime function with output_area\n",
       "     */\n",
       "    OutputArea.prototype.register_mime_type(EXEC_MIME_TYPE, append_mime, {\n",
       "      /* Is output safe? */\n",
       "      safe: true,\n",
       "      /* Index of renderer in `output_area.display_order` */\n",
       "      index: 0\n",
       "    });\n",
       "  }\n",
       "\n",
       "  // register the mime type if in Jupyter Notebook environment and previously unregistered\n",
       "  if (root.Jupyter !== undefined) {\n",
       "    var events = require('base/js/events');\n",
       "    var OutputArea = require('notebook/js/outputarea').OutputArea;\n",
       "\n",
       "    if (OutputArea.prototype.mime_types().indexOf(EXEC_MIME_TYPE) == -1) {\n",
       "      register_renderer(events, OutputArea);\n",
       "    }\n",
       "  }\n",
       "\n",
       "  \n",
       "  if (typeof (root._bokeh_timeout) === \"undefined\" || force === true) {\n",
       "    root._bokeh_timeout = Date.now() + 5000;\n",
       "    root._bokeh_failed_load = false;\n",
       "  }\n",
       "\n",
       "  var NB_LOAD_WARNING = {'data': {'text/html':\n",
       "     \"<div style='background-color: #fdd'>\\n\"+\n",
       "     \"<p>\\n\"+\n",
       "     \"BokehJS does not appear to have successfully loaded. If loading BokehJS from CDN, this \\n\"+\n",
       "     \"may be due to a slow or bad network connection. Possible fixes:\\n\"+\n",
       "     \"</p>\\n\"+\n",
       "     \"<ul>\\n\"+\n",
       "     \"<li>re-rerun `output_notebook()` to attempt to load from CDN again, or</li>\\n\"+\n",
       "     \"<li>use INLINE resources instead, as so:</li>\\n\"+\n",
       "     \"</ul>\\n\"+\n",
       "     \"<code>\\n\"+\n",
       "     \"from bokeh.resources import INLINE\\n\"+\n",
       "     \"output_notebook(resources=INLINE)\\n\"+\n",
       "     \"</code>\\n\"+\n",
       "     \"</div>\"}};\n",
       "\n",
       "  function display_loaded() {\n",
       "    var el = document.getElementById(\"694903\");\n",
       "    if (el != null) {\n",
       "      el.textContent = \"BokehJS is loading...\";\n",
       "    }\n",
       "    if (root.Bokeh !== undefined) {\n",
       "      if (el != null) {\n",
       "        el.textContent = \"BokehJS \" + root.Bokeh.version + \" successfully loaded.\";\n",
       "      }\n",
       "    } else if (Date.now() < root._bokeh_timeout) {\n",
       "      setTimeout(display_loaded, 100)\n",
       "    }\n",
       "  }\n",
       "\n",
       "\n",
       "  function run_callbacks() {\n",
       "    try {\n",
       "      root._bokeh_onload_callbacks.forEach(function(callback) {\n",
       "        if (callback != null)\n",
       "          callback();\n",
       "      });\n",
       "    } finally {\n",
       "      delete root._bokeh_onload_callbacks\n",
       "    }\n",
       "    console.debug(\"Bokeh: all callbacks have finished\");\n",
       "  }\n",
       "\n",
       "  function load_libs(css_urls, js_urls, callback) {\n",
       "    if (css_urls == null) css_urls = [];\n",
       "    if (js_urls == null) js_urls = [];\n",
       "\n",
       "    root._bokeh_onload_callbacks.push(callback);\n",
       "    if (root._bokeh_is_loading > 0) {\n",
       "      console.debug(\"Bokeh: BokehJS is being loaded, scheduling callback at\", now());\n",
       "      return null;\n",
       "    }\n",
       "    if (js_urls == null || js_urls.length === 0) {\n",
       "      run_callbacks();\n",
       "      return null;\n",
       "    }\n",
       "    console.debug(\"Bokeh: BokehJS not loaded, scheduling load and callback at\", now());\n",
       "    root._bokeh_is_loading = css_urls.length + js_urls.length;\n",
       "\n",
       "    function on_load() {\n",
       "      root._bokeh_is_loading--;\n",
       "      if (root._bokeh_is_loading === 0) {\n",
       "        console.debug(\"Bokeh: all BokehJS libraries/stylesheets loaded\");\n",
       "        run_callbacks()\n",
       "      }\n",
       "    }\n",
       "\n",
       "    function on_error(url) {\n",
       "      console.error(\"failed to load \" + url);\n",
       "    }\n",
       "\n",
       "    for (let i = 0; i < css_urls.length; i++) {\n",
       "      const url = css_urls[i];\n",
       "      const element = document.createElement(\"link\");\n",
       "      element.onload = on_load;\n",
       "      element.onerror = on_error.bind(null, url);\n",
       "      element.rel = \"stylesheet\";\n",
       "      element.type = \"text/css\";\n",
       "      element.href = url;\n",
       "      console.debug(\"Bokeh: injecting link tag for BokehJS stylesheet: \", url);\n",
       "      document.body.appendChild(element);\n",
       "    }\n",
       "\n",
       "    const hashes = {\"https://cdn.bokeh.org/bokeh/release/bokeh-2.3.2.min.js\": \"XypntL49z55iwGVUW4qsEu83zKL3XEcz0MjuGOQ9SlaaQ68X/g+k1FcioZi7oQAc\", \"https://cdn.bokeh.org/bokeh/release/bokeh-tables-2.3.2.min.js\": \"bEsM86IHGDTLCS0Zod8a8WM6Y4+lafAL/eSiyQcuPzinmWNgNO2/olUF0Z2Dkn5i\", \"https://cdn.bokeh.org/bokeh/release/bokeh-widgets-2.3.2.min.js\": \"TX0gSQTdXTTeScqxj6PVQxTiRW8DOoGVwinyi1D3kxv7wuxQ02XkOxv0xwiypcAH\"};\n",
       "\n",
       "    for (let i = 0; i < js_urls.length; i++) {\n",
       "      const url = js_urls[i];\n",
       "      const element = document.createElement('script');\n",
       "      element.onload = on_load;\n",
       "      element.onerror = on_error.bind(null, url);\n",
       "      element.async = false;\n",
       "      element.src = url;\n",
       "      if (url in hashes) {\n",
       "        element.crossOrigin = \"anonymous\";\n",
       "        element.integrity = \"sha384-\" + hashes[url];\n",
       "      }\n",
       "      console.debug(\"Bokeh: injecting script tag for BokehJS library: \", url);\n",
       "      document.head.appendChild(element);\n",
       "    }\n",
       "  };\n",
       "\n",
       "  function inject_raw_css(css) {\n",
       "    const element = document.createElement(\"style\");\n",
       "    element.appendChild(document.createTextNode(css));\n",
       "    document.body.appendChild(element);\n",
       "  }\n",
       "\n",
       "  \n",
       "  var js_urls = [\"https://cdn.bokeh.org/bokeh/release/bokeh-2.3.2.min.js\", \"https://cdn.bokeh.org/bokeh/release/bokeh-widgets-2.3.2.min.js\", \"https://cdn.bokeh.org/bokeh/release/bokeh-tables-2.3.2.min.js\"];\n",
       "  var css_urls = [];\n",
       "  \n",
       "\n",
       "  var inline_js = [\n",
       "    function(Bokeh) {\n",
       "      Bokeh.set_log_level(\"info\");\n",
       "    },\n",
       "    function(Bokeh) {\n",
       "    \n",
       "    \n",
       "    }\n",
       "  ];\n",
       "\n",
       "  function run_inline_js() {\n",
       "    \n",
       "    if (root.Bokeh !== undefined || force === true) {\n",
       "      \n",
       "    for (var i = 0; i < inline_js.length; i++) {\n",
       "      inline_js[i].call(root, root.Bokeh);\n",
       "    }\n",
       "    if (force === true) {\n",
       "        display_loaded();\n",
       "      }} else if (Date.now() < root._bokeh_timeout) {\n",
       "      setTimeout(run_inline_js, 100);\n",
       "    } else if (!root._bokeh_failed_load) {\n",
       "      console.log(\"Bokeh: BokehJS failed to load within specified timeout.\");\n",
       "      root._bokeh_failed_load = true;\n",
       "    } else if (force !== true) {\n",
       "      var cell = $(document.getElementById(\"694903\")).parents('.cell').data().cell;\n",
       "      cell.output_area.append_execute_result(NB_LOAD_WARNING)\n",
       "    }\n",
       "\n",
       "  }\n",
       "\n",
       "  if (root._bokeh_is_loading === 0) {\n",
       "    console.debug(\"Bokeh: BokehJS loaded, going straight to plotting\");\n",
       "    run_inline_js();\n",
       "  } else {\n",
       "    load_libs(css_urls, js_urls, function() {\n",
       "      console.debug(\"Bokeh: BokehJS plotting callback run at\", now());\n",
       "      run_inline_js();\n",
       "    });\n",
       "  }\n",
       "}(window));"
      ],
      "application/vnd.bokehjs_load.v0+json": "\n(function(root) {\n  function now() {\n    return new Date();\n  }\n\n  var force = true;\n\n  if (typeof root._bokeh_onload_callbacks === \"undefined\" || force === true) {\n    root._bokeh_onload_callbacks = [];\n    root._bokeh_is_loading = undefined;\n  }\n\n  \n\n  \n  if (typeof (root._bokeh_timeout) === \"undefined\" || force === true) {\n    root._bokeh_timeout = Date.now() + 5000;\n    root._bokeh_failed_load = false;\n  }\n\n  var NB_LOAD_WARNING = {'data': {'text/html':\n     \"<div style='background-color: #fdd'>\\n\"+\n     \"<p>\\n\"+\n     \"BokehJS does not appear to have successfully loaded. If loading BokehJS from CDN, this \\n\"+\n     \"may be due to a slow or bad network connection. Possible fixes:\\n\"+\n     \"</p>\\n\"+\n     \"<ul>\\n\"+\n     \"<li>re-rerun `output_notebook()` to attempt to load from CDN again, or</li>\\n\"+\n     \"<li>use INLINE resources instead, as so:</li>\\n\"+\n     \"</ul>\\n\"+\n     \"<code>\\n\"+\n     \"from bokeh.resources import INLINE\\n\"+\n     \"output_notebook(resources=INLINE)\\n\"+\n     \"</code>\\n\"+\n     \"</div>\"}};\n\n  function display_loaded() {\n    var el = document.getElementById(\"694903\");\n    if (el != null) {\n      el.textContent = \"BokehJS is loading...\";\n    }\n    if (root.Bokeh !== undefined) {\n      if (el != null) {\n        el.textContent = \"BokehJS \" + root.Bokeh.version + \" successfully loaded.\";\n      }\n    } else if (Date.now() < root._bokeh_timeout) {\n      setTimeout(display_loaded, 100)\n    }\n  }\n\n\n  function run_callbacks() {\n    try {\n      root._bokeh_onload_callbacks.forEach(function(callback) {\n        if (callback != null)\n          callback();\n      });\n    } finally {\n      delete root._bokeh_onload_callbacks\n    }\n    console.debug(\"Bokeh: all callbacks have finished\");\n  }\n\n  function load_libs(css_urls, js_urls, callback) {\n    if (css_urls == null) css_urls = [];\n    if (js_urls == null) js_urls = [];\n\n    root._bokeh_onload_callbacks.push(callback);\n    if (root._bokeh_is_loading > 0) {\n      console.debug(\"Bokeh: BokehJS is being loaded, scheduling callback at\", now());\n      return null;\n    }\n    if (js_urls == null || js_urls.length === 0) {\n      run_callbacks();\n      return null;\n    }\n    console.debug(\"Bokeh: BokehJS not loaded, scheduling load and callback at\", now());\n    root._bokeh_is_loading = css_urls.length + js_urls.length;\n\n    function on_load() {\n      root._bokeh_is_loading--;\n      if (root._bokeh_is_loading === 0) {\n        console.debug(\"Bokeh: all BokehJS libraries/stylesheets loaded\");\n        run_callbacks()\n      }\n    }\n\n    function on_error(url) {\n      console.error(\"failed to load \" + url);\n    }\n\n    for (let i = 0; i < css_urls.length; i++) {\n      const url = css_urls[i];\n      const element = document.createElement(\"link\");\n      element.onload = on_load;\n      element.onerror = on_error.bind(null, url);\n      element.rel = \"stylesheet\";\n      element.type = \"text/css\";\n      element.href = url;\n      console.debug(\"Bokeh: injecting link tag for BokehJS stylesheet: \", url);\n      document.body.appendChild(element);\n    }\n\n    const hashes = {\"https://cdn.bokeh.org/bokeh/release/bokeh-2.3.2.min.js\": \"XypntL49z55iwGVUW4qsEu83zKL3XEcz0MjuGOQ9SlaaQ68X/g+k1FcioZi7oQAc\", \"https://cdn.bokeh.org/bokeh/release/bokeh-tables-2.3.2.min.js\": \"bEsM86IHGDTLCS0Zod8a8WM6Y4+lafAL/eSiyQcuPzinmWNgNO2/olUF0Z2Dkn5i\", \"https://cdn.bokeh.org/bokeh/release/bokeh-widgets-2.3.2.min.js\": \"TX0gSQTdXTTeScqxj6PVQxTiRW8DOoGVwinyi1D3kxv7wuxQ02XkOxv0xwiypcAH\"};\n\n    for (let i = 0; i < js_urls.length; i++) {\n      const url = js_urls[i];\n      const element = document.createElement('script');\n      element.onload = on_load;\n      element.onerror = on_error.bind(null, url);\n      element.async = false;\n      element.src = url;\n      if (url in hashes) {\n        element.crossOrigin = \"anonymous\";\n        element.integrity = \"sha384-\" + hashes[url];\n      }\n      console.debug(\"Bokeh: injecting script tag for BokehJS library: \", url);\n      document.head.appendChild(element);\n    }\n  };\n\n  function inject_raw_css(css) {\n    const element = document.createElement(\"style\");\n    element.appendChild(document.createTextNode(css));\n    document.body.appendChild(element);\n  }\n\n  \n  var js_urls = [\"https://cdn.bokeh.org/bokeh/release/bokeh-2.3.2.min.js\", \"https://cdn.bokeh.org/bokeh/release/bokeh-widgets-2.3.2.min.js\", \"https://cdn.bokeh.org/bokeh/release/bokeh-tables-2.3.2.min.js\"];\n  var css_urls = [];\n  \n\n  var inline_js = [\n    function(Bokeh) {\n      Bokeh.set_log_level(\"info\");\n    },\n    function(Bokeh) {\n    \n    \n    }\n  ];\n\n  function run_inline_js() {\n    \n    if (root.Bokeh !== undefined || force === true) {\n      \n    for (var i = 0; i < inline_js.length; i++) {\n      inline_js[i].call(root, root.Bokeh);\n    }\n    if (force === true) {\n        display_loaded();\n      }} else if (Date.now() < root._bokeh_timeout) {\n      setTimeout(run_inline_js, 100);\n    } else if (!root._bokeh_failed_load) {\n      console.log(\"Bokeh: BokehJS failed to load within specified timeout.\");\n      root._bokeh_failed_load = true;\n    } else if (force !== true) {\n      var cell = $(document.getElementById(\"694903\")).parents('.cell').data().cell;\n      cell.output_area.append_execute_result(NB_LOAD_WARNING)\n    }\n\n  }\n\n  if (root._bokeh_is_loading === 0) {\n    console.debug(\"Bokeh: BokehJS loaded, going straight to plotting\");\n    run_inline_js();\n  } else {\n    load_libs(css_urls, js_urls, function() {\n      console.debug(\"Bokeh: BokehJS plotting callback run at\", now());\n      run_inline_js();\n    });\n  }\n}(window));"
     },
     "metadata": {},
     "output_type": "display_data"
    }
   ],
   "source": [
    "output_notebook()"
   ]
  },
  {
   "cell_type": "markdown",
   "id": "ab388b94",
   "metadata": {},
   "source": [
    "### 0. Configurations for use cases"
   ]
  },
  {
   "cell_type": "code",
   "execution_count": null,
   "id": "dfe6eef2",
   "metadata": {},
   "outputs": [],
   "source": [
    "# Choose a configuration\n",
    "config = 0 # if 0=Hashtag, else Mention"
   ]
  },
  {
   "cell_type": "code",
   "execution_count": 1088,
   "id": "7c09506d",
   "metadata": {},
   "outputs": [],
   "source": [
    "# Configurations\n",
    "if config == 0:\n",
    "    # Hashtag network\n",
    "    path = r'C:\\..\\data\\hashtags_weighted_edges.json'\n",
    "    title_subject = 'Hashtag'\n",
    "    min_weight = 325 # for pre-filtering of data\n",
    "    network_layout = networkx.kamada_kawai_layout\n",
    "    layout_args = {'scale':10, 'weight': 'weight'}\n",
    "else:\n",
    "    # Mention network\n",
    "    path = r'C:\\..\\data\\mentions_weighted_edges.json'\n",
    "    title_subject = 'Mention'\n",
    "    min_weight = 400 # for pre-filtering of data\n",
    "    network_layout = networkx.spring_layout\n",
    "    layout_args = {'scale':10, 'k': 2, 'iterations': 50, 'seed': 2, 'weight': 'weight'}"
   ]
  },
  {
   "cell_type": "markdown",
   "id": "50808abb",
   "metadata": {},
   "source": [
    "### 1. Create Network From Pandas DataFrame"
   ]
  },
  {
   "cell_type": "code",
   "execution_count": 1089,
   "id": "8ffc78df",
   "metadata": {
    "scrolled": false
   },
   "outputs": [],
   "source": [
    "# load preprocessed file\n",
    "df = pd.read_json(path)"
   ]
  },
  {
   "cell_type": "markdown",
   "id": "2fca9e51",
   "metadata": {},
   "source": [
    "### 2. Filter data"
   ]
  },
  {
   "cell_type": "code",
   "execution_count": 1090,
   "id": "5ce5e7bc",
   "metadata": {
    "scrolled": true
   },
   "outputs": [
    {
     "name": "stdout",
     "output_type": "stream",
     "text": [
      "Shape of data: (227, 3)\n"
     ]
    }
   ],
   "source": [
    "# Filter out relations with a weight less than min_weight\n",
    "df_filtered = df.drop(df[df.weight < min_weight].index)\n",
    "print('Shape of data:',df_filtered.shape)\n",
    "#df_filtered"
   ]
  },
  {
   "cell_type": "markdown",
   "id": "92ae9eec",
   "metadata": {},
   "source": [
    "### 3. Create network graph"
   ]
  },
  {
   "cell_type": "code",
   "execution_count": 1091,
   "id": "109ba9b0",
   "metadata": {},
   "outputs": [],
   "source": [
    "# Create network graph\n",
    "G = networkx.from_pandas_edgelist(df_filtered, 'source', 'target', 'weight')"
   ]
  },
  {
   "cell_type": "markdown",
   "id": "5acdadcf",
   "metadata": {},
   "source": [
    "### 4. Remove small components"
   ]
  },
  {
   "cell_type": "code",
   "execution_count": 1092,
   "id": "f55f0e9b",
   "metadata": {},
   "outputs": [],
   "source": [
    "# Remove components which less n connections \n",
    "# (so that there will be no free floating mini-graphs disconnected from the network)\n",
    "n_connections = 4\n",
    "for component in list(networkx.connected_components(G)):\n",
    "    if len(component)<n_connections:\n",
    "        for node in component:\n",
    "            G.remove_node(node)"
   ]
  },
  {
   "cell_type": "markdown",
   "id": "6905d046",
   "metadata": {},
   "source": [
    "### 5. Calculate degree for each node and add as node attribute"
   ]
  },
  {
   "cell_type": "code",
   "execution_count": 1093,
   "id": "6c087874",
   "metadata": {},
   "outputs": [],
   "source": [
    "degrees = dict(networkx.degree(G))\n",
    "networkx.set_node_attributes(G, name='degree', values=degrees)"
   ]
  },
  {
   "cell_type": "markdown",
   "id": "ddfbfd33",
   "metadata": {},
   "source": [
    "### 6. Slightly adjust degree so that the nodes with very small degrees are still visible"
   ]
  },
  {
   "cell_type": "code",
   "execution_count": 1094,
   "id": "6531144d",
   "metadata": {},
   "outputs": [],
   "source": [
    "number_to_adjust_by = 5\n",
    "adjusted_node_size = dict([(node, degree+number_to_adjust_by) for node, degree in networkx.degree(G)])\n",
    "networkx.set_node_attributes(G, name='adjusted_node_size', values=adjusted_node_size)"
   ]
  },
  {
   "cell_type": "markdown",
   "id": "fb3723be",
   "metadata": {},
   "source": [
    "### 7. Adjust weight so that the width of the edges does not exceed the smaller node size"
   ]
  },
  {
   "cell_type": "code",
   "execution_count": 1095,
   "id": "4191b7d4",
   "metadata": {},
   "outputs": [],
   "source": [
    "weight_list = [attr['weight'] for _, _, attr in G.edges(data=True)]\n",
    "weight_min = 1\n",
    "weight_max = 10\n",
    "weight_scaler = preprocessing.MinMaxScaler(feature_range=(weight_min, weight_max))\n",
    "weight_normalized = weight_scaler.fit_transform(np.asarray(weight_list).reshape(-1, 1))\n",
    "\n",
    "# Add normalized edge width\n",
    "edge_attrs = {}\n",
    "for edge, weight_norm in zip(G.edges(data=True), weight_normalized):\n",
    "    edge_attrs[(edge[0], edge[1])] = weight_norm[0]\n",
    "networkx.set_edge_attributes(G, edge_attrs, \"normalized_weight\")"
   ]
  },
  {
   "cell_type": "markdown",
   "id": "825c3e85",
   "metadata": {},
   "source": [
    "### 8. Calculate communities"
   ]
  },
  {
   "cell_type": "code",
   "execution_count": 1096,
   "id": "556a3c5e",
   "metadata": {},
   "outputs": [
    {
     "name": "stdout",
     "output_type": "stream",
     "text": [
      "Number of communities: 8\n"
     ]
    }
   ],
   "source": [
    "# Calcualte communities\n",
    "from networkx.algorithms import community\n",
    "communities = community.greedy_modularity_communities(G)\n",
    "print(\"Number of communities:\", len(communities))"
   ]
  },
  {
   "cell_type": "markdown",
   "id": "a90180b3",
   "metadata": {},
   "source": [
    "### 9. Add modularity class and color as attributes to network graph"
   ]
  },
  {
   "cell_type": "code",
   "execution_count": 1098,
   "id": "3e649b68",
   "metadata": {},
   "outputs": [],
   "source": [
    "# The biggest n communities should be distinguishable by color\n",
    "n_biggest_communities = 8\n",
    "if len(communities) < n_biggest_communities:\n",
    "    color_palette = list(viridis(len(communities)))\n",
    "    color_palette.reverse()\n",
    "else:    \n",
    "    color_palette = list(viridis(n_biggest_communities))\n",
    "    color_palette.reverse()\n",
    "    color_palette.extend(['black'] * (len(communities)-8))\n",
    "\n",
    "# Create empty dictionaries\n",
    "modularity_class = {}\n",
    "modularity_color = {}\n",
    "#Loop through each community in the network\n",
    "for community_number, community in enumerate(communities):\n",
    "    #For each member of the community, add their community number and a distinct color\n",
    "    for name in community: \n",
    "        modularity_class[name] = community_number        \n",
    "        modularity_color[name] = color_palette[community_number]\n",
    "\n",
    "# Add modularity class and color as attributes from the network above\n",
    "networkx.set_node_attributes(G, modularity_class, 'modularity_class')\n",
    "networkx.set_node_attributes(G, modularity_color, 'modularity_color')"
   ]
  },
  {
   "cell_type": "markdown",
   "id": "ace67f6d",
   "metadata": {},
   "source": [
    "### 10. Add edge color"
   ]
  },
  {
   "cell_type": "code",
   "execution_count": 1099,
   "id": "bf7eaace",
   "metadata": {},
   "outputs": [],
   "source": [
    "def get_halfway_color(c1, c2):\n",
    "    r1, g1, b1 = [int(c1[p:p+2], 16) for p in range(1,6,2)]\n",
    "    r2, g2, b2 = [int(c2[p:p+2], 16) for p in range(1,6,2)]\n",
    "    c = '#{:02x}{:02x}{:02x}'.format((r1+r2) // 2, (g1+g2) //2, (b1+b2)// 2)\n",
    "    return c\n",
    "\n",
    "# Add edge color\n",
    "edge_attrs = {}\n",
    "for start_node, end_node, _ in G.edges(data=True):\n",
    "    edge_color = G.nodes[start_node]['modularity_color'] if G.nodes[start_node]['modularity_color'] == G.nodes[end_node]['modularity_color'] else get_halfway_color(G.nodes[start_node]['modularity_color'], G.nodes[end_node]['modularity_color'])\n",
    "    edge_attrs[(start_node, end_node)] = edge_color\n",
    "networkx.set_edge_attributes(G, edge_attrs, \"edge_color\")"
   ]
  },
  {
   "cell_type": "markdown",
   "id": "1999fb31",
   "metadata": {},
   "source": [
    "### 11. Plot the network graph"
   ]
  },
  {
   "cell_type": "code",
   "execution_count": 1100,
   "id": "c6f5e497",
   "metadata": {},
   "outputs": [
    {
     "data": {
      "text/html": [
       "\n",
       "\n",
       "\n",
       "\n",
       "\n",
       "\n",
       "  <div class=\"bk-root\" id=\"6752ad02-e60c-4cd6-a567-a0a643c0d9c2\" data-root-id=\"1019004\"></div>\n"
      ]
     },
     "metadata": {},
     "output_type": "display_data"
    },
    {
     "data": {
      "application/javascript": [
       "(function(root) {\n",
       "  function embed_document(root) {\n",
       "    \n",
       "  var docs_json = {\"24995730-29f6-4a63-bcb4-7d23c78dae39\":{\"defs\":[],\"roots\":{\"references\":[{\"attributes\":{\"below\":[{\"id\":\"1019013\"}],\"center\":[{\"id\":\"1019016\"},{\"id\":\"1019020\"},{\"id\":\"1019079\"},{\"id\":\"1019080\"},{\"id\":\"1019081\"},{\"id\":\"1019082\"},{\"id\":\"1019083\"},{\"id\":\"1019084\"},{\"id\":\"1019085\"},{\"id\":\"1019086\"},{\"id\":\"1019087\"},{\"id\":\"1019088\"},{\"id\":\"1019089\"},{\"id\":\"1019090\"},{\"id\":\"1019091\"},{\"id\":\"1019092\"},{\"id\":\"1019093\"},{\"id\":\"1019094\"},{\"id\":\"1019095\"},{\"id\":\"1019096\"},{\"id\":\"1019097\"},{\"id\":\"1019098\"},{\"id\":\"1019099\"},{\"id\":\"1019100\"},{\"id\":\"1019101\"},{\"id\":\"1019102\"},{\"id\":\"1019103\"},{\"id\":\"1019104\"},{\"id\":\"1019105\"},{\"id\":\"1019106\"},{\"id\":\"1019107\"},{\"id\":\"1019108\"},{\"id\":\"1019109\"},{\"id\":\"1019110\"},{\"id\":\"1019111\"},{\"id\":\"1019112\"},{\"id\":\"1019113\"},{\"id\":\"1019114\"},{\"id\":\"1019115\"},{\"id\":\"1019116\"},{\"id\":\"1019117\"},{\"id\":\"1019118\"},{\"id\":\"1019119\"},{\"id\":\"1019120\"},{\"id\":\"1019121\"},{\"id\":\"1019122\"},{\"id\":\"1019123\"},{\"id\":\"1019124\"},{\"id\":\"1019125\"},{\"id\":\"1019126\"},{\"id\":\"1019127\"},{\"id\":\"1019128\"},{\"id\":\"1019129\"},{\"id\":\"1019130\"},{\"id\":\"1019131\"},{\"id\":\"1019132\"},{\"id\":\"1019133\"},{\"id\":\"1019134\"},{\"id\":\"1019135\"},{\"id\":\"1019136\"},{\"id\":\"1019137\"},{\"id\":\"1019138\"},{\"id\":\"1019139\"},{\"id\":\"1019140\"},{\"id\":\"1019141\"},{\"id\":\"1019142\"},{\"id\":\"1019143\"},{\"id\":\"1019144\"},{\"id\":\"1019145\"},{\"id\":\"1019146\"},{\"id\":\"1019147\"},{\"id\":\"1019148\"},{\"id\":\"1019149\"},{\"id\":\"1019150\"},{\"id\":\"1019151\"},{\"id\":\"1019152\"},{\"id\":\"1019153\"},{\"id\":\"1019154\"},{\"id\":\"1019155\"},{\"id\":\"1019156\"},{\"id\":\"1019157\"},{\"id\":\"1019158\"},{\"id\":\"1019159\"},{\"id\":\"1019160\"},{\"id\":\"1019161\"},{\"id\":\"1019162\"},{\"id\":\"1019163\"},{\"id\":\"1019164\"},{\"id\":\"1019165\"},{\"id\":\"1019166\"},{\"id\":\"1019167\"},{\"id\":\"1019168\"},{\"id\":\"1019169\"},{\"id\":\"1019170\"},{\"id\":\"1019171\"},{\"id\":\"1019172\"},{\"id\":\"1019173\"},{\"id\":\"1019174\"},{\"id\":\"1019175\"},{\"id\":\"1019176\"},{\"id\":\"1019177\"},{\"id\":\"1019178\"},{\"id\":\"1019179\"},{\"id\":\"1019180\"},{\"id\":\"1019181\"},{\"id\":\"1019182\"},{\"id\":\"1019183\"},{\"id\":\"1019184\"},{\"id\":\"1019185\"},{\"id\":\"1019186\"}],\"height\":1000,\"left\":[{\"id\":\"1019017\"}],\"renderers\":[{\"id\":\"1019034\"}],\"title\":{\"id\":\"1019005\"},\"toolbar\":{\"id\":\"1019027\"},\"width\":1000,\"x_range\":{\"id\":\"1019002\"},\"x_scale\":{\"id\":\"1019009\"},\"y_range\":{\"id\":\"1019003\"},\"y_scale\":{\"id\":\"1019011\"}},\"id\":\"1019004\",\"subtype\":\"Figure\",\"type\":\"Plot\"},{\"attributes\":{},\"id\":\"1019018\",\"type\":\"BasicTicker\"},{\"attributes\":{\"background_fill_alpha\":0.6,\"background_fill_color\":\"white\",\"level\":\"glyph\",\"text\":\"holdirdeinlandzurueck\",\"text_align\":\"center\",\"text_font_size\":\"8.22972972972973px\",\"text_font_style\":\"bold\",\"x\":-0.9404311879559969,\"y\":0.8575597048078247},\"id\":\"1019116\",\"type\":\"Label\"},{\"attributes\":{\"axis\":{\"id\":\"1019013\"},\"ticker\":null},\"id\":\"1019016\",\"type\":\"Grid\"},{\"attributes\":{},\"id\":\"1019009\",\"type\":\"LinearScale\"},{\"attributes\":{\"background_fill_alpha\":0.6,\"background_fill_color\":\"white\",\"level\":\"glyph\",\"text\":\"maas\",\"text_align\":\"center\",\"text_font_size\":\"8.22972972972973px\",\"text_font_style\":\"bold\",\"x\":-0.7857088455415503,\"y\":4.769609653361953},\"id\":\"1019128\",\"type\":\"Label\"},{\"attributes\":{\"callback\":null,\"tooltips\":[[\"Hashtag\",\"@index\"],[\"Degree\",\"@degree\"],[\"Modularity Class\",\"@modularity_class\"],[\"Modularity Color\",\"$color[swatch]:modularity_color\"]]},\"id\":\"1019026\",\"type\":\"HoverTool\"},{\"attributes\":{},\"id\":\"1019011\",\"type\":\"LinearScale\"},{\"attributes\":{\"background_fill_alpha\":0.6,\"background_fill_color\":\"white\",\"level\":\"glyph\",\"text\":\"tvspot\",\"text_align\":\"center\",\"text_font_size\":\"8.0px\",\"text_font_style\":\"bold\",\"x\":8.60574584570268,\"y\":-3.6849136425664484},\"id\":\"1019173\",\"type\":\"Label\"},{\"attributes\":{\"background_fill_alpha\":0.6,\"background_fill_color\":\"white\",\"level\":\"glyph\",\"text\":\"islam\",\"text_align\":\"center\",\"text_font_size\":\"8.0px\",\"text_font_style\":\"bold\",\"x\":-0.3640218350754723,\"y\":2.970480099923994},\"id\":\"1019120\",\"type\":\"Label\"},{\"attributes\":{},\"id\":\"1019023\",\"type\":\"WheelZoomTool\"},{\"attributes\":{\"background_fill_alpha\":0.6,\"background_fill_color\":\"white\",\"level\":\"glyph\",\"text\":\"insa\",\"text_align\":\"center\",\"text_font_size\":\"8.0px\",\"text_font_style\":\"bold\",\"x\":0.8753004997937068,\"y\":1.9937151652245366},\"id\":\"1019119\",\"type\":\"Label\"},{\"attributes\":{},\"id\":\"1025134\",\"type\":\"Selection\"},{\"attributes\":{},\"id\":\"1019022\",\"type\":\"PanTool\"},{\"attributes\":{},\"id\":\"1025135\",\"type\":\"UnionRenderers\"},{\"attributes\":{\"end\":10.1,\"start\":-10.1},\"id\":\"1019002\",\"type\":\"Range1d\"},{\"attributes\":{\"callback\":null},\"id\":\"1019021\",\"type\":\"TapTool\"},{\"attributes\":{\"background_fill_alpha\":0.6,\"background_fill_color\":\"white\",\"level\":\"glyph\",\"text\":\"linke\",\"text_align\":\"center\",\"text_font_size\":\"9.14864864864865px\",\"text_font_style\":\"bold\",\"x\":3.0087574170733906,\"y\":-1.3771798069008847},\"id\":\"1019124\",\"type\":\"Label\"},{\"attributes\":{\"background_fill_alpha\":0.6,\"background_fill_color\":\"white\",\"level\":\"glyph\",\"text\":\"h\\u00fctter\",\"text_align\":\"center\",\"text_font_size\":\"8.22972972972973px\",\"text_font_style\":\"bold\",\"x\":-2.1135356288958205,\"y\":0.7902877130205626},\"id\":\"1019118\",\"type\":\"Label\"},{\"attributes\":{\"background_fill_alpha\":0.6,\"background_fill_color\":\"white\",\"level\":\"glyph\",\"text\":\"merkel\",\"text_align\":\"center\",\"text_font_size\":\"10.527027027027028px\",\"text_font_style\":\"bold\",\"x\":2.2468344809824896,\"y\":-2.1973028421881495},\"id\":\"1019129\",\"type\":\"Label\"},{\"attributes\":{\"background_fill_alpha\":0.6,\"background_fill_color\":\"white\",\"level\":\"glyph\",\"text\":\"klartext\",\"text_align\":\"center\",\"text_font_size\":\"8.22972972972973px\",\"text_font_style\":\"bold\",\"x\":-0.44249472433287224,\"y\":-0.9594919753931984},\"id\":\"1019122\",\"type\":\"Label\"},{\"attributes\":{},\"id\":\"1019025\",\"type\":\"ResetTool\"},{\"attributes\":{\"active_multi\":null,\"active_scroll\":{\"id\":\"1019023\"},\"tools\":[{\"id\":\"1019021\"},{\"id\":\"1019022\"},{\"id\":\"1019023\"},{\"id\":\"1019024\"},{\"id\":\"1019025\"},{\"id\":\"1019026\"}]},\"id\":\"1019027\",\"type\":\"Toolbar\"},{\"attributes\":{},\"id\":\"1025136\",\"type\":\"Selection\"},{\"attributes\":{\"background_fill_alpha\":0.6,\"background_fill_color\":\"white\",\"level\":\"glyph\",\"text\":\"netzdg\",\"text_align\":\"center\",\"text_font_size\":\"8.91891891891892px\",\"text_font_style\":\"bold\",\"x\":0.7167092516393829,\"y\":-1.6821041712232994},\"id\":\"1019131\",\"type\":\"Label\"},{\"attributes\":{},\"id\":\"1025137\",\"type\":\"UnionRenderers\"},{\"attributes\":{},\"id\":\"1019024\",\"type\":\"SaveTool\"},{\"attributes\":{\"background_fill_alpha\":0.6,\"background_fill_color\":\"white\",\"level\":\"glyph\",\"text\":\"niedersachsen\",\"text_align\":\"center\",\"text_font_size\":\"8.0px\",\"text_font_style\":\"bold\",\"x\":0.532108688449391,\"y\":3.449004000183544},\"id\":\"1019132\",\"type\":\"Label\"},{\"attributes\":{\"background_fill_alpha\":0.6,\"background_fill_color\":\"white\",\"level\":\"glyph\",\"text\":\"merkelmussweg\",\"text_align\":\"center\",\"text_font_size\":\"8.45945945945946px\",\"text_font_style\":\"bold\",\"x\":-0.9294419260482623,\"y\":-3.2913758130915056},\"id\":\"1019130\",\"type\":\"Label\"},{\"attributes\":{\"background_fill_alpha\":0.6,\"background_fill_color\":\"white\",\"level\":\"glyph\",\"text\":\"nrw\",\"text_align\":\"center\",\"text_font_size\":\"8.68918918918919px\",\"text_font_style\":\"bold\",\"x\":-2.9017828731749034,\"y\":-2.514326484279653},\"id\":\"1019133\",\"type\":\"Label\"},{\"attributes\":{\"background_fill_alpha\":0.6,\"background_fill_color\":\"white\",\"level\":\"glyph\",\"text\":\"london\",\"text_align\":\"center\",\"text_font_size\":\"8.0px\",\"text_font_style\":\"bold\",\"x\":0.14161635234670686,\"y\":2.6397589517289695},\"id\":\"1019126\",\"type\":\"Label\"},{\"attributes\":{\"background_fill_alpha\":0.6,\"background_fill_color\":\"white\",\"level\":\"glyph\",\"text\":\"juncker\",\"text_align\":\"center\",\"text_font_size\":\"8.0px\",\"text_font_style\":\"bold\",\"x\":-0.4320860038012713,\"y\":1.991748920337017},\"id\":\"1019121\",\"type\":\"Label\"},{\"attributes\":{\"background_fill_alpha\":0.6,\"background_fill_color\":\"white\",\"level\":\"glyph\",\"text\":\"darumgr\\u00fcn\",\"text_align\":\"center\",\"text_font_size\":\"8.45945945945946px\",\"text_font_style\":\"bold\",\"x\":-3.566308004050687,\"y\":-8.814510199746607},\"id\":\"1019160\",\"type\":\"Label\"},{\"attributes\":{\"formatter\":{\"id\":\"1025131\"},\"major_label_policy\":{\"id\":\"1025133\"},\"ticker\":{\"id\":\"1019018\"}},\"id\":\"1019017\",\"type\":\"LinearAxis\"},{\"attributes\":{\"background_fill_alpha\":0.6,\"background_fill_color\":\"white\",\"level\":\"glyph\",\"text\":\"holdirdeinlandzur\\u00fcck\",\"text_align\":\"center\",\"text_font_size\":\"8.22972972972973px\",\"text_font_style\":\"bold\",\"x\":-2.5077698724565534,\"y\":2.118087484355226},\"id\":\"1019117\",\"type\":\"Label\"},{\"attributes\":{\"formatter\":{\"id\":\"1025128\"},\"major_label_policy\":{\"id\":\"1025130\"},\"ticker\":{\"id\":\"1019014\"}},\"id\":\"1019013\",\"type\":\"LinearAxis\"},{\"attributes\":{\"background_fill_alpha\":0.6,\"background_fill_color\":\"white\",\"level\":\"glyph\",\"text\":\"ltnrw\",\"text_align\":\"center\",\"text_font_size\":\"8.22972972972973px\",\"text_font_style\":\"bold\",\"x\":-6.4594156791590365,\"y\":-1.2455812775432442},\"id\":\"1019127\",\"type\":\"Label\"},{\"attributes\":{\"edge_renderer\":{\"id\":\"1019041\"},\"inspection_policy\":{\"id\":\"1019076\"},\"layout_provider\":{\"id\":\"1019043\"},\"node_renderer\":{\"id\":\"1019037\"},\"selection_policy\":{\"id\":\"1019074\"}},\"id\":\"1019034\",\"type\":\"GraphRenderer\"},{\"attributes\":{\"axis\":{\"id\":\"1019017\"},\"dimension\":1,\"ticker\":null},\"id\":\"1019020\",\"type\":\"Grid\"},{\"attributes\":{\"end\":10.1,\"start\":-10.1},\"id\":\"1019003\",\"type\":\"Range1d\"},{\"attributes\":{\"background_fill_alpha\":0.6,\"background_fill_color\":\"white\",\"level\":\"glyph\",\"text\":\"lindner\",\"text_align\":\"center\",\"text_font_size\":\"8.22972972972973px\",\"text_font_style\":\"bold\",\"x\":4.159456085262831,\"y\":2.7614196638089075},\"id\":\"1019123\",\"type\":\"Label\"},{\"attributes\":{\"background_fill_alpha\":0.6,\"background_fill_color\":\"white\",\"level\":\"glyph\",\"text\":\"linksextremismus\",\"text_align\":\"center\",\"text_font_size\":\"8.0px\",\"text_font_style\":\"bold\",\"x\":1.113244841911206,\"y\":1.2925458896990323},\"id\":\"1019125\",\"type\":\"Label\"},{\"attributes\":{},\"id\":\"1019014\",\"type\":\"BasicTicker\"},{\"attributes\":{\"text\":\"Hashtag Network\"},\"id\":\"1019005\",\"type\":\"Title\"},{\"attributes\":{\"background_fill_alpha\":0.6,\"background_fill_color\":\"white\",\"level\":\"glyph\",\"text\":\"schicksalswahl\",\"text_align\":\"center\",\"text_font_size\":\"8.0px\",\"text_font_style\":\"bold\",\"x\":-4.150474117138437,\"y\":-1.092525393101014},\"id\":\"1019183\",\"type\":\"Label\"},{\"attributes\":{\"background_fill_alpha\":0.6,\"background_fill_color\":\"white\",\"level\":\"glyph\",\"text\":\"n\\u00fcrnberg\",\"text_align\":\"center\",\"text_font_size\":\"8.22972972972973px\",\"text_font_style\":\"bold\",\"x\":-3.9999441998136898,\"y\":2.3371857781557233},\"id\":\"1019134\",\"type\":\"Label\"},{\"attributes\":{\"background_fill_alpha\":0.6,\"background_fill_color\":\"white\",\"level\":\"glyph\",\"text\":\"bundesregierung\",\"text_align\":\"center\",\"text_font_size\":\"8.22972972972973px\",\"text_font_style\":\"bold\",\"x\":6.584452847273672,\"y\":-0.3020980986220822},\"id\":\"1019170\",\"type\":\"Label\"},{\"attributes\":{\"data\":{\"adjusted_node_size\":[7,48,9,80,8,6,7,6,8,7,6,9,12,11,18,12,6,7,7,11,6,10,6,7,6,8,7,15,6,11,9,8,6,8,11,10,6,7,7,7,6,6,6,7,7,11,6,6,7,7,17,8,10,6,9,7,8,8,8,6,7,7,10,24,7,7,6,39,10,6,8,6,6,7,10,6,7,7,6,6,6,8,8,6,8,7,7,9,8,6,6,7,7,8,6,7,6,6,8,8,6,6,6,6,6,6,6,6],\"degree\":[2,43,4,75,3,1,2,1,3,2,1,4,7,6,13,7,1,2,2,6,1,5,1,2,1,3,2,10,1,6,4,3,1,3,6,5,1,2,2,2,1,1,1,2,2,6,1,1,2,2,12,3,5,1,4,2,3,3,3,1,2,2,5,19,2,2,1,34,5,1,3,1,1,2,5,1,2,2,1,1,1,3,3,1,3,2,2,4,3,1,1,2,2,3,1,2,1,1,3,3,1,1,1,1,1,1,1,1],\"index\":[\"5kampf\",\"btw17\",\"f\\u00fcnfkampf\",\"afd\",\"afdwaehlen\",\"akp\",\"annewill\",\"antifa\",\"ard\",\"barcelona\",\"berlin\",\"btw\",\"btw2017\",\"bundestag\",\"cdu\",\"csu\",\"demokratie\",\"deutschland\",\"diesel\",\"ehefueralle\",\"entsorgen\",\"eu\",\"eugh\",\"europa\",\"ezb\",\"fakenews\",\"familiennachzug\",\"fdp\",\"freiheit\",\"g20\",\"gauland\",\"gehwaehlen\",\"gez\",\"grueneversenken\",\"gr\\u00fcne\",\"hamburg\",\"hampel\",\"holdirdeinlandzurueck\",\"holdirdeinlandzur\\u00fcck\",\"h\\u00fctter\",\"insa\",\"islam\",\"juncker\",\"klartext\",\"lindner\",\"linke\",\"linksextremismus\",\"london\",\"ltnrw\",\"maas\",\"merkel\",\"merkelmussweg\",\"netzdg\",\"niedersachsen\",\"nrw\",\"n\\u00fcrnberg\",\"obergrenze\",\"oktoberfest\",\"otte\",\"pforzheim\",\"poggenburg\",\"rundfunkbeitrag\",\"schulz\",\"spd\",\"stegner\",\"terroranschlag\",\"traudichdeuschland\",\"traudichdeutschland\",\"tvduell\",\"twitter\",\"wahl2017\",\"wahlarena\",\"weidel\",\"wiegehtsd\",\"zdf\",\"afdw\\u00e4hlen\",\"schlussrunde\",\"autobahnprivatisierung\",\"bpt17\",\"ceta\",\"darumgruen\",\"darumgr\\u00fcn\",\"denkenwirneu\",\"ehef\\u00fcralle\",\"emobilit\\u00e4t\",\"fedidwgugl\",\"fragselbst\",\"groko\",\"iaa2017\",\"mutludirekt\",\"noafd\",\"bundesregierung\",\"erdogan\",\"t\\u00fcrkei\",\"tvspot\",\"dieselgate\",\"dobrindt\",\"loveislove\",\"g20ham17\",\"g20hh2017\",\"nog20\",\"polizei\",\"g20protest\",\"gabriel\",\"schicksalswahl\",\"scholz\",\"schr\\u00f6der\",\"union\"],\"modularity_class\":[1,1,1,0,2,0,3,0,6,0,0,2,2,3,3,3,0,2,7,3,0,4,0,4,0,2,2,3,0,5,0,2,0,1,3,5,0,2,2,2,0,0,0,1,3,3,0,0,0,3,4,2,3,0,0,0,2,2,1,0,1,2,4,3,3,0,0,2,4,0,1,0,0,1,6,2,6,3,1,1,1,1,1,1,1,1,2,4,1,1,1,4,4,4,1,7,7,3,5,5,5,5,5,4,2,3,3,3],\"modularity_color\":[\"#9DD93A\",\"#9DD93A\",\"#9DD93A\",\"#FDE724\",\"#49C16D\",\"#FDE724\",\"#1EA087\",\"#FDE724\",\"#46317E\",\"#FDE724\",\"#FDE724\",\"#49C16D\",\"#49C16D\",\"#1EA087\",\"#1EA087\",\"#1EA087\",\"#FDE724\",\"#49C16D\",\"#440154\",\"#1EA087\",\"#FDE724\",\"#277E8E\",\"#FDE724\",\"#277E8E\",\"#FDE724\",\"#49C16D\",\"#49C16D\",\"#1EA087\",\"#FDE724\",\"#365A8C\",\"#FDE724\",\"#49C16D\",\"#FDE724\",\"#9DD93A\",\"#1EA087\",\"#365A8C\",\"#FDE724\",\"#49C16D\",\"#49C16D\",\"#49C16D\",\"#FDE724\",\"#FDE724\",\"#FDE724\",\"#9DD93A\",\"#1EA087\",\"#1EA087\",\"#FDE724\",\"#FDE724\",\"#FDE724\",\"#1EA087\",\"#277E8E\",\"#49C16D\",\"#1EA087\",\"#FDE724\",\"#FDE724\",\"#FDE724\",\"#49C16D\",\"#49C16D\",\"#9DD93A\",\"#FDE724\",\"#9DD93A\",\"#49C16D\",\"#277E8E\",\"#1EA087\",\"#1EA087\",\"#FDE724\",\"#FDE724\",\"#49C16D\",\"#277E8E\",\"#FDE724\",\"#9DD93A\",\"#FDE724\",\"#FDE724\",\"#9DD93A\",\"#46317E\",\"#49C16D\",\"#46317E\",\"#1EA087\",\"#9DD93A\",\"#9DD93A\",\"#9DD93A\",\"#9DD93A\",\"#9DD93A\",\"#9DD93A\",\"#9DD93A\",\"#9DD93A\",\"#49C16D\",\"#277E8E\",\"#9DD93A\",\"#9DD93A\",\"#9DD93A\",\"#277E8E\",\"#277E8E\",\"#277E8E\",\"#9DD93A\",\"#440154\",\"#440154\",\"#1EA087\",\"#365A8C\",\"#365A8C\",\"#365A8C\",\"#365A8C\",\"#365A8C\",\"#277E8E\",\"#49C16D\",\"#1EA087\",\"#1EA087\",\"#1EA087\"]},\"selected\":{\"id\":\"1025136\"},\"selection_policy\":{\"id\":\"1025137\"}},\"id\":\"1019036\",\"type\":\"ColumnDataSource\"},{\"attributes\":{\"line_alpha\":{\"value\":0.3},\"line_color\":{\"field\":\"edge_color\"},\"line_width\":{\"field\":\"normalized_weight\"}},\"id\":\"1019059\",\"type\":\"MultiLine\"},{\"attributes\":{\"source\":{\"id\":\"1019036\"}},\"id\":\"1019038\",\"type\":\"CDSView\"},{\"attributes\":{\"background_fill_alpha\":0.6,\"background_fill_color\":\"white\",\"level\":\"glyph\",\"text\":\"gr\\u00fcne\",\"text_align\":\"center\",\"text_font_size\":\"9.14864864864865px\",\"text_font_style\":\"bold\",\"x\":1.2889258244482102,\"y\":-1.7988898376403109},\"id\":\"1019113\",\"type\":\"Label\"},{\"attributes\":{\"background_fill_alpha\":0.6,\"background_fill_color\":\"white\",\"level\":\"glyph\",\"text\":\"obergrenze\",\"text_align\":\"center\",\"text_font_size\":\"8.45945945945946px\",\"text_font_style\":\"bold\",\"x\":-0.8301777976582732,\"y\":-0.4931681999839768},\"id\":\"1019135\",\"type\":\"Label\"},{\"attributes\":{\"background_fill_alpha\":0.6,\"background_fill_color\":\"white\",\"level\":\"glyph\",\"text\":\"oktoberfest\",\"text_align\":\"center\",\"text_font_size\":\"8.45945945945946px\",\"text_font_style\":\"bold\",\"x\":-2.1880870518261077,\"y\":1.4744625782648562},\"id\":\"1019136\",\"type\":\"Label\"},{\"attributes\":{\"background_fill_alpha\":0.6,\"background_fill_color\":\"white\",\"level\":\"glyph\",\"text\":\"otte\",\"text_align\":\"center\",\"text_font_size\":\"8.45945945945946px\",\"text_font_style\":\"bold\",\"x\":-2.2210163207583387,\"y\":-2.0616530378452778},\"id\":\"1019137\",\"type\":\"Label\"},{\"attributes\":{\"fill_color\":{\"value\":\"white\"},\"line_color\":{\"value\":\"red\"},\"line_width\":{\"value\":2},\"size\":{\"field\":\"adjusted_node_size\"}},\"id\":\"1019054\",\"type\":\"Circle\"},{\"attributes\":{\"background_fill_alpha\":0.6,\"background_fill_color\":\"white\",\"level\":\"glyph\",\"text\":\"pforzheim\",\"text_align\":\"center\",\"text_font_size\":\"8.0px\",\"text_font_style\":\"bold\",\"x\":-0.2643936739879095,\"y\":3.7165617273356006},\"id\":\"1019138\",\"type\":\"Label\"},{\"attributes\":{\"data_source\":{\"id\":\"1019036\"},\"glyph\":{\"id\":\"1019044\"},\"hover_glyph\":{\"id\":\"1019054\"},\"muted_glyph\":null,\"selection_glyph\":{\"id\":\"1019049\"},\"view\":{\"id\":\"1019038\"}},\"id\":\"1019037\",\"type\":\"GlyphRenderer\"},{\"attributes\":{\"background_fill_alpha\":0.6,\"background_fill_color\":\"white\",\"level\":\"glyph\",\"text\":\"poggenburg\",\"text_align\":\"center\",\"text_font_size\":\"8.22972972972973px\",\"text_font_style\":\"bold\",\"x\":-3.586145333497596,\"y\":-2.1740952311349853},\"id\":\"1019139\",\"type\":\"Label\"},{\"attributes\":{\"data\":{\"edge_color\":[\"#9DD93A\",\"#9DD93A\",\"#cde02f\",\"#73cd53\",\"#9DD93A\",\"#73cd53\",\"#9DD93A\",\"#73cd53\",\"#5dbc60\",\"#5dbc60\",\"#9DD93A\",\"#5dbc60\",\"#9DD93A\",\"#9DD93A\",\"#9DD93A\",\"#9DD93A\",\"#9DD93A\",\"#5dbc60\",\"#9DD93A\",\"#73cd53\",\"#9DD93A\",\"#cde02f\",\"#73cd53\",\"#62ab64\",\"#9DD93A\",\"#5dbc60\",\"#9DD93A\",\"#9DD93A\",\"#5dbc60\",\"#62ab64\",\"#73cd53\",\"#9DD93A\",\"#9DD93A\",\"#cde02f\",\"#9DD93A\",\"#9DD93A\",\"#62ab64\",\"#5dbc60\",\"#73cd53\",\"#62ab64\",\"#9DD93A\",\"#9DD93A\",\"#71855c\",\"#cde02f\",\"#73cd53\",\"#FDE724\",\"#a3d448\",\"#FDE724\",\"#8dc355\",\"#FDE724\",\"#a18c51\",\"#FDE724\",\"#FDE724\",\"#a3d448\",\"#a3d448\",\"#8dc355\",\"#8dc355\",\"#8dc355\",\"#FDE724\",\"#a3d448\",\"#a0743c\",\"#8dc355\",\"#FDE724\",\"#92b259\",\"#FDE724\",\"#92b259\",\"#FDE724\",\"#a3d448\",\"#a3d448\",\"#8dc355\",\"#FDE724\",\"#99a058\",\"#FDE724\",\"#a3d448\",\"#FDE724\",\"#cde02f\",\"#8dc355\",\"#99a058\",\"#FDE724\",\"#a3d448\",\"#a3d448\",\"#a3d448\",\"#FDE724\",\"#FDE724\",\"#FDE724\",\"#cde02f\",\"#8dc355\",\"#8dc355\",\"#FDE724\",\"#FDE724\",\"#FDE724\",\"#8dc355\",\"#92b259\",\"#a3d448\",\"#8dc355\",\"#FDE724\",\"#FDE724\",\"#FDE724\",\"#a3d448\",\"#a3d448\",\"#cde02f\",\"#FDE724\",\"#cde02f\",\"#a3d448\",\"#92b259\",\"#8dc355\",\"#8dc355\",\"#FDE724\",\"#FDE724\",\"#a3d448\",\"#92b259\",\"#FDE724\",\"#cde02f\",\"#FDE724\",\"#FDE724\",\"#cde02f\",\"#a18c51\",\"#49C16D\",\"#1EA087\",\"#46317E\",\"#46317E\",\"#FDE724\",\"#49C16D\",\"#49C16D\",\"#33b07a\",\"#389f7d\",\"#33b07a\",\"#49C16D\",\"#1EA087\",\"#1EA087\",\"#1EA087\",\"#33b07a\",\"#1EA087\",\"#1EA087\",\"#1EA087\",\"#5dbc60\",\"#1EA087\",\"#1EA087\",\"#228f8a\",\"#1EA087\",\"#33b07a\",\"#1EA087\",\"#33b07a\",\"#1EA087\",\"#33b07a\",\"#49C16D\",\"#440154\",\"#1EA087\",\"#228f8a\",\"#1EA087\",\"#1EA087\",\"#277E8E\",\"#277E8E\",\"#277E8E\",\"#277E8E\",\"#49C16D\",\"#49C16D\",\"#49C16D\",\"#5dbc60\",\"#1EA087\",\"#1EA087\",\"#1EA087\",\"#1EA087\",\"#33b07a\",\"#365A8C\",\"#365A8C\",\"#365A8C\",\"#365A8C\",\"#365A8C\",\"#FDE724\",\"#a3d448\",\"#49C16D\",\"#73cd53\",\"#1EA087\",\"#1EA087\",\"#365A8C\",\"#365A8C\",\"#365A8C\",\"#49C16D\",\"#49C16D\",\"#49C16D\",\"#1EA087\",\"#FDE724\",\"#1EA087\",\"#277E8E\",\"#277E8E\",\"#277E8E\",\"#228f8a\",\"#389f7d\",\"#277E8E\",\"#49C16D\",\"#1EA087\",\"#33b07a\",\"#a3d448\",\"#49C16D\",\"#49C16D\",\"#73cd53\",\"#49C16D\",\"#228f8a\",\"#277E8E\",\"#228f8a\",\"#1EA087\",\"#1EA087\",\"#1EA087\",\"#33b07a\",\"#1EA087\",\"#49C16D\",\"#49C16D\",\"#49C16D\",\"#389f7d\",\"#73cd53\",\"#477975\",\"#46317E\",\"#9DD93A\",\"#9DD93A\",\"#9DD93A\",\"#9DD93A\",\"#277E8E\",\"#277E8E\",\"#277E8E\",\"#440154\",\"#365A8C\"],\"end\":[\"btw17\",\"f\\u00fcnfkampf\",\"afd\",\"afdwaehlen\",\"bpt17\",\"btw\",\"btw17\",\"btw2017\",\"bundestag\",\"cdu\",\"ceta\",\"csu\",\"darumgruen\",\"darumgr\\u00fcn\",\"denkenwirneu\",\"ehef\\u00fcralle\",\"emobilit\\u00e4t\",\"fdp\",\"fedidwgugl\",\"fragselbst\",\"f\\u00fcnfkampf\",\"gauland\",\"gehwaehlen\",\"groko\",\"grueneversenken\",\"gr\\u00fcne\",\"iaa2017\",\"klartext\",\"linke\",\"merkel\",\"merkelmussweg\",\"mutludirekt\",\"noafd\",\"nrw\",\"otte\",\"poggenburg\",\"schulz\",\"spd\",\"traudichdeutschland\",\"tvduell\",\"wahl2017\",\"wiegehtsd\",\"zdf\",\"afd\",\"traudichdeutschland\",\"afd\",\"afdwaehlen\",\"akp\",\"annewill\",\"antifa\",\"ard\",\"barcelona\",\"berlin\",\"btw\",\"btw2017\",\"bundestag\",\"cdu\",\"csu\",\"demokratie\",\"deutschland\",\"diesel\",\"ehefueralle\",\"entsorgen\",\"eu\",\"eugh\",\"europa\",\"ezb\",\"fakenews\",\"familiennachzug\",\"fdp\",\"freiheit\",\"g20\",\"gauland\",\"gehwaehlen\",\"gez\",\"grueneversenken\",\"gr\\u00fcne\",\"hamburg\",\"hampel\",\"holdirdeinlandzurueck\",\"holdirdeinlandzur\\u00fcck\",\"h\\u00fctter\",\"insa\",\"islam\",\"juncker\",\"klartext\",\"lindner\",\"linke\",\"linksextremismus\",\"london\",\"ltnrw\",\"maas\",\"merkel\",\"merkelmussweg\",\"netzdg\",\"niedersachsen\",\"nrw\",\"n\\u00fcrnberg\",\"obergrenze\",\"oktoberfest\",\"otte\",\"pforzheim\",\"poggenburg\",\"rundfunkbeitrag\",\"schulz\",\"spd\",\"stegner\",\"terroranschlag\",\"traudichdeuschland\",\"traudichdeutschland\",\"tvduell\",\"twitter\",\"wahl2017\",\"wahlarena\",\"weidel\",\"wiegehtsd\",\"zdf\",\"traudichdeutschland\",\"fdp\",\"schlussrunde\",\"zdf\",\"terroranschlag\",\"btw2017\",\"traudichdeutschland\",\"cdu\",\"merkel\",\"spd\",\"traudichdeutschland\",\"cdu\",\"ehefueralle\",\"spd\",\"traudichdeutschland\",\"autobahnprivatisierung\",\"csu\",\"fdp\",\"fedidwgugl\",\"gr\\u00fcne\",\"linke\",\"merkel\",\"spd\",\"traudichdeutschland\",\"autobahnprivatisierung\",\"obergrenze\",\"spd\",\"traudichdeutschland\",\"traudichdeutschland\",\"dieselgate\",\"loveislove\",\"merkel\",\"netzdg\",\"spd\",\"europa\",\"groko\",\"merkel\",\"t\\u00fcrkei\",\"oktoberfest\",\"traudichdeutschland\",\"traudichdeutschland\",\"denkenwirneu\",\"gr\\u00fcne\",\"lindner\",\"linke\",\"spd\",\"traudichdeutschland\",\"g20ham17\",\"g20hh2017\",\"hamburg\",\"nog20\",\"polizei\",\"n\\u00fcrnberg\",\"traudichdeutschland\",\"traudichdeutschland\",\"traudichdeutschland\",\"linke\",\"spd\",\"g20ham17\",\"g20hh2017\",\"g20protest\",\"traudichdeutschland\",\"traudichdeutschland\",\"traudichdeutschland\",\"spd\",\"nrw\",\"netzdg\",\"gabriel\",\"groko\",\"schulz\",\"spd\",\"traudichdeutschland\",\"tvduell\",\"traudichdeutschland\",\"spd\",\"traudichdeutschland\",\"traudichdeutschland\",\"traudichdeutschland\",\"traudichdeutschland\",\"traudichdeutschland\",\"traudichdeutschland\",\"spd\",\"tvduell\",\"groko\",\"scholz\",\"schr\\u00f6der\",\"stegner\",\"traudichdeutschland\",\"union\",\"afdw\\u00e4hlen\",\"fragselbst\",\"schicksalswahl\",\"tvduell\",\"wahl2017\",\"zdf\",\"schlussrunde\",\"emobilit\\u00e4t\",\"iaa2017\",\"tvspot\",\"iaa2017\",\"erdogan\",\"t\\u00fcrkei\",\"t\\u00fcrkei\",\"dobrindt\",\"g20hh2017\"],\"normalized_weight\":[1.0273085694406865,1.0309613080282942,8.145626377024469,1.0335704070194427,1.0342661667504156,1.1001894012600981,1.0269606895752001,1.139151946194581,1.0558347184105756,1.3144833983997526,1.0036527385876077,1.0095666963008774,1.0690541532990607,1.339356808782034,1.2475165242936106,1.0003478798654866,1.0624444358548182,1.2395152873874222,1.0327007073557266,1.0052181979822967,1.188550887093657,1.1944648448069266,1.009218816435391,1.018437632870782,1.0027830389238916,1.0448765026477522,1.0614007962583587,1.0013915194619458,1.208553979359128,1.3597077809129914,1.0034787986548646,1.0163503536778633,1.008349116771675,1.0027830389238916,1.0046963781840672,1.0236558308530788,1.0549650187468593,1.4828572532951956,4.596034169533455,1.1688956746936725,1.051486220091995,1.0380928452707665,1.0046963781840672,1.033048587221213,1.0133933748212285,1.4920760697305864,1.0714893123574658,1.043832863051293,1.0487031811681033,1.0580959375362375,1.0071315372424723,1.0426152835220903,1.0655753546441962,1.0596613969309265,1.3875381701519076,1.0937536237485987,1.6220091994897763,1.0833172277840053,1.0137412546867148,1.0913184646901937,1.0452243825132388,1.0321788875574969,1.0012175795292027,1.0304394882300645,1.0193073325344981,1.0097406362336208,1.013219434888485,1.0958409029415175,1.003826678520351,1.413977039928878,1.018437632870782,1.078446909667195,1.758725986625952,1.0166982335433496,1.018437632870782,1.024003710718565,1.0605310965946426,1.0767075103397628,1.0003478798654866,1.009914576166364,1.034614046615902,1.029917668431835,1.0080012369061884,1.0144370144176877,1.0040006184530943,1.019133392601755,1.0779250898689652,1.0740984113486143,1.0067836573769857,1.0109582157628232,1.1668083955007538,1.066097174442426,1.5338216535889606,1.0982760619999228,1.2536044219396236,1.0224382513238761,1.1975957635963048,1.0702717328282634,1.0313091878937808,1.0248734103822814,1.0911445247574505,1.0274825093734297,1.1048857794441653,1.009914576166364,1.1045378995786788,1.708805225928646,1.0078272969734452,1.013045494955742,1.0154806540141472,10.0,1.3214409957094817,1.027656449306173,1.0398322445981987,1.013219434888485,1.0914924046229368,1.1306288894901628,1.0920142244211666,1.1749835723396853,1.0055660778477833,1.0064357775114994,1.07548993081056,1.0140891345522014,1.0,1.0436589231185498,1.0120018553592827,1.0019133392601756,1.0078272969734452,1.373970855397936,1.0120018553592827,1.1509798616211202,1.0527037996211974,1.0104363959645937,1.001565459394689,1.3496192648138843,1.1542847203432416,1.069228093231804,1.0316570677592671,1.0179158130725523,1.1850720884387924,1.4419813691005374,1.2673456766263385,1.0013915194619458,1.0057400177805265,1.127671910633528,1.038440725136253,1.0059139577132696,1.0027830389238916,1.0440068029840361,1.0073054771752155,1.0186115728035252,1.0050442580495536,1.0133933748212285,1.000695759730973,1.0019133392601756,1.0097406362336208,1.0304394882300645,1.031483127826524,1.0165242936106065,1.0582698774689807,1.0600092767964129,1.1130609562830969,1.0040006184530943,1.110799737157435,1.090796644891964,1.1017548606547871,1.068532333500831,1.2899578678829577,1.0987978817981525,1.0179158130725523,1.003826678520351,1.0241776506513085,1.0001739399327432,1.0641838351822503,1.0205249120637008,1.1019288005875305,1.0093927563681342,1.023134011054849,1.0248734103822814,1.0203509721309574,1.0443546828495227,1.0066097174442425,1.0589656371999536,1.0619226160565884,1.0923621042866531,1.0417455838583742,1.0,1.136194967337946,1.0688802133663176,1.2464728846971513,1.1033203200494763,1.1010591009238144,1.0189594526690116,1.029917668431835,1.0226121912566195,1.0019133392601756,1.0252212902477678,1.0321788875574969,1.0189594526690116,1.2743032739360673,1.0887093656990452,1.0106103358973368,1.019133392601755,1.0135673147539717,1.0252212902477678,1.222469173978586,1.0321788875574969,1.0255691701132543,1.024003710718565,1.0104363959645937,1.1421089250512158,1.0401801244636852,1.020698851996444,1.0064357775114994,1.0650535348459667,1.0603571566618994,1.0179158130725523,1.0603571566618994,1.0699238529627768,1.0208727919291871,1.218468555525492,1.0944493834795717,1.0372231456070504],\"start\":[\"5kampf\",\"5kampf\",\"btw17\",\"btw17\",\"btw17\",\"btw17\",\"btw17\",\"btw17\",\"btw17\",\"btw17\",\"btw17\",\"btw17\",\"btw17\",\"btw17\",\"btw17\",\"btw17\",\"btw17\",\"btw17\",\"btw17\",\"btw17\",\"btw17\",\"btw17\",\"btw17\",\"btw17\",\"btw17\",\"btw17\",\"btw17\",\"btw17\",\"btw17\",\"btw17\",\"btw17\",\"btw17\",\"btw17\",\"btw17\",\"btw17\",\"btw17\",\"btw17\",\"btw17\",\"btw17\",\"btw17\",\"btw17\",\"btw17\",\"btw17\",\"f\\u00fcnfkampf\",\"f\\u00fcnfkampf\",\"afd\",\"afd\",\"afd\",\"afd\",\"afd\",\"afd\",\"afd\",\"afd\",\"afd\",\"afd\",\"afd\",\"afd\",\"afd\",\"afd\",\"afd\",\"afd\",\"afd\",\"afd\",\"afd\",\"afd\",\"afd\",\"afd\",\"afd\",\"afd\",\"afd\",\"afd\",\"afd\",\"afd\",\"afd\",\"afd\",\"afd\",\"afd\",\"afd\",\"afd\",\"afd\",\"afd\",\"afd\",\"afd\",\"afd\",\"afd\",\"afd\",\"afd\",\"afd\",\"afd\",\"afd\",\"afd\",\"afd\",\"afd\",\"afd\",\"afd\",\"afd\",\"afd\",\"afd\",\"afd\",\"afd\",\"afd\",\"afd\",\"afd\",\"afd\",\"afd\",\"afd\",\"afd\",\"afd\",\"afd\",\"afd\",\"afd\",\"afd\",\"afd\",\"afd\",\"afd\",\"afd\",\"afd\",\"afdwaehlen\",\"annewill\",\"ard\",\"ard\",\"barcelona\",\"btw\",\"btw\",\"btw2017\",\"btw2017\",\"btw2017\",\"btw2017\",\"bundestag\",\"bundestag\",\"bundestag\",\"bundestag\",\"cdu\",\"cdu\",\"cdu\",\"cdu\",\"cdu\",\"cdu\",\"cdu\",\"cdu\",\"cdu\",\"csu\",\"csu\",\"csu\",\"csu\",\"deutschland\",\"diesel\",\"ehefueralle\",\"ehefueralle\",\"ehefueralle\",\"ehefueralle\",\"eu\",\"eu\",\"eu\",\"eu\",\"fakenews\",\"fakenews\",\"familiennachzug\",\"fdp\",\"fdp\",\"fdp\",\"fdp\",\"fdp\",\"fdp\",\"g20\",\"g20\",\"g20\",\"g20\",\"g20\",\"gauland\",\"gauland\",\"gehwaehlen\",\"grueneversenken\",\"gr\\u00fcne\",\"gr\\u00fcne\",\"hamburg\",\"hamburg\",\"hamburg\",\"holdirdeinlandzurueck\",\"holdirdeinlandzur\\u00fcck\",\"h\\u00fctter\",\"linke\",\"ltnrw\",\"maas\",\"merkel\",\"merkel\",\"merkel\",\"merkel\",\"merkel\",\"merkel\",\"merkelmussweg\",\"netzdg\",\"netzdg\",\"nrw\",\"obergrenze\",\"oktoberfest\",\"otte\",\"rundfunkbeitrag\",\"schulz\",\"schulz\",\"spd\",\"spd\",\"spd\",\"spd\",\"spd\",\"spd\",\"traudichdeutschland\",\"traudichdeutschland\",\"traudichdeutschland\",\"traudichdeutschland\",\"traudichdeutschland\",\"traudichdeutschland\",\"zdf\",\"darumgr\\u00fcn\",\"darumgr\\u00fcn\",\"denkenwirneu\",\"emobilit\\u00e4t\",\"bundesregierung\",\"bundesregierung\",\"erdogan\",\"dieselgate\",\"g20ham17\"],\"weight\":[482,503,41406,518,522,901,480,1125,646,2133,346,380,722,2276,1748,327,684,1702,513,355,1409,1443,378,431,341,583,678,333,1524,2393,345,419,373,341,352,461,641,3101,20999,1296,621,544,352,515,402,3154,736,577,605,659,366,570,702,668,2553,864,3901,804,404,850,585,510,332,500,436,381,401,876,347,2705,431,776,4687,421,431,463,673,766,327,382,524,497,371,408,348,435,773,751,364,388,1284,705,3394,890,1783,454,1461,729,505,468,849,483,928,382,926,4400,370,400,414,52067,2173,484,554,401,851,1076,854,1331,357,362,759,406,325,576,394,336,370,2475,394,1193,628,385,334,2335,1212,723,507,428,1389,2866,1862,333,358,1059,546,359,341,578,367,432,354,402,329,336,381,500,506,420,660,670,975,348,962,847,910,719,1992,893,428,347,464,326,694,443,911,379,458,468,442,580,363,664,681,856,565,325,1108,721,1742,919,906,434,497,455,336,470,510,434,1902,835,386,435,403,470,1604,510,472,463,385,1142,556,444,362,699,672,428,672,727,445,1581,868,539]},\"selected\":{\"id\":\"1025134\"},\"selection_policy\":{\"id\":\"1025135\"}},\"id\":\"1019040\",\"type\":\"ColumnDataSource\"},{\"attributes\":{\"background_fill_alpha\":0.6,\"background_fill_color\":\"white\",\"level\":\"glyph\",\"text\":\"rundfunkbeitrag\",\"text_align\":\"center\",\"text_font_size\":\"8.22972972972973px\",\"text_font_style\":\"bold\",\"x\":-1.26975587892754,\"y\":1.0915803128770045},\"id\":\"1019140\",\"type\":\"Label\"},{\"attributes\":{\"fill_color\":{\"field\":\"modularity_color\"},\"size\":{\"field\":\"adjusted_node_size\"}},\"id\":\"1019044\",\"type\":\"Circle\"},{\"attributes\":{\"background_fill_alpha\":0.6,\"background_fill_color\":\"white\",\"level\":\"glyph\",\"text\":\"schulz\",\"text_align\":\"center\",\"text_font_size\":\"8.91891891891892px\",\"text_font_style\":\"bold\",\"x\":-4.253442170964109,\"y\":-1.7681132124651229},\"id\":\"1019141\",\"type\":\"Label\"},{\"attributes\":{\"background_fill_alpha\":0.6,\"background_fill_color\":\"white\",\"level\":\"glyph\",\"text\":\"spd\",\"text_align\":\"center\",\"text_font_size\":\"12.135135135135135px\",\"text_font_style\":\"bold\",\"x\":2.616303417785391,\"y\":-2.1034828480048406},\"id\":\"1019142\",\"type\":\"Label\"},{\"attributes\":{\"data_source\":{\"id\":\"1019040\"},\"glyph\":{\"id\":\"1019059\"},\"hover_glyph\":{\"id\":\"1019069\"},\"muted_glyph\":null,\"selection_glyph\":{\"id\":\"1019064\"},\"view\":{\"id\":\"1019042\"}},\"id\":\"1019041\",\"type\":\"GlyphRenderer\"},{\"attributes\":{\"background_fill_alpha\":0.6,\"background_fill_color\":\"white\",\"level\":\"glyph\",\"text\":\"stegner\",\"text_align\":\"center\",\"text_font_size\":\"8.22972972972973px\",\"text_font_style\":\"bold\",\"x\":1.309952689758412,\"y\":0.2253912920977009},\"id\":\"1019143\",\"type\":\"Label\"},{\"attributes\":{\"background_fill_alpha\":0.6,\"background_fill_color\":\"white\",\"level\":\"glyph\",\"text\":\"iaa2017\",\"text_align\":\"center\",\"text_font_size\":\"8.45945945945946px\",\"text_font_style\":\"bold\",\"x\":-1.6583962028830228,\"y\":-6.317129676856906},\"id\":\"1019167\",\"type\":\"Label\"},{\"attributes\":{\"background_fill_alpha\":0.6,\"background_fill_color\":\"white\",\"level\":\"glyph\",\"text\":\"terroranschlag\",\"text_align\":\"center\",\"text_font_size\":\"8.22972972972973px\",\"text_font_style\":\"bold\",\"x\":0.8386775964700752,\"y\":2.729447815600165},\"id\":\"1019144\",\"type\":\"Label\"},{\"attributes\":{\"graph_layout\":{\"5kampf\":[-0.45560789531462004,-3.832538333428335],\"afd\":[0.056000104185442774,1.1655362931698816],\"afdwaehlen\":[0.33714353681779763,-2.5394103892825126],\"afdw\\u00e4hlen\":[-4.948238527730061,-0.8863014908101641],\"akp\":[2.9690738673715003,2.611608438524339],\"annewill\":[3.4664403188827455,0.934664026502897],\"antifa\":[1.4259268524981028,4.502636204071325],\"ard\":[-1.3966372523050905,1.7309991711529535],\"autobahnprivatisierung\":[0.5118235265477149,-4.200548538836361],\"barcelona\":[2.136004939424456,3.4652573513340372],\"berlin\":[-3.044065429081854,3.8402413500915737],\"bpt17\":[-3.400970535346835,-4.540697874947445],\"btw\":[1.1172738202289274,-1.3596233945794582],\"btw17\":[-1.440595593755267,-2.542109202003867],\"btw2017\":[2.4068352841500626,-3.063649470936629],\"bundesregierung\":[6.584452847273672,-0.3020980986220822],\"bundestag\":[-0.41822186376038434,-2.088178684715267],\"cdu\":[1.5176798641585951,-3.7100802732373097],\"ceta\":[-2.4278312528781263,-3.8026214093160244],\"csu\":[-0.7043796405412397,-2.458794326232376],\"darumgruen\":[-4.834893880608654,-4.718897280034502],\"darumgr\\u00fcn\":[-3.566308004050687,-8.814510199746607],\"demokratie\":[1.9120736524304949,1.2665002098008533],\"denkenwirneu\":[6.964216699958264,-2.5925779409504286],\"deutschland\":[-3.54230754918051,-0.25328989087770204],\"diesel\":[-2.2981064819271158,3.72590992248119],\"dieselgate\":[-3.6647787025887233,4.84628810056469],\"dobrindt\":[-6.645647414391174,7.53625640500303],\"ehefueralle\":[2.3544216700875076,-0.4016489134067872],\"ehef\\u00fcralle\":[-1.7023990047228779,-3.8709630897920877],\"emobilit\\u00e4t\":[-3.1824509841806665,-5.847120094057268],\"entsorgen\":[0.22121853493808946,1.8229883862287592],\"erdogan\":[10.0,0.0935289974062218],\"eu\":[1.8203291692299004,-0.7356112858917541],\"eugh\":[2.2961829210645903,1.6910453264831742],\"europa\":[1.6367071638778259,0.6370225870497461],\"ezb\":[1.5974114565714659,1.8748467121298131],\"fakenews\":[-4.125562980147953,1.1694723540183216],\"familiennachzug\":[-0.4847612518997731,0.5338316024870501],\"fdp\":[3.9428825778436964,-0.7828752420797198],\"fedidwgugl\":[-0.35490821622893204,-5.289388085595556],\"fragselbst\":[-2.602530904651339,-2.8668820669861366],\"freiheit\":[1.8685606860296997,2.378820461090756],\"f\\u00fcnfkampf\":[-1.641006567735324,0.10530709790675943],\"g20\":[2.895347751447905,4.605373724335998],\"g20ham17\":[1.8027190051190412,6.864919918493129],\"g20hh2017\":[0.8498376315548543,7.55028555611661],\"g20protest\":[-1.1517592401256396,7.538792055519421],\"gabriel\":[4.072133908564788,-4.9916580406779625],\"gauland\":[-4.599623316959607,0.5403194808780418],\"gehwaehlen\":[-1.2040264808710237,-0.5562608063600469],\"gez\":[1.3319664709289025,2.8862665619169365],\"groko\":[1.0558934849155923,-2.5845011963585147],\"grueneversenken\":[-0.901870586444443,-1.0360651035037585],\"gr\\u00fcne\":[1.2889258244482102,-1.7988898376403109],\"hamburg\":[0.36899856006549764,5.597446992426132],\"hampel\":[0.6586771734223651,0.8207463495818104],\"holdirdeinlandzurueck\":[-0.9404311879559969,0.8575597048078247],\"holdirdeinlandzur\\u00fcck\":[-2.5077698724565534,2.118087484355226],\"h\\u00fctter\":[-2.1135356288958205,0.7902877130205626],\"iaa2017\":[-1.6583962028830228,-6.317129676856906],\"insa\":[0.8753004997937068,1.9937151652245366],\"islam\":[-0.3640218350754723,2.970480099923994],\"juncker\":[-0.4320860038012713,1.991748920337017],\"klartext\":[-0.44249472433287224,-0.9594919753931984],\"lindner\":[4.159456085262831,2.7614196638089075],\"linke\":[3.0087574170733906,-1.3771798069008847],\"linksextremismus\":[1.113244841911206,1.2925458896990323],\"london\":[0.14161635234670686,2.6397589517289695],\"loveislove\":[5.567427651220729,0.6276980366674876],\"ltnrw\":[-6.4594156791590365,-1.2455812775432442],\"maas\":[-0.7857088455415503,4.769609653361953],\"merkel\":[2.2468344809824896,-2.1973028421881495],\"merkelmussweg\":[-0.9294419260482623,-3.2913758130915056],\"mutludirekt\":[-1.9416700458218605,-4.66538792303244],\"netzdg\":[0.7167092516393829,-1.6821041712232994],\"niedersachsen\":[0.532108688449391,3.449004000183544],\"noafd\":[-1.074474222203184,-4.431864968661286],\"nog20\":[5.678081608417862,7.697519768827168],\"nrw\":[-2.9017828731749034,-2.514326484279653],\"n\\u00fcrnberg\":[-3.9999441998136898,2.3371857781557233],\"obergrenze\":[-0.8301777976582732,-0.4931681999839768],\"oktoberfest\":[-2.1880870518261077,1.4744625782648562],\"otte\":[-2.2210163207583387,-2.0616530378452778],\"pforzheim\":[-0.2643936739879095,3.7165617273356006],\"poggenburg\":[-3.586145333497596,-2.1740952311349853],\"polizei\":[4.572618700740024,5.613554134992284],\"rundfunkbeitrag\":[-1.26975587892754,1.0915803128770045],\"schicksalswahl\":[-4.150474117138437,-1.092525393101014],\"schlussrunde\":[-3.355267879870638,0.4721416620715007],\"scholz\":[3.46810823940354,-4.33437124936975],\"schr\\u00f6der\":[4.463695543041911,-2.779017739546268],\"schulz\":[-4.253442170964109,-1.7681132124651229],\"spd\":[2.616303417785391,-2.1034828480048406],\"stegner\":[1.309952689758412,0.2253912920977009],\"terroranschlag\":[0.8386775964700752,2.729447815600165],\"traudichdeuschland\":[-1.388531403415032,2.611551492359577],\"traudichdeutschland\":[-2.091199822192525,-0.741368673566978],\"tvduell\":[0.33568153953671565,-6.988808617920391],\"tvspot\":[8.60574584570268,-3.6849136425664484],\"twitter\":[-1.2556761749007594,3.431822849682554],\"t\\u00fcrkei\":[4.2658893376993765,-0.42384388790918937],\"union\":[4.623302375551861,-3.8735243812029383],\"wahl2017\":[-2.4769133290398986,0.2463095671282556],\"wahlarena\":[-0.8568867033458943,2.639445606848578],\"weidel\":[-2.355243738555736,5.348169774334072],\"wiegehtsd\":[-4.161692114164173,-3.047440519982165],\"zdf\":[-2.6111051519910053,-1.518109145782664]}},\"id\":\"1019043\",\"type\":\"StaticLayoutProvider\"},{\"attributes\":{\"source\":{\"id\":\"1019040\"}},\"id\":\"1019042\",\"type\":\"CDSView\"},{\"attributes\":{\"background_fill_alpha\":0.6,\"background_fill_color\":\"white\",\"level\":\"glyph\",\"text\":\"traudichdeuschland\",\"text_align\":\"center\",\"text_font_size\":\"8.0px\",\"text_font_style\":\"bold\",\"x\":-1.388531403415032,\"y\":2.611551492359577},\"id\":\"1019145\",\"type\":\"Label\"},{\"attributes\":{\"background_fill_alpha\":0.6,\"background_fill_color\":\"white\",\"level\":\"glyph\",\"text\":\"noafd\",\"text_align\":\"center\",\"text_font_size\":\"8.0px\",\"text_font_style\":\"bold\",\"x\":-1.074474222203184,\"y\":-4.431864968661286},\"id\":\"1019169\",\"type\":\"Label\"},{\"attributes\":{\"background_fill_alpha\":0.6,\"background_fill_color\":\"white\",\"level\":\"glyph\",\"text\":\"traudichdeutschland\",\"text_align\":\"center\",\"text_font_size\":\"15.58108108108108px\",\"text_font_style\":\"bold\",\"x\":-2.091199822192525,\"y\":-0.741368673566978},\"id\":\"1019146\",\"type\":\"Label\"},{\"attributes\":{\"background_fill_alpha\":0.6,\"background_fill_color\":\"white\",\"level\":\"glyph\",\"text\":\"tvduell\",\"text_align\":\"center\",\"text_font_size\":\"8.91891891891892px\",\"text_font_style\":\"bold\",\"x\":0.33568153953671565,\"y\":-6.988808617920391},\"id\":\"1019147\",\"type\":\"Label\"},{\"attributes\":{\"background_fill_alpha\":0.6,\"background_fill_color\":\"white\",\"level\":\"glyph\",\"text\":\"erdogan\",\"text_align\":\"center\",\"text_font_size\":\"8.22972972972973px\",\"text_font_style\":\"bold\",\"x\":10.0,\"y\":0.0935289974062218},\"id\":\"1019171\",\"type\":\"Label\"},{\"attributes\":{\"background_fill_alpha\":0.6,\"background_fill_color\":\"white\",\"level\":\"glyph\",\"text\":\"twitter\",\"text_align\":\"center\",\"text_font_size\":\"8.0px\",\"text_font_style\":\"bold\",\"x\":-1.2556761749007594,\"y\":3.431822849682554},\"id\":\"1019148\",\"type\":\"Label\"},{\"attributes\":{\"background_fill_alpha\":0.6,\"background_fill_color\":\"white\",\"level\":\"glyph\",\"text\":\"wahl2017\",\"text_align\":\"center\",\"text_font_size\":\"8.45945945945946px\",\"text_font_style\":\"bold\",\"x\":-2.4769133290398986,\"y\":0.2463095671282556},\"id\":\"1019149\",\"type\":\"Label\"},{\"attributes\":{\"background_fill_alpha\":0.6,\"background_fill_color\":\"white\",\"level\":\"glyph\",\"text\":\"t\\u00fcrkei\",\"text_align\":\"center\",\"text_font_size\":\"8.45945945945946px\",\"text_font_style\":\"bold\",\"x\":4.2658893376993765,\"y\":-0.42384388790918937},\"id\":\"1019172\",\"type\":\"Label\"},{\"attributes\":{\"background_fill_alpha\":0.6,\"background_fill_color\":\"white\",\"level\":\"glyph\",\"text\":\"wahlarena\",\"text_align\":\"center\",\"text_font_size\":\"8.0px\",\"text_font_style\":\"bold\",\"x\":-0.8568867033458943,\"y\":2.639445606848578},\"id\":\"1019150\",\"type\":\"Label\"},{\"attributes\":{\"background_fill_alpha\":0.6,\"background_fill_color\":\"white\",\"level\":\"glyph\",\"text\":\"mutludirekt\",\"text_align\":\"center\",\"text_font_size\":\"8.0px\",\"text_font_style\":\"bold\",\"x\":-1.9416700458218605,\"y\":-4.66538792303244},\"id\":\"1019168\",\"type\":\"Label\"},{\"attributes\":{\"background_fill_alpha\":0.6,\"background_fill_color\":\"white\",\"level\":\"glyph\",\"text\":\"weidel\",\"text_align\":\"center\",\"text_font_size\":\"8.0px\",\"text_font_style\":\"bold\",\"x\":-2.355243738555736,\"y\":5.348169774334072},\"id\":\"1019151\",\"type\":\"Label\"},{\"attributes\":{\"background_fill_alpha\":0.6,\"background_fill_color\":\"white\",\"level\":\"glyph\",\"text\":\"wiegehtsd\",\"text_align\":\"center\",\"text_font_size\":\"8.22972972972973px\",\"text_font_style\":\"bold\",\"x\":-4.161692114164173,\"y\":-3.047440519982165},\"id\":\"1019152\",\"type\":\"Label\"},{\"attributes\":{\"background_fill_alpha\":0.6,\"background_fill_color\":\"white\",\"level\":\"glyph\",\"text\":\"polizei\",\"text_align\":\"center\",\"text_font_size\":\"8.0px\",\"text_font_style\":\"bold\",\"x\":4.572618700740024,\"y\":5.613554134992284},\"id\":\"1019180\",\"type\":\"Label\"},{\"attributes\":{\"background_fill_alpha\":0.6,\"background_fill_color\":\"white\",\"level\":\"glyph\",\"text\":\"zdf\",\"text_align\":\"center\",\"text_font_size\":\"8.91891891891892px\",\"text_font_style\":\"bold\",\"x\":-2.6111051519910053,\"y\":-1.518109145782664},\"id\":\"1019153\",\"type\":\"Label\"},{\"attributes\":{\"background_fill_alpha\":0.6,\"background_fill_color\":\"white\",\"level\":\"glyph\",\"text\":\"fedidwgugl\",\"text_align\":\"center\",\"text_font_size\":\"8.22972972972973px\",\"text_font_style\":\"bold\",\"x\":-0.35490821622893204,\"y\":-5.289388085595556},\"id\":\"1019164\",\"type\":\"Label\"},{\"attributes\":{\"background_fill_alpha\":0.6,\"background_fill_color\":\"white\",\"level\":\"glyph\",\"text\":\"afdw\\u00e4hlen\",\"text_align\":\"center\",\"text_font_size\":\"8.0px\",\"text_font_style\":\"bold\",\"x\":-4.948238527730061,\"y\":-0.8863014908101641},\"id\":\"1019154\",\"type\":\"Label\"},{\"attributes\":{\"fill_color\":{\"value\":\"white\"},\"line_color\":{\"value\":\"skyblue\"},\"line_width\":{\"value\":2},\"size\":{\"field\":\"adjusted_node_size\"}},\"id\":\"1019049\",\"type\":\"Circle\"},{\"attributes\":{\"background_fill_alpha\":0.6,\"background_fill_color\":\"white\",\"level\":\"glyph\",\"text\":\"schlussrunde\",\"text_align\":\"center\",\"text_font_size\":\"8.22972972972973px\",\"text_font_style\":\"bold\",\"x\":-3.355267879870638,\"y\":0.4721416620715007},\"id\":\"1019155\",\"type\":\"Label\"},{\"attributes\":{\"background_fill_alpha\":0.6,\"background_fill_color\":\"white\",\"level\":\"glyph\",\"text\":\"ehef\\u00fcralle\",\"text_align\":\"center\",\"text_font_size\":\"8.0px\",\"text_font_style\":\"bold\",\"x\":-1.7023990047228779,\"y\":-3.8709630897920877},\"id\":\"1019162\",\"type\":\"Label\"},{\"attributes\":{\"background_fill_alpha\":0.6,\"background_fill_color\":\"white\",\"level\":\"glyph\",\"text\":\"autobahnprivatisierung\",\"text_align\":\"center\",\"text_font_size\":\"8.22972972972973px\",\"text_font_style\":\"bold\",\"x\":0.5118235265477149,\"y\":-4.200548538836361},\"id\":\"1019156\",\"type\":\"Label\"},{\"attributes\":{\"background_fill_alpha\":0.6,\"background_fill_color\":\"white\",\"level\":\"glyph\",\"text\":\"fragselbst\",\"text_align\":\"center\",\"text_font_size\":\"8.22972972972973px\",\"text_font_style\":\"bold\",\"x\":-2.602530904651339,\"y\":-2.8668820669861366},\"id\":\"1019165\",\"type\":\"Label\"},{\"attributes\":{\"background_fill_alpha\":0.6,\"background_fill_color\":\"white\",\"level\":\"glyph\",\"text\":\"g20ham17\",\"text_align\":\"center\",\"text_font_size\":\"8.45945945945946px\",\"text_font_style\":\"bold\",\"x\":1.8027190051190412,\"y\":6.864919918493129},\"id\":\"1019177\",\"type\":\"Label\"},{\"attributes\":{\"background_fill_alpha\":0.6,\"background_fill_color\":\"white\",\"level\":\"glyph\",\"text\":\"bpt17\",\"text_align\":\"center\",\"text_font_size\":\"8.0px\",\"text_font_style\":\"bold\",\"x\":-3.400970535346835,\"y\":-4.540697874947445},\"id\":\"1019157\",\"type\":\"Label\"},{\"attributes\":{\"background_fill_alpha\":0.6,\"background_fill_color\":\"white\",\"level\":\"glyph\",\"text\":\"groko\",\"text_align\":\"center\",\"text_font_size\":\"8.68918918918919px\",\"text_font_style\":\"bold\",\"x\":1.0558934849155923,\"y\":-2.5845011963585147},\"id\":\"1019166\",\"type\":\"Label\"},{\"attributes\":{\"background_fill_alpha\":0.6,\"background_fill_color\":\"white\",\"level\":\"glyph\",\"text\":\"g20hh2017\",\"text_align\":\"center\",\"text_font_size\":\"8.45945945945946px\",\"text_font_style\":\"bold\",\"x\":0.8498376315548543,\"y\":7.55028555611661},\"id\":\"1019178\",\"type\":\"Label\"},{\"attributes\":{\"background_fill_alpha\":0.6,\"background_fill_color\":\"white\",\"level\":\"glyph\",\"text\":\"ceta\",\"text_align\":\"center\",\"text_font_size\":\"8.0px\",\"text_font_style\":\"bold\",\"x\":-2.4278312528781263,\"y\":-3.8026214093160244},\"id\":\"1019158\",\"type\":\"Label\"},{\"attributes\":{\"background_fill_alpha\":0.6,\"background_fill_color\":\"white\",\"level\":\"glyph\",\"text\":\"darumgruen\",\"text_align\":\"center\",\"text_font_size\":\"8.0px\",\"text_font_style\":\"bold\",\"x\":-4.834893880608654,\"y\":-4.718897280034502},\"id\":\"1019159\",\"type\":\"Label\"},{\"attributes\":{\"background_fill_alpha\":0.6,\"background_fill_color\":\"white\",\"level\":\"glyph\",\"text\":\"emobilit\\u00e4t\",\"text_align\":\"center\",\"text_font_size\":\"8.45945945945946px\",\"text_font_style\":\"bold\",\"x\":-3.1824509841806665,\"y\":-5.847120094057268},\"id\":\"1019163\",\"type\":\"Label\"},{\"attributes\":{\"background_fill_alpha\":0.6,\"background_fill_color\":\"white\",\"level\":\"glyph\",\"text\":\"gabriel\",\"text_align\":\"center\",\"text_font_size\":\"8.0px\",\"text_font_style\":\"bold\",\"x\":4.072133908564788,\"y\":-4.9916580406779625},\"id\":\"1019182\",\"type\":\"Label\"},{\"attributes\":{\"background_fill_alpha\":0.6,\"background_fill_color\":\"white\",\"level\":\"glyph\",\"text\":\"nog20\",\"text_align\":\"center\",\"text_font_size\":\"8.0px\",\"text_font_style\":\"bold\",\"x\":5.678081608417862,\"y\":7.697519768827168},\"id\":\"1019179\",\"type\":\"Label\"},{\"attributes\":{\"background_fill_alpha\":0.6,\"background_fill_color\":\"white\",\"level\":\"glyph\",\"text\":\"scholz\",\"text_align\":\"center\",\"text_font_size\":\"8.0px\",\"text_font_style\":\"bold\",\"x\":3.46810823940354,\"y\":-4.33437124936975},\"id\":\"1019184\",\"type\":\"Label\"},{\"attributes\":{\"background_fill_alpha\":0.6,\"background_fill_color\":\"white\",\"level\":\"glyph\",\"text\":\"schr\\u00f6der\",\"text_align\":\"center\",\"text_font_size\":\"8.0px\",\"text_font_style\":\"bold\",\"x\":4.463695543041911,\"y\":-2.779017739546268},\"id\":\"1019185\",\"type\":\"Label\"},{\"attributes\":{\"line_color\":{\"value\":\"skyblue\"},\"line_width\":{\"field\":\"normalized_weight\"}},\"id\":\"1019064\",\"type\":\"MultiLine\"},{\"attributes\":{\"background_fill_alpha\":0.6,\"background_fill_color\":\"white\",\"level\":\"glyph\",\"text\":\"union\",\"text_align\":\"center\",\"text_font_size\":\"8.0px\",\"text_font_style\":\"bold\",\"x\":4.623302375551861,\"y\":-3.8735243812029383},\"id\":\"1019186\",\"type\":\"Label\"},{\"attributes\":{\"background_fill_alpha\":0.6,\"background_fill_color\":\"white\",\"level\":\"glyph\",\"text\":\"loveislove\",\"text_align\":\"center\",\"text_font_size\":\"8.0px\",\"text_font_style\":\"bold\",\"x\":5.567427651220729,\"y\":0.6276980366674876},\"id\":\"1019176\",\"type\":\"Label\"},{\"attributes\":{\"line_color\":{\"value\":\"red\"},\"line_width\":{\"field\":\"normalized_weight\"}},\"id\":\"1019069\",\"type\":\"MultiLine\"},{\"attributes\":{},\"id\":\"1019074\",\"type\":\"NodesAndLinkedEdges\"},{\"attributes\":{\"background_fill_alpha\":0.6,\"background_fill_color\":\"white\",\"level\":\"glyph\",\"text\":\"g20protest\",\"text_align\":\"center\",\"text_font_size\":\"8.0px\",\"text_font_style\":\"bold\",\"x\":-1.1517592401256396,\"y\":7.538792055519421},\"id\":\"1019181\",\"type\":\"Label\"},{\"attributes\":{},\"id\":\"1019076\",\"type\":\"NodesAndLinkedEdges\"},{\"attributes\":{\"background_fill_alpha\":0.6,\"background_fill_color\":\"white\",\"level\":\"glyph\",\"text\":\"hamburg\",\"text_align\":\"center\",\"text_font_size\":\"8.91891891891892px\",\"text_font_style\":\"bold\",\"x\":0.36899856006549764,\"y\":5.597446992426132},\"id\":\"1019114\",\"type\":\"Label\"},{\"attributes\":{},\"id\":\"1025130\",\"type\":\"AllLabels\"},{\"attributes\":{\"background_fill_alpha\":0.6,\"background_fill_color\":\"white\",\"level\":\"glyph\",\"text\":\"dieselgate\",\"text_align\":\"center\",\"text_font_size\":\"8.22972972972973px\",\"text_font_style\":\"bold\",\"x\":-3.6647787025887233,\"y\":4.84628810056469},\"id\":\"1019174\",\"type\":\"Label\"},{\"attributes\":{},\"id\":\"1025128\",\"type\":\"BasicTickFormatter\"},{\"attributes\":{\"background_fill_alpha\":0.6,\"background_fill_color\":\"white\",\"level\":\"glyph\",\"text\":\"akp\",\"text_align\":\"center\",\"text_font_size\":\"8.0px\",\"text_font_style\":\"bold\",\"x\":2.9690738673715003,\"y\":2.611608438524339},\"id\":\"1019084\",\"type\":\"Label\"},{\"attributes\":{\"background_fill_alpha\":0.6,\"background_fill_color\":\"white\",\"level\":\"glyph\",\"text\":\"5kampf\",\"text_align\":\"center\",\"text_font_size\":\"8.22972972972973px\",\"text_font_style\":\"bold\",\"x\":-0.45560789531462004,\"y\":-3.832538333428335},\"id\":\"1019079\",\"type\":\"Label\"},{\"attributes\":{\"background_fill_alpha\":0.6,\"background_fill_color\":\"white\",\"level\":\"glyph\",\"text\":\"gez\",\"text_align\":\"center\",\"text_font_size\":\"8.0px\",\"text_font_style\":\"bold\",\"x\":1.3319664709289025,\"y\":2.8862665619169365},\"id\":\"1019111\",\"type\":\"Label\"},{\"attributes\":{\"background_fill_alpha\":0.6,\"background_fill_color\":\"white\",\"level\":\"glyph\",\"text\":\"afdwaehlen\",\"text_align\":\"center\",\"text_font_size\":\"8.45945945945946px\",\"text_font_style\":\"bold\",\"x\":0.33714353681779763,\"y\":-2.5394103892825126},\"id\":\"1019083\",\"type\":\"Label\"},{\"attributes\":{\"background_fill_alpha\":0.6,\"background_fill_color\":\"white\",\"level\":\"glyph\",\"text\":\"btw17\",\"text_align\":\"center\",\"text_font_size\":\"17.64864864864865px\",\"text_font_style\":\"bold\",\"x\":-1.440595593755267,\"y\":-2.542109202003867},\"id\":\"1019080\",\"type\":\"Label\"},{\"attributes\":{\"background_fill_alpha\":0.6,\"background_fill_color\":\"white\",\"level\":\"glyph\",\"text\":\"f\\u00fcnfkampf\",\"text_align\":\"center\",\"text_font_size\":\"8.68918918918919px\",\"text_font_style\":\"bold\",\"x\":-1.641006567735324,\"y\":0.10530709790675943},\"id\":\"1019081\",\"type\":\"Label\"},{\"attributes\":{\"background_fill_alpha\":0.6,\"background_fill_color\":\"white\",\"level\":\"glyph\",\"text\":\"afd\",\"text_align\":\"center\",\"text_font_size\":\"25.0px\",\"text_font_style\":\"bold\",\"x\":0.056000104185442774,\"y\":1.1655362931698816},\"id\":\"1019082\",\"type\":\"Label\"},{\"attributes\":{\"background_fill_alpha\":0.6,\"background_fill_color\":\"white\",\"level\":\"glyph\",\"text\":\"hampel\",\"text_align\":\"center\",\"text_font_size\":\"8.0px\",\"text_font_style\":\"bold\",\"x\":0.6586771734223651,\"y\":0.8207463495818104},\"id\":\"1019115\",\"type\":\"Label\"},{\"attributes\":{\"background_fill_alpha\":0.6,\"background_fill_color\":\"white\",\"level\":\"glyph\",\"text\":\"grueneversenken\",\"text_align\":\"center\",\"text_font_size\":\"8.45945945945946px\",\"text_font_style\":\"bold\",\"x\":-0.901870586444443,\"y\":-1.0360651035037585},\"id\":\"1019112\",\"type\":\"Label\"},{\"attributes\":{\"background_fill_alpha\":0.6,\"background_fill_color\":\"white\",\"level\":\"glyph\",\"text\":\"dobrindt\",\"text_align\":\"center\",\"text_font_size\":\"8.0px\",\"text_font_style\":\"bold\",\"x\":-6.645647414391174,\"y\":7.53625640500303},\"id\":\"1019175\",\"type\":\"Label\"},{\"attributes\":{\"background_fill_alpha\":0.6,\"background_fill_color\":\"white\",\"level\":\"glyph\",\"text\":\"annewill\",\"text_align\":\"center\",\"text_font_size\":\"8.22972972972973px\",\"text_font_style\":\"bold\",\"x\":3.4664403188827455,\"y\":0.934664026502897},\"id\":\"1019085\",\"type\":\"Label\"},{\"attributes\":{\"background_fill_alpha\":0.6,\"background_fill_color\":\"white\",\"level\":\"glyph\",\"text\":\"antifa\",\"text_align\":\"center\",\"text_font_size\":\"8.0px\",\"text_font_style\":\"bold\",\"x\":1.4259268524981028,\"y\":4.502636204071325},\"id\":\"1019086\",\"type\":\"Label\"},{\"attributes\":{\"background_fill_alpha\":0.6,\"background_fill_color\":\"white\",\"level\":\"glyph\",\"text\":\"ard\",\"text_align\":\"center\",\"text_font_size\":\"8.45945945945946px\",\"text_font_style\":\"bold\",\"x\":-1.3966372523050905,\"y\":1.7309991711529535},\"id\":\"1019087\",\"type\":\"Label\"},{\"attributes\":{\"background_fill_alpha\":0.6,\"background_fill_color\":\"white\",\"level\":\"glyph\",\"text\":\"barcelona\",\"text_align\":\"center\",\"text_font_size\":\"8.22972972972973px\",\"text_font_style\":\"bold\",\"x\":2.136004939424456,\"y\":3.4652573513340372},\"id\":\"1019088\",\"type\":\"Label\"},{\"attributes\":{\"background_fill_alpha\":0.6,\"background_fill_color\":\"white\",\"level\":\"glyph\",\"text\":\"berlin\",\"text_align\":\"center\",\"text_font_size\":\"8.0px\",\"text_font_style\":\"bold\",\"x\":-3.044065429081854,\"y\":3.8402413500915737},\"id\":\"1019089\",\"type\":\"Label\"},{\"attributes\":{\"background_fill_alpha\":0.6,\"background_fill_color\":\"white\",\"level\":\"glyph\",\"text\":\"btw\",\"text_align\":\"center\",\"text_font_size\":\"8.68918918918919px\",\"text_font_style\":\"bold\",\"x\":1.1172738202289274,\"y\":-1.3596233945794582},\"id\":\"1019090\",\"type\":\"Label\"},{\"attributes\":{\"background_fill_alpha\":0.6,\"background_fill_color\":\"white\",\"level\":\"glyph\",\"text\":\"btw2017\",\"text_align\":\"center\",\"text_font_size\":\"9.378378378378379px\",\"text_font_style\":\"bold\",\"x\":2.4068352841500626,\"y\":-3.063649470936629},\"id\":\"1019091\",\"type\":\"Label\"},{\"attributes\":{},\"id\":\"1025131\",\"type\":\"BasicTickFormatter\"},{\"attributes\":{\"background_fill_alpha\":0.6,\"background_fill_color\":\"white\",\"level\":\"glyph\",\"text\":\"bundestag\",\"text_align\":\"center\",\"text_font_size\":\"9.14864864864865px\",\"text_font_style\":\"bold\",\"x\":-0.41822186376038434,\"y\":-2.088178684715267},\"id\":\"1019092\",\"type\":\"Label\"},{\"attributes\":{\"background_fill_alpha\":0.6,\"background_fill_color\":\"white\",\"level\":\"glyph\",\"text\":\"cdu\",\"text_align\":\"center\",\"text_font_size\":\"10.756756756756758px\",\"text_font_style\":\"bold\",\"x\":1.5176798641585951,\"y\":-3.7100802732373097},\"id\":\"1019093\",\"type\":\"Label\"},{\"attributes\":{},\"id\":\"1025133\",\"type\":\"AllLabels\"},{\"attributes\":{\"background_fill_alpha\":0.6,\"background_fill_color\":\"white\",\"level\":\"glyph\",\"text\":\"csu\",\"text_align\":\"center\",\"text_font_size\":\"9.378378378378379px\",\"text_font_style\":\"bold\",\"x\":-0.7043796405412397,\"y\":-2.458794326232376},\"id\":\"1019094\",\"type\":\"Label\"},{\"attributes\":{\"background_fill_alpha\":0.6,\"background_fill_color\":\"white\",\"level\":\"glyph\",\"text\":\"demokratie\",\"text_align\":\"center\",\"text_font_size\":\"8.0px\",\"text_font_style\":\"bold\",\"x\":1.9120736524304949,\"y\":1.2665002098008533},\"id\":\"1019095\",\"type\":\"Label\"},{\"attributes\":{\"background_fill_alpha\":0.6,\"background_fill_color\":\"white\",\"level\":\"glyph\",\"text\":\"deutschland\",\"text_align\":\"center\",\"text_font_size\":\"8.22972972972973px\",\"text_font_style\":\"bold\",\"x\":-3.54230754918051,\"y\":-0.25328989087770204},\"id\":\"1019096\",\"type\":\"Label\"},{\"attributes\":{\"background_fill_alpha\":0.6,\"background_fill_color\":\"white\",\"level\":\"glyph\",\"text\":\"diesel\",\"text_align\":\"center\",\"text_font_size\":\"8.22972972972973px\",\"text_font_style\":\"bold\",\"x\":-2.2981064819271158,\"y\":3.72590992248119},\"id\":\"1019097\",\"type\":\"Label\"},{\"attributes\":{\"background_fill_alpha\":0.6,\"background_fill_color\":\"white\",\"level\":\"glyph\",\"text\":\"ehefueralle\",\"text_align\":\"center\",\"text_font_size\":\"9.14864864864865px\",\"text_font_style\":\"bold\",\"x\":2.3544216700875076,\"y\":-0.4016489134067872},\"id\":\"1019098\",\"type\":\"Label\"},{\"attributes\":{\"background_fill_alpha\":0.6,\"background_fill_color\":\"white\",\"level\":\"glyph\",\"text\":\"entsorgen\",\"text_align\":\"center\",\"text_font_size\":\"8.0px\",\"text_font_style\":\"bold\",\"x\":0.22121853493808946,\"y\":1.8229883862287592},\"id\":\"1019099\",\"type\":\"Label\"},{\"attributes\":{\"background_fill_alpha\":0.6,\"background_fill_color\":\"white\",\"level\":\"glyph\",\"text\":\"eu\",\"text_align\":\"center\",\"text_font_size\":\"8.91891891891892px\",\"text_font_style\":\"bold\",\"x\":1.8203291692299004,\"y\":-0.7356112858917541},\"id\":\"1019100\",\"type\":\"Label\"},{\"attributes\":{\"background_fill_alpha\":0.6,\"background_fill_color\":\"white\",\"level\":\"glyph\",\"text\":\"eugh\",\"text_align\":\"center\",\"text_font_size\":\"8.0px\",\"text_font_style\":\"bold\",\"x\":2.2961829210645903,\"y\":1.6910453264831742},\"id\":\"1019101\",\"type\":\"Label\"},{\"attributes\":{\"background_fill_alpha\":0.6,\"background_fill_color\":\"white\",\"level\":\"glyph\",\"text\":\"europa\",\"text_align\":\"center\",\"text_font_size\":\"8.22972972972973px\",\"text_font_style\":\"bold\",\"x\":1.6367071638778259,\"y\":0.6370225870497461},\"id\":\"1019102\",\"type\":\"Label\"},{\"attributes\":{\"background_fill_alpha\":0.6,\"background_fill_color\":\"white\",\"level\":\"glyph\",\"text\":\"denkenwirneu\",\"text_align\":\"center\",\"text_font_size\":\"8.45945945945946px\",\"text_font_style\":\"bold\",\"x\":6.964216699958264,\"y\":-2.5925779409504286},\"id\":\"1019161\",\"type\":\"Label\"},{\"attributes\":{\"background_fill_alpha\":0.6,\"background_fill_color\":\"white\",\"level\":\"glyph\",\"text\":\"ezb\",\"text_align\":\"center\",\"text_font_size\":\"8.0px\",\"text_font_style\":\"bold\",\"x\":1.5974114565714659,\"y\":1.8748467121298131},\"id\":\"1019103\",\"type\":\"Label\"},{\"attributes\":{\"background_fill_alpha\":0.6,\"background_fill_color\":\"white\",\"level\":\"glyph\",\"text\":\"fakenews\",\"text_align\":\"center\",\"text_font_size\":\"8.45945945945946px\",\"text_font_style\":\"bold\",\"x\":-4.125562980147953,\"y\":1.1694723540183216},\"id\":\"1019104\",\"type\":\"Label\"},{\"attributes\":{\"background_fill_alpha\":0.6,\"background_fill_color\":\"white\",\"level\":\"glyph\",\"text\":\"familiennachzug\",\"text_align\":\"center\",\"text_font_size\":\"8.22972972972973px\",\"text_font_style\":\"bold\",\"x\":-0.4847612518997731,\"y\":0.5338316024870501},\"id\":\"1019105\",\"type\":\"Label\"},{\"attributes\":{\"background_fill_alpha\":0.6,\"background_fill_color\":\"white\",\"level\":\"glyph\",\"text\":\"fdp\",\"text_align\":\"center\",\"text_font_size\":\"10.067567567567568px\",\"text_font_style\":\"bold\",\"x\":3.9428825778436964,\"y\":-0.7828752420797198},\"id\":\"1019106\",\"type\":\"Label\"},{\"attributes\":{\"background_fill_alpha\":0.6,\"background_fill_color\":\"white\",\"level\":\"glyph\",\"text\":\"freiheit\",\"text_align\":\"center\",\"text_font_size\":\"8.0px\",\"text_font_style\":\"bold\",\"x\":1.8685606860296997,\"y\":2.378820461090756},\"id\":\"1019107\",\"type\":\"Label\"},{\"attributes\":{\"background_fill_alpha\":0.6,\"background_fill_color\":\"white\",\"level\":\"glyph\",\"text\":\"g20\",\"text_align\":\"center\",\"text_font_size\":\"9.14864864864865px\",\"text_font_style\":\"bold\",\"x\":2.895347751447905,\"y\":4.605373724335998},\"id\":\"1019108\",\"type\":\"Label\"},{\"attributes\":{\"background_fill_alpha\":0.6,\"background_fill_color\":\"white\",\"level\":\"glyph\",\"text\":\"gauland\",\"text_align\":\"center\",\"text_font_size\":\"8.68918918918919px\",\"text_font_style\":\"bold\",\"x\":-4.599623316959607,\"y\":0.5403194808780418},\"id\":\"1019109\",\"type\":\"Label\"},{\"attributes\":{\"background_fill_alpha\":0.6,\"background_fill_color\":\"white\",\"level\":\"glyph\",\"text\":\"gehwaehlen\",\"text_align\":\"center\",\"text_font_size\":\"8.45945945945946px\",\"text_font_style\":\"bold\",\"x\":-1.2040264808710237,\"y\":-0.5562608063600469},\"id\":\"1019110\",\"type\":\"Label\"}],\"root_ids\":[\"1019004\"]},\"title\":\"Bokeh Application\",\"version\":\"2.3.2\"}};\n",
       "  var render_items = [{\"docid\":\"24995730-29f6-4a63-bcb4-7d23c78dae39\",\"root_ids\":[\"1019004\"],\"roots\":{\"1019004\":\"6752ad02-e60c-4cd6-a567-a0a643c0d9c2\"}}];\n",
       "  root.Bokeh.embed.embed_items_notebook(docs_json, render_items);\n",
       "\n",
       "  }\n",
       "  if (root.Bokeh !== undefined) {\n",
       "    embed_document(root);\n",
       "  } else {\n",
       "    var attempts = 0;\n",
       "    var timer = setInterval(function(root) {\n",
       "      if (root.Bokeh !== undefined) {\n",
       "        clearInterval(timer);\n",
       "        embed_document(root);\n",
       "      } else {\n",
       "        attempts++;\n",
       "        if (attempts > 100) {\n",
       "          clearInterval(timer);\n",
       "          console.log(\"Bokeh: ERROR: Unable to run BokehJS code because BokehJS library is missing\");\n",
       "        }\n",
       "      }\n",
       "    }, 10, root)\n",
       "  }\n",
       "})(window);"
      ],
      "application/vnd.bokehjs_exec.v0+json": ""
     },
     "metadata": {
      "application/vnd.bokehjs_exec.v0+json": {
       "id": "1019004"
      }
     },
     "output_type": "display_data"
    }
   ],
   "source": [
    "# Choose colors for node and edge highlighting\n",
    "node_highlight_color = 'white'\n",
    "selection_color = 'skyblue'\n",
    "hover_color = 'red'\n",
    "\n",
    "# Choose attributes from G network to size and color by — setting manual size (e.g. 10) or color (e.g. 'skyblue') also allowed\n",
    "size_by_this_attribute = 'adjusted_node_size'\n",
    "color_by_this_attribute = 'modularity_color'\n",
    "\n",
    "# Choose a title\n",
    "title = f'{title_subject} Network'\n",
    "\n",
    "# Establish which categories will appear when hovering over each node\n",
    "HOVER_TOOLTIPS = [\n",
    "        (f\"{title_subject}\", \"@index\"),\n",
    "        (\"Degree\", \"@degree\"),\n",
    "        (\"Modularity Class\", \"@modularity_class\"),\n",
    "        (\"Modularity Color\", \"$color[swatch]:modularity_color\"),\n",
    "]\n",
    "\n",
    "# Create a plot — set dimensions, toolbar, and title\n",
    "plot = figure(tooltips = HOVER_TOOLTIPS,\n",
    "              tools=\"tap,pan,wheel_zoom,save,reset\", active_scroll='wheel_zoom',\n",
    "              x_range=Range1d(-10.1, 10.1), y_range=Range1d(-10.1, 10.1), title=title, width=1000, height=1000)\n",
    "\n",
    "# Create a network graph object\n",
    "network_graph = from_networkx(G, network_layout, **layout_args, center=(0, 0))\n",
    "\n",
    "# Set node sizes and colors according to node degree (color as category from attribute)\n",
    "network_graph.node_renderer.glyph = Circle(size=size_by_this_attribute, fill_color=color_by_this_attribute, fill_alpha = 1)\n",
    "# Set node highlight colors\n",
    "network_graph.node_renderer.selection_glyph = Circle(size=size_by_this_attribute, fill_color=node_highlight_color, line_color=selection_color, line_width=2)\n",
    "network_graph.node_renderer.hover_glyph = Circle(size=size_by_this_attribute, fill_color=node_highlight_color, line_color=hover_color, line_width=2)\n",
    "\n",
    "# Set edge opacity and width\n",
    "network_graph.edge_renderer.glyph = MultiLine(line_color='edge_color', line_width='normalized_weight', line_alpha=0.3)\n",
    "# Set edge highlight colors\n",
    "network_graph.edge_renderer.selection_glyph = MultiLine(line_color=selection_color, line_width='normalized_weight')\n",
    "network_graph.edge_renderer.hover_glyph = MultiLine(line_color=hover_color, line_width='normalized_weight')\n",
    "\n",
    "# Highlight nodes and edges\n",
    "network_graph.selection_policy = NodesAndLinkedEdges()\n",
    "network_graph.inspection_policy = NodesAndLinkedEdges()\n",
    "plot.renderers.append(network_graph)\n",
    "\n",
    "# Add Labels (with normalized font size)\n",
    "x, y = zip(*network_graph.layout_provider.graph_layout.values())\n",
    "node_labels = list(G.nodes())\n",
    "font_size_min = 8\n",
    "font_size_max = 25\n",
    "font_size_raw = [G.degree(node_labels[i]) for i in range(len(x))]\n",
    "font_size_scaler = preprocessing.MinMaxScaler(feature_range=(font_size_min, font_size_max))\n",
    "font_size_normalized = font_size_scaler.fit_transform(np.asarray(font_size_raw).reshape(-1, 1))\n",
    "font_size_normalized = [str(label_font_size[0]) + 'px' for label_font_size in font_size_normalized]\n",
    "source = ColumnDataSource({'x': x, 'y': y, 'name': [node_labels[i] for i in range(len(x))], 'font_size_normalized': font_size_normalized})\n",
    "labels = []\n",
    "for x, y, label, fontsize in zip(source.data['x'], source.data['y'], source.data['name'], source.data['font_size_normalized']):\n",
    "    labels.append(Label(x=x, y=y, text=label, level='glyph', text_font_style='bold', background_fill_color='white', background_fill_alpha=.6, text_align ='center', text_baseline = 'bottom', text_font_size=fontsize))\n",
    "    plot.add_layout(labels[-1])\n",
    "\n",
    "show(plot)"
   ]
  },
  {
   "cell_type": "markdown",
   "id": "f8095d71",
   "metadata": {},
   "source": [
    "## The hashtag network \n",
    "\n",
    "#### Data\n",
    "- The aggregated data contains the hashtags (i.e. #hashtag) in each tweet as edges between the hashtags used in one tweet, e.g. if the hashtags #btw17 and #spd were both used in one tweet it was counted as an edge between those nodes\n",
    "\n",
    "#### Description of the plot\n",
    "- The visualization shows the hashtags used. The size of the hashtag label is scaled according to the node size\n",
    "- The data was filtered by the weight of the edges. The weight of the edges is defined as the number of times two hashtags were used in the same tweet. We enforced a minimum weight to ensure that the network does not get to big, thus, focusing on the most important relations (edges with highest weights)\n",
    "- The color of the nodes represents different communities within the network which were detected by an algorithm\n",
    "- The size of the nodes represents the number of different edges the nodes has, i.e. the number of different accounts it was mentioned from\n",
    "- The color of an edges also represents the communities this node is connect to, if the communities of the connected nodes differ the edge was given a color between those two community colors\n",
    "- The width of the edges is given by the weight, i.e. how often the two connected hashtags were used together\n",
    "- Interactivity: It is possible to zoom in and out, to hover over nodes and to select a node\n",
    "\n",
    "#### Reason for plot choice (Why a network graph?)\n",
    "- A network graph allows to make the information which is contained in over 100.000 tweets easily graspable for the viewer. The size of nodes and edges as well as the color give us additional tools to make the visualization more intuitive \n",
    "- This type of graph also makes it easy to verify certain assumptions, e.g. someone would assume that political parties and their election slogans are often used together in a tweet\n",
    "- Another advantage of this network implementation is it´s interactivity. Problems of static network graphs like overlaying lables can be easily overcome by zooming into the network. Moreover, the hovering and selecting functions enable the viewers to explore the data themselves. Especially after giving a more straightforward analysis of the data in the previous parts of our report, this last part is intendet to give the viewers the possibility to interact with the data more in a less predefined way\n",
    "- While showing data that was already used in our previous analyses (statistics of the most used hashtags) the hashtag network presents the user additionall information in form of the hashtags with which the most widespread hashtags were used together (and which are on their own to small to appear in the top ten most used hashtags)\n",
    "\n",
    "#### Interpretation\n",
    "- The detected communities/clusters give us a chance to detect topics which were important during the election campaign:\n",
    "    - Clusters which represent topics like <i>G20</i> (g20 summit), <i>Dieselgate</i> (Diesel emissions scandal), <i>Erdogan</i>, <i>Ehe für alle</i> (same-sex marriage) but also clusters which are dominated by one political party like the <i>AfD</i<\n",
    "- As we already have seen through the previous analyses the AFD-related hashtags #afd and #traudichdeutschland are along with #btw17 the most connected hashtags in this network\n",
    "    - Moreover, we can observe that the parties <i>SPD</i>, <i>Grüne</i>, <i>Linke</i>, <i>FDP</i>, <i>CDU</i> and <i>CSU</i> are considered to be in one cluster while the <i>AFD</i> is represented by two clusters\n",
    "    - This shows how dominating the <i>AfD</i> related tweets were during the election campaign compared to the other political parties"
   ]
  },
  {
   "cell_type": "markdown",
   "id": "2e3e8fb5",
   "metadata": {},
   "source": [
    "## The mentions network \n",
    "\n",
    "#### Data\n",
    "- The aggregated data contains the mentions (i.e. @screen_name) in each tweet as edges between the accounts mentioned in one tweet, e.g. if the accounts @dielinke and @die_gruenen were both mentioned in one tweet it was counted as an edge between those nodes\n",
    "- The data does not(!) account for the relationship between the account who created or retweeted the given tweet and the accounts mentioned in the tweet.\n",
    "\n",
    "#### Description of the plot\n",
    "- The visualization shows the screen_name of the accounts. The size of the screen_names is scaled according to the node size\n",
    "- The data was filtered by the weight of the edges. The weight of the edges is defined as the number of times two accounts were mentioned in the same tweet. We enforced a minimum weight to ensure that the network gets not too big, thus, focusing on the most important relations (edges with most weight)\n",
    "- The color of the nodes represents different communities within the network which were detected by an algorithm\n",
    "- The size of the nodes represents the number of different edges the nodes has, i.e. the number of different accounts it was mentioned with\n",
    "- The color of the edges also represent the communities of the nodes they connect, if the communities of the connected nodes differ the edge was given a color between those two communities colors\n",
    "- The width of the edges is given by the weight, i.e. how often the two connected accounts were mentioned together\n",
    "- Interactivity: It is possible to zoom in and out, to hover over nodes and to select a node\n",
    "\n",
    "#### Reason for plot choice (Why a network graph?)\n",
    "- A network graph allows to make the information which is contained in over 100.000 tweets easily graspable for the viewer. The size of nodes and edges and also the color give us additional tools to make the visualization more intuitive \n",
    "- This type of graph also makes it easy to verify certain assumptions, e.g. someone would assume that politicians and their party are often mentioned together in a tweet. As the network visualization has shown this assumption is right\n",
    "- Another advantage of this network implementation is it´s interactivity, problems of static network graphs like e.g. overlaying lables can be easily overcome by zooming into the network. Moreover, the hovering and selecting functions enable the viewers to explore the data themselves. Especially after giving a more straightforward analysis of the data in the previous parts of our report, this last part should be give the viewers the chance to interact themselves with the data\n",
    "\n",
    "#### Interpretation\n",
    "- The detected communities/clusters have a large overlap with the different political parties:\n",
    "    - The parties <i>FDP, Die Grünen, AFD</i> and <i>Die Linke</i> have each there own cluster while <i>SPD</i> and <i>CDU</i> are sharing a cluster\n",
    "    - The network also allows us to identify for each political party their most prominent party member: Christian Lindner (<i>FDP</i>), Cem Özdemir (<i>Die Grünen</i>), Beatrice von Storch (<i>AfD</i>) and Martin Schulz (<i>SPD</i>). For <i>Die Linke</i> Sarah Wagenknecht and Dietmar Bartsch are equal prominent. For the <i>CDU</i> there is no prominent figure to detect\n",
    "- In the <i>SPD/CDU</i> Cluster we can also identify a group of media companies like Spiegel, Bild, ARD, etc. which are closely connected with eachother, which means there were often mentioned it tweets togehter. This allows the assumption that some tweets were refering to articles written by those companies\n",
    "- The last cluster can be found around Peter Tauber, he was involved in a longe twitter thread in which he has drawn anger upon himself because of his statement \"Wenn Sie was Ordentliches gelernt haben, brauchen Sie keine drei Minijobs\" (If you have learned something proper, you don't need three mini-jobs.)"
   ]
  },
  {
   "cell_type": "markdown",
   "id": "5ccb50a4",
   "metadata": {},
   "source": [
    "# Save the network graph"
   ]
  },
  {
   "cell_type": "code",
   "execution_count": 674,
   "id": "68f375f9",
   "metadata": {},
   "outputs": [],
   "source": [
    "now = datetime.now()\n",
    "datetime_string = now.strftime(\"%d-%m-%Y_%Hh%M\")"
   ]
  },
  {
   "cell_type": "markdown",
   "id": "aff2a624",
   "metadata": {},
   "source": [
    "### Save graph as html"
   ]
  },
  {
   "cell_type": "code",
   "execution_count": null,
   "id": "5c0362db",
   "metadata": {},
   "outputs": [],
   "source": [
    "save(plot, filename=f\"{title}_{datetime_string}.html\")"
   ]
  },
  {
   "cell_type": "markdown",
   "id": "27c33558",
   "metadata": {},
   "source": [
    "### Save graph in gephi format"
   ]
  },
  {
   "cell_type": "code",
   "execution_count": null,
   "id": "821c8f50",
   "metadata": {},
   "outputs": [],
   "source": [
    "networkx.write_gexf(G,f\"{title}_{datetime_string}.gexf\") "
   ]
  }
 ],
 "metadata": {
  "kernelspec": {
   "display_name": "Python 3 (ipykernel)",
   "language": "python",
   "name": "python3"
  },
  "language_info": {
   "codemirror_mode": {
    "name": "ipython",
    "version": 3
   },
   "file_extension": ".py",
   "mimetype": "text/x-python",
   "name": "python",
   "nbconvert_exporter": "python",
   "pygments_lexer": "ipython3",
   "version": "3.7.6"
  }
 },
 "nbformat": 4,
 "nbformat_minor": 5
}
