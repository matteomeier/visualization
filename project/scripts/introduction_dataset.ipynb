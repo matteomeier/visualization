{
 "cells": [
  {
   "cell_type": "code",
   "execution_count": null,
   "id": "db81f89d",
   "metadata": {
    "executionInfo": {
     "elapsed": 1608,
     "status": "ok",
     "timestamp": 1657262713670,
     "user": {
      "displayName": "dl So",
      "userId": "09890886767013636828"
     },
     "user_tz": -120
    },
    "id": "db81f89d"
   },
   "outputs": [],
   "source": [
    "import pandas as pd\n",
    "import plotly.express as px\n",
    "import os\n",
    "from tqdm.notebook import tqdm\n",
    "import math\n",
    "import json\n",
    "import plotly.graph_objs as go"
   ]
  },
  {
   "cell_type": "code",
   "execution_count": null,
   "id": "3ef48aaa",
   "metadata": {
    "executionInfo": {
     "elapsed": 4274,
     "status": "ok",
     "timestamp": 1657262737244,
     "user": {
      "displayName": "dl So",
      "userId": "09890886767013636828"
     },
     "user_tz": -120
    },
    "id": "3ef48aaa"
   },
   "outputs": [],
   "source": [
    "#path = 'recorded-tweets/'\n",
    "#dir_list = os.listdir(path)"
   ]
  },
  {
   "cell_type": "markdown",
   "id": "QX6N3TtxfO-D",
   "metadata": {
    "id": "QX6N3TtxfO-D"
   },
   "source": [
    "# The btw17 dataset"
   ]
  },
  {
   "cell_type": "markdown",
   "id": "rHjSXvqByPKv",
   "metadata": {
    "id": "rHjSXvqByPKv"
   },
   "source": [
    "<h5> <b> Motivation and introduction </h5> </b>\n",
    "\n",
    "During election campaigns, especially election for the federal government, one gets to see plenty of visualizations, mostly bar charts, about the predicted election results. On the evening of the election day and the days after that there are usually even more visualizations about all kinds of aspects of the election. While this is interesting for understanding some of the dynamics of the election at hand, we think, that looking at how Twitter was used during the month before the election will provide some interesting insights. Given the increasing relevance of social networks in political communication understanding how and by whom social media is used in which way is helpful for understanding the dynamics in politics business. Since twitter is, at least in Germany, the social network where most political discussions and communication happens, we choose a dataset, that recorded more than one million tweets during the federal election campaign in 2017 (for the 19th Bundestag) {cite}`Kratzke.2017`. Nane Kratzke published a paper introducing this dataset {cite}`Kratzke.2017b`. The following description regarding the collection of the dataset are based on this paper. <br>\n",
    "The #btw17-dataset was recorded from 29th may 2017 until the election day (24 September 2017). The strategy for deciding which tweets to record was made based on accounts of politicians. All politicians, who where a member of the Bundestag at this time as well as some other important people from the parties present in the Bundestag at this time, like Martin Schulz (candidate for chancellor for the <i>SPD</i>), where followed. Additionally relevant politicians from <i>AfD</i> and <i> FDP </i> where followed. Both parties where not present in the 18th German Bundestag, but where likely to get enough votes to be represented in the 19th Bundestag. As can be seen on the following page both parties indeed got enough votes. Based on the 364 followed accounts all tweets concerning them where recorded. As a consequence of this method an important knowledge for evaluating our results later, without unreflective reproduction of a possible bias, is the distribution of the party associated with each of the followed politicians."
   ]
  },
  {
   "cell_type": "code",
   "execution_count": null,
   "id": "9iZUvh5AzsSE",
   "metadata": {
    "executionInfo": {
     "elapsed": 245,
     "status": "ok",
     "timestamp": 1657265391948,
     "user": {
      "displayName": "dl So",
      "userId": "09890886767013636828"
     },
     "user_tz": -120
    },
    "id": "9iZUvh5AzsSE"
   },
   "outputs": [],
   "source": [
    "f = open('../data/followed-accounts.json')\n",
    "followed_politicians = json.load(f)\n",
    "nr_accs_party = [len(followed_politicians[party]) for party in list(followed_politicians.keys())]\n",
    "parties = list(followed_politicians.keys())"
   ]
  },
  {
   "cell_type": "code",
   "execution_count": null,
   "id": "vtHP94Du10pg",
   "metadata": {
    "colab": {
     "base_uri": "https://localhost:8080/",
     "height": 542
    },
    "executionInfo": {
     "elapsed": 218,
     "status": "ok",
     "timestamp": 1657265477771,
     "user": {
      "displayName": "dl So",
      "userId": "09890886767013636828"
     },
     "user_tz": -120
    },
    "id": "vtHP94Du10pg",
    "outputId": "40d8d958-791b-43b6-dafe-a6baeebad382"
   },
   "outputs": [],
   "source": [
    "fig = go.Figure(data=[go.Bar(\n",
    "            x=parties, y=nr_accs_party, \n",
    "              text=nr_accs_party,\n",
    "             textposition='inside'\n",
    "        )])\n",
    "\n",
    "fig.update_layout(\n",
    "    title={'text': 'Total number of followed politicians broken down by their party membership', \n",
    "           'y':0.9,\n",
    "           'x':0.5,\n",
    "           'xanchor': 'center',\n",
    "           'yanchor': 'top'},\n",
    "    plot_bgcolor=\"white\"\n",
    ")\n",
    "\n",
    "fig.update_yaxes(showgrid=False, showticklabels=False)\n",
    "\n",
    "fig.show()"
   ]
  },
  {
   "cell_type": "code",
   "execution_count": null,
   "id": "RA3U3gNr1HVr",
   "metadata": {
    "executionInfo": {
     "elapsed": 319,
     "status": "ok",
     "timestamp": 1657265508001,
     "user": {
      "displayName": "dl So",
      "userId": "09890886767013636828"
     },
     "user_tz": -120
    },
    "id": "RA3U3gNr1HVr"
   },
   "outputs": [],
   "source": [
    "# Closing file\n",
    "f.close()"
   ]
  },
  {
   "cell_type": "markdown",
   "id": "P38_lniAuOfE",
   "metadata": {
    "id": "P38_lniAuOfE"
   },
   "source": [
    "Based on this bar chart, that is well suited to show the differences between categories (here parties), we can see the unequal distribution. However, this visualization does not allow to draw conclusions regarding the extend of an account usage. Nonetheless for our further analysis we have to keep this distribution in mind."
   ]
  },
  {
   "cell_type": "markdown",
   "id": "k3NlQAj6y6Lp",
   "metadata": {
    "id": "k3NlQAj6y6Lp"
   },
   "source": [
    "As already mentioned the dataset includes more than 1.2 million tweets, which were posted by around 120.000 different users. The intended use and motivation to create the #btw17-dataset was the lack of such a dataset for German politics and with it the missing basis for other researchers to do more in depth analysis of twitter usage during an election campaign. \n",
    "The dataset contains plenty of information for each recorded tweet. For our analysis we will focus on the text of the tweet, user mentioned in a tweet, the account/user that posted the tweet, the used hashtags as well as time of creation. \n",
    "The author of the published paper {cite}`Kratzke.2017b` already visualized some basic information about the dataset. In the following some of them will be replicated or for our purpose optimized. Even though some plots have already been done similarly in the paper, we think, that showing them here as well will simplify the understanding of the for our analysis important parts of the dataset. Furthermore we will improve aspects of the figures in the published paper whenever useful. One more advantage of the reproduction is better interactivity with the plots, which allows to grasp the data values more precisely.\n"
   ]
  },
  {
   "cell_type": "markdown",
   "id": "1O2-Go9WjiL_",
   "metadata": {
    "id": "1O2-Go9WjiL_"
   },
   "source": [
    "# <h5><b> Insight into the dataset </b> </h5>\n",
    "Our first visualization shows the number of tweets per day of the recording period. This allows us to identify important political events during the time period. Since this can be seen as a time series, we use a line chart. Additionally we marked every data point, that was used for creating the chart. This helps to visually distinguish different data points in sections where the line does not change much.  "
   ]
  },
  {
   "cell_type": "code",
   "execution_count": null,
   "id": "cd9d4359",
   "metadata": {
    "colab": {
     "base_uri": "https://localhost:8080/",
     "height": 49,
     "referenced_widgets": [
      "4ff08978afed4eb385c02c15b70e5778",
      "72dc3afff28846bf9d9a6d876aa77820",
      "da5d1483493148e891e74cd6277973fa",
      "4cd3595567344938850c775d3c146889",
      "ed63ffe932974bf08e12dc8abe37e6bd",
      "18b021013c7f44aa94607546e9a89886",
      "e0f255ec07cc4b5d8fdb1d87a3764790",
      "d28f749d238a4dfa989b738dbe6f28f7",
      "f556f269dddd487c87bd3fa4efc3b252",
      "23c1409f2b3042658246c9be6b7e71e0",
      "5b9ff86d303a4627a7391408cfe1c8e9"
     ]
    },
    "executionInfo": {
     "elapsed": 1160665,
     "status": "ok",
     "timestamp": 1657267951250,
     "user": {
      "displayName": "dl So",
      "userId": "09890886767013636828"
     },
     "user_tz": -120
    },
    "id": "cd9d4359",
    "outputId": "b6316011-e2c2-494b-c27c-7c4dbf65a8d9"
   },
   "outputs": [],
   "source": [
    "#results of the code in this cell can be loaded via\n",
    "output = pd.read_csv('../data/output_dateAndCount.csv', sep=';')\n",
    "\n",
    "\"\"\" processing to get date and count output\n",
    "output = pd.DataFrame()\n",
    "\n",
    "for index in tqdm(range(len(dir_list))):\n",
    "    file = path + dir_list[index]\n",
    "    with open(file, 'r') as f:\n",
    "        #print(file)\n",
    "\n",
    "        # get chunk name\n",
    "        chunk = file.split('chunk-')[1].split('.')[0]\n",
    "\n",
    "        # read df\n",
    "        df = pd.read_json(f)\n",
    "\n",
    "        # change datetime to date and lower all hashtags\n",
    "        df['created_at'] = pd.to_datetime(df['created_at']).dt.date\n",
    "\n",
    "        # aggregate dfs and groupby date and hashtag\n",
    "        df_agg = pd.DataFrame()\n",
    "        df_agg[['date', 'count']] = df.groupby(['created_at'], as_index=False)['id'].count()\n",
    "\n",
    "        # save to output dataframe\n",
    "        output = output.append(df_agg)\n",
    "\n",
    "output = output.groupby(['date'], as_index=False).sum('count')\"\"\""
   ]
  },
  {
   "cell_type": "code",
   "execution_count": null,
   "id": "55187463",
   "metadata": {
    "colab": {
     "base_uri": "https://localhost:8080/",
     "height": 542
    },
    "executionInfo": {
     "elapsed": 1303,
     "status": "ok",
     "timestamp": 1657267953341,
     "user": {
      "displayName": "dl So",
      "userId": "09890886767013636828"
     },
     "user_tz": -120
    },
    "id": "55187463",
    "outputId": "76f78151-12df-4817-edb3-a740bb083d5a"
   },
   "outputs": [],
   "source": [
    "fig = px.line(output[:-1], x='date', y='count', markers=True)\n",
    "\n",
    "fig.update_layout(plot_bgcolor=\"white\", \n",
    "                  title={\n",
    "                    'text': \"Tweet distribution over the time of data recording\", \n",
    "                    'y':0.9,\n",
    "                    'x':0.5,\n",
    "                    'xanchor': 'center',\n",
    "                    'yanchor': 'top'},\n",
    "                    hovermode=\"x unified\",\n",
    "                  )\n",
    "fig.update_yaxes(showgrid=True, gridwidth=1, gridcolor='#efefef', zeroline=True)\n",
    "\n",
    "fig.show()"
   ]
  },
  {
   "cell_type": "markdown",
   "id": "fRSdqGEKgiie",
   "metadata": {
    "id": "fRSdqGEKgiie"
   },
   "source": [
    "The resulting plot is in its main components the same as the visualization for this in [2] (page 6). However, the advantage of our plot however is the interactivity of this line chart, that allows to get the specific date of a data point more easily as well as the exact number of tweets on a given day. As noted by the author this plot shows three interesting spikes. They can be dated to the day a law that allows same sex marriages was passed (30th June), the day of the presidential debate (TV Duell) on 4th September and the election day itself on the 24th September."
   ]
  },
  {
   "cell_type": "markdown",
   "id": "U7UWX8mBkHYE",
   "metadata": {
    "id": "U7UWX8mBkHYE"
   },
   "source": [
    "# <h5> <b> Tweet types </b> </h5>\n",
    "On Twitter users can choose different types of tweets. For the following charts we will use the following terms and definitions. A usual post, that is not in interaction with another post, we denote as status. This is often also referred to as a tweet, but since this can cause misunderstanding we clearly differentiate between them for the introduction of the dataset. Additionally users can interact with statuses (of other users or themselves) in forms of replies (answers to a status), retweet (sharing of a status without added commentary) and quotes (sharing of a status with an added comment). To get a feeling of the importance of each of the types we show the total number of each type in our dataset. <br>\n",
    "Nane Kratzke visualized the different tweet types and how common they are in the dataset as well. His visualization can be found on page 7 in {cite}`Kratzke.2017b`. However, he displayed it by using a pie chart. Even though direct labeling was added it is from our perspective not the best choice since it doesn't show the proportions well, thus we decided to use a bar chart showing the total amounts instead."
   ]
  },
  {
   "cell_type": "code",
   "execution_count": null,
   "id": "8d76e9b3",
   "metadata": {
    "colab": {
     "base_uri": "https://localhost:8080/",
     "height": 49,
     "referenced_widgets": [
      "4351b000949d41b79a7b62f1a640c3fd",
      "5ab39ef45bff426b935983c446d00e9d",
      "76eaf42251124ed6ad3db8d324c8406f",
      "856e1b1eec9b44d0ac53ca967d061552",
      "ac1f324e1ccd4644a2f4f87ba7c217b5",
      "91503047a4d843a2b4fbec451c1e6cb2",
      "ab3fd11c4a2e448fbd453073fde4c935",
      "5787214d85dd43e7a2bb7fa6be81176b",
      "71f16cec80b648169ff3ffa172600954",
      "c38002dd0f194221aec15a03faa34459",
      "715262e0190746b7b98a64742db67a2d"
     ]
    },
    "executionInfo": {
     "elapsed": 774554,
     "status": "ok",
     "timestamp": 1657268733031,
     "user": {
      "displayName": "dl So",
      "userId": "09890886767013636828"
     },
     "user_tz": -120
    },
    "id": "8d76e9b3",
    "outputId": "3c243b04-f6b4-4670-a210-386bf54da8ee"
   },
   "outputs": [],
   "source": [
    "#results from the code of this cell can be loaded via\n",
    "output = pd.read_csv('../data/output_entry_type_vorläufig.csv', sep=';')\n",
    "\n",
    "\"\"\" processing that created the csv-file\n",
    "output = pd.DataFrame()\n",
    "\n",
    "for file in tqdm(dir_list):\n",
    "\n",
    "  with open(path + file, 'r') as f:\n",
    "    df = pd.read_json(f)\n",
    "        \n",
    "    #get time of creation\n",
    "    df['created_at'] = pd.to_datetime(df['created_at']).dt.date\n",
    "    df['created_at'] = df['created_at'].apply(str)\n",
    "        \n",
    "    #whether it's quote?\n",
    "    if 'retweeted_status' not in df.keys():\n",
    "      df['retweeted_status'] = [0 for i in range(len(df))]\n",
    "    df_temp = pd.DataFrame(data={'quote': df['is_quote_status'],#.tolist(),\n",
    "                            'retweet': df['retweeted_status'],#.tolist(),\n",
    "                            'reply': df['in_reply_to_status_id']\n",
    "                            }\n",
    "                          )\n",
    "    df_temp['created_at'] = df['created_at']\n",
    "    df_temp['ID'] = df['id']\n",
    "\n",
    "    df_temp = df_temp.fillna(0) #to have no NaN for the retweeted status\n",
    "    #output\n",
    "    df_temp['retweet'] = [1 if ret_st!=0 else 0 for ret_st in df_temp['retweet']] #to just signal whether it was Retweet or not\n",
    "    df_temp['quote'] = [1 if quote_st==True else 0 for quote_st in df_temp['quote']] \n",
    "    df_temp['reply'] = [1 if res_st!=0 else 0 for res_st in df_temp['reply']] \n",
    "    #to have explicit attribute for whether it is a status (=\"normal\" tweet)\n",
    "    df_temp['status'] = [1 if (q==0 and re==0 and r==0) else 0 for q, r, re in zip(df_temp['retweet'], df_temp['quote'], df_temp['reply'])]\n",
    "    \n",
    "    output = output.append(df_temp)\n",
    "\n",
    "\n",
    "#add additional feature that shows the type of the tweet (not \"one-hot-encoding\")\n",
    "output['type'] = ['T' if(t==1) else 'Q' if((q==r and q==1) or q==1) else 'R' if(r==1 and q==0) else 'A' for r, q, t in zip(output['retweet'], output['quote'], output['status'])]\n",
    "\n",
    "#fix that in some cases a tweet is a retweet and a quote in this case, the entry is counted as a qoute\n",
    "output['retweet'] = [0 if((q==r and q==1) or q==1) else 1 for r, q in zip(output['retweet'], output['quote'])]\n",
    "#note for reply and retweet this was not done, since one would have to decide what is the \"supertype\" (this may explain why I get to quite different numbers than the authors of the paper)\"\"\"      "
   ]
  },
  {
   "cell_type": "code",
   "execution_count": null,
   "id": "9c1df244",
   "metadata": {
    "executionInfo": {
     "elapsed": 1249,
     "status": "ok",
     "timestamp": 1657268780951,
     "user": {
      "displayName": "dl So",
      "userId": "09890886767013636828"
     },
     "user_tz": -120
    },
    "id": "9c1df244"
   },
   "outputs": [],
   "source": [
    "output_grouped = output.groupby(['created_at'], as_index = False).sum()#['status'])"
   ]
  },
  {
   "cell_type": "code",
   "execution_count": null,
   "id": "Cob_NcuNlstq",
   "metadata": {
    "executionInfo": {
     "elapsed": 251,
     "status": "ok",
     "timestamp": 1657271273872,
     "user": {
      "displayName": "dl So",
      "userId": "09890886767013636828"
     },
     "user_tz": -120
    },
    "id": "Cob_NcuNlstq"
   },
   "outputs": [],
   "source": [
    "#create data frame of tweet types\n",
    "quotes = sum(output_grouped['quote'])\n",
    "retweets = sum(output_grouped['retweet'])\n",
    "responses = sum(output_grouped['reply'])\n",
    "tweets = sum(output_grouped['status'])\n",
    "total = quotes+retweets+responses+tweets\n",
    "\n",
    "tweet_types = pd.DataFrame(data={ 'type': ['qoute', 'retweet', 'reply', 'status', 'total'],\n",
    "                                  'count': [quotes,  retweets, responses, tweets, total]\n",
    "                                }\n",
    ")"
   ]
  },
  {
   "cell_type": "code",
   "execution_count": null,
   "id": "9dkZblmknnT-",
   "metadata": {
    "colab": {
     "base_uri": "https://localhost:8080/",
     "height": 542
    },
    "executionInfo": {
     "elapsed": 13,
     "status": "ok",
     "timestamp": 1657271274594,
     "user": {
      "displayName": "dl So",
      "userId": "09890886767013636828"
     },
     "user_tz": -120
    },
    "id": "9dkZblmknnT-",
    "outputId": "77b48451-9b97-4664-fbaa-6460960c76a8"
   },
   "outputs": [],
   "source": [
    "#visualize the tweet types\n",
    "fig = px.bar(tweet_types[:-1], x='type', y='count')\n",
    "fig.update_layout(plot_bgcolor=\"white\", \n",
    "                  title={\n",
    "                    'text': \"Tweet types and their presence in the dataset\", \n",
    "                    'y':0.9,\n",
    "                    'x':0.5,\n",
    "                    'xanchor': 'center',\n",
    "                    'yanchor': 'top'},\n",
    "                  )\n",
    "\n",
    "fig.update_yaxes(showgrid=True, gridwidth=1, gridcolor='#efefef', zeroline=True, title='amount')\n",
    "fig.show()"
   ]
  },
  {
   "cell_type": "markdown",
   "id": "ftBJoMbAiw_H",
   "metadata": {
    "id": "ftBJoMbAiw_H"
   },
   "source": [
    "The retweet is the most important type in our dataset, while statuses are in contrast not that often used. This is unsurprising since a social network is about interaction between users. But it is again an important information for our later analysis and visualizations. As one may have noticed, the overall sum of the bars extends the above mentioned total number of tweets recorded in the dataset. This can be explained by the possibility to reply to a tweet with a retweet, which can then be counted as both types (retweet and response). In such cases we counted the post as a retweet and a response since we did not find sufficient arguments to decide for one of them. <br>\n",
    "Additionally we will take a look at the distribution over time, like in our visualization of tweet distributions over the time period of data recording. Since we are again looking at a time series a line chart is the chart type of choice here. This is another plot, that was given already in {cite}'Kratzke.2017b' on page 7. However, it was quite small which is a problem since one couldn't tell much about the lines for quotes and tweets. Thus we reproduced it here without adding much more to it, gaining the same advantages as the plot 'Tweet distribution over time of data recording'."
   ]
  },
  {
   "cell_type": "code",
   "execution_count": null,
   "id": "6v3gvSAWeb-O",
   "metadata": {
    "colab": {
     "base_uri": "https://localhost:8080/",
     "height": 542
    },
    "executionInfo": {
     "elapsed": 292,
     "status": "ok",
     "timestamp": 1657271383972,
     "user": {
      "displayName": "dl So",
      "userId": "09890886767013636828"
     },
     "user_tz": -120
    },
    "id": "6v3gvSAWeb-O",
    "outputId": "a228cade-f90a-46a7-ca2c-158294a640be"
   },
   "outputs": [],
   "source": [
    "#plot the time series of the different types of tweets in linecharts\n",
    "fig = px.line(output_grouped[:-2], x='created_at', y=['quote', 'retweet', 'reply', 'status'], markers=True)\n",
    "fig.update_layout(plot_bgcolor=\"white\", \n",
    "                  title={\n",
    "                    'text': \"Tweet types and their occurence over time\", \n",
    "                    'y':0.9,\n",
    "                    'x':0.5,\n",
    "                    'xanchor': 'center',\n",
    "                    'yanchor': 'top'},\n",
    "                  hovermode=\"x unified\",\n",
    "                  legend_title= 'tweet type'\n",
    ")\n",
    "\n",
    "fig.update_yaxes(showgrid=True, gridwidth=1, gridcolor='#efefef', zeroline=True, title='amount')\n",
    "fig.update_xaxes(title='day of creation')\n",
    "\n",
    "fig.show()"
   ]
  },
  {
   "cell_type": "markdown",
   "id": "ajZRhtZnlUvn",
   "metadata": {
    "id": "ajZRhtZnlUvn"
   },
   "source": [
    "This chart shows that retweet and reply have the same characteristics, which also match the characteristic of the overall amount of tweets per day. This was to be expected because retweets and replies make up the majority of tweets. The amount of quotes per day does not change as much as for retweets and replies, but there is one maximum on 7th and 8th July. At this time the g20 summit took place in Hamburg. The number of statuses is the almost constant with small peaks on the 30th June (day where the law allowing same sex marriages was passed), 4th September (TV Duell) and the overall maximum for number of statuses on election day (24th September). \n",
    "The most important message, that is conveyed by the two plots above is, that retweets and responses are the most used types, which makes it possibly very suitable for network analysis, for example the usage of hashtags and user mentions."
   ]
  },
  {
   "cell_type": "markdown",
   "id": "_IidbWRPorHn",
   "metadata": {
    "id": "_IidbWRPorHn"
   },
   "source": [
    "# <h5> <b> Threads </b> </h5>\n",
    "We will end this introduction by analyzing the distribution of threads over the time period of data recording. Threads can be seen as a possible indicator of times where topics where discussed in more depth. We define threads as a status with a chain of replies (at least one reply) responding to the reply before. All replies and the status must be made from the same user. The status, that starts the thread can also be a reply to another status/reply made by a different user. Thus, threads have at least a length of two tweets, but can be much longer. Given the restricted number of characters in a post, threads allow for a more thorough discussion of a topic, for example to present multiple arguments. Based on this we assume that local maxima in the thread distribution over time indicate an important event during the election campaign. "
   ]
  },
  {
   "cell_type": "code",
   "execution_count": null,
   "id": "f2kgfnNppgkU",
   "metadata": {
    "colab": {
     "base_uri": "https://localhost:8080/",
     "height": 49,
     "referenced_widgets": [
      "fee3e110319f41c0892e4aef71814986",
      "e26442db078a44f0a1e5b7ff26996992",
      "a970d400656341d28258074a48250675",
      "32993f5c001245878622911d3513d9c7",
      "9f069437810d4b539e7594b095de3353",
      "f7bc059b660b42b49a1aff62f6ea483a",
      "b19c01cffdca4641b732416e09c1a339",
      "936df222d0fc4e7984122586ad3d06c5",
      "7f4e9740a2c2470b9a7bbea0112ace09",
      "cd36ef5b6d4d4ce58387924fb2989a94",
      "f36a448f855742c8920e1c080091f82f"
     ]
    },
    "executionInfo": {
     "elapsed": 1815522,
     "status": "ok",
     "timestamp": 1657271002903,
     "user": {
      "displayName": "dl So",
      "userId": "09890886767013636828"
     },
     "user_tz": -120
    },
    "id": "f2kgfnNppgkU",
    "outputId": "37368b90-1759-40fd-ae5b-12581d0d6b7c"
   },
   "outputs": [],
   "source": [
    "#results of the code in this cell can be loaded via\n",
    "output = pd.read_csv('../data/startingpoint_threadAnalysis.csv', sep=';')\n",
    "\n",
    "\"\"\" processing, that extracted all relevant information for the thread analysis\n",
    "output = pd.DataFrame()\n",
    "\n",
    "for file in tqdm(dir_list):\n",
    "\n",
    "  with open(path + file, 'r') as f:\n",
    "    df = pd.read_json(f)\n",
    "\n",
    "    #get time of creation\n",
    "    df['created_at'] = pd.to_datetime(df['created_at']).dt.date\n",
    "    df['created_at'] = df['created_at'].apply(str)\n",
    "        \n",
    "    #get out the interesting columns\n",
    "    df_temp = pd.DataFrame(data={'created_at': [elem['created_at'] for elem in df.iloc if not math.isnan(elem['id'])], #df['created_at'].tolist(),\n",
    "                            'user_id': [elem['user']['id'] for elem in df.iloc if not math.isnan(elem['id'])], #df['user'].tolist(),\n",
    "                            'reply_user': [elem['in_reply_to_user_id'] for elem in df.iloc if not math.isnan(elem['id'])],  #df['in_reply_to_user_id'].tolist(),\n",
    "                            'reply_status': [elem['in_reply_to_status_id'] for elem in df.iloc if not math.isnan(elem['id'])], #df['in_reply_to_status_id'].tolist(),\n",
    "                            'status_id': [elem['id'] for elem in df.iloc if not math.isnan(elem['id'])] #df['id'].tolist()\n",
    "                            }\n",
    "                          )\n",
    "    \n",
    "  output = output.append(df_temp, ignore_index=True)\n",
    "\n",
    "output = output.fillna(0)\n",
    "output['status_id'] = output['status_id'].astype('int')\n",
    "output['reply_status'] = output['reply_status'].astype('int')\n",
    "output['reply_user'] = output['reply_user'].astype('int')\"\"\""
   ]
  },
  {
   "cell_type": "code",
   "execution_count": null,
   "id": "0SOM3OXy-vNr",
   "metadata": {
    "executionInfo": {
     "elapsed": 593,
     "status": "ok",
     "timestamp": 1657271416628,
     "user": {
      "displayName": "dl So",
      "userId": "09890886767013636828"
     },
     "user_tz": -120
    },
    "id": "0SOM3OXy-vNr"
   },
   "outputs": [],
   "source": [
    "#filter out all cells where in reply_status_id != 0.\n",
    "subdf = output[output['reply_status']!=0]"
   ]
  },
  {
   "cell_type": "code",
   "execution_count": null,
   "id": "3_Y1InYyF6n6",
   "metadata": {
    "executionInfo": {
     "elapsed": 207,
     "status": "ok",
     "timestamp": 1657271419209,
     "user": {
      "displayName": "dl So",
      "userId": "09890886767013636828"
     },
     "user_tz": -120
    },
    "id": "3_Y1InYyF6n6"
   },
   "outputs": [],
   "source": [
    "#if I reply to myself = thread\n",
    "subdf2 = subdf[subdf['user_id']==subdf['reply_user']]\n",
    "#only around 13.000 posts that are part of threads"
   ]
  },
  {
   "cell_type": "code",
   "execution_count": null,
   "id": "HiC1_DqvF-DN",
   "metadata": {
    "executionInfo": {
     "elapsed": 663,
     "status": "ok",
     "timestamp": 1657271420934,
     "user": {
      "displayName": "dl So",
      "userId": "09890886767013636828"
     },
     "user_tz": -120
    },
    "id": "HiC1_DqvF-DN"
   },
   "outputs": [],
   "source": [
    "#add column for whether it is a thread or not\n",
    "output['thread_status'] = [0 for i in range(len(output['status_id']))]"
   ]
  },
  {
   "cell_type": "code",
   "execution_count": null,
   "id": "rQrKAaJxF98R",
   "metadata": {
    "colab": {
     "base_uri": "https://localhost:8080/",
     "height": 49,
     "referenced_widgets": [
      "250fe7f200ad4a55a6dfc82a0745720a",
      "5edd28fac3b64f68bfcf90bd43e84bba",
      "6c5afd6cdce94f46a1e7d0f1aac13e05",
      "2c7c6895484c4959aa6313964b2a6cd6",
      "3ddc2b4020004ead893395c12c851aed",
      "028b31d6c408468b965b953ac2cf1096",
      "f4bcf49d69704bcb8f7fd3d7d61c9c14",
      "1565a5f46eb547ef9b8a6461b8cbb5b2",
      "af5622f3185d4fb3b9b9625cdeb8e9fd",
      "2dc5e09c2ccc487b9c09eb785b44b98f",
      "48f93bc748d54a9b9bd85889ca55ab71"
     ]
    },
    "executionInfo": {
     "elapsed": 171869,
     "status": "ok",
     "timestamp": 1657271593138,
     "user": {
      "displayName": "dl So",
      "userId": "09890886767013636828"
     },
     "user_tz": -120
    },
    "id": "rQrKAaJxF98R",
    "outputId": "e8322893-d79b-4772-e12f-425cd2e47888"
   },
   "outputs": [],
   "source": [
    "status_ala = [] # statuses that where already looked at\n",
    "i = 0\n",
    "for elem in tqdm(subdf2.iloc):\n",
    "  current_status = elem\n",
    "  status_id_replied_to = current_status['reply_status'] #id of the tweet that was replied to\n",
    "  #search for the top tweet must be made on the output df, since this doesn't have a reply id\n",
    "  #i += 1\n",
    "  #print(i)\n",
    "  if status_id_replied_to not in status_ala:\n",
    "    prev_status = output[output['status_id']==status_id_replied_to] #tweet that was relied to\n",
    "    #check whether it replied to someone at all\n",
    "\n",
    "    if len(prev_status)==0: \n",
    "      continue\n",
    "    if int(prev_status['reply_status']) == 0: #tweet didn't reply to anything, but has at least one reply from same user\n",
    "      output.loc[output[output['status_id'] == status_id_replied_to].index[0], 'thread_status'] = 1\n",
    "\n",
    "    elif int(elem['user_id']) != int(prev_status['reply_user']): #thread was a response to a tweet from a different user\n",
    "      output.loc[output[output['status_id'] == status_id_replied_to].index[0], 'thread_status'] = 1\n",
    "\n",
    "    else: #status replied to something postes by the same user\n",
    "      continue_bol = True #True as long as current tweet still has a predecessor in the thread, if not then set to zero\n",
    "      #find_reply_status_id\n",
    "      status_ala.append(status_id_replied_to)\n",
    "      current_status = prev_status\n",
    "      status_id_replied_to = int(current_status['reply_status']) #id of the tweet that was replied to\n",
    "\n",
    "      while(continue_bol and status_id_replied_to not in status_ala):\n",
    "        #find status itself\n",
    "        prev_status = output[output['status_id']==status_id_replied_to] #tweet that was replied to\n",
    "        #check whether it replied to someone else\n",
    "\n",
    "        if len(prev_status)==0: #in case of emtpy prev_statuses (possibly because not all tweets are captured...)\n",
    "          #output.loc[output[output['status_id'] == status_id_replied_to].index[0], 'threat_status'] = 1\n",
    "          continue_bol = False\n",
    "\n",
    "        elif int(prev_status['reply_status']) == 0: #didn't reply to anyone\n",
    "          output.loc[output[output['status_id'] == status_id_replied_to].index[0], 'thread_status'] = 1\n",
    "          continue_bol = False\n",
    "\n",
    "        elif int(current_status['user_id']) != int(prev_status['reply_user']): #didn't reply to same user (=end of thread)\n",
    "          output.loc[output[output['status_id'] == status_id_replied_to].index[0], 'thread_status'] = 1\n",
    "          continue_bol = False\n",
    "\n",
    "        # at some point one of the conditions will be fullfilled and the loop will end\n",
    "        current_status = prev_status\n",
    "        if len(current_status)==0: \n",
    "          continue_bol = False\n",
    "        else:\n",
    "          status_id_replied_to = int(current_status['reply_status']) #id of the tweet that was replied to\n",
    " "
   ]
  },
  {
   "cell_type": "code",
   "execution_count": null,
   "id": "HR2ct_7EF9KK",
   "metadata": {
    "executionInfo": {
     "elapsed": 567,
     "status": "ok",
     "timestamp": 1657271604211,
     "user": {
      "displayName": "dl So",
      "userId": "09890886767013636828"
     },
     "user_tz": -120
    },
    "id": "HR2ct_7EF9KK"
   },
   "outputs": [],
   "source": [
    "output_grouped = output.groupby(['created_at']).sum()"
   ]
  },
  {
   "cell_type": "code",
   "execution_count": null,
   "id": "6S93YuI7vGP4",
   "metadata": {
    "colab": {
     "base_uri": "https://localhost:8080/",
     "height": 542
    },
    "executionInfo": {
     "elapsed": 271,
     "status": "ok",
     "timestamp": 1657271605488,
     "user": {
      "displayName": "dl So",
      "userId": "09890886767013636828"
     },
     "user_tz": -120
    },
    "id": "6S93YuI7vGP4",
    "outputId": "17cce892-3e8f-45bc-e290-803e4bbfb7de"
   },
   "outputs": [],
   "source": [
    "#plot the time series\n",
    "fig = px.line(output_grouped[:-1], x=output_grouped.index[:-1], y='thread_status', markers=True)\n",
    "\n",
    "fig.update_layout(plot_bgcolor=\"white\", \n",
    "                  title={\n",
    "                    'text': \"Thread distribution over the time of data recording\", \n",
    "                    'y':0.9,\n",
    "                    'x':0.5,\n",
    "                    'xanchor': 'center',\n",
    "                    'yanchor': 'top'},\n",
    "                    hovermode=\"x unified\",\n",
    "                  )\n",
    "\n",
    "#fig.update_layout(plot_bgcolor='white')\n",
    "fig.update_yaxes(showgrid=True, gridwidth=1, gridcolor='#efefef', zeroline=True)\n",
    "fig.show()"
   ]
  },
  {
   "cell_type": "markdown",
   "id": "UE3uJP_1v3Pu",
   "metadata": {
    "id": "UE3uJP_1v3Pu"
   },
   "source": [
    "First of all, the number of threads was rather small (in total around 13.000). However, it can be seen, that there are two big peaks around 4th July and 24th September and a tendency for a slower increase from mid of august to september (which might be due to the summer break). Whereas the 24th of September was a local maxima in the plot 'Tweet distribution over the time of data recording', the 4th of July wasn't. Our research did not yield a concrete event that could explain this spike right away. The 4th of July was right before the start of the g20 summit, that took place in Hamburg in 2017. Unlike in the visualization 'Tweet distribution over the time of data recording' the maximum for the tv debate is not really visible. From this we can already conclude, that the TV debate may have been an important event, but not an on twitter thoroughly discussed topic and did not produce such topics as well. Some of the smaller local maxima in the plot above may be due to a certain topic being discussed, but one has to be careful with those since the number of threads is quite small, which usually yields more wiggly line charts."
   ]
  },
  {
   "cell_type": "markdown",
   "id": "mHOMsPSGDmsL",
   "metadata": {
    "id": "mHOMsPSGDmsL"
   },
   "source": [
    "Based on this introduction we can already say, that there were four important events during the data recording: Passing of a law allowing same sex marriage, g20 summit in Hamburg, tv debate and the election itself. <br>\n",
    "On the following pages we will first present the election results to give some more context to our dataset, especially its context in the real world. After that we do some more analysis of the tweets with respect to their topics, sentiments and some basic network analysis. "
   ]
  },
  {
   "cell_type": "code",
   "execution_count": null,
   "id": "6c252f91",
   "metadata": {},
   "outputs": [],
   "source": []
  }
 ],
 "metadata": {
  "colab": {
   "collapsed_sections": [],
   "name": "datasetintroduction.ipynb",
   "provenance": [],
   "toc_visible": true
  },
  "kernelspec": {
   "display_name": "Python 3 (ipykernel)",
   "language": "python",
   "name": "python3"
  },
  "language_info": {
   "codemirror_mode": {
    "name": "ipython",
    "version": 3
   },
   "file_extension": ".py",
   "mimetype": "text/x-python",
   "name": "python",
   "nbconvert_exporter": "python",
   "pygments_lexer": "ipython3",
   "version": "3.7.6"
  },
  "widgets": {
   "application/vnd.jupyter.widget-state+json": {
    "028b31d6c408468b965b953ac2cf1096": {
     "model_module": "@jupyter-widgets/base",
     "model_module_version": "1.2.0",
     "model_name": "LayoutModel",
     "state": {
      "_model_module": "@jupyter-widgets/base",
      "_model_module_version": "1.2.0",
      "_model_name": "LayoutModel",
      "_view_count": null,
      "_view_module": "@jupyter-widgets/base",
      "_view_module_version": "1.2.0",
      "_view_name": "LayoutView",
      "align_content": null,
      "align_items": null,
      "align_self": null,
      "border": null,
      "bottom": null,
      "display": null,
      "flex": null,
      "flex_flow": null,
      "grid_area": null,
      "grid_auto_columns": null,
      "grid_auto_flow": null,
      "grid_auto_rows": null,
      "grid_column": null,
      "grid_gap": null,
      "grid_row": null,
      "grid_template_areas": null,
      "grid_template_columns": null,
      "grid_template_rows": null,
      "height": null,
      "justify_content": null,
      "justify_items": null,
      "left": null,
      "margin": null,
      "max_height": null,
      "max_width": null,
      "min_height": null,
      "min_width": null,
      "object_fit": null,
      "object_position": null,
      "order": null,
      "overflow": null,
      "overflow_x": null,
      "overflow_y": null,
      "padding": null,
      "right": null,
      "top": null,
      "visibility": null,
      "width": null
     }
    },
    "1565a5f46eb547ef9b8a6461b8cbb5b2": {
     "model_module": "@jupyter-widgets/base",
     "model_module_version": "1.2.0",
     "model_name": "LayoutModel",
     "state": {
      "_model_module": "@jupyter-widgets/base",
      "_model_module_version": "1.2.0",
      "_model_name": "LayoutModel",
      "_view_count": null,
      "_view_module": "@jupyter-widgets/base",
      "_view_module_version": "1.2.0",
      "_view_name": "LayoutView",
      "align_content": null,
      "align_items": null,
      "align_self": null,
      "border": null,
      "bottom": null,
      "display": null,
      "flex": null,
      "flex_flow": null,
      "grid_area": null,
      "grid_auto_columns": null,
      "grid_auto_flow": null,
      "grid_auto_rows": null,
      "grid_column": null,
      "grid_gap": null,
      "grid_row": null,
      "grid_template_areas": null,
      "grid_template_columns": null,
      "grid_template_rows": null,
      "height": null,
      "justify_content": null,
      "justify_items": null,
      "left": null,
      "margin": null,
      "max_height": null,
      "max_width": null,
      "min_height": null,
      "min_width": null,
      "object_fit": null,
      "object_position": null,
      "order": null,
      "overflow": null,
      "overflow_x": null,
      "overflow_y": null,
      "padding": null,
      "right": null,
      "top": null,
      "visibility": null,
      "width": "20px"
     }
    },
    "18b021013c7f44aa94607546e9a89886": {
     "model_module": "@jupyter-widgets/base",
     "model_module_version": "1.2.0",
     "model_name": "LayoutModel",
     "state": {
      "_model_module": "@jupyter-widgets/base",
      "_model_module_version": "1.2.0",
      "_model_name": "LayoutModel",
      "_view_count": null,
      "_view_module": "@jupyter-widgets/base",
      "_view_module_version": "1.2.0",
      "_view_name": "LayoutView",
      "align_content": null,
      "align_items": null,
      "align_self": null,
      "border": null,
      "bottom": null,
      "display": null,
      "flex": null,
      "flex_flow": null,
      "grid_area": null,
      "grid_auto_columns": null,
      "grid_auto_flow": null,
      "grid_auto_rows": null,
      "grid_column": null,
      "grid_gap": null,
      "grid_row": null,
      "grid_template_areas": null,
      "grid_template_columns": null,
      "grid_template_rows": null,
      "height": null,
      "justify_content": null,
      "justify_items": null,
      "left": null,
      "margin": null,
      "max_height": null,
      "max_width": null,
      "min_height": null,
      "min_width": null,
      "object_fit": null,
      "object_position": null,
      "order": null,
      "overflow": null,
      "overflow_x": null,
      "overflow_y": null,
      "padding": null,
      "right": null,
      "top": null,
      "visibility": null,
      "width": null
     }
    },
    "23c1409f2b3042658246c9be6b7e71e0": {
     "model_module": "@jupyter-widgets/base",
     "model_module_version": "1.2.0",
     "model_name": "LayoutModel",
     "state": {
      "_model_module": "@jupyter-widgets/base",
      "_model_module_version": "1.2.0",
      "_model_name": "LayoutModel",
      "_view_count": null,
      "_view_module": "@jupyter-widgets/base",
      "_view_module_version": "1.2.0",
      "_view_name": "LayoutView",
      "align_content": null,
      "align_items": null,
      "align_self": null,
      "border": null,
      "bottom": null,
      "display": null,
      "flex": null,
      "flex_flow": null,
      "grid_area": null,
      "grid_auto_columns": null,
      "grid_auto_flow": null,
      "grid_auto_rows": null,
      "grid_column": null,
      "grid_gap": null,
      "grid_row": null,
      "grid_template_areas": null,
      "grid_template_columns": null,
      "grid_template_rows": null,
      "height": null,
      "justify_content": null,
      "justify_items": null,
      "left": null,
      "margin": null,
      "max_height": null,
      "max_width": null,
      "min_height": null,
      "min_width": null,
      "object_fit": null,
      "object_position": null,
      "order": null,
      "overflow": null,
      "overflow_x": null,
      "overflow_y": null,
      "padding": null,
      "right": null,
      "top": null,
      "visibility": null,
      "width": null
     }
    },
    "250fe7f200ad4a55a6dfc82a0745720a": {
     "model_module": "@jupyter-widgets/controls",
     "model_module_version": "1.5.0",
     "model_name": "HBoxModel",
     "state": {
      "_dom_classes": [],
      "_model_module": "@jupyter-widgets/controls",
      "_model_module_version": "1.5.0",
      "_model_name": "HBoxModel",
      "_view_count": null,
      "_view_module": "@jupyter-widgets/controls",
      "_view_module_version": "1.5.0",
      "_view_name": "HBoxView",
      "box_style": "",
      "children": [
       "IPY_MODEL_5edd28fac3b64f68bfcf90bd43e84bba",
       "IPY_MODEL_6c5afd6cdce94f46a1e7d0f1aac13e05",
       "IPY_MODEL_2c7c6895484c4959aa6313964b2a6cd6"
      ],
      "layout": "IPY_MODEL_3ddc2b4020004ead893395c12c851aed"
     }
    },
    "2c7c6895484c4959aa6313964b2a6cd6": {
     "model_module": "@jupyter-widgets/controls",
     "model_module_version": "1.5.0",
     "model_name": "HTMLModel",
     "state": {
      "_dom_classes": [],
      "_model_module": "@jupyter-widgets/controls",
      "_model_module_version": "1.5.0",
      "_model_name": "HTMLModel",
      "_view_count": null,
      "_view_module": "@jupyter-widgets/controls",
      "_view_module_version": "1.5.0",
      "_view_name": "HTMLView",
      "description": "",
      "description_tooltip": null,
      "layout": "IPY_MODEL_2dc5e09c2ccc487b9c09eb785b44b98f",
      "placeholder": "​",
      "style": "IPY_MODEL_48f93bc748d54a9b9bd85889ca55ab71",
      "value": " 12773/? [02:51&lt;00:00, 54.01it/s]"
     }
    },
    "2dc5e09c2ccc487b9c09eb785b44b98f": {
     "model_module": "@jupyter-widgets/base",
     "model_module_version": "1.2.0",
     "model_name": "LayoutModel",
     "state": {
      "_model_module": "@jupyter-widgets/base",
      "_model_module_version": "1.2.0",
      "_model_name": "LayoutModel",
      "_view_count": null,
      "_view_module": "@jupyter-widgets/base",
      "_view_module_version": "1.2.0",
      "_view_name": "LayoutView",
      "align_content": null,
      "align_items": null,
      "align_self": null,
      "border": null,
      "bottom": null,
      "display": null,
      "flex": null,
      "flex_flow": null,
      "grid_area": null,
      "grid_auto_columns": null,
      "grid_auto_flow": null,
      "grid_auto_rows": null,
      "grid_column": null,
      "grid_gap": null,
      "grid_row": null,
      "grid_template_areas": null,
      "grid_template_columns": null,
      "grid_template_rows": null,
      "height": null,
      "justify_content": null,
      "justify_items": null,
      "left": null,
      "margin": null,
      "max_height": null,
      "max_width": null,
      "min_height": null,
      "min_width": null,
      "object_fit": null,
      "object_position": null,
      "order": null,
      "overflow": null,
      "overflow_x": null,
      "overflow_y": null,
      "padding": null,
      "right": null,
      "top": null,
      "visibility": null,
      "width": null
     }
    },
    "32993f5c001245878622911d3513d9c7": {
     "model_module": "@jupyter-widgets/controls",
     "model_module_version": "1.5.0",
     "model_name": "HTMLModel",
     "state": {
      "_dom_classes": [],
      "_model_module": "@jupyter-widgets/controls",
      "_model_module_version": "1.5.0",
      "_model_name": "HTMLModel",
      "_view_count": null,
      "_view_module": "@jupyter-widgets/controls",
      "_view_module_version": "1.5.0",
      "_view_name": "HTMLView",
      "description": "",
      "description_tooltip": null,
      "layout": "IPY_MODEL_cd36ef5b6d4d4ce58387924fb2989a94",
      "placeholder": "​",
      "style": "IPY_MODEL_f36a448f855742c8920e1c080091f82f",
      "value": " 1308/1308 [30:15&lt;00:00,  1.28s/it]"
     }
    },
    "3ddc2b4020004ead893395c12c851aed": {
     "model_module": "@jupyter-widgets/base",
     "model_module_version": "1.2.0",
     "model_name": "LayoutModel",
     "state": {
      "_model_module": "@jupyter-widgets/base",
      "_model_module_version": "1.2.0",
      "_model_name": "LayoutModel",
      "_view_count": null,
      "_view_module": "@jupyter-widgets/base",
      "_view_module_version": "1.2.0",
      "_view_name": "LayoutView",
      "align_content": null,
      "align_items": null,
      "align_self": null,
      "border": null,
      "bottom": null,
      "display": null,
      "flex": null,
      "flex_flow": null,
      "grid_area": null,
      "grid_auto_columns": null,
      "grid_auto_flow": null,
      "grid_auto_rows": null,
      "grid_column": null,
      "grid_gap": null,
      "grid_row": null,
      "grid_template_areas": null,
      "grid_template_columns": null,
      "grid_template_rows": null,
      "height": null,
      "justify_content": null,
      "justify_items": null,
      "left": null,
      "margin": null,
      "max_height": null,
      "max_width": null,
      "min_height": null,
      "min_width": null,
      "object_fit": null,
      "object_position": null,
      "order": null,
      "overflow": null,
      "overflow_x": null,
      "overflow_y": null,
      "padding": null,
      "right": null,
      "top": null,
      "visibility": null,
      "width": null
     }
    },
    "4351b000949d41b79a7b62f1a640c3fd": {
     "model_module": "@jupyter-widgets/controls",
     "model_module_version": "1.5.0",
     "model_name": "HBoxModel",
     "state": {
      "_dom_classes": [],
      "_model_module": "@jupyter-widgets/controls",
      "_model_module_version": "1.5.0",
      "_model_name": "HBoxModel",
      "_view_count": null,
      "_view_module": "@jupyter-widgets/controls",
      "_view_module_version": "1.5.0",
      "_view_name": "HBoxView",
      "box_style": "",
      "children": [
       "IPY_MODEL_5ab39ef45bff426b935983c446d00e9d",
       "IPY_MODEL_76eaf42251124ed6ad3db8d324c8406f",
       "IPY_MODEL_856e1b1eec9b44d0ac53ca967d061552"
      ],
      "layout": "IPY_MODEL_ac1f324e1ccd4644a2f4f87ba7c217b5"
     }
    },
    "48f93bc748d54a9b9bd85889ca55ab71": {
     "model_module": "@jupyter-widgets/controls",
     "model_module_version": "1.5.0",
     "model_name": "DescriptionStyleModel",
     "state": {
      "_model_module": "@jupyter-widgets/controls",
      "_model_module_version": "1.5.0",
      "_model_name": "DescriptionStyleModel",
      "_view_count": null,
      "_view_module": "@jupyter-widgets/base",
      "_view_module_version": "1.2.0",
      "_view_name": "StyleView",
      "description_width": ""
     }
    },
    "4cd3595567344938850c775d3c146889": {
     "model_module": "@jupyter-widgets/controls",
     "model_module_version": "1.5.0",
     "model_name": "HTMLModel",
     "state": {
      "_dom_classes": [],
      "_model_module": "@jupyter-widgets/controls",
      "_model_module_version": "1.5.0",
      "_model_name": "HTMLModel",
      "_view_count": null,
      "_view_module": "@jupyter-widgets/controls",
      "_view_module_version": "1.5.0",
      "_view_name": "HTMLView",
      "description": "",
      "description_tooltip": null,
      "layout": "IPY_MODEL_23c1409f2b3042658246c9be6b7e71e0",
      "placeholder": "​",
      "style": "IPY_MODEL_5b9ff86d303a4627a7391408cfe1c8e9",
      "value": " 1308/1308 [19:20&lt;00:00,  1.12it/s]"
     }
    },
    "4ff08978afed4eb385c02c15b70e5778": {
     "model_module": "@jupyter-widgets/controls",
     "model_module_version": "1.5.0",
     "model_name": "HBoxModel",
     "state": {
      "_dom_classes": [],
      "_model_module": "@jupyter-widgets/controls",
      "_model_module_version": "1.5.0",
      "_model_name": "HBoxModel",
      "_view_count": null,
      "_view_module": "@jupyter-widgets/controls",
      "_view_module_version": "1.5.0",
      "_view_name": "HBoxView",
      "box_style": "",
      "children": [
       "IPY_MODEL_72dc3afff28846bf9d9a6d876aa77820",
       "IPY_MODEL_da5d1483493148e891e74cd6277973fa",
       "IPY_MODEL_4cd3595567344938850c775d3c146889"
      ],
      "layout": "IPY_MODEL_ed63ffe932974bf08e12dc8abe37e6bd"
     }
    },
    "5787214d85dd43e7a2bb7fa6be81176b": {
     "model_module": "@jupyter-widgets/base",
     "model_module_version": "1.2.0",
     "model_name": "LayoutModel",
     "state": {
      "_model_module": "@jupyter-widgets/base",
      "_model_module_version": "1.2.0",
      "_model_name": "LayoutModel",
      "_view_count": null,
      "_view_module": "@jupyter-widgets/base",
      "_view_module_version": "1.2.0",
      "_view_name": "LayoutView",
      "align_content": null,
      "align_items": null,
      "align_self": null,
      "border": null,
      "bottom": null,
      "display": null,
      "flex": null,
      "flex_flow": null,
      "grid_area": null,
      "grid_auto_columns": null,
      "grid_auto_flow": null,
      "grid_auto_rows": null,
      "grid_column": null,
      "grid_gap": null,
      "grid_row": null,
      "grid_template_areas": null,
      "grid_template_columns": null,
      "grid_template_rows": null,
      "height": null,
      "justify_content": null,
      "justify_items": null,
      "left": null,
      "margin": null,
      "max_height": null,
      "max_width": null,
      "min_height": null,
      "min_width": null,
      "object_fit": null,
      "object_position": null,
      "order": null,
      "overflow": null,
      "overflow_x": null,
      "overflow_y": null,
      "padding": null,
      "right": null,
      "top": null,
      "visibility": null,
      "width": null
     }
    },
    "5ab39ef45bff426b935983c446d00e9d": {
     "model_module": "@jupyter-widgets/controls",
     "model_module_version": "1.5.0",
     "model_name": "HTMLModel",
     "state": {
      "_dom_classes": [],
      "_model_module": "@jupyter-widgets/controls",
      "_model_module_version": "1.5.0",
      "_model_name": "HTMLModel",
      "_view_count": null,
      "_view_module": "@jupyter-widgets/controls",
      "_view_module_version": "1.5.0",
      "_view_name": "HTMLView",
      "description": "",
      "description_tooltip": null,
      "layout": "IPY_MODEL_91503047a4d843a2b4fbec451c1e6cb2",
      "placeholder": "​",
      "style": "IPY_MODEL_ab3fd11c4a2e448fbd453073fde4c935",
      "value": "100%"
     }
    },
    "5b9ff86d303a4627a7391408cfe1c8e9": {
     "model_module": "@jupyter-widgets/controls",
     "model_module_version": "1.5.0",
     "model_name": "DescriptionStyleModel",
     "state": {
      "_model_module": "@jupyter-widgets/controls",
      "_model_module_version": "1.5.0",
      "_model_name": "DescriptionStyleModel",
      "_view_count": null,
      "_view_module": "@jupyter-widgets/base",
      "_view_module_version": "1.2.0",
      "_view_name": "StyleView",
      "description_width": ""
     }
    },
    "5edd28fac3b64f68bfcf90bd43e84bba": {
     "model_module": "@jupyter-widgets/controls",
     "model_module_version": "1.5.0",
     "model_name": "HTMLModel",
     "state": {
      "_dom_classes": [],
      "_model_module": "@jupyter-widgets/controls",
      "_model_module_version": "1.5.0",
      "_model_name": "HTMLModel",
      "_view_count": null,
      "_view_module": "@jupyter-widgets/controls",
      "_view_module_version": "1.5.0",
      "_view_name": "HTMLView",
      "description": "",
      "description_tooltip": null,
      "layout": "IPY_MODEL_028b31d6c408468b965b953ac2cf1096",
      "placeholder": "​",
      "style": "IPY_MODEL_f4bcf49d69704bcb8f7fd3d7d61c9c14",
      "value": ""
     }
    },
    "6c5afd6cdce94f46a1e7d0f1aac13e05": {
     "model_module": "@jupyter-widgets/controls",
     "model_module_version": "1.5.0",
     "model_name": "FloatProgressModel",
     "state": {
      "_dom_classes": [],
      "_model_module": "@jupyter-widgets/controls",
      "_model_module_version": "1.5.0",
      "_model_name": "FloatProgressModel",
      "_view_count": null,
      "_view_module": "@jupyter-widgets/controls",
      "_view_module_version": "1.5.0",
      "_view_name": "ProgressView",
      "bar_style": "success",
      "description": "",
      "description_tooltip": null,
      "layout": "IPY_MODEL_1565a5f46eb547ef9b8a6461b8cbb5b2",
      "max": 1,
      "min": 0,
      "orientation": "horizontal",
      "style": "IPY_MODEL_af5622f3185d4fb3b9b9625cdeb8e9fd",
      "value": 1
     }
    },
    "715262e0190746b7b98a64742db67a2d": {
     "model_module": "@jupyter-widgets/controls",
     "model_module_version": "1.5.0",
     "model_name": "DescriptionStyleModel",
     "state": {
      "_model_module": "@jupyter-widgets/controls",
      "_model_module_version": "1.5.0",
      "_model_name": "DescriptionStyleModel",
      "_view_count": null,
      "_view_module": "@jupyter-widgets/base",
      "_view_module_version": "1.2.0",
      "_view_name": "StyleView",
      "description_width": ""
     }
    },
    "71f16cec80b648169ff3ffa172600954": {
     "model_module": "@jupyter-widgets/controls",
     "model_module_version": "1.5.0",
     "model_name": "ProgressStyleModel",
     "state": {
      "_model_module": "@jupyter-widgets/controls",
      "_model_module_version": "1.5.0",
      "_model_name": "ProgressStyleModel",
      "_view_count": null,
      "_view_module": "@jupyter-widgets/base",
      "_view_module_version": "1.2.0",
      "_view_name": "StyleView",
      "bar_color": null,
      "description_width": ""
     }
    },
    "72dc3afff28846bf9d9a6d876aa77820": {
     "model_module": "@jupyter-widgets/controls",
     "model_module_version": "1.5.0",
     "model_name": "HTMLModel",
     "state": {
      "_dom_classes": [],
      "_model_module": "@jupyter-widgets/controls",
      "_model_module_version": "1.5.0",
      "_model_name": "HTMLModel",
      "_view_count": null,
      "_view_module": "@jupyter-widgets/controls",
      "_view_module_version": "1.5.0",
      "_view_name": "HTMLView",
      "description": "",
      "description_tooltip": null,
      "layout": "IPY_MODEL_18b021013c7f44aa94607546e9a89886",
      "placeholder": "​",
      "style": "IPY_MODEL_e0f255ec07cc4b5d8fdb1d87a3764790",
      "value": "100%"
     }
    },
    "76eaf42251124ed6ad3db8d324c8406f": {
     "model_module": "@jupyter-widgets/controls",
     "model_module_version": "1.5.0",
     "model_name": "FloatProgressModel",
     "state": {
      "_dom_classes": [],
      "_model_module": "@jupyter-widgets/controls",
      "_model_module_version": "1.5.0",
      "_model_name": "FloatProgressModel",
      "_view_count": null,
      "_view_module": "@jupyter-widgets/controls",
      "_view_module_version": "1.5.0",
      "_view_name": "ProgressView",
      "bar_style": "success",
      "description": "",
      "description_tooltip": null,
      "layout": "IPY_MODEL_5787214d85dd43e7a2bb7fa6be81176b",
      "max": 1308,
      "min": 0,
      "orientation": "horizontal",
      "style": "IPY_MODEL_71f16cec80b648169ff3ffa172600954",
      "value": 1308
     }
    },
    "7f4e9740a2c2470b9a7bbea0112ace09": {
     "model_module": "@jupyter-widgets/controls",
     "model_module_version": "1.5.0",
     "model_name": "ProgressStyleModel",
     "state": {
      "_model_module": "@jupyter-widgets/controls",
      "_model_module_version": "1.5.0",
      "_model_name": "ProgressStyleModel",
      "_view_count": null,
      "_view_module": "@jupyter-widgets/base",
      "_view_module_version": "1.2.0",
      "_view_name": "StyleView",
      "bar_color": null,
      "description_width": ""
     }
    },
    "856e1b1eec9b44d0ac53ca967d061552": {
     "model_module": "@jupyter-widgets/controls",
     "model_module_version": "1.5.0",
     "model_name": "HTMLModel",
     "state": {
      "_dom_classes": [],
      "_model_module": "@jupyter-widgets/controls",
      "_model_module_version": "1.5.0",
      "_model_name": "HTMLModel",
      "_view_count": null,
      "_view_module": "@jupyter-widgets/controls",
      "_view_module_version": "1.5.0",
      "_view_name": "HTMLView",
      "description": "",
      "description_tooltip": null,
      "layout": "IPY_MODEL_c38002dd0f194221aec15a03faa34459",
      "placeholder": "​",
      "style": "IPY_MODEL_715262e0190746b7b98a64742db67a2d",
      "value": " 1308/1308 [12:54&lt;00:00,  1.44s/it]"
     }
    },
    "91503047a4d843a2b4fbec451c1e6cb2": {
     "model_module": "@jupyter-widgets/base",
     "model_module_version": "1.2.0",
     "model_name": "LayoutModel",
     "state": {
      "_model_module": "@jupyter-widgets/base",
      "_model_module_version": "1.2.0",
      "_model_name": "LayoutModel",
      "_view_count": null,
      "_view_module": "@jupyter-widgets/base",
      "_view_module_version": "1.2.0",
      "_view_name": "LayoutView",
      "align_content": null,
      "align_items": null,
      "align_self": null,
      "border": null,
      "bottom": null,
      "display": null,
      "flex": null,
      "flex_flow": null,
      "grid_area": null,
      "grid_auto_columns": null,
      "grid_auto_flow": null,
      "grid_auto_rows": null,
      "grid_column": null,
      "grid_gap": null,
      "grid_row": null,
      "grid_template_areas": null,
      "grid_template_columns": null,
      "grid_template_rows": null,
      "height": null,
      "justify_content": null,
      "justify_items": null,
      "left": null,
      "margin": null,
      "max_height": null,
      "max_width": null,
      "min_height": null,
      "min_width": null,
      "object_fit": null,
      "object_position": null,
      "order": null,
      "overflow": null,
      "overflow_x": null,
      "overflow_y": null,
      "padding": null,
      "right": null,
      "top": null,
      "visibility": null,
      "width": null
     }
    },
    "936df222d0fc4e7984122586ad3d06c5": {
     "model_module": "@jupyter-widgets/base",
     "model_module_version": "1.2.0",
     "model_name": "LayoutModel",
     "state": {
      "_model_module": "@jupyter-widgets/base",
      "_model_module_version": "1.2.0",
      "_model_name": "LayoutModel",
      "_view_count": null,
      "_view_module": "@jupyter-widgets/base",
      "_view_module_version": "1.2.0",
      "_view_name": "LayoutView",
      "align_content": null,
      "align_items": null,
      "align_self": null,
      "border": null,
      "bottom": null,
      "display": null,
      "flex": null,
      "flex_flow": null,
      "grid_area": null,
      "grid_auto_columns": null,
      "grid_auto_flow": null,
      "grid_auto_rows": null,
      "grid_column": null,
      "grid_gap": null,
      "grid_row": null,
      "grid_template_areas": null,
      "grid_template_columns": null,
      "grid_template_rows": null,
      "height": null,
      "justify_content": null,
      "justify_items": null,
      "left": null,
      "margin": null,
      "max_height": null,
      "max_width": null,
      "min_height": null,
      "min_width": null,
      "object_fit": null,
      "object_position": null,
      "order": null,
      "overflow": null,
      "overflow_x": null,
      "overflow_y": null,
      "padding": null,
      "right": null,
      "top": null,
      "visibility": null,
      "width": null
     }
    },
    "9f069437810d4b539e7594b095de3353": {
     "model_module": "@jupyter-widgets/base",
     "model_module_version": "1.2.0",
     "model_name": "LayoutModel",
     "state": {
      "_model_module": "@jupyter-widgets/base",
      "_model_module_version": "1.2.0",
      "_model_name": "LayoutModel",
      "_view_count": null,
      "_view_module": "@jupyter-widgets/base",
      "_view_module_version": "1.2.0",
      "_view_name": "LayoutView",
      "align_content": null,
      "align_items": null,
      "align_self": null,
      "border": null,
      "bottom": null,
      "display": null,
      "flex": null,
      "flex_flow": null,
      "grid_area": null,
      "grid_auto_columns": null,
      "grid_auto_flow": null,
      "grid_auto_rows": null,
      "grid_column": null,
      "grid_gap": null,
      "grid_row": null,
      "grid_template_areas": null,
      "grid_template_columns": null,
      "grid_template_rows": null,
      "height": null,
      "justify_content": null,
      "justify_items": null,
      "left": null,
      "margin": null,
      "max_height": null,
      "max_width": null,
      "min_height": null,
      "min_width": null,
      "object_fit": null,
      "object_position": null,
      "order": null,
      "overflow": null,
      "overflow_x": null,
      "overflow_y": null,
      "padding": null,
      "right": null,
      "top": null,
      "visibility": null,
      "width": null
     }
    },
    "a970d400656341d28258074a48250675": {
     "model_module": "@jupyter-widgets/controls",
     "model_module_version": "1.5.0",
     "model_name": "FloatProgressModel",
     "state": {
      "_dom_classes": [],
      "_model_module": "@jupyter-widgets/controls",
      "_model_module_version": "1.5.0",
      "_model_name": "FloatProgressModel",
      "_view_count": null,
      "_view_module": "@jupyter-widgets/controls",
      "_view_module_version": "1.5.0",
      "_view_name": "ProgressView",
      "bar_style": "success",
      "description": "",
      "description_tooltip": null,
      "layout": "IPY_MODEL_936df222d0fc4e7984122586ad3d06c5",
      "max": 1308,
      "min": 0,
      "orientation": "horizontal",
      "style": "IPY_MODEL_7f4e9740a2c2470b9a7bbea0112ace09",
      "value": 1308
     }
    },
    "ab3fd11c4a2e448fbd453073fde4c935": {
     "model_module": "@jupyter-widgets/controls",
     "model_module_version": "1.5.0",
     "model_name": "DescriptionStyleModel",
     "state": {
      "_model_module": "@jupyter-widgets/controls",
      "_model_module_version": "1.5.0",
      "_model_name": "DescriptionStyleModel",
      "_view_count": null,
      "_view_module": "@jupyter-widgets/base",
      "_view_module_version": "1.2.0",
      "_view_name": "StyleView",
      "description_width": ""
     }
    },
    "ac1f324e1ccd4644a2f4f87ba7c217b5": {
     "model_module": "@jupyter-widgets/base",
     "model_module_version": "1.2.0",
     "model_name": "LayoutModel",
     "state": {
      "_model_module": "@jupyter-widgets/base",
      "_model_module_version": "1.2.0",
      "_model_name": "LayoutModel",
      "_view_count": null,
      "_view_module": "@jupyter-widgets/base",
      "_view_module_version": "1.2.0",
      "_view_name": "LayoutView",
      "align_content": null,
      "align_items": null,
      "align_self": null,
      "border": null,
      "bottom": null,
      "display": null,
      "flex": null,
      "flex_flow": null,
      "grid_area": null,
      "grid_auto_columns": null,
      "grid_auto_flow": null,
      "grid_auto_rows": null,
      "grid_column": null,
      "grid_gap": null,
      "grid_row": null,
      "grid_template_areas": null,
      "grid_template_columns": null,
      "grid_template_rows": null,
      "height": null,
      "justify_content": null,
      "justify_items": null,
      "left": null,
      "margin": null,
      "max_height": null,
      "max_width": null,
      "min_height": null,
      "min_width": null,
      "object_fit": null,
      "object_position": null,
      "order": null,
      "overflow": null,
      "overflow_x": null,
      "overflow_y": null,
      "padding": null,
      "right": null,
      "top": null,
      "visibility": null,
      "width": null
     }
    },
    "af5622f3185d4fb3b9b9625cdeb8e9fd": {
     "model_module": "@jupyter-widgets/controls",
     "model_module_version": "1.5.0",
     "model_name": "ProgressStyleModel",
     "state": {
      "_model_module": "@jupyter-widgets/controls",
      "_model_module_version": "1.5.0",
      "_model_name": "ProgressStyleModel",
      "_view_count": null,
      "_view_module": "@jupyter-widgets/base",
      "_view_module_version": "1.2.0",
      "_view_name": "StyleView",
      "bar_color": null,
      "description_width": ""
     }
    },
    "b19c01cffdca4641b732416e09c1a339": {
     "model_module": "@jupyter-widgets/controls",
     "model_module_version": "1.5.0",
     "model_name": "DescriptionStyleModel",
     "state": {
      "_model_module": "@jupyter-widgets/controls",
      "_model_module_version": "1.5.0",
      "_model_name": "DescriptionStyleModel",
      "_view_count": null,
      "_view_module": "@jupyter-widgets/base",
      "_view_module_version": "1.2.0",
      "_view_name": "StyleView",
      "description_width": ""
     }
    },
    "c38002dd0f194221aec15a03faa34459": {
     "model_module": "@jupyter-widgets/base",
     "model_module_version": "1.2.0",
     "model_name": "LayoutModel",
     "state": {
      "_model_module": "@jupyter-widgets/base",
      "_model_module_version": "1.2.0",
      "_model_name": "LayoutModel",
      "_view_count": null,
      "_view_module": "@jupyter-widgets/base",
      "_view_module_version": "1.2.0",
      "_view_name": "LayoutView",
      "align_content": null,
      "align_items": null,
      "align_self": null,
      "border": null,
      "bottom": null,
      "display": null,
      "flex": null,
      "flex_flow": null,
      "grid_area": null,
      "grid_auto_columns": null,
      "grid_auto_flow": null,
      "grid_auto_rows": null,
      "grid_column": null,
      "grid_gap": null,
      "grid_row": null,
      "grid_template_areas": null,
      "grid_template_columns": null,
      "grid_template_rows": null,
      "height": null,
      "justify_content": null,
      "justify_items": null,
      "left": null,
      "margin": null,
      "max_height": null,
      "max_width": null,
      "min_height": null,
      "min_width": null,
      "object_fit": null,
      "object_position": null,
      "order": null,
      "overflow": null,
      "overflow_x": null,
      "overflow_y": null,
      "padding": null,
      "right": null,
      "top": null,
      "visibility": null,
      "width": null
     }
    },
    "cd36ef5b6d4d4ce58387924fb2989a94": {
     "model_module": "@jupyter-widgets/base",
     "model_module_version": "1.2.0",
     "model_name": "LayoutModel",
     "state": {
      "_model_module": "@jupyter-widgets/base",
      "_model_module_version": "1.2.0",
      "_model_name": "LayoutModel",
      "_view_count": null,
      "_view_module": "@jupyter-widgets/base",
      "_view_module_version": "1.2.0",
      "_view_name": "LayoutView",
      "align_content": null,
      "align_items": null,
      "align_self": null,
      "border": null,
      "bottom": null,
      "display": null,
      "flex": null,
      "flex_flow": null,
      "grid_area": null,
      "grid_auto_columns": null,
      "grid_auto_flow": null,
      "grid_auto_rows": null,
      "grid_column": null,
      "grid_gap": null,
      "grid_row": null,
      "grid_template_areas": null,
      "grid_template_columns": null,
      "grid_template_rows": null,
      "height": null,
      "justify_content": null,
      "justify_items": null,
      "left": null,
      "margin": null,
      "max_height": null,
      "max_width": null,
      "min_height": null,
      "min_width": null,
      "object_fit": null,
      "object_position": null,
      "order": null,
      "overflow": null,
      "overflow_x": null,
      "overflow_y": null,
      "padding": null,
      "right": null,
      "top": null,
      "visibility": null,
      "width": null
     }
    },
    "d28f749d238a4dfa989b738dbe6f28f7": {
     "model_module": "@jupyter-widgets/base",
     "model_module_version": "1.2.0",
     "model_name": "LayoutModel",
     "state": {
      "_model_module": "@jupyter-widgets/base",
      "_model_module_version": "1.2.0",
      "_model_name": "LayoutModel",
      "_view_count": null,
      "_view_module": "@jupyter-widgets/base",
      "_view_module_version": "1.2.0",
      "_view_name": "LayoutView",
      "align_content": null,
      "align_items": null,
      "align_self": null,
      "border": null,
      "bottom": null,
      "display": null,
      "flex": null,
      "flex_flow": null,
      "grid_area": null,
      "grid_auto_columns": null,
      "grid_auto_flow": null,
      "grid_auto_rows": null,
      "grid_column": null,
      "grid_gap": null,
      "grid_row": null,
      "grid_template_areas": null,
      "grid_template_columns": null,
      "grid_template_rows": null,
      "height": null,
      "justify_content": null,
      "justify_items": null,
      "left": null,
      "margin": null,
      "max_height": null,
      "max_width": null,
      "min_height": null,
      "min_width": null,
      "object_fit": null,
      "object_position": null,
      "order": null,
      "overflow": null,
      "overflow_x": null,
      "overflow_y": null,
      "padding": null,
      "right": null,
      "top": null,
      "visibility": null,
      "width": null
     }
    },
    "da5d1483493148e891e74cd6277973fa": {
     "model_module": "@jupyter-widgets/controls",
     "model_module_version": "1.5.0",
     "model_name": "FloatProgressModel",
     "state": {
      "_dom_classes": [],
      "_model_module": "@jupyter-widgets/controls",
      "_model_module_version": "1.5.0",
      "_model_name": "FloatProgressModel",
      "_view_count": null,
      "_view_module": "@jupyter-widgets/controls",
      "_view_module_version": "1.5.0",
      "_view_name": "ProgressView",
      "bar_style": "success",
      "description": "",
      "description_tooltip": null,
      "layout": "IPY_MODEL_d28f749d238a4dfa989b738dbe6f28f7",
      "max": 1308,
      "min": 0,
      "orientation": "horizontal",
      "style": "IPY_MODEL_f556f269dddd487c87bd3fa4efc3b252",
      "value": 1308
     }
    },
    "e0f255ec07cc4b5d8fdb1d87a3764790": {
     "model_module": "@jupyter-widgets/controls",
     "model_module_version": "1.5.0",
     "model_name": "DescriptionStyleModel",
     "state": {
      "_model_module": "@jupyter-widgets/controls",
      "_model_module_version": "1.5.0",
      "_model_name": "DescriptionStyleModel",
      "_view_count": null,
      "_view_module": "@jupyter-widgets/base",
      "_view_module_version": "1.2.0",
      "_view_name": "StyleView",
      "description_width": ""
     }
    },
    "e26442db078a44f0a1e5b7ff26996992": {
     "model_module": "@jupyter-widgets/controls",
     "model_module_version": "1.5.0",
     "model_name": "HTMLModel",
     "state": {
      "_dom_classes": [],
      "_model_module": "@jupyter-widgets/controls",
      "_model_module_version": "1.5.0",
      "_model_name": "HTMLModel",
      "_view_count": null,
      "_view_module": "@jupyter-widgets/controls",
      "_view_module_version": "1.5.0",
      "_view_name": "HTMLView",
      "description": "",
      "description_tooltip": null,
      "layout": "IPY_MODEL_f7bc059b660b42b49a1aff62f6ea483a",
      "placeholder": "​",
      "style": "IPY_MODEL_b19c01cffdca4641b732416e09c1a339",
      "value": "100%"
     }
    },
    "ed63ffe932974bf08e12dc8abe37e6bd": {
     "model_module": "@jupyter-widgets/base",
     "model_module_version": "1.2.0",
     "model_name": "LayoutModel",
     "state": {
      "_model_module": "@jupyter-widgets/base",
      "_model_module_version": "1.2.0",
      "_model_name": "LayoutModel",
      "_view_count": null,
      "_view_module": "@jupyter-widgets/base",
      "_view_module_version": "1.2.0",
      "_view_name": "LayoutView",
      "align_content": null,
      "align_items": null,
      "align_self": null,
      "border": null,
      "bottom": null,
      "display": null,
      "flex": null,
      "flex_flow": null,
      "grid_area": null,
      "grid_auto_columns": null,
      "grid_auto_flow": null,
      "grid_auto_rows": null,
      "grid_column": null,
      "grid_gap": null,
      "grid_row": null,
      "grid_template_areas": null,
      "grid_template_columns": null,
      "grid_template_rows": null,
      "height": null,
      "justify_content": null,
      "justify_items": null,
      "left": null,
      "margin": null,
      "max_height": null,
      "max_width": null,
      "min_height": null,
      "min_width": null,
      "object_fit": null,
      "object_position": null,
      "order": null,
      "overflow": null,
      "overflow_x": null,
      "overflow_y": null,
      "padding": null,
      "right": null,
      "top": null,
      "visibility": null,
      "width": null
     }
    },
    "f36a448f855742c8920e1c080091f82f": {
     "model_module": "@jupyter-widgets/controls",
     "model_module_version": "1.5.0",
     "model_name": "DescriptionStyleModel",
     "state": {
      "_model_module": "@jupyter-widgets/controls",
      "_model_module_version": "1.5.0",
      "_model_name": "DescriptionStyleModel",
      "_view_count": null,
      "_view_module": "@jupyter-widgets/base",
      "_view_module_version": "1.2.0",
      "_view_name": "StyleView",
      "description_width": ""
     }
    },
    "f4bcf49d69704bcb8f7fd3d7d61c9c14": {
     "model_module": "@jupyter-widgets/controls",
     "model_module_version": "1.5.0",
     "model_name": "DescriptionStyleModel",
     "state": {
      "_model_module": "@jupyter-widgets/controls",
      "_model_module_version": "1.5.0",
      "_model_name": "DescriptionStyleModel",
      "_view_count": null,
      "_view_module": "@jupyter-widgets/base",
      "_view_module_version": "1.2.0",
      "_view_name": "StyleView",
      "description_width": ""
     }
    },
    "f556f269dddd487c87bd3fa4efc3b252": {
     "model_module": "@jupyter-widgets/controls",
     "model_module_version": "1.5.0",
     "model_name": "ProgressStyleModel",
     "state": {
      "_model_module": "@jupyter-widgets/controls",
      "_model_module_version": "1.5.0",
      "_model_name": "ProgressStyleModel",
      "_view_count": null,
      "_view_module": "@jupyter-widgets/base",
      "_view_module_version": "1.2.0",
      "_view_name": "StyleView",
      "bar_color": null,
      "description_width": ""
     }
    },
    "f7bc059b660b42b49a1aff62f6ea483a": {
     "model_module": "@jupyter-widgets/base",
     "model_module_version": "1.2.0",
     "model_name": "LayoutModel",
     "state": {
      "_model_module": "@jupyter-widgets/base",
      "_model_module_version": "1.2.0",
      "_model_name": "LayoutModel",
      "_view_count": null,
      "_view_module": "@jupyter-widgets/base",
      "_view_module_version": "1.2.0",
      "_view_name": "LayoutView",
      "align_content": null,
      "align_items": null,
      "align_self": null,
      "border": null,
      "bottom": null,
      "display": null,
      "flex": null,
      "flex_flow": null,
      "grid_area": null,
      "grid_auto_columns": null,
      "grid_auto_flow": null,
      "grid_auto_rows": null,
      "grid_column": null,
      "grid_gap": null,
      "grid_row": null,
      "grid_template_areas": null,
      "grid_template_columns": null,
      "grid_template_rows": null,
      "height": null,
      "justify_content": null,
      "justify_items": null,
      "left": null,
      "margin": null,
      "max_height": null,
      "max_width": null,
      "min_height": null,
      "min_width": null,
      "object_fit": null,
      "object_position": null,
      "order": null,
      "overflow": null,
      "overflow_x": null,
      "overflow_y": null,
      "padding": null,
      "right": null,
      "top": null,
      "visibility": null,
      "width": null
     }
    },
    "fee3e110319f41c0892e4aef71814986": {
     "model_module": "@jupyter-widgets/controls",
     "model_module_version": "1.5.0",
     "model_name": "HBoxModel",
     "state": {
      "_dom_classes": [],
      "_model_module": "@jupyter-widgets/controls",
      "_model_module_version": "1.5.0",
      "_model_name": "HBoxModel",
      "_view_count": null,
      "_view_module": "@jupyter-widgets/controls",
      "_view_module_version": "1.5.0",
      "_view_name": "HBoxView",
      "box_style": "",
      "children": [
       "IPY_MODEL_e26442db078a44f0a1e5b7ff26996992",
       "IPY_MODEL_a970d400656341d28258074a48250675",
       "IPY_MODEL_32993f5c001245878622911d3513d9c7"
      ],
      "layout": "IPY_MODEL_9f069437810d4b539e7594b095de3353"
     }
    }
   }
  }
 },
 "nbformat": 4,
 "nbformat_minor": 5
}
